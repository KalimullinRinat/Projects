{
 "cells": [
  {
   "cell_type": "markdown",
   "metadata": {},
   "source": [
    "# Исследование поведения пользователей мобильного приложения"
   ]
  },
  {
   "cell_type": "markdown",
   "metadata": {},
   "source": [
    "# Описание проекта\n",
    "\n",
    "Нужно разобраться, как ведут себя пользователи мобильного приложения по продаже продуктов питания.\\\n",
    "Изучим воронку продаж. После этого исследуем результаты A/A/B-эксперимента. В случае общей аналитики и A/A/B-эксперимента будем работать с одними и теми же данными."
   ]
  },
  {
   "cell_type": "markdown",
   "metadata": {},
   "source": [
    "# Описание данных\n",
    "\n",
    "Каждая запись в логе — это действие пользователя, или событие. \n",
    "- `EventName` — название события;\n",
    "- `DeviceIDHash` — уникальный идентификатор пользователя;\n",
    "- `EventTimestamp` — время события;\n",
    "- `ExpId` — номер эксперимента: 246 и 247 — контрольные группы, а 248 — экспериментальная."
   ]
  },
  {
   "cell_type": "markdown",
   "metadata": {},
   "source": [
    "# Ход выполнения проекта\n",
    "\n",
    "**Шаг 1. Откроем файл с данными и изучим общую информацию**\n",
    "\n",
    "**Шаг 2. Подготовим данные**\n",
    "\n",
    "**Задача:**\n",
    "- Заменим названия столбцов на удобные для нас;\n",
    "- Проверим пропуски и типы данных. Откорректируем их, если нужно;\n",
    "- Добавим столбец даты и времени, а также отдельный столбец дат;\n",
    "\n",
    "**Шаг 3. Изучим и проверим данные**\n",
    "\n",
    "**Задача:**\n",
    "- Сколько всего событий в логе?\n",
    "- Сколько всего пользователей в логе?\n",
    "- Сколько в среднем событий приходится на пользователя?\n",
    "- Данными за какой период мы располагаем? Найдем максимальную и минимальную дату. Изучим, как меняется количество данных: построим столбчатую диаграмму, которая отобразит количество событий в зависимости от времени в разрезе групп. Можно ли быть уверенным, что у нас одинаково полные данные за весь период? Технически в логи новых дней по некоторым пользователям могут «доезжать» события из прошлого — это может «перекашивать данные». Определим, с какого момента данные полные и отбросим более старые. Данными за какой период времени мы располагаем на самом деле?\n",
    "- Много ли событий и пользователей мы потеряли, отбросив старые данные?\n",
    "- Проверим, что у нас есть пользователи из всех трёх экспериментальных групп.\n",
    "\n",
    "**Шаг 4. Изучим воронку событий**\n",
    "\n",
    "**Задача:**\n",
    "- Посмотрим, какие события есть в логах, как часто они встречаются. Отсортируем события по частоте.\n",
    "- Посчитаем, сколько пользователей совершали каждое из этих событий. Отсортируем события по числу пользователей. Посчитаем долю пользователей, которые хоть раз совершали событие.\n",
    "- Предположим, в каком порядке происходят события. Все ли они выстраиваются в последовательную цепочку? Их не нужно учитывать при расчёте воронки.\n",
    "- По воронке событий посчитаем, какая доля пользователей проходит на следующий шаг воронки (от числа пользователей на предыдущем). То есть для последовательности событий A → B → C посчитаем отношение числа пользователей с событием B к количеству пользователей с событием A, а также отношение числа пользователей с событием C к количеству пользователей с событием B.\n",
    "- На каком шаге теряете больше всего пользователей?\n",
    "- Какая доля пользователей доходит от первого события до оплаты?\n",
    "\n",
    "**Шаг 5. Изучим результаты эксперимента**\n",
    "\n",
    "**Задача:**\n",
    "- Сколько пользователей в каждой экспериментальной группе?\n",
    "- Есть 2 контрольные группы для А/А-эксперимента, чтобы проверить корректность всех механизмов и расчётов. Проверим, находят ли статистические критерии разницу между выборками 246 и 247.\n",
    "- Выберем самое популярное событие. Посчитаем число пользователей, совершивших это событие в каждой из контрольных групп. Посчитаем долю пользователей, совершивших это событие. Проверим, будет ли отличие между группами статистически достоверным. Проделаем то же самое для всех других событий (удобно обернуть проверку в отдельную функцию). Можно ли сказать, что разбиение на группы работает корректно?\n",
    "- Аналогично поступим с группой с изменённым шрифтом. Сравним результаты с каждой из контрольных групп в отдельности по каждому событию. Сравним результаты с объединённой контрольной группой. Какие выводы из эксперимента можно сделать?\n",
    "\n",
    "**Шаг 6. Вывод**"
   ]
  },
  {
   "cell_type": "markdown",
   "metadata": {},
   "source": [
    "### Открыть файл с данными и изучить общую информацию"
   ]
  },
  {
   "cell_type": "code",
   "execution_count": 1,
   "metadata": {},
   "outputs": [],
   "source": [
    "# импортируем необходимые библиотеки\n",
    "import pandas as pd\n",
    "import matplotlib.pyplot as plt\n",
    "from scipy import stats as st\n",
    "import numpy as np\n",
    "import seaborn as sns\n",
    "from datetime import datetime, timedelta\n",
    "import datetime as dt\n",
    "from time import strptime\n",
    "import math \n",
    "from plotly import graph_objects as go"
   ]
  },
  {
   "cell_type": "code",
   "execution_count": 2,
   "metadata": {},
   "outputs": [
    {
     "name": "stdout",
     "output_type": "stream",
     "text": [
      "Requirement already satisfied: kaleido in /opt/conda/lib/python3.9/site-packages (0.2.1)\r\n"
     ]
    }
   ],
   "source": [
    "# импортируем кроссплатформенную библиотеку для создания статических изображений \n",
    "! pip install -U kaleido"
   ]
  },
  {
   "cell_type": "code",
   "execution_count": 3,
   "metadata": {},
   "outputs": [],
   "source": [
    "# загрузим данные \n",
    "logs = pd.read_csv('/datasets/logs_exp.csv', sep = '\\t')"
   ]
  },
  {
   "cell_type": "code",
   "execution_count": 4,
   "metadata": {},
   "outputs": [
    {
     "name": "stdout",
     "output_type": "stream",
     "text": [
      "<class 'pandas.core.frame.DataFrame'>\n",
      "RangeIndex: 244126 entries, 0 to 244125\n",
      "Data columns (total 4 columns):\n",
      " #   Column          Non-Null Count   Dtype \n",
      "---  ------          --------------   ----- \n",
      " 0   EventName       244126 non-null  object\n",
      " 1   DeviceIDHash    244126 non-null  int64 \n",
      " 2   EventTimestamp  244126 non-null  int64 \n",
      " 3   ExpId           244126 non-null  int64 \n",
      "dtypes: int64(3), object(1)\n",
      "memory usage: 7.5+ MB\n"
     ]
    }
   ],
   "source": [
    "# выведем общую информацию\n",
    "logs.info()"
   ]
  },
  {
   "cell_type": "code",
   "execution_count": 5,
   "metadata": {},
   "outputs": [
    {
     "data": {
      "text/html": [
       "<div>\n",
       "<style scoped>\n",
       "    .dataframe tbody tr th:only-of-type {\n",
       "        vertical-align: middle;\n",
       "    }\n",
       "\n",
       "    .dataframe tbody tr th {\n",
       "        vertical-align: top;\n",
       "    }\n",
       "\n",
       "    .dataframe thead th {\n",
       "        text-align: right;\n",
       "    }\n",
       "</style>\n",
       "<table border=\"1\" class=\"dataframe\">\n",
       "  <thead>\n",
       "    <tr style=\"text-align: right;\">\n",
       "      <th></th>\n",
       "      <th>EventName</th>\n",
       "      <th>DeviceIDHash</th>\n",
       "      <th>EventTimestamp</th>\n",
       "      <th>ExpId</th>\n",
       "    </tr>\n",
       "  </thead>\n",
       "  <tbody>\n",
       "    <tr>\n",
       "      <th>0</th>\n",
       "      <td>MainScreenAppear</td>\n",
       "      <td>4575588528974610257</td>\n",
       "      <td>1564029816</td>\n",
       "      <td>246</td>\n",
       "    </tr>\n",
       "    <tr>\n",
       "      <th>1</th>\n",
       "      <td>MainScreenAppear</td>\n",
       "      <td>7416695313311560658</td>\n",
       "      <td>1564053102</td>\n",
       "      <td>246</td>\n",
       "    </tr>\n",
       "    <tr>\n",
       "      <th>2</th>\n",
       "      <td>PaymentScreenSuccessful</td>\n",
       "      <td>3518123091307005509</td>\n",
       "      <td>1564054127</td>\n",
       "      <td>248</td>\n",
       "    </tr>\n",
       "    <tr>\n",
       "      <th>3</th>\n",
       "      <td>CartScreenAppear</td>\n",
       "      <td>3518123091307005509</td>\n",
       "      <td>1564054127</td>\n",
       "      <td>248</td>\n",
       "    </tr>\n",
       "    <tr>\n",
       "      <th>4</th>\n",
       "      <td>PaymentScreenSuccessful</td>\n",
       "      <td>6217807653094995999</td>\n",
       "      <td>1564055322</td>\n",
       "      <td>248</td>\n",
       "    </tr>\n",
       "  </tbody>\n",
       "</table>\n",
       "</div>"
      ],
      "text/plain": [
       "                 EventName         DeviceIDHash  EventTimestamp  ExpId\n",
       "0         MainScreenAppear  4575588528974610257      1564029816    246\n",
       "1         MainScreenAppear  7416695313311560658      1564053102    246\n",
       "2  PaymentScreenSuccessful  3518123091307005509      1564054127    248\n",
       "3         CartScreenAppear  3518123091307005509      1564054127    248\n",
       "4  PaymentScreenSuccessful  6217807653094995999      1564055322    248"
      ]
     },
     "execution_count": 5,
     "metadata": {},
     "output_type": "execute_result"
    }
   ],
   "source": [
    "# выведем первые 5 строк датафрейма\n",
    "logs.head(5)"
   ]
  },
  {
   "cell_type": "markdown",
   "metadata": {},
   "source": [
    "В датафрейме 4 столбца и 244126 полей. Необходимо привести названия столбцов к змеиной нотации, а также изменить тип данных столбца со временем события `EventTimestamp`."
   ]
  },
  {
   "cell_type": "markdown",
   "metadata": {},
   "source": [
    "### Подготовка данных"
   ]
  },
  {
   "cell_type": "code",
   "execution_count": 6,
   "metadata": {},
   "outputs": [
    {
     "data": {
      "text/plain": [
       "413"
      ]
     },
     "execution_count": 6,
     "metadata": {},
     "output_type": "execute_result"
    }
   ],
   "source": [
    "# проверим наличие дубликатов\n",
    "logs.duplicated().sum()"
   ]
  },
  {
   "cell_type": "code",
   "execution_count": 7,
   "metadata": {},
   "outputs": [
    {
     "data": {
      "text/plain": [
       "0.17"
      ]
     },
     "execution_count": 7,
     "metadata": {},
     "output_type": "execute_result"
    }
   ],
   "source": [
    "# найдем количество дубликатов в процентном соотношении\n",
    "round(logs.duplicated().sum()/len(logs) * 100, 2)"
   ]
  },
  {
   "cell_type": "markdown",
   "metadata": {},
   "source": [
    "В датафрейме было найдено 413 дубликатов - это 0.17% от общего числа записей. Удалим их."
   ]
  },
  {
   "cell_type": "code",
   "execution_count": 8,
   "metadata": {},
   "outputs": [],
   "source": [
    "# удалим дубликаты\n",
    "logs = logs.drop_duplicates().reset_index(drop=True)"
   ]
  },
  {
   "cell_type": "code",
   "execution_count": 9,
   "metadata": {},
   "outputs": [
    {
     "data": {
      "text/plain": [
       "0"
      ]
     },
     "execution_count": 9,
     "metadata": {},
     "output_type": "execute_result"
    }
   ],
   "source": [
    "# проверим изменения\n",
    "logs.duplicated().sum()"
   ]
  },
  {
   "cell_type": "markdown",
   "metadata": {},
   "source": [
    "Дубликаты удалены."
   ]
  },
  {
   "cell_type": "code",
   "execution_count": 10,
   "metadata": {},
   "outputs": [
    {
     "data": {
      "text/plain": [
       "EventName         0\n",
       "DeviceIDHash      0\n",
       "EventTimestamp    0\n",
       "ExpId             0\n",
       "dtype: int64"
      ]
     },
     "execution_count": 10,
     "metadata": {},
     "output_type": "execute_result"
    }
   ],
   "source": [
    "# проверим наличие пропусков\n",
    "logs.isna().sum()"
   ]
  },
  {
   "cell_type": "markdown",
   "metadata": {},
   "source": [
    "Пропусков нет."
   ]
  },
  {
   "cell_type": "code",
   "execution_count": 11,
   "metadata": {},
   "outputs": [],
   "source": [
    "# переименуем столбцы\n",
    "logs = logs.rename(columns={'EventName':'event_name', 'DeviceIDHash':'device_id_hash', 'EventTimestamp' : 'event_timestamp', \n",
    "                            'ExpId':'exp_id'})"
   ]
  },
  {
   "cell_type": "code",
   "execution_count": 12,
   "metadata": {},
   "outputs": [
    {
     "data": {
      "text/plain": [
       "Index(['event_name', 'device_id_hash', 'event_timestamp', 'exp_id'], dtype='object')"
      ]
     },
     "execution_count": 12,
     "metadata": {},
     "output_type": "execute_result"
    }
   ],
   "source": [
    "# выведем названия столбцов и проверим изменения\n",
    "logs.columns"
   ]
  },
  {
   "cell_type": "code",
   "execution_count": 13,
   "metadata": {},
   "outputs": [],
   "source": [
    "# приведем тип данных столбца logs['event_timestamp'] к типу данных datetime64\n",
    "logs['event_timestamp'] = pd.to_datetime(logs['event_timestamp'], unit='s')"
   ]
  },
  {
   "cell_type": "code",
   "execution_count": 14,
   "metadata": {},
   "outputs": [],
   "source": [
    "# добавим столбец с датой\n",
    "logs['event_date'] = pd.to_datetime(logs['event_timestamp'].dt.date)"
   ]
  },
  {
   "cell_type": "code",
   "execution_count": 15,
   "metadata": {},
   "outputs": [
    {
     "name": "stdout",
     "output_type": "stream",
     "text": [
      "<class 'pandas.core.frame.DataFrame'>\n",
      "RangeIndex: 243713 entries, 0 to 243712\n",
      "Data columns (total 5 columns):\n",
      " #   Column           Non-Null Count   Dtype         \n",
      "---  ------           --------------   -----         \n",
      " 0   event_name       243713 non-null  object        \n",
      " 1   device_id_hash   243713 non-null  int64         \n",
      " 2   event_timestamp  243713 non-null  datetime64[ns]\n",
      " 3   exp_id           243713 non-null  int64         \n",
      " 4   event_date       243713 non-null  datetime64[ns]\n",
      "dtypes: datetime64[ns](2), int64(2), object(1)\n",
      "memory usage: 9.3+ MB\n"
     ]
    }
   ],
   "source": [
    "# выведем ещё раз общую информацию\n",
    "logs.info()"
   ]
  },
  {
   "cell_type": "code",
   "execution_count": 16,
   "metadata": {},
   "outputs": [
    {
     "data": {
      "text/html": [
       "<div>\n",
       "<style scoped>\n",
       "    .dataframe tbody tr th:only-of-type {\n",
       "        vertical-align: middle;\n",
       "    }\n",
       "\n",
       "    .dataframe tbody tr th {\n",
       "        vertical-align: top;\n",
       "    }\n",
       "\n",
       "    .dataframe thead th {\n",
       "        text-align: right;\n",
       "    }\n",
       "</style>\n",
       "<table border=\"1\" class=\"dataframe\">\n",
       "  <thead>\n",
       "    <tr style=\"text-align: right;\">\n",
       "      <th></th>\n",
       "      <th>event_name</th>\n",
       "      <th>device_id_hash</th>\n",
       "      <th>event_timestamp</th>\n",
       "      <th>exp_id</th>\n",
       "      <th>event_date</th>\n",
       "    </tr>\n",
       "  </thead>\n",
       "  <tbody>\n",
       "    <tr>\n",
       "      <th>0</th>\n",
       "      <td>MainScreenAppear</td>\n",
       "      <td>4575588528974610257</td>\n",
       "      <td>2019-07-25 04:43:36</td>\n",
       "      <td>246</td>\n",
       "      <td>2019-07-25</td>\n",
       "    </tr>\n",
       "    <tr>\n",
       "      <th>1</th>\n",
       "      <td>MainScreenAppear</td>\n",
       "      <td>7416695313311560658</td>\n",
       "      <td>2019-07-25 11:11:42</td>\n",
       "      <td>246</td>\n",
       "      <td>2019-07-25</td>\n",
       "    </tr>\n",
       "    <tr>\n",
       "      <th>2</th>\n",
       "      <td>PaymentScreenSuccessful</td>\n",
       "      <td>3518123091307005509</td>\n",
       "      <td>2019-07-25 11:28:47</td>\n",
       "      <td>248</td>\n",
       "      <td>2019-07-25</td>\n",
       "    </tr>\n",
       "    <tr>\n",
       "      <th>3</th>\n",
       "      <td>CartScreenAppear</td>\n",
       "      <td>3518123091307005509</td>\n",
       "      <td>2019-07-25 11:28:47</td>\n",
       "      <td>248</td>\n",
       "      <td>2019-07-25</td>\n",
       "    </tr>\n",
       "    <tr>\n",
       "      <th>4</th>\n",
       "      <td>PaymentScreenSuccessful</td>\n",
       "      <td>6217807653094995999</td>\n",
       "      <td>2019-07-25 11:48:42</td>\n",
       "      <td>248</td>\n",
       "      <td>2019-07-25</td>\n",
       "    </tr>\n",
       "  </tbody>\n",
       "</table>\n",
       "</div>"
      ],
      "text/plain": [
       "                event_name       device_id_hash     event_timestamp  exp_id  \\\n",
       "0         MainScreenAppear  4575588528974610257 2019-07-25 04:43:36     246   \n",
       "1         MainScreenAppear  7416695313311560658 2019-07-25 11:11:42     246   \n",
       "2  PaymentScreenSuccessful  3518123091307005509 2019-07-25 11:28:47     248   \n",
       "3         CartScreenAppear  3518123091307005509 2019-07-25 11:28:47     248   \n",
       "4  PaymentScreenSuccessful  6217807653094995999 2019-07-25 11:48:42     248   \n",
       "\n",
       "  event_date  \n",
       "0 2019-07-25  \n",
       "1 2019-07-25  \n",
       "2 2019-07-25  \n",
       "3 2019-07-25  \n",
       "4 2019-07-25  "
      ]
     },
     "execution_count": 16,
     "metadata": {},
     "output_type": "execute_result"
    }
   ],
   "source": [
    "# посмотрим на первые строки\n",
    "logs.head(5)"
   ]
  },
  {
   "cell_type": "markdown",
   "metadata": {},
   "source": [
    "В результате предобработки данных заменили названия столбцов на названия в змеиной нотации, проверили пропуски и удалили 413 дубликатов (0.17% от общего числа записей), привели столбец `event_timestamp` к типу данных datetime64[ns] в результате чего получили столбец с нужным форматом даты и временем события, а также отдельно добавили столбец с датой."
   ]
  },
  {
   "cell_type": "markdown",
   "metadata": {},
   "source": [
    "### Изучение и проверка данных"
   ]
  },
  {
   "cell_type": "markdown",
   "metadata": {},
   "source": [
    "- Сколько всего событий в логе?"
   ]
  },
  {
   "cell_type": "code",
   "execution_count": 17,
   "metadata": {},
   "outputs": [
    {
     "name": "stdout",
     "output_type": "stream",
     "text": [
      "Уникальных событий в логе: \n",
      " 5\n",
      "Количество каждого события: \n",
      " MainScreenAppear           119101\n",
      "OffersScreenAppear          46808\n",
      "CartScreenAppear            42668\n",
      "PaymentScreenSuccessful     34118\n",
      "Tutorial                     1018\n",
      "Name: event_name, dtype: int64\n",
      "Суммарное количество событий в логе :\n",
      " 243713\n"
     ]
    }
   ],
   "source": [
    "# уникальных событий в логе\n",
    "print('Уникальных событий в логе: \\n', logs['event_name'].nunique())\n",
    "\n",
    "# количество каждого события\n",
    "print('Количество каждого события: \\n', logs['event_name'].value_counts())\n",
    "\n",
    "# суммарное количество событий в логе\n",
    "print('Суммарное количество событий в логе :\\n', logs.shape[0])"
   ]
  },
  {
   "cell_type": "markdown",
   "metadata": {},
   "source": [
    "Всего уникальных событий в логе 5. В сумме этих событий 243713. Больше всего MainScreenAppear - 119101, меньше всего - Tutorial - 1018."
   ]
  },
  {
   "cell_type": "markdown",
   "metadata": {},
   "source": [
    "- Сколько всего пользователей в логе?"
   ]
  },
  {
   "cell_type": "code",
   "execution_count": 18,
   "metadata": {},
   "outputs": [
    {
     "name": "stdout",
     "output_type": "stream",
     "text": [
      "Уникальных пользователей в логе: \n",
      " 7551\n"
     ]
    }
   ],
   "source": [
    "# уникальных  пользователей в логе\n",
    "print('Уникальных пользователей в логе: \\n', logs['device_id_hash'].nunique())"
   ]
  },
  {
   "cell_type": "markdown",
   "metadata": {},
   "source": [
    "Всего 7551 пользователей."
   ]
  },
  {
   "cell_type": "markdown",
   "metadata": {},
   "source": [
    "- Сколько в среднем событий приходится на пользователя?"
   ]
  },
  {
   "cell_type": "code",
   "execution_count": 19,
   "metadata": {},
   "outputs": [
    {
     "name": "stdout",
     "output_type": "stream",
     "text": [
      "Событий на 1 пользователя: 32.3\n"
     ]
    }
   ],
   "source": [
    "# количество событий на пользователя\n",
    "print('Событий на 1 пользователя:', round(logs['event_name'].count() / logs['device_id_hash'].nunique(),1))"
   ]
  },
  {
   "cell_type": "markdown",
   "metadata": {},
   "source": [
    "В среднем на 1 пользователя приходится 32 события."
   ]
  },
  {
   "cell_type": "markdown",
   "metadata": {},
   "source": [
    "- Данными за какой период вы располагаете? "
   ]
  },
  {
   "cell_type": "code",
   "execution_count": 20,
   "metadata": {},
   "outputs": [
    {
     "name": "stdout",
     "output_type": "stream",
     "text": [
      "Максимальная дата: 2019-08-07 21:15:17\n",
      "Минимальная дата: 2019-07-25 04:43:36\n"
     ]
    }
   ],
   "source": [
    "# максимальная и минимальная даты\n",
    "print('Максимальная дата:', logs['event_timestamp'].max())\n",
    "print('Минимальная дата:', logs['event_timestamp'].min())"
   ]
  },
  {
   "cell_type": "markdown",
   "metadata": {},
   "source": [
    "Максимальная дата - 7 августа 2019 года, минимальная дата - 25 июля 2019 года."
   ]
  },
  {
   "cell_type": "code",
   "execution_count": 21,
   "metadata": {},
   "outputs": [
    {
     "data": {
      "image/png": "[encoded data removed]",
      "text/plain": [
       "<Figure size 1080x504 with 1 Axes>"
      ]
     },
     "metadata": {
      "needs_background": "light"
     },
     "output_type": "display_data"
    }
   ],
   "source": [
    "plt.figure(figsize=(15,7))\n",
    "logs['event_timestamp'].hist(bins=20)\n",
    "plt.title('Диаграмма событий от времени')\n",
    "plt.ylabel('Количество событий')\n",
    "plt.xlabel('Дата')\n",
    "plt.xticks(rotation=45)\n",
    "plt.show()"
   ]
  },
  {
   "cell_type": "markdown",
   "metadata": {},
   "source": [
    "Исходя из графика видно, что данные до 2019-08-01 практически отсутствуют. Одинаково полные данные обеспечиваются только с 1 августа. Отбросим данные до 1 августа."
   ]
  },
  {
   "cell_type": "code",
   "execution_count": 22,
   "metadata": {},
   "outputs": [],
   "source": [
    "# сделаем срез с 1 августа и отбросим \"старые\" данные\n",
    "logs_new = logs.query('event_date > \"2019-07-31\"')"
   ]
  },
  {
   "cell_type": "code",
   "execution_count": 23,
   "metadata": {},
   "outputs": [
    {
     "name": "stdout",
     "output_type": "stream",
     "text": [
      "Максимальная дата: 2019-08-07 21:15:17\n",
      "Минимальная дата: 2019-08-01 00:07:28\n"
     ]
    }
   ],
   "source": [
    "# проверим изменения максимальной и минимальной даты\n",
    "print('Максимальная дата:', logs_new['event_timestamp'].max())\n",
    "print('Минимальная дата:', logs_new['event_timestamp'].min())"
   ]
  },
  {
   "cell_type": "markdown",
   "metadata": {},
   "source": [
    "Теперь данные представлены с 1 по 7 августа."
   ]
  },
  {
   "cell_type": "markdown",
   "metadata": {},
   "source": [
    "- Много ли событий и пользователей вы потеряли, отбросив старые данные?"
   ]
  },
  {
   "cell_type": "code",
   "execution_count": 24,
   "metadata": {},
   "outputs": [
    {
     "name": "stdout",
     "output_type": "stream",
     "text": [
      "Количество событий после чистки: 240887\n",
      "Количество потерянных событий: 2826\n",
      "% потерянных событий: 1.16\n"
     ]
    }
   ],
   "source": [
    "# количество событий после чистки \n",
    "print('Количество событий после чистки:', logs_new.shape[0])\n",
    "print('Количество потерянных событий:', logs.shape[0]- logs_new.shape[0])\n",
    "print('% потерянных событий:', round((logs.shape[0]- logs_new.shape[0])/logs.shape[0] * 100, 2))"
   ]
  },
  {
   "cell_type": "code",
   "execution_count": 25,
   "metadata": {},
   "outputs": [
    {
     "name": "stdout",
     "output_type": "stream",
     "text": [
      "Количество пользователей после чистки: 7534\n",
      "Количество потерянных пользователей: 17\n",
      "% потерянных пользователей: 0.23\n"
     ]
    }
   ],
   "source": [
    "#количество уникальных пользователей после чистки \n",
    "print('Количество пользователей после чистки:', logs_new['device_id_hash'].nunique())\n",
    "print('Количество потерянных пользователей:', logs['device_id_hash'].nunique()- logs_new['device_id_hash'].nunique())\n",
    "print('% потерянных пользователей:', round((logs['device_id_hash'].nunique()- logs_new['device_id_hash'].nunique())/logs['device_id_hash'].nunique()*100, 2))\n"
   ]
  },
  {
   "cell_type": "markdown",
   "metadata": {},
   "source": [
    "Отбросив старые данные мы потеряли 1.16% записей (2826 записей) и 0.23% пользователей (17 пользователей). Небольшой процент."
   ]
  },
  {
   "cell_type": "markdown",
   "metadata": {},
   "source": [
    "- Проверьте, что у вас есть пользователи из всех трёх экспериментальных групп"
   ]
  },
  {
   "cell_type": "code",
   "execution_count": 26,
   "metadata": {},
   "outputs": [
    {
     "data": {
      "text/plain": [
       "exp_id\n",
       "248    2537\n",
       "247    2513\n",
       "246    2484\n",
       "Name: device_id_hash, dtype: int64"
      ]
     },
     "execution_count": 26,
     "metadata": {},
     "output_type": "execute_result"
    }
   ],
   "source": [
    "# количество пользователей по группам\n",
    "logs_new.groupby('exp_id')['device_id_hash'].nunique().sort_values(ascending = False)"
   ]
  },
  {
   "cell_type": "markdown",
   "metadata": {},
   "source": [
    "В данных представлены пользователи из всех трёх экспериментальных данных - 248, 246 и 247.\\\n",
    "Чуть больше, чем в остальных их в 248 группе - 2537 пользователей, далее в 247 - 2513 пользователей и в 246 - 2484 пользователей.\\\n",
    "Проверим корректность разбиения пользователей на группы - нет ли пользователей, попавших в несколько групп.\\\n",
    "Для этого используем функцию np.intersect1d(): \n",
    "- функция intersect1d() возвратит пересечение двух массивов, т.е. уникальные элементы, которые встречаются в обоих."
   ]
  },
  {
   "cell_type": "code",
   "execution_count": 27,
   "metadata": {},
   "outputs": [
    {
     "data": {
      "text/plain": [
       "0"
      ]
     },
     "execution_count": 27,
     "metadata": {},
     "output_type": "execute_result"
    }
   ],
   "source": [
    "# пресечение групп 246 и 247\n",
    "len(np.intersect1d(logs_new.query('exp_id == 246')['device_id_hash'].unique(), logs_new.query('exp_id == \"247\"')['device_id_hash'].unique()))"
   ]
  },
  {
   "cell_type": "code",
   "execution_count": 28,
   "metadata": {},
   "outputs": [
    {
     "data": {
      "text/plain": [
       "0"
      ]
     },
     "execution_count": 28,
     "metadata": {},
     "output_type": "execute_result"
    }
   ],
   "source": [
    "# пресечение групп 246 и 248\n",
    "len(np.intersect1d(logs_new.query('exp_id == 246')['device_id_hash'].unique(), logs_new.query('exp_id == \"248\"')['device_id_hash'].unique()))"
   ]
  },
  {
   "cell_type": "code",
   "execution_count": 29,
   "metadata": {},
   "outputs": [
    {
     "data": {
      "text/plain": [
       "0"
      ]
     },
     "execution_count": 29,
     "metadata": {},
     "output_type": "execute_result"
    }
   ],
   "source": [
    "# пресечение групп 247 и 248\n",
    "len(np.intersect1d(logs_new.query('exp_id == 247')['device_id_hash'].unique(), logs_new.query('exp_id == \"248\"')['device_id_hash'].unique()))"
   ]
  },
  {
   "cell_type": "markdown",
   "metadata": {},
   "source": [
    "Пересечений групп не найдено."
   ]
  },
  {
   "cell_type": "markdown",
   "metadata": {},
   "source": [
    "### Изучение воронки событий"
   ]
  },
  {
   "cell_type": "markdown",
   "metadata": {},
   "source": [
    "- Посмотрим, какие события есть в логах, как часто они встречаются. Отсортируем события по частоте."
   ]
  },
  {
   "cell_type": "code",
   "execution_count": 30,
   "metadata": {},
   "outputs": [
    {
     "name": "stdout",
     "output_type": "stream",
     "text": [
      "Уникальных событий в логе: \n",
      " 5\n",
      "Количество каждого события: \n",
      " MainScreenAppear           119101\n",
      "OffersScreenAppear          46808\n",
      "CartScreenAppear            42668\n",
      "PaymentScreenSuccessful     34118\n",
      "Tutorial                     1018\n",
      "Name: event_name, dtype: int64\n"
     ]
    }
   ],
   "source": [
    "# уникальных событий в логе\n",
    "print('Уникальных событий в логе: \\n', logs['event_name'].nunique())\n",
    "\n",
    "# количество каждого события\n",
    "print('Количество каждого события: \\n', logs['event_name'].value_counts())"
   ]
  },
  {
   "cell_type": "markdown",
   "metadata": {},
   "source": [
    "Всего событий в логе 5 - это :\n",
    "1. MainScreenAppear - появление главного экрана (119101)\n",
    "2. OffersScreenAppear - появление экрана предложений (46808)\n",
    "3. CartScreenAppear - появление экрана корзины (42668)\n",
    "4. PaymentScreenSuccessful - экран успешной оплаты (34118)\n",
    "5. Tutorial – учебное пособие (1018)\n",
    "\n",
    "Частота появления указана в скобках. Чаще всего появляется главный экран, затем предложение, далее корзина и успешная оплата, логично. Реже всего пользователи пользуются обучающими материалами."
   ]
  },
  {
   "cell_type": "markdown",
   "metadata": {},
   "source": [
    "- Посчитаем, сколько пользователей совершали каждое из этих событий. Отсортируем события по числу пользователей. Посчитаем долю пользователей, которые хоть раз совершали событие."
   ]
  },
  {
   "cell_type": "markdown",
   "metadata": {},
   "source": [
    "Для расчёта количества/доли пользователей совершавших каждое из событий напишем функцию для определения воронки."
   ]
  },
  {
   "cell_type": "code",
   "execution_count": 31,
   "metadata": {},
   "outputs": [],
   "source": [
    "# напишем функцию для определения воронки\n",
    "def funnel_users(logs_funnel):\n",
    "    #сгруппируем данные по событию, его частоте и количеству уникальных пользователей\n",
    "    funnel = (\n",
    "        logs_funnel.groupby('event_name')\n",
    "              .agg({'event_name':'count', 'device_id_hash': 'nunique'})\n",
    "              .rename(columns={'event_name':'event_cnt', 'device_id_hash':'users_cnt'})\n",
    "              .sort_values(by ='event_cnt', ascending=False).reset_index())\n",
    "    #конверсия, доля пользователей которая хоть раз совершала событие\n",
    "    funnel['cr, %'] = round((funnel['users_cnt'] / logs_funnel['device_id_hash'].nunique()) * 100, 1)    \n",
    "    # сдвиг столбца users_cnt на одну строку вниз\n",
    "    funnel['step'] = funnel['users_cnt'].shift() \n",
    "    # конверсия в следующий шаг\n",
    "    funnel['cr_step, %'] = round(funnel['users_cnt'] / funnel['step'] * 100, 1)\n",
    "    #удаляем столбец step\n",
    "    funnel.drop(columns= ['step'], axis = 1, inplace = True)\n",
    "    return funnel\n"
   ]
  },
  {
   "cell_type": "code",
   "execution_count": 32,
   "metadata": {},
   "outputs": [
    {
     "data": {
      "text/html": [
       "<div>\n",
       "<style scoped>\n",
       "    .dataframe tbody tr th:only-of-type {\n",
       "        vertical-align: middle;\n",
       "    }\n",
       "\n",
       "    .dataframe tbody tr th {\n",
       "        vertical-align: top;\n",
       "    }\n",
       "\n",
       "    .dataframe thead th {\n",
       "        text-align: right;\n",
       "    }\n",
       "</style>\n",
       "<table border=\"1\" class=\"dataframe\">\n",
       "  <thead>\n",
       "    <tr style=\"text-align: right;\">\n",
       "      <th></th>\n",
       "      <th>event_name</th>\n",
       "      <th>event_cnt</th>\n",
       "      <th>users_cnt</th>\n",
       "      <th>cr, %</th>\n",
       "      <th>cr_step, %</th>\n",
       "    </tr>\n",
       "  </thead>\n",
       "  <tbody>\n",
       "    <tr>\n",
       "      <th>0</th>\n",
       "      <td>MainScreenAppear</td>\n",
       "      <td>117328</td>\n",
       "      <td>7419</td>\n",
       "      <td>98.5</td>\n",
       "      <td>NaN</td>\n",
       "    </tr>\n",
       "    <tr>\n",
       "      <th>1</th>\n",
       "      <td>OffersScreenAppear</td>\n",
       "      <td>46333</td>\n",
       "      <td>4593</td>\n",
       "      <td>61.0</td>\n",
       "      <td>61.9</td>\n",
       "    </tr>\n",
       "    <tr>\n",
       "      <th>2</th>\n",
       "      <td>CartScreenAppear</td>\n",
       "      <td>42303</td>\n",
       "      <td>3734</td>\n",
       "      <td>49.6</td>\n",
       "      <td>81.3</td>\n",
       "    </tr>\n",
       "    <tr>\n",
       "      <th>3</th>\n",
       "      <td>PaymentScreenSuccessful</td>\n",
       "      <td>33918</td>\n",
       "      <td>3539</td>\n",
       "      <td>47.0</td>\n",
       "      <td>94.8</td>\n",
       "    </tr>\n",
       "    <tr>\n",
       "      <th>4</th>\n",
       "      <td>Tutorial</td>\n",
       "      <td>1005</td>\n",
       "      <td>840</td>\n",
       "      <td>11.1</td>\n",
       "      <td>23.7</td>\n",
       "    </tr>\n",
       "  </tbody>\n",
       "</table>\n",
       "</div>"
      ],
      "text/plain": [
       "                event_name  event_cnt  users_cnt  cr, %  cr_step, %\n",
       "0         MainScreenAppear     117328       7419   98.5         NaN\n",
       "1       OffersScreenAppear      46333       4593   61.0        61.9\n",
       "2         CartScreenAppear      42303       3734   49.6        81.3\n",
       "3  PaymentScreenSuccessful      33918       3539   47.0        94.8\n",
       "4                 Tutorial       1005        840   11.1        23.7"
      ]
     },
     "execution_count": 32,
     "metadata": {},
     "output_type": "execute_result"
    }
   ],
   "source": [
    "# Зададим воронку\n",
    "funnel = funnel_users(logs_new)\n",
    "\n",
    "# выведем на экран\n",
    "funnel"
   ]
  },
  {
   "cell_type": "markdown",
   "metadata": {},
   "source": [
    "По столбцу `users_cnt` видно какое количество пользователей совершало то или иное событие. Частота выполнения события тем выше, чем чаще в целом совершалось событие.\\\n",
    "Так чаще всего пользователи (7419 пользователей) переходили на главный экран ( и только 1.5 % не дошли до него). Далее пользователи переходили на экран с предложением (61% пользователей от общего числа - 4593 пользователей), половина от общего числа добавила что-то в корзину (3734 пользователей) и 47% пользователей (3539) оплатили покупку.\\\n",
    "Обучающий материал просматривают лишь 11 % пользователей(840)."
   ]
  },
  {
   "cell_type": "markdown",
   "metadata": {},
   "source": [
    "- Предположите, в каком порядке происходят события"
   ]
  },
  {
   "cell_type": "markdown",
   "metadata": {},
   "source": [
    "Пользователи скачивают приложение, им сразу открывается главный экран, а перед этим возможность пройти обучение(лишь 11% из них проходят его) остальные его пропускают и переходят от главного экрана к поиску товара, переходят на страницу предложений, добавляют товар в корзину и затем оплачивают его."
   ]
  },
  {
   "cell_type": "markdown",
   "metadata": {},
   "source": [
    "- По воронке событий посчитаем, какая доля пользователей проходит на следующий шаг воронки (от числа пользователей на предыдущем)"
   ]
  },
  {
   "cell_type": "markdown",
   "metadata": {},
   "source": [
    "Визуализируем воронку:"
   ]
  },
  {
   "cell_type": "code",
   "execution_count": 33,
   "metadata": {},
   "outputs": [
    {
     "data": {
      "image/png": "[encoded data removed]"
     },
     "metadata": {},
     "output_type": "display_data"
    }
   ],
   "source": [
    "# визуализируем воронку событий\n",
    "fig = go.Figure()\n",
    "fig = go.Figure(go.Funnel(\n",
    "    y = funnel['event_name'],\n",
    "    x = funnel.loc[:3,'users_cnt'],\n",
    "    textposition = \"inside\",\n",
    "    textinfo = \"value+percent initial+percent previous\"))\n",
    "fig.update_layout(title='Воронка событий')\n",
    "fig.show(renderer='png')"
   ]
  },
  {
   "cell_type": "markdown",
   "metadata": {},
   "source": [
    "Первый шаг воронки - MainScreenAppear - появление главного экрана, примем за 100%. Далее по воронке событий видно, что 62% из этих пользователей переходят на экран предложений, затем 81% из них и 50% пользователей от первоночального количества добавляют товар в корзину и 95% из добавивших(48% от первого шага) успешно оплачивают покупку."
   ]
  },
  {
   "cell_type": "markdown",
   "metadata": {},
   "source": [
    "- На каком шаге теряете больше всего пользователей?"
   ]
  },
  {
   "cell_type": "markdown",
   "metadata": {},
   "source": [
    "Больше всего пользователей (38%) отваливаются на пути между главным экраном и переходом к предложениям. Возможно пользователи сталкиваются с какими-то трудностями использования, функциональности, доступности при переходе от главного экрана к предложениям."
   ]
  },
  {
   "cell_type": "markdown",
   "metadata": {},
   "source": [
    "- Какая доля пользователей доходит от первого события до оплаты?"
   ]
  },
  {
   "cell_type": "markdown",
   "metadata": {},
   "source": [
    "От первого шага (главного экрана) до последнего (успешной оплаты) доходят 48% пользователей."
   ]
  },
  {
   "cell_type": "markdown",
   "metadata": {},
   "source": [
    "### Изучение результатов эксперимента"
   ]
  },
  {
   "cell_type": "markdown",
   "metadata": {},
   "source": [
    "- Сколько пользователей в каждой группе?"
   ]
  },
  {
   "cell_type": "code",
   "execution_count": 34,
   "metadata": {},
   "outputs": [
    {
     "data": {
      "text/plain": [
       "exp_id\n",
       "248    2537\n",
       "247    2513\n",
       "246    2484\n",
       "Name: device_id_hash, dtype: int64"
      ]
     },
     "execution_count": 34,
     "metadata": {},
     "output_type": "execute_result"
    }
   ],
   "source": [
    "# найдем количество пользователей в каждой группе \n",
    "group_users = logs_new.groupby('exp_id')['device_id_hash'].nunique().sort_values(ascending = False)\n",
    "\n",
    "# выведем на экран\n",
    "group_users"
   ]
  },
  {
   "cell_type": "markdown",
   "metadata": {},
   "source": [
    "Больше всего пользователей - 2537 в группе 248, в 247 группе - 2513 пользователей и в 246 группе 2484 пользователей.\\\n",
    "Посмотрим насколько отличаются группы между собой."
   ]
  },
  {
   "cell_type": "code",
   "execution_count": 35,
   "metadata": {},
   "outputs": [
    {
     "name": "stdout",
     "output_type": "stream",
     "text": [
      "Разница в процентах между размерами групп: \n",
      " 246 от 247: -1.2 \n",
      " 246 от 248: -2.1 \n",
      " 247 от 248: -1.0 \n",
      "\n"
     ]
    }
   ],
   "source": [
    "# посчитаем доли каждых групп между собой\n",
    "print('Разница в процентах между размерами групп:', '\\n',\n",
    "     '246 от 247:', round((group_users[246]- group_users[247])/group_users[246] * 100, 1), '\\n',\n",
    "     '246 от 248:', round((group_users[246]- group_users[248])/group_users[246] * 100, 1), '\\n',\n",
    "     '247 от 248:', round((group_users[247]- group_users[248])/group_users[247] * 100, 1), '\\n',\n",
    "    )"
   ]
  },
  {
   "cell_type": "markdown",
   "metadata": {},
   "source": [
    "Размеры выборок отличаются друг от друга : 246 от 247 на 1.2% , 246 от 248 на 2.1%, а 247 от 248 на 1%."
   ]
  },
  {
   "cell_type": "markdown",
   "metadata": {},
   "source": [
    "- Посчитаем число и долю пользователей, совершивших каждое событие в каждой из групп"
   ]
  },
  {
   "cell_type": "code",
   "execution_count": 36,
   "metadata": {},
   "outputs": [
    {
     "data": {
      "text/html": [
       "<div>\n",
       "<style scoped>\n",
       "    .dataframe tbody tr th:only-of-type {\n",
       "        vertical-align: middle;\n",
       "    }\n",
       "\n",
       "    .dataframe tbody tr th {\n",
       "        vertical-align: top;\n",
       "    }\n",
       "\n",
       "    .dataframe thead th {\n",
       "        text-align: right;\n",
       "    }\n",
       "</style>\n",
       "<table border=\"1\" class=\"dataframe\">\n",
       "  <thead>\n",
       "    <tr style=\"text-align: right;\">\n",
       "      <th>exp_id</th>\n",
       "      <th>246</th>\n",
       "      <th>247</th>\n",
       "      <th>248</th>\n",
       "      <th>249</th>\n",
       "    </tr>\n",
       "    <tr>\n",
       "      <th>event_name</th>\n",
       "      <th></th>\n",
       "      <th></th>\n",
       "      <th></th>\n",
       "      <th></th>\n",
       "    </tr>\n",
       "  </thead>\n",
       "  <tbody>\n",
       "    <tr>\n",
       "      <th>MainScreenAppear</th>\n",
       "      <td>2450</td>\n",
       "      <td>2476</td>\n",
       "      <td>2493</td>\n",
       "      <td>4926</td>\n",
       "    </tr>\n",
       "    <tr>\n",
       "      <th>OffersScreenAppear</th>\n",
       "      <td>1542</td>\n",
       "      <td>1520</td>\n",
       "      <td>1531</td>\n",
       "      <td>3062</td>\n",
       "    </tr>\n",
       "    <tr>\n",
       "      <th>CartScreenAppear</th>\n",
       "      <td>1266</td>\n",
       "      <td>1238</td>\n",
       "      <td>1230</td>\n",
       "      <td>2504</td>\n",
       "    </tr>\n",
       "    <tr>\n",
       "      <th>PaymentScreenSuccessful</th>\n",
       "      <td>1200</td>\n",
       "      <td>1158</td>\n",
       "      <td>1181</td>\n",
       "      <td>2358</td>\n",
       "    </tr>\n",
       "  </tbody>\n",
       "</table>\n",
       "</div>"
      ],
      "text/plain": [
       "exp_id                    246   247   248   249\n",
       "event_name                                     \n",
       "MainScreenAppear         2450  2476  2493  4926\n",
       "OffersScreenAppear       1542  1520  1531  3062\n",
       "CartScreenAppear         1266  1238  1230  2504\n",
       "PaymentScreenSuccessful  1200  1158  1181  2358"
      ]
     },
     "execution_count": 36,
     "metadata": {},
     "output_type": "execute_result"
    }
   ],
   "source": [
    "# сделаем сводную таблицу для с разбивкой по пользователям совершивших каждое событие\n",
    "funnel_group = (\n",
    "    logs_new.query('event_name != \"Tutorial\"')\n",
    "    .pivot_table(index='event_name', columns='exp_id', values='device_id_hash', aggfunc='nunique')\n",
    "    .sort_values(by=246, ascending = False))\n",
    "\n",
    "# добавим столбец с объединенными данными 246 и 247 группой и назовем его 249\n",
    "funnel_group[249] =  funnel_group[246] + funnel_group[247]\n",
    "\n",
    "# выведем на экран\n",
    "funnel_group"
   ]
  },
  {
   "cell_type": "code",
   "execution_count": 37,
   "metadata": {},
   "outputs": [
    {
     "data": {
      "text/html": [
       "<div>\n",
       "<style scoped>\n",
       "    .dataframe tbody tr th:only-of-type {\n",
       "        vertical-align: middle;\n",
       "    }\n",
       "\n",
       "    .dataframe tbody tr th {\n",
       "        vertical-align: top;\n",
       "    }\n",
       "\n",
       "    .dataframe thead th {\n",
       "        text-align: right;\n",
       "    }\n",
       "</style>\n",
       "<table border=\"1\" class=\"dataframe\">\n",
       "  <thead>\n",
       "    <tr style=\"text-align: right;\">\n",
       "      <th></th>\n",
       "      <th>event_name</th>\n",
       "      <th>event_cnt</th>\n",
       "      <th>users_cnt</th>\n",
       "      <th>cr, %</th>\n",
       "      <th>cr_step, %</th>\n",
       "    </tr>\n",
       "  </thead>\n",
       "  <tbody>\n",
       "    <tr>\n",
       "      <th>0</th>\n",
       "      <td>MainScreenAppear</td>\n",
       "      <td>37676</td>\n",
       "      <td>2450</td>\n",
       "      <td>98.7</td>\n",
       "      <td>NaN</td>\n",
       "    </tr>\n",
       "    <tr>\n",
       "      <th>1</th>\n",
       "      <td>OffersScreenAppear</td>\n",
       "      <td>14767</td>\n",
       "      <td>1542</td>\n",
       "      <td>62.1</td>\n",
       "      <td>62.9</td>\n",
       "    </tr>\n",
       "    <tr>\n",
       "      <th>2</th>\n",
       "      <td>CartScreenAppear</td>\n",
       "      <td>14690</td>\n",
       "      <td>1266</td>\n",
       "      <td>51.0</td>\n",
       "      <td>82.1</td>\n",
       "    </tr>\n",
       "    <tr>\n",
       "      <th>3</th>\n",
       "      <td>PaymentScreenSuccessful</td>\n",
       "      <td>11852</td>\n",
       "      <td>1200</td>\n",
       "      <td>48.3</td>\n",
       "      <td>94.8</td>\n",
       "    </tr>\n",
       "  </tbody>\n",
       "</table>\n",
       "</div>"
      ],
      "text/plain": [
       "                event_name  event_cnt  users_cnt  cr, %  cr_step, %\n",
       "0         MainScreenAppear      37676       2450   98.7         NaN\n",
       "1       OffersScreenAppear      14767       1542   62.1        62.9\n",
       "2         CartScreenAppear      14690       1266   51.0        82.1\n",
       "3  PaymentScreenSuccessful      11852       1200   48.3        94.8"
      ]
     },
     "execution_count": 37,
     "metadata": {},
     "output_type": "execute_result"
    }
   ],
   "source": [
    "# посмотрим детальнее на 246 группу\n",
    "funnel_users(logs_new.query('exp_id == 246 and event_name != \"Tutorial\"'))"
   ]
  },
  {
   "cell_type": "code",
   "execution_count": 38,
   "metadata": {},
   "outputs": [
    {
     "data": {
      "text/html": [
       "<div>\n",
       "<style scoped>\n",
       "    .dataframe tbody tr th:only-of-type {\n",
       "        vertical-align: middle;\n",
       "    }\n",
       "\n",
       "    .dataframe tbody tr th {\n",
       "        vertical-align: top;\n",
       "    }\n",
       "\n",
       "    .dataframe thead th {\n",
       "        text-align: right;\n",
       "    }\n",
       "</style>\n",
       "<table border=\"1\" class=\"dataframe\">\n",
       "  <thead>\n",
       "    <tr style=\"text-align: right;\">\n",
       "      <th></th>\n",
       "      <th>event_name</th>\n",
       "      <th>event_cnt</th>\n",
       "      <th>users_cnt</th>\n",
       "      <th>cr, %</th>\n",
       "      <th>cr_step, %</th>\n",
       "    </tr>\n",
       "  </thead>\n",
       "  <tbody>\n",
       "    <tr>\n",
       "      <th>0</th>\n",
       "      <td>MainScreenAppear</td>\n",
       "      <td>39090</td>\n",
       "      <td>2476</td>\n",
       "      <td>98.6</td>\n",
       "      <td>NaN</td>\n",
       "    </tr>\n",
       "    <tr>\n",
       "      <th>1</th>\n",
       "      <td>OffersScreenAppear</td>\n",
       "      <td>15179</td>\n",
       "      <td>1520</td>\n",
       "      <td>60.5</td>\n",
       "      <td>61.4</td>\n",
       "    </tr>\n",
       "    <tr>\n",
       "      <th>2</th>\n",
       "      <td>CartScreenAppear</td>\n",
       "      <td>12434</td>\n",
       "      <td>1238</td>\n",
       "      <td>49.3</td>\n",
       "      <td>81.4</td>\n",
       "    </tr>\n",
       "    <tr>\n",
       "      <th>3</th>\n",
       "      <td>PaymentScreenSuccessful</td>\n",
       "      <td>9981</td>\n",
       "      <td>1158</td>\n",
       "      <td>46.1</td>\n",
       "      <td>93.5</td>\n",
       "    </tr>\n",
       "  </tbody>\n",
       "</table>\n",
       "</div>"
      ],
      "text/plain": [
       "                event_name  event_cnt  users_cnt  cr, %  cr_step, %\n",
       "0         MainScreenAppear      39090       2476   98.6         NaN\n",
       "1       OffersScreenAppear      15179       1520   60.5        61.4\n",
       "2         CartScreenAppear      12434       1238   49.3        81.4\n",
       "3  PaymentScreenSuccessful       9981       1158   46.1        93.5"
      ]
     },
     "execution_count": 38,
     "metadata": {},
     "output_type": "execute_result"
    }
   ],
   "source": [
    "# посмотрим детальнее на 247 группу\n",
    "funnel_users(logs_new.query('exp_id == 247 and event_name != \"Tutorial\"'))"
   ]
  },
  {
   "cell_type": "markdown",
   "metadata": {},
   "source": [
    "Приблизительно равные цифры демонстрируют контрольные группы. Проверим есть ли статистически значимые различия между ними."
   ]
  },
  {
   "cell_type": "markdown",
   "metadata": {},
   "source": [
    "Критерии успешного A/A/В-теста:\n",
    "- Количество пользователей в различных группах различается не более, чем на 1%\n",
    "- Для всех групп фиксируют и отправляют в системы аналитики данные об одном и том же\n",
    "- Различие ключевых метрик по группам не превышает 1% и не имеет статистической значимости\n",
    "- Попавший в одну из групп посетитель остаётся в этой группе до конца теста."
   ]
  },
  {
   "cell_type": "markdown",
   "metadata": {},
   "source": [
    "- Есть 2 контрольные группы для А/А-эксперимента, чтобы проверить корректность всех механизмов и расчётов. Проверим, находят ли статистические критерии разницу между выборками 246 и 247."
   ]
  },
  {
   "cell_type": "markdown",
   "metadata": {},
   "source": [
    "Напишем функцию для проведения z-теста для проверки гипотезы о равенстве долей двух выборок."
   ]
  },
  {
   "cell_type": "code",
   "execution_count": 39,
   "metadata": {},
   "outputs": [],
   "source": [
    "def z_test(exp_group_1, exp_group_2, event, alpha):\n",
    "   \n",
    "    # критический уровень статистической значимости\n",
    "    bonf_alpha = alpha/16\n",
    "    \n",
    "    group_1 = logs_new.query('exp_id == @exp_group_1')\n",
    "    group_2 = logs_new.query('exp_id == @exp_group_2')\n",
    "\n",
    "    # значения выборок на уровне тестируемого события\n",
    "    successes = np.array([funnel_group.query('event_name == @event')[exp_group_1].sum(),\n",
    "                          funnel_group.query('event_name == @event')[exp_group_2].sum()])\n",
    "    \n",
    "    # первоначальные значения выборок\n",
    "    trials = np.array([group_1['device_id_hash'].nunique(), group_2['device_id_hash'].nunique()])\n",
    "    \n",
    "    # пропорция успехов в группах:\n",
    "    p1 = successes[0]/trials[0]\n",
    "    p2 = successes[1]/trials[1]\n",
    "    \n",
    "    # пропорция успехов в комбинированном датасете:\n",
    "    p_combined = (successes[0] + successes[1]) / (trials[0] + trials[1])\n",
    "    \n",
    "    # разница пропорций в датасетах\n",
    "    difference = p1 - p2\n",
    "    \n",
    "    # считаем статистику в ст.отклонениях стандартного нормального распределения\n",
    "    z_value = difference / math.sqrt(p_combined * (1 - p_combined) * (1/trials[0] + 1/trials[1]))\n",
    "    \n",
    "    # задаем стандартное нормальное распределение (среднее 0, ст.отклонение 1)\n",
    "    distr = st.norm(0, 1)\n",
    "    \n",
    "    p_value = (1 - distr.cdf(abs(z_value))) * 2\n",
    "    \n",
    "    print('Проверка для групп {} и {}, событие: {}, p-значение: {p_value:.2f}'.format(exp_group_1, exp_group_2, event, p_value=p_value))\n",
    "    if  p_value < bonf_alpha:\n",
    "        print('Отвергаем нулевую гипотезу: между долями есть значимая разница')\n",
    "    else:\n",
    "        print('Не получилось отвергнуть нулевую гипотезу, нет оснований считать доли разными')"
   ]
  },
  {
   "cell_type": "markdown",
   "metadata": {},
   "source": [
    "Гипотезы сформулируем так:\n",
    "- Нулевая гипотеза Н0 : доли двух выборок одинаковые\n",
    "- Альтернативная гипотеза Н1 : доли двух выборок разные\n",
    "\n",
    "Выберем уровень статистической значимости равный 0.05."
   ]
  },
  {
   "cell_type": "code",
   "execution_count": 40,
   "metadata": {},
   "outputs": [
    {
     "name": "stdout",
     "output_type": "stream",
     "text": [
      "Проверка для групп 246 и 247, событие: MainScreenAppear, p-значение: 0.76\n",
      "Не получилось отвергнуть нулевую гипотезу, нет оснований считать доли разными\n",
      "\n",
      "Проверка для групп 246 и 247, событие: OffersScreenAppear, p-значение: 0.25\n",
      "Не получилось отвергнуть нулевую гипотезу, нет оснований считать доли разными\n",
      "\n",
      "Проверка для групп 246 и 247, событие: CartScreenAppear, p-значение: 0.23\n",
      "Не получилось отвергнуть нулевую гипотезу, нет оснований считать доли разными\n",
      "\n",
      "Проверка для групп 246 и 247, событие: PaymentScreenSuccessful, p-значение: 0.11\n",
      "Не получилось отвергнуть нулевую гипотезу, нет оснований считать доли разными\n",
      "\n"
     ]
    }
   ],
   "source": [
    "# напишем чикл для расчета функции по каждому событию\n",
    "for event in funnel_group.index:\n",
    "    z_test(246, 247, event, 0.05)\n",
    "    print()"
   ]
  },
  {
   "cell_type": "markdown",
   "metadata": {},
   "source": [
    "Исходя из A/A тестов не получилось отвергнуть нулевую гипотезу, статистической значимости между выборками 246 и 247 нет. Можно сказать, что разбиение на группы работает корректно."
   ]
  },
  {
   "cell_type": "markdown",
   "metadata": {},
   "source": [
    "- Аналогично поступите с группой с изменённым шрифтом.\\\n",
    "Сравним контрольные группы с экспериментальной."
   ]
  },
  {
   "cell_type": "code",
   "execution_count": 41,
   "metadata": {},
   "outputs": [
    {
     "data": {
      "text/html": [
       "<div>\n",
       "<style scoped>\n",
       "    .dataframe tbody tr th:only-of-type {\n",
       "        vertical-align: middle;\n",
       "    }\n",
       "\n",
       "    .dataframe tbody tr th {\n",
       "        vertical-align: top;\n",
       "    }\n",
       "\n",
       "    .dataframe thead th {\n",
       "        text-align: right;\n",
       "    }\n",
       "</style>\n",
       "<table border=\"1\" class=\"dataframe\">\n",
       "  <thead>\n",
       "    <tr style=\"text-align: right;\">\n",
       "      <th></th>\n",
       "      <th>event_name</th>\n",
       "      <th>event_cnt</th>\n",
       "      <th>users_cnt</th>\n",
       "      <th>cr, %</th>\n",
       "      <th>cr_step, %</th>\n",
       "    </tr>\n",
       "  </thead>\n",
       "  <tbody>\n",
       "    <tr>\n",
       "      <th>0</th>\n",
       "      <td>MainScreenAppear</td>\n",
       "      <td>40562</td>\n",
       "      <td>2493</td>\n",
       "      <td>98.3</td>\n",
       "      <td>NaN</td>\n",
       "    </tr>\n",
       "    <tr>\n",
       "      <th>1</th>\n",
       "      <td>OffersScreenAppear</td>\n",
       "      <td>16387</td>\n",
       "      <td>1531</td>\n",
       "      <td>60.4</td>\n",
       "      <td>61.4</td>\n",
       "    </tr>\n",
       "    <tr>\n",
       "      <th>2</th>\n",
       "      <td>CartScreenAppear</td>\n",
       "      <td>15179</td>\n",
       "      <td>1230</td>\n",
       "      <td>48.5</td>\n",
       "      <td>80.3</td>\n",
       "    </tr>\n",
       "    <tr>\n",
       "      <th>3</th>\n",
       "      <td>PaymentScreenSuccessful</td>\n",
       "      <td>12085</td>\n",
       "      <td>1181</td>\n",
       "      <td>46.6</td>\n",
       "      <td>96.0</td>\n",
       "    </tr>\n",
       "  </tbody>\n",
       "</table>\n",
       "</div>"
      ],
      "text/plain": [
       "                event_name  event_cnt  users_cnt  cr, %  cr_step, %\n",
       "0         MainScreenAppear      40562       2493   98.3         NaN\n",
       "1       OffersScreenAppear      16387       1531   60.4        61.4\n",
       "2         CartScreenAppear      15179       1230   48.5        80.3\n",
       "3  PaymentScreenSuccessful      12085       1181   46.6        96.0"
      ]
     },
     "execution_count": 41,
     "metadata": {},
     "output_type": "execute_result"
    }
   ],
   "source": [
    "# посмотрим детальнее на 248 группу\n",
    "funnel_users(logs_new.query('exp_id == 248 and event_name != \"Tutorial\"'))"
   ]
  },
  {
   "cell_type": "markdown",
   "metadata": {},
   "source": [
    "Гипотезы будут звучать так же:\n",
    "\n",
    "Нулевая гипотеза Н0 : доли двух выборок одинаковые\\\n",
    "Альтернативная гипотеза Н1 : доли двух выборок разные"
   ]
  },
  {
   "cell_type": "code",
   "execution_count": 42,
   "metadata": {},
   "outputs": [
    {
     "name": "stdout",
     "output_type": "stream",
     "text": [
      "Проверка для групп 246 и 248, событие: MainScreenAppear, p-значение: 0.29\n",
      "Не получилось отвергнуть нулевую гипотезу, нет оснований считать доли разными\n",
      "\n",
      "Проверка для групп 246 и 248, событие: OffersScreenAppear, p-значение: 0.21\n",
      "Не получилось отвергнуть нулевую гипотезу, нет оснований считать доли разными\n",
      "\n",
      "Проверка для групп 246 и 248, событие: CartScreenAppear, p-значение: 0.08\n",
      "Не получилось отвергнуть нулевую гипотезу, нет оснований считать доли разными\n",
      "\n",
      "Проверка для групп 246 и 248, событие: PaymentScreenSuccessful, p-значение: 0.21\n",
      "Не получилось отвергнуть нулевую гипотезу, нет оснований считать доли разными\n",
      "\n"
     ]
    }
   ],
   "source": [
    "# напишем чикл для расчета функции по каждому событию групп 246 и 248\n",
    "for event in funnel_group.index:\n",
    "    z_test(246, 248, event, 0.05)\n",
    "    print()"
   ]
  },
  {
   "cell_type": "markdown",
   "metadata": {},
   "source": [
    "Не получилось отвергнуть нулевую гипотезу, статистической значимости между выборками 246 и 248 ни по одному из событий нет."
   ]
  },
  {
   "cell_type": "code",
   "execution_count": 43,
   "metadata": {},
   "outputs": [
    {
     "name": "stdout",
     "output_type": "stream",
     "text": [
      "Проверка для групп 247 и 248, событие: MainScreenAppear, p-значение: 0.46\n",
      "Не получилось отвергнуть нулевую гипотезу, нет оснований считать доли разными\n",
      "\n",
      "Проверка для групп 247 и 248, событие: OffersScreenAppear, p-значение: 0.92\n",
      "Не получилось отвергнуть нулевую гипотезу, нет оснований считать доли разными\n",
      "\n",
      "Проверка для групп 247 и 248, событие: CartScreenAppear, p-значение: 0.58\n",
      "Не получилось отвергнуть нулевую гипотезу, нет оснований считать доли разными\n",
      "\n",
      "Проверка для групп 247 и 248, событие: PaymentScreenSuccessful, p-значение: 0.74\n",
      "Не получилось отвергнуть нулевую гипотезу, нет оснований считать доли разными\n",
      "\n"
     ]
    }
   ],
   "source": [
    "# напишем чикл для расчета функции по каждому событию групп 247 и 248\n",
    "for event in funnel_group.index:\n",
    "    z_test(247, 248, event, 0.05)\n",
    "    print()"
   ]
  },
  {
   "cell_type": "markdown",
   "metadata": {},
   "source": [
    "Не получилось отвергнуть нулевую гипотезу, статистической значимости между выборками 247 и 248 ни по одному из событий нет."
   ]
  },
  {
   "cell_type": "markdown",
   "metadata": {},
   "source": [
    "Перепишем функцию для подсчёта статистической значимости для сравнения с объединенной группой"
   ]
  },
  {
   "cell_type": "code",
   "execution_count": 44,
   "metadata": {},
   "outputs": [],
   "source": [
    "def z_test_2(exp_group_2, event, alpha):\n",
    "   \n",
    "    # критический уровень статистической значимости\n",
    "    bonf_alpha = alpha/16\n",
    "    \n",
    "    group_1 = logs_new.query('exp_id == 246 | exp_id == 247')\n",
    "    group_2 = logs_new.query('exp_id == @exp_group_2')\n",
    "\n",
    "    # значения выборок на уровне тестируемого события\n",
    "    successes = np.array([funnel_group.query('event_name == @event')[249].sum(),\n",
    "                          funnel_group.query('event_name == @event')[exp_group_2].sum()])\n",
    "    \n",
    "    # первоначальные значения выборок\n",
    "    trials = np.array([group_1['device_id_hash'].nunique(), group_2['device_id_hash'].nunique()])\n",
    "    \n",
    "    # пропорция успехов в группах:\n",
    "    p1 = successes[0]/trials[0]\n",
    "    p2 = successes[1]/trials[1]\n",
    "    \n",
    "    # пропорция успехов в комбинированном датасете:\n",
    "    p_combined = (successes[0] + successes[1]) / (trials[0] + trials[1])\n",
    "    \n",
    "    # разница пропорций в датасетах\n",
    "    difference = p1 - p2\n",
    "    \n",
    "    # считаем статистику в ст.отклонениях стандартного нормального распределения\n",
    "    z_value = difference / math.sqrt(p_combined * (1 - p_combined) * (1/trials[0] + 1/trials[1]))\n",
    "    \n",
    "    # задаем стандартное нормальное распределение (среднее 0, ст.отклонение 1)\n",
    "    distr = st.norm(0, 1)\n",
    "    \n",
    "    p_value = (1 - distr.cdf(abs(z_value))) * 2\n",
    "    \n",
    "    print('Проверка для групп {} и {}, событие: {}, p-значение: {p_value:.2f}'.format(249, exp_group_2, event, p_value=p_value))\n",
    "    if  p_value < bonf_alpha:\n",
    "        print('Отвергаем нулевую гипотезу: между долями есть значимая разница')\n",
    "    else:\n",
    "        print('Не получилось отвергнуть нулевую гипотезу, нет оснований считать доли разными')"
   ]
  },
  {
   "cell_type": "code",
   "execution_count": 45,
   "metadata": {},
   "outputs": [
    {
     "name": "stdout",
     "output_type": "stream",
     "text": [
      "Проверка для групп 249 и 248, событие: MainScreenAppear, p-значение: 0.29\n",
      "Не получилось отвергнуть нулевую гипотезу, нет оснований считать доли разными\n",
      "\n",
      "Проверка для групп 249 и 248, событие: OffersScreenAppear, p-значение: 0.43\n",
      "Не получилось отвергнуть нулевую гипотезу, нет оснований считать доли разными\n",
      "\n",
      "Проверка для групп 249 и 248, событие: CartScreenAppear, p-значение: 0.18\n",
      "Не получилось отвергнуть нулевую гипотезу, нет оснований считать доли разными\n",
      "\n",
      "Проверка для групп 249 и 248, событие: PaymentScreenSuccessful, p-значение: 0.60\n",
      "Не получилось отвергнуть нулевую гипотезу, нет оснований считать доли разными\n",
      "\n"
     ]
    }
   ],
   "source": [
    "# напишем чикл для расчета функции по каждому событию группы 248 с объединенной группой (246+247)\n",
    "for event in funnel_group.index:\n",
    "    z_test_2(248, event, 0.05)\n",
    "    print()"
   ]
  },
  {
   "cell_type": "markdown",
   "metadata": {},
   "source": [
    "Не получилось отвергнуть нулевую гипотезу, статистической значимости между выборками 248 и объединенной контрольной группой ни по одному из событий нет."
   ]
  },
  {
   "cell_type": "markdown",
   "metadata": {},
   "source": [
    "При проверке статистических гипотез выше был выбран уровень статистической значимости 0.05, но так как были проведены множественные сравнения ( в сумме проверено 16 гипотез) применим поправку Бонферрони, чтобы исключить возможность получить ложнопозитивный результат. "
   ]
  },
  {
   "cell_type": "markdown",
   "metadata": {},
   "source": [
    "После изменения уровня статистической значимости с учётом поправки Бонферрони результаты не изменились - не удалось отвергнуть ни одну из 16 гипотез. Нет основания считать доли разными.\\\n",
    "По результатам A/A/B-теста можно сказать, что нововведение никак не повлияло на пользователей."
   ]
  },
  {
   "cell_type": "markdown",
   "metadata": {},
   "source": [
    "### Вывод"
   ]
  },
  {
   "cell_type": "markdown",
   "metadata": {},
   "source": [
    "В результате анализа пользования мобильным приложения по доставке продуктов питания 3-х групп пользователей (2 группы контрольные - использующие предыдущию версию приложения и 1 экспериментальная - с новыми шрифтами) с 1 по 7 августа 2019 года было определено:\n",
    "\n",
    "**Всего уникальных событий** в логе 5 - это :\n",
    "1. MainScreenAppear - появление главного экрана (119101)\n",
    "2. OffersScreenAppear - появление экрана предложений (46808)\n",
    "3. CartScreenAppear - появление экрана корзины (42668)\n",
    "4. PaymentScreenSuccessful - экран успешной оплаты (34118)\n",
    "5. Tutorial – учебное пособие (1018)\\\n",
    "(Частота событий указана в скобках)\n",
    "\n",
    "- Всего было проанализировано \"поведение\" 7551 пользователя\n",
    "- В среднем на каждого пользователя приходится 32 события\n",
    "\n",
    "**Воронка продаж** формируется так: \n",
    "1. Появление главного экрана\n",
    "2. Переход на экран предложений\n",
    "3. Добавление товара в корзину\n",
    "4. Оплата\n",
    "\n",
    "- Чаще всего пользователи (7419 пользователей) переходили на главный экран ( и только 1.5 % не дошли до него) \n",
    "- Далее пользователи переходили на экран с предложением (62% - 4593 пользователей)\n",
    "- Половина от общего числа добавила что-то в корзину (3734 пользователей) \n",
    "- И 48% пользователей (3539) оплатили покупку\n",
    "- Обучающий материал просмотрели лишь 11 % пользователей(840)\n",
    "\n",
    "\n",
    "- Самый большой процент оттока пользователей (38%) происходит на этапе главный экран - экран предложений\n",
    "\n",
    "**Результаты А/А/В-теста:**\n",
    "\n",
    "- В общей сложности было проведено 16 проверок гипотез\n",
    "- 4 проверки двух контрольных групп между собой\n",
    "- 12 проверок в общей сложности экспериментальной группы (с новыми шрифтами) с контрольными. По 4 проверки с каждой из контрольной группы и 4 проверки с объединенными данными из 2 контрольных групп вместе взятых\n",
    "- В каждой группе было около 2500 пользователей\n",
    "- **При статистической проверки гипотез не было найдено ни одного статистически значимого различия между группами** (все нулевые гипотезы отвергнуты), т.е выборки каждой из групп не имеют значимых различий друг относительно друга\n",
    "\n",
    "По результатам теста можно сделать **вывод**, что введение новых шрифтов никак не повлияло на пользователей (ни в положительную, ни в отрицательную стороны).\n",
    "\n",
    "**Рекомендации:**\n",
    "Больше всего пользователей (38%) отваливаются на пути между главным экраном и переходом к предложениям. Возможно пользователи сталкиваются с какими-то трудностями использования, функциональности, доступности при переходе от главного экрана к предложениям. Нужно это проверить \n"
   ]
  }
 ],
 "metadata": {
  "ExecuteTimeLog": [
   {
    "duration": 1381,
    "start_time": "2024-05-30T08:21:41.129Z"
   },
   {
    "duration": 1112,
    "start_time": "2024-05-30T08:21:50.674Z"
   },
   {
    "duration": 424,
    "start_time": "2024-05-30T08:24:09.660Z"
   },
   {
    "duration": 325,
    "start_time": "2024-05-30T08:24:49.086Z"
   },
   {
    "duration": 22,
    "start_time": "2024-05-30T08:25:14.530Z"
   },
   {
    "duration": 22,
    "start_time": "2024-05-30T08:25:31.320Z"
   },
   {
    "duration": 192,
    "start_time": "2024-05-30T08:27:10.294Z"
   },
   {
    "duration": 22,
    "start_time": "2024-05-30T08:27:11.510Z"
   },
   {
    "duration": 15,
    "start_time": "2024-05-30T08:28:34.858Z"
   },
   {
    "duration": 61,
    "start_time": "2024-05-30T08:35:18.027Z"
   },
   {
    "duration": 97,
    "start_time": "2024-05-30T08:35:59.537Z"
   },
   {
    "duration": 4,
    "start_time": "2024-05-30T08:36:17.147Z"
   },
   {
    "duration": 58,
    "start_time": "2024-05-30T08:36:39.827Z"
   },
   {
    "duration": 63,
    "start_time": "2024-05-30T08:36:53.007Z"
   },
   {
    "duration": 75,
    "start_time": "2024-05-30T08:40:13.473Z"
   },
   {
    "duration": 60,
    "start_time": "2024-05-30T08:40:44.272Z"
   },
   {
    "duration": 19,
    "start_time": "2024-05-30T08:41:22.385Z"
   },
   {
    "duration": 3,
    "start_time": "2024-05-30T08:45:12.636Z"
   },
   {
    "duration": 6,
    "start_time": "2024-05-30T08:48:43.514Z"
   },
   {
    "duration": 1095,
    "start_time": "2024-05-30T08:48:47.884Z"
   },
   {
    "duration": 181,
    "start_time": "2024-05-30T08:48:48.981Z"
   },
   {
    "duration": 23,
    "start_time": "2024-05-30T08:48:49.163Z"
   },
   {
    "duration": 20,
    "start_time": "2024-05-30T08:48:49.187Z"
   },
   {
    "duration": 73,
    "start_time": "2024-05-30T08:48:49.209Z"
   },
   {
    "duration": 63,
    "start_time": "2024-05-30T08:48:49.284Z"
   },
   {
    "duration": 84,
    "start_time": "2024-05-30T08:48:49.349Z"
   },
   {
    "duration": 82,
    "start_time": "2024-05-30T08:48:49.435Z"
   },
   {
    "duration": 25,
    "start_time": "2024-05-30T08:48:49.519Z"
   },
   {
    "duration": 24,
    "start_time": "2024-05-30T08:48:49.545Z"
   },
   {
    "duration": 4,
    "start_time": "2024-05-30T08:49:10.913Z"
   },
   {
    "duration": 7,
    "start_time": "2024-05-30T08:49:42.507Z"
   },
   {
    "duration": 3,
    "start_time": "2024-05-30T08:49:43.030Z"
   },
   {
    "duration": 11,
    "start_time": "2024-05-30T08:57:42.241Z"
   },
   {
    "duration": 19,
    "start_time": "2024-05-30T08:58:45.511Z"
   },
   {
    "duration": 25,
    "start_time": "2024-05-30T08:59:50.739Z"
   },
   {
    "duration": 9,
    "start_time": "2024-05-30T09:00:04.114Z"
   },
   {
    "duration": 71,
    "start_time": "2024-05-30T09:03:37.923Z"
   },
   {
    "duration": 10,
    "start_time": "2024-05-30T09:04:38.872Z"
   },
   {
    "duration": 38,
    "start_time": "2024-05-30T09:05:15.945Z"
   },
   {
    "duration": 1288,
    "start_time": "2024-05-30T09:05:26.854Z"
   },
   {
    "duration": 185,
    "start_time": "2024-05-30T09:05:28.143Z"
   },
   {
    "duration": 22,
    "start_time": "2024-05-30T09:05:28.329Z"
   },
   {
    "duration": 37,
    "start_time": "2024-05-30T09:05:28.353Z"
   },
   {
    "duration": 89,
    "start_time": "2024-05-30T09:05:28.392Z"
   },
   {
    "duration": 64,
    "start_time": "2024-05-30T09:05:28.483Z"
   },
   {
    "duration": 88,
    "start_time": "2024-05-30T09:05:28.562Z"
   },
   {
    "duration": 71,
    "start_time": "2024-05-30T09:05:28.660Z"
   },
   {
    "duration": 32,
    "start_time": "2024-05-30T09:05:28.733Z"
   },
   {
    "duration": 11,
    "start_time": "2024-05-30T09:05:28.772Z"
   },
   {
    "duration": 28,
    "start_time": "2024-05-30T09:05:28.785Z"
   },
   {
    "duration": 30,
    "start_time": "2024-05-30T09:05:28.814Z"
   },
   {
    "duration": 101,
    "start_time": "2024-05-30T09:05:28.846Z"
   },
   {
    "duration": 53,
    "start_time": "2024-05-30T09:05:28.948Z"
   },
   {
    "duration": 20,
    "start_time": "2024-05-30T09:05:29.002Z"
   },
   {
    "duration": 107,
    "start_time": "2024-05-30T09:07:59.227Z"
   },
   {
    "duration": 23,
    "start_time": "2024-05-30T09:08:00.538Z"
   },
   {
    "duration": 9,
    "start_time": "2024-05-30T09:08:08.751Z"
   },
   {
    "duration": 1206,
    "start_time": "2024-05-30T09:16:22.260Z"
   },
   {
    "duration": 185,
    "start_time": "2024-05-30T09:16:23.468Z"
   },
   {
    "duration": 24,
    "start_time": "2024-05-30T09:16:23.654Z"
   },
   {
    "duration": 12,
    "start_time": "2024-05-30T09:16:23.680Z"
   },
   {
    "duration": 91,
    "start_time": "2024-05-30T09:16:23.693Z"
   },
   {
    "duration": 81,
    "start_time": "2024-05-30T09:16:23.786Z"
   },
   {
    "duration": 78,
    "start_time": "2024-05-30T09:16:23.869Z"
   },
   {
    "duration": 68,
    "start_time": "2024-05-30T09:16:23.949Z"
   },
   {
    "duration": 17,
    "start_time": "2024-05-30T09:16:24.019Z"
   },
   {
    "duration": 26,
    "start_time": "2024-05-30T09:16:24.039Z"
   },
   {
    "duration": 4,
    "start_time": "2024-05-30T09:16:24.066Z"
   },
   {
    "duration": 13,
    "start_time": "2024-05-30T09:16:24.072Z"
   },
   {
    "duration": 126,
    "start_time": "2024-05-30T09:16:24.087Z"
   },
   {
    "duration": 20,
    "start_time": "2024-05-30T09:16:24.215Z"
   },
   {
    "duration": 24,
    "start_time": "2024-05-30T09:16:24.237Z"
   },
   {
    "duration": 64,
    "start_time": "2024-05-30T09:50:54.651Z"
   },
   {
    "duration": 77,
    "start_time": "2024-05-30T09:51:19.721Z"
   },
   {
    "duration": 62,
    "start_time": "2024-05-30T09:51:24.520Z"
   },
   {
    "duration": 69,
    "start_time": "2024-05-30T09:51:54.532Z"
   },
   {
    "duration": 84,
    "start_time": "2024-05-30T09:52:01.194Z"
   },
   {
    "duration": 75,
    "start_time": "2024-05-30T09:52:10.897Z"
   },
   {
    "duration": 63,
    "start_time": "2024-05-30T09:52:17.165Z"
   },
   {
    "duration": 56,
    "start_time": "2024-05-30T09:52:29.397Z"
   },
   {
    "duration": 56,
    "start_time": "2024-05-30T09:52:36.304Z"
   },
   {
    "duration": 55,
    "start_time": "2024-05-30T09:52:42.037Z"
   },
   {
    "duration": 50,
    "start_time": "2024-05-30T09:52:51.212Z"
   },
   {
    "duration": 53,
    "start_time": "2024-05-30T09:53:10.290Z"
   },
   {
    "duration": 54,
    "start_time": "2024-05-30T09:54:28.042Z"
   },
   {
    "duration": 51,
    "start_time": "2024-05-30T09:55:57.572Z"
   },
   {
    "duration": 4,
    "start_time": "2024-05-30T10:03:19.499Z"
   },
   {
    "duration": 9,
    "start_time": "2024-05-30T10:05:20.178Z"
   },
   {
    "duration": 8,
    "start_time": "2024-05-30T10:05:32.471Z"
   },
   {
    "duration": 8,
    "start_time": "2024-05-30T10:05:40.206Z"
   },
   {
    "duration": 8,
    "start_time": "2024-05-30T10:05:54.435Z"
   },
   {
    "duration": 17,
    "start_time": "2024-05-30T10:08:52.314Z"
   },
   {
    "duration": 1165,
    "start_time": "2024-05-30T10:20:42.035Z"
   },
   {
    "duration": 191,
    "start_time": "2024-05-30T10:20:43.203Z"
   },
   {
    "duration": 25,
    "start_time": "2024-05-30T10:20:43.396Z"
   },
   {
    "duration": 11,
    "start_time": "2024-05-30T10:20:43.422Z"
   },
   {
    "duration": 87,
    "start_time": "2024-05-30T10:20:43.435Z"
   },
   {
    "duration": 123,
    "start_time": "2024-05-30T10:20:43.524Z"
   },
   {
    "duration": 79,
    "start_time": "2024-05-30T10:20:43.649Z"
   },
   {
    "duration": 67,
    "start_time": "2024-05-30T10:20:43.730Z"
   },
   {
    "duration": 17,
    "start_time": "2024-05-30T10:20:43.798Z"
   },
   {
    "duration": 22,
    "start_time": "2024-05-30T10:20:43.817Z"
   },
   {
    "duration": 4,
    "start_time": "2024-05-30T10:20:43.840Z"
   },
   {
    "duration": 26,
    "start_time": "2024-05-30T10:20:43.846Z"
   },
   {
    "duration": 120,
    "start_time": "2024-05-30T10:20:43.874Z"
   },
   {
    "duration": 22,
    "start_time": "2024-05-30T10:20:43.997Z"
   },
   {
    "duration": 21,
    "start_time": "2024-05-30T10:20:44.021Z"
   },
   {
    "duration": 71,
    "start_time": "2024-05-30T10:20:44.044Z"
   },
   {
    "duration": 8,
    "start_time": "2024-05-30T10:20:44.117Z"
   },
   {
    "duration": 40,
    "start_time": "2024-05-30T10:20:44.127Z"
   },
   {
    "duration": 6,
    "start_time": "2024-05-30T10:20:44.169Z"
   },
   {
    "duration": 1171,
    "start_time": "2024-05-30T10:20:50.913Z"
   },
   {
    "duration": 184,
    "start_time": "2024-05-30T10:20:52.086Z"
   },
   {
    "duration": 23,
    "start_time": "2024-05-30T10:20:52.271Z"
   },
   {
    "duration": 12,
    "start_time": "2024-05-30T10:20:52.297Z"
   },
   {
    "duration": 89,
    "start_time": "2024-05-30T10:20:52.311Z"
   },
   {
    "duration": 77,
    "start_time": "2024-05-30T10:20:52.401Z"
   },
   {
    "duration": 90,
    "start_time": "2024-05-30T10:20:52.480Z"
   },
   {
    "duration": 59,
    "start_time": "2024-05-30T10:20:52.572Z"
   },
   {
    "duration": 30,
    "start_time": "2024-05-30T10:20:52.633Z"
   },
   {
    "duration": 17,
    "start_time": "2024-05-30T10:20:52.666Z"
   },
   {
    "duration": 30,
    "start_time": "2024-05-30T10:20:52.684Z"
   },
   {
    "duration": 31,
    "start_time": "2024-05-30T10:20:52.716Z"
   },
   {
    "duration": 159,
    "start_time": "2024-05-30T10:20:52.749Z"
   },
   {
    "duration": 23,
    "start_time": "2024-05-30T10:20:52.911Z"
   },
   {
    "duration": 32,
    "start_time": "2024-05-30T10:20:52.936Z"
   },
   {
    "duration": 79,
    "start_time": "2024-05-30T10:20:52.969Z"
   },
   {
    "duration": 36,
    "start_time": "2024-05-30T10:20:53.050Z"
   },
   {
    "duration": 49,
    "start_time": "2024-05-30T10:20:53.088Z"
   },
   {
    "duration": 17,
    "start_time": "2024-05-30T10:20:53.138Z"
   },
   {
    "duration": 284,
    "start_time": "2024-05-30T10:29:27.003Z"
   },
   {
    "duration": 168,
    "start_time": "2024-05-30T10:29:45.264Z"
   },
   {
    "duration": 184,
    "start_time": "2024-05-30T10:30:14.772Z"
   },
   {
    "duration": 191,
    "start_time": "2024-05-30T10:30:28.598Z"
   },
   {
    "duration": 204,
    "start_time": "2024-05-30T10:30:50.089Z"
   },
   {
    "duration": 214,
    "start_time": "2024-05-30T10:31:06.787Z"
   },
   {
    "duration": 205,
    "start_time": "2024-05-30T10:31:32.431Z"
   },
   {
    "duration": 261,
    "start_time": "2024-05-30T10:31:50.150Z"
   },
   {
    "duration": 184,
    "start_time": "2024-05-30T10:32:10.367Z"
   },
   {
    "duration": 211,
    "start_time": "2024-05-30T10:32:25.801Z"
   },
   {
    "duration": 194,
    "start_time": "2024-05-30T10:32:37.197Z"
   },
   {
    "duration": 207,
    "start_time": "2024-05-30T10:32:57.184Z"
   },
   {
    "duration": 187,
    "start_time": "2024-05-30T10:33:10.825Z"
   },
   {
    "duration": 224,
    "start_time": "2024-05-30T10:33:20.343Z"
   },
   {
    "duration": 208,
    "start_time": "2024-05-30T10:33:38.196Z"
   },
   {
    "duration": 230,
    "start_time": "2024-05-30T10:33:46.858Z"
   },
   {
    "duration": 267,
    "start_time": "2024-05-30T10:33:56.976Z"
   },
   {
    "duration": 216,
    "start_time": "2024-05-30T10:34:04.318Z"
   },
   {
    "duration": 330,
    "start_time": "2024-05-30T10:37:31.143Z"
   },
   {
    "duration": 221,
    "start_time": "2024-05-30T10:37:45.135Z"
   },
   {
    "duration": 261,
    "start_time": "2024-05-30T10:37:58.078Z"
   },
   {
    "duration": 19,
    "start_time": "2024-05-30T10:51:48.976Z"
   },
   {
    "duration": 7,
    "start_time": "2024-05-30T10:54:47.839Z"
   },
   {
    "duration": 105,
    "start_time": "2024-05-30T11:01:12.989Z"
   },
   {
    "duration": 93,
    "start_time": "2024-05-30T11:01:37.574Z"
   },
   {
    "duration": 65,
    "start_time": "2024-05-30T11:02:21.317Z"
   },
   {
    "duration": 65,
    "start_time": "2024-05-30T11:02:37.279Z"
   },
   {
    "duration": 62,
    "start_time": "2024-05-30T11:03:40.680Z"
   },
   {
    "duration": 5,
    "start_time": "2024-05-30T11:03:49.956Z"
   },
   {
    "duration": 4,
    "start_time": "2024-05-30T11:04:05.786Z"
   },
   {
    "duration": 4,
    "start_time": "2024-05-30T11:04:18.251Z"
   },
   {
    "duration": 4,
    "start_time": "2024-05-30T11:04:32.218Z"
   },
   {
    "duration": 4,
    "start_time": "2024-05-30T11:04:40.056Z"
   },
   {
    "duration": 4,
    "start_time": "2024-05-30T11:04:52.732Z"
   },
   {
    "duration": 7,
    "start_time": "2024-05-30T11:05:08.757Z"
   },
   {
    "duration": 4,
    "start_time": "2024-05-30T11:05:14.679Z"
   },
   {
    "duration": 4,
    "start_time": "2024-05-30T11:05:34.630Z"
   },
   {
    "duration": 4,
    "start_time": "2024-05-30T11:05:50.297Z"
   },
   {
    "duration": 3,
    "start_time": "2024-05-30T11:06:09.246Z"
   },
   {
    "duration": 4,
    "start_time": "2024-05-30T11:06:21.946Z"
   },
   {
    "duration": 78,
    "start_time": "2024-05-30T11:06:37.227Z"
   },
   {
    "duration": 4,
    "start_time": "2024-05-30T11:06:41.033Z"
   },
   {
    "duration": 4,
    "start_time": "2024-05-30T11:06:56.575Z"
   },
   {
    "duration": 4,
    "start_time": "2024-05-30T11:07:23.473Z"
   },
   {
    "duration": 4,
    "start_time": "2024-05-30T11:07:33.854Z"
   },
   {
    "duration": 4,
    "start_time": "2024-05-30T11:08:40.918Z"
   },
   {
    "duration": 5,
    "start_time": "2024-05-30T11:08:53.554Z"
   },
   {
    "duration": 5,
    "start_time": "2024-05-30T11:09:09.088Z"
   },
   {
    "duration": 4,
    "start_time": "2024-05-30T11:09:20.027Z"
   },
   {
    "duration": 5,
    "start_time": "2024-05-30T11:09:44.112Z"
   },
   {
    "duration": 5,
    "start_time": "2024-05-30T11:10:04.823Z"
   },
   {
    "duration": 4,
    "start_time": "2024-05-30T11:11:07.613Z"
   },
   {
    "duration": 4,
    "start_time": "2024-05-30T11:11:22.505Z"
   },
   {
    "duration": 5,
    "start_time": "2024-05-30T11:11:34.840Z"
   },
   {
    "duration": 85,
    "start_time": "2024-05-30T11:13:09.826Z"
   },
   {
    "duration": 72,
    "start_time": "2024-05-30T11:14:39.943Z"
   },
   {
    "duration": 92,
    "start_time": "2024-05-30T11:15:04.377Z"
   },
   {
    "duration": 71,
    "start_time": "2024-05-30T11:15:28.032Z"
   },
   {
    "duration": 139,
    "start_time": "2024-05-30T11:15:33.458Z"
   },
   {
    "duration": 15,
    "start_time": "2024-05-30T11:15:59.724Z"
   },
   {
    "duration": 25,
    "start_time": "2024-05-30T11:17:27.770Z"
   },
   {
    "duration": 70,
    "start_time": "2024-05-30T11:18:36.687Z"
   },
   {
    "duration": 68,
    "start_time": "2024-05-30T11:18:56.023Z"
   },
   {
    "duration": 6,
    "start_time": "2024-05-30T11:19:21.855Z"
   },
   {
    "duration": 5,
    "start_time": "2024-05-30T11:19:43.650Z"
   },
   {
    "duration": 5,
    "start_time": "2024-05-30T11:19:58.765Z"
   },
   {
    "duration": 25,
    "start_time": "2024-05-30T11:20:47.398Z"
   },
   {
    "duration": 7,
    "start_time": "2024-05-30T11:26:51.198Z"
   },
   {
    "duration": 64,
    "start_time": "2024-05-30T11:31:29.230Z"
   },
   {
    "duration": 34,
    "start_time": "2024-05-30T11:37:50.780Z"
   },
   {
    "duration": 29,
    "start_time": "2024-05-30T11:38:13.331Z"
   },
   {
    "duration": 18,
    "start_time": "2024-05-30T11:38:36.130Z"
   },
   {
    "duration": 19,
    "start_time": "2024-05-30T11:38:49.595Z"
   },
   {
    "duration": 1184,
    "start_time": "2024-05-30T11:41:11.904Z"
   },
   {
    "duration": 187,
    "start_time": "2024-05-30T11:41:13.090Z"
   },
   {
    "duration": 22,
    "start_time": "2024-05-30T11:41:13.279Z"
   },
   {
    "duration": 21,
    "start_time": "2024-05-30T11:41:13.303Z"
   },
   {
    "duration": 106,
    "start_time": "2024-05-30T11:41:13.326Z"
   },
   {
    "duration": 68,
    "start_time": "2024-05-30T11:41:13.434Z"
   },
   {
    "duration": 91,
    "start_time": "2024-05-30T11:41:13.503Z"
   },
   {
    "duration": 74,
    "start_time": "2024-05-30T11:41:13.596Z"
   },
   {
    "duration": 17,
    "start_time": "2024-05-30T11:41:13.672Z"
   },
   {
    "duration": 26,
    "start_time": "2024-05-30T11:41:13.691Z"
   },
   {
    "duration": 75,
    "start_time": "2024-05-30T11:41:13.718Z"
   },
   {
    "duration": 35,
    "start_time": "2024-05-30T11:41:13.795Z"
   },
   {
    "duration": 157,
    "start_time": "2024-05-30T11:41:13.831Z"
   },
   {
    "duration": 22,
    "start_time": "2024-05-30T11:41:13.990Z"
   },
   {
    "duration": 28,
    "start_time": "2024-05-30T11:41:14.014Z"
   },
   {
    "duration": 98,
    "start_time": "2024-05-30T11:41:14.043Z"
   },
   {
    "duration": 9,
    "start_time": "2024-05-30T11:41:14.142Z"
   },
   {
    "duration": 41,
    "start_time": "2024-05-30T11:41:14.152Z"
   },
   {
    "duration": 24,
    "start_time": "2024-05-30T11:41:14.194Z"
   },
   {
    "duration": 366,
    "start_time": "2024-05-30T11:41:14.220Z"
   },
   {
    "duration": 18,
    "start_time": "2024-05-30T11:41:14.587Z"
   },
   {
    "duration": 16,
    "start_time": "2024-05-30T11:41:14.607Z"
   },
   {
    "duration": 35,
    "start_time": "2024-05-30T11:41:14.625Z"
   },
   {
    "duration": 57,
    "start_time": "2024-05-30T11:41:14.662Z"
   },
   {
    "duration": 75,
    "start_time": "2024-05-30T11:41:14.720Z"
   },
   {
    "duration": 57,
    "start_time": "2024-05-30T11:41:14.796Z"
   },
   {
    "duration": 25,
    "start_time": "2024-05-30T11:41:14.855Z"
   },
   {
    "duration": 51,
    "start_time": "2024-05-30T11:41:14.882Z"
   },
   {
    "duration": 67,
    "start_time": "2024-05-30T11:43:33.198Z"
   },
   {
    "duration": 166,
    "start_time": "2024-05-30T14:01:24.832Z"
   },
   {
    "duration": 117,
    "start_time": "2024-05-30T14:01:41.071Z"
   },
   {
    "duration": 79,
    "start_time": "2024-05-30T14:02:20.178Z"
   },
   {
    "duration": 71,
    "start_time": "2024-05-30T14:02:26.265Z"
   },
   {
    "duration": 103,
    "start_time": "2024-05-30T14:03:03.022Z"
   },
   {
    "duration": 68,
    "start_time": "2024-05-30T14:03:31.858Z"
   },
   {
    "duration": 7,
    "start_time": "2024-05-30T14:04:16.762Z"
   },
   {
    "duration": 1250,
    "start_time": "2024-05-30T14:05:01.346Z"
   },
   {
    "duration": 1187,
    "start_time": "2024-05-30T14:05:23.494Z"
   },
   {
    "duration": 6,
    "start_time": "2024-05-30T14:10:56.185Z"
   },
   {
    "duration": 70,
    "start_time": "2024-05-30T14:10:58.525Z"
   },
   {
    "duration": 4,
    "start_time": "2024-05-30T14:11:19.607Z"
   },
   {
    "duration": 72,
    "start_time": "2024-05-30T14:11:20.785Z"
   },
   {
    "duration": 4,
    "start_time": "2024-05-30T14:11:54.110Z"
   },
   {
    "duration": 67,
    "start_time": "2024-05-30T14:11:55.008Z"
   },
   {
    "duration": 72,
    "start_time": "2024-05-30T14:12:01.793Z"
   },
   {
    "duration": 5,
    "start_time": "2024-05-30T14:12:42.270Z"
   },
   {
    "duration": 73,
    "start_time": "2024-05-30T14:12:42.896Z"
   },
   {
    "duration": 1195,
    "start_time": "2024-05-30T14:16:59.144Z"
   },
   {
    "duration": 238,
    "start_time": "2024-05-30T14:17:00.341Z"
   },
   {
    "duration": 23,
    "start_time": "2024-05-30T14:17:00.581Z"
   },
   {
    "duration": 74,
    "start_time": "2024-05-30T14:17:00.606Z"
   },
   {
    "duration": 119,
    "start_time": "2024-05-30T14:17:00.683Z"
   },
   {
    "duration": 83,
    "start_time": "2024-05-30T14:17:00.804Z"
   },
   {
    "duration": 94,
    "start_time": "2024-05-30T14:17:00.889Z"
   },
   {
    "duration": 59,
    "start_time": "2024-05-30T14:17:00.985Z"
   },
   {
    "duration": 39,
    "start_time": "2024-05-30T14:17:01.046Z"
   },
   {
    "duration": 64,
    "start_time": "2024-05-30T14:17:01.086Z"
   },
   {
    "duration": 41,
    "start_time": "2024-05-30T14:17:01.151Z"
   },
   {
    "duration": 104,
    "start_time": "2024-05-30T14:17:01.193Z"
   },
   {
    "duration": 153,
    "start_time": "2024-05-30T14:17:01.298Z"
   },
   {
    "duration": 116,
    "start_time": "2024-05-30T14:17:01.454Z"
   },
   {
    "duration": 52,
    "start_time": "2024-05-30T14:17:01.572Z"
   },
   {
    "duration": 107,
    "start_time": "2024-05-30T14:17:01.626Z"
   },
   {
    "duration": 19,
    "start_time": "2024-05-30T14:17:01.734Z"
   },
   {
    "duration": 49,
    "start_time": "2024-05-30T14:17:01.755Z"
   },
   {
    "duration": 11,
    "start_time": "2024-05-30T14:17:01.806Z"
   },
   {
    "duration": 333,
    "start_time": "2024-05-30T14:17:01.819Z"
   },
   {
    "duration": 20,
    "start_time": "2024-05-30T14:17:02.160Z"
   },
   {
    "duration": 5,
    "start_time": "2024-05-30T14:17:02.182Z"
   },
   {
    "duration": 24,
    "start_time": "2024-05-30T14:17:02.188Z"
   },
   {
    "duration": 43,
    "start_time": "2024-05-30T14:17:02.213Z"
   },
   {
    "duration": 6,
    "start_time": "2024-05-30T14:17:02.258Z"
   },
   {
    "duration": 18,
    "start_time": "2024-05-30T14:17:02.265Z"
   },
   {
    "duration": 21,
    "start_time": "2024-05-30T14:17:02.285Z"
   },
   {
    "duration": 18,
    "start_time": "2024-05-30T14:17:02.307Z"
   },
   {
    "duration": 77,
    "start_time": "2024-05-30T14:17:02.326Z"
   },
   {
    "duration": 5,
    "start_time": "2024-05-30T14:17:02.404Z"
   },
   {
    "duration": 97,
    "start_time": "2024-05-30T14:17:02.411Z"
   },
   {
    "duration": 5,
    "start_time": "2024-05-30T14:18:05.107Z"
   },
   {
    "duration": 71,
    "start_time": "2024-05-30T14:18:05.583Z"
   },
   {
    "duration": 5,
    "start_time": "2024-05-30T14:21:02.645Z"
   },
   {
    "duration": 160,
    "start_time": "2024-05-30T14:21:03.382Z"
   },
   {
    "duration": 6,
    "start_time": "2024-05-30T14:21:19.547Z"
   },
   {
    "duration": 71,
    "start_time": "2024-05-30T14:21:20.529Z"
   },
   {
    "duration": 6,
    "start_time": "2024-05-30T14:42:31.773Z"
   },
   {
    "duration": 1234,
    "start_time": "2024-05-30T15:00:07.360Z"
   },
   {
    "duration": 191,
    "start_time": "2024-05-30T15:00:08.597Z"
   },
   {
    "duration": 24,
    "start_time": "2024-05-30T15:00:08.790Z"
   },
   {
    "duration": 46,
    "start_time": "2024-05-30T15:00:08.816Z"
   },
   {
    "duration": 100,
    "start_time": "2024-05-30T15:00:08.866Z"
   },
   {
    "duration": 74,
    "start_time": "2024-05-30T15:00:08.968Z"
   },
   {
    "duration": 91,
    "start_time": "2024-05-30T15:00:09.044Z"
   },
   {
    "duration": 74,
    "start_time": "2024-05-30T15:00:09.136Z"
   },
   {
    "duration": 17,
    "start_time": "2024-05-30T15:00:09.212Z"
   },
   {
    "duration": 42,
    "start_time": "2024-05-30T15:00:09.231Z"
   },
   {
    "duration": 4,
    "start_time": "2024-05-30T15:00:09.275Z"
   },
   {
    "duration": 15,
    "start_time": "2024-05-30T15:00:09.281Z"
   },
   {
    "duration": 133,
    "start_time": "2024-05-30T15:00:09.298Z"
   },
   {
    "duration": 30,
    "start_time": "2024-05-30T15:00:09.434Z"
   },
   {
    "duration": 9,
    "start_time": "2024-05-30T15:00:09.465Z"
   },
   {
    "duration": 78,
    "start_time": "2024-05-30T15:00:09.476Z"
   },
   {
    "duration": 66,
    "start_time": "2024-05-30T15:00:09.556Z"
   },
   {
    "duration": 20,
    "start_time": "2024-05-30T15:00:09.624Z"
   },
   {
    "duration": 16,
    "start_time": "2024-05-30T15:00:09.646Z"
   },
   {
    "duration": 355,
    "start_time": "2024-05-30T15:00:09.664Z"
   },
   {
    "duration": 19,
    "start_time": "2024-05-30T15:00:10.020Z"
   },
   {
    "duration": 32,
    "start_time": "2024-05-30T15:00:10.041Z"
   },
   {
    "duration": 29,
    "start_time": "2024-05-30T15:00:10.075Z"
   },
   {
    "duration": 63,
    "start_time": "2024-05-30T15:00:10.105Z"
   },
   {
    "duration": 10,
    "start_time": "2024-05-30T15:00:10.169Z"
   },
   {
    "duration": 45,
    "start_time": "2024-05-30T15:00:10.181Z"
   },
   {
    "duration": 21,
    "start_time": "2024-05-30T15:00:10.228Z"
   },
   {
    "duration": 94,
    "start_time": "2024-05-30T15:00:10.252Z"
   },
   {
    "duration": 63,
    "start_time": "2024-05-30T15:00:10.348Z"
   },
   {
    "duration": 5,
    "start_time": "2024-05-30T15:00:10.412Z"
   },
   {
    "duration": 136,
    "start_time": "2024-05-30T15:00:10.419Z"
   },
   {
    "duration": 7,
    "start_time": "2024-05-30T15:18:23.718Z"
   },
   {
    "duration": 9,
    "start_time": "2024-05-30T15:18:58.876Z"
   },
   {
    "duration": 7,
    "start_time": "2024-05-30T15:19:10.383Z"
   },
   {
    "duration": 64,
    "start_time": "2024-05-30T15:20:28.076Z"
   },
   {
    "duration": 815,
    "start_time": "2024-05-30T15:20:33.114Z"
   },
   {
    "duration": 35,
    "start_time": "2024-05-30T15:21:22.085Z"
   },
   {
    "duration": 39,
    "start_time": "2024-05-30T15:24:14.174Z"
   },
   {
    "duration": 33,
    "start_time": "2024-05-30T15:24:27.235Z"
   },
   {
    "duration": 37,
    "start_time": "2024-05-30T15:24:37.080Z"
   },
   {
    "duration": 84,
    "start_time": "2024-05-30T16:19:13.468Z"
   },
   {
    "duration": 6,
    "start_time": "2024-05-30T16:20:00.218Z"
   },
   {
    "duration": 6,
    "start_time": "2024-05-30T16:31:13.839Z"
   },
   {
    "duration": 14,
    "start_time": "2024-05-30T16:32:09.575Z"
   },
   {
    "duration": 6,
    "start_time": "2024-05-30T16:32:34.014Z"
   },
   {
    "duration": 28,
    "start_time": "2024-05-30T16:32:34.761Z"
   },
   {
    "duration": 6,
    "start_time": "2024-05-30T16:35:33.836Z"
   },
   {
    "duration": 1134,
    "start_time": "2024-05-30T16:35:34.710Z"
   },
   {
    "duration": 74,
    "start_time": "2024-05-30T16:54:14.739Z"
   },
   {
    "duration": 120,
    "start_time": "2024-05-30T16:54:24.350Z"
   },
   {
    "duration": 98,
    "start_time": "2024-05-30T16:54:32.452Z"
   },
   {
    "duration": 123,
    "start_time": "2024-05-30T16:54:44.045Z"
   },
   {
    "duration": 7,
    "start_time": "2024-05-30T16:55:24.048Z"
   },
   {
    "duration": 731,
    "start_time": "2024-05-30T16:55:24.778Z"
   },
   {
    "duration": 7,
    "start_time": "2024-05-30T16:55:52.611Z"
   },
   {
    "duration": 28,
    "start_time": "2024-05-30T16:55:53.299Z"
   },
   {
    "duration": 27,
    "start_time": "2024-05-30T16:57:03.987Z"
   },
   {
    "duration": 17,
    "start_time": "2024-05-30T16:57:21.580Z"
   },
   {
    "duration": 113,
    "start_time": "2024-05-30T16:59:38.211Z"
   },
   {
    "duration": 6,
    "start_time": "2024-05-30T16:59:43.887Z"
   },
   {
    "duration": 953,
    "start_time": "2024-05-30T16:59:44.728Z"
   },
   {
    "duration": 5,
    "start_time": "2024-05-30T17:01:38.621Z"
   },
   {
    "duration": 1032,
    "start_time": "2024-05-30T17:01:40.177Z"
   },
   {
    "duration": 7,
    "start_time": "2024-05-30T17:02:37.193Z"
   },
   {
    "duration": 1008,
    "start_time": "2024-05-30T17:02:37.201Z"
   },
   {
    "duration": 7,
    "start_time": "2024-05-30T17:05:02.459Z"
   },
   {
    "duration": 33,
    "start_time": "2024-05-30T17:05:03.117Z"
   },
   {
    "duration": 6,
    "start_time": "2024-05-30T17:05:23.081Z"
   },
   {
    "duration": 33,
    "start_time": "2024-05-30T17:05:23.184Z"
   },
   {
    "duration": 1170,
    "start_time": "2024-05-30T17:07:38.693Z"
   },
   {
    "duration": 233,
    "start_time": "2024-05-30T17:07:39.866Z"
   },
   {
    "duration": 23,
    "start_time": "2024-05-30T17:07:40.101Z"
   },
   {
    "duration": 39,
    "start_time": "2024-05-30T17:07:40.126Z"
   },
   {
    "duration": 92,
    "start_time": "2024-05-30T17:07:40.167Z"
   },
   {
    "duration": 74,
    "start_time": "2024-05-30T17:07:40.261Z"
   },
   {
    "duration": 124,
    "start_time": "2024-05-30T17:07:40.337Z"
   },
   {
    "duration": 82,
    "start_time": "2024-05-30T17:07:40.463Z"
   },
   {
    "duration": 25,
    "start_time": "2024-05-30T17:07:40.547Z"
   },
   {
    "duration": 12,
    "start_time": "2024-05-30T17:07:40.574Z"
   },
   {
    "duration": 4,
    "start_time": "2024-05-30T17:07:40.588Z"
   },
   {
    "duration": 15,
    "start_time": "2024-05-30T17:07:40.594Z"
   },
   {
    "duration": 125,
    "start_time": "2024-05-30T17:07:40.611Z"
   },
   {
    "duration": 31,
    "start_time": "2024-05-30T17:07:40.739Z"
   },
   {
    "duration": 9,
    "start_time": "2024-05-30T17:07:40.771Z"
   },
   {
    "duration": 55,
    "start_time": "2024-05-30T17:07:40.782Z"
   },
   {
    "duration": 24,
    "start_time": "2024-05-30T17:07:40.838Z"
   },
   {
    "duration": 26,
    "start_time": "2024-05-30T17:07:40.864Z"
   },
   {
    "duration": 29,
    "start_time": "2024-05-30T17:07:40.892Z"
   },
   {
    "duration": 339,
    "start_time": "2024-05-30T17:07:40.923Z"
   },
   {
    "duration": 19,
    "start_time": "2024-05-30T17:07:41.264Z"
   },
   {
    "duration": 7,
    "start_time": "2024-05-30T17:07:41.284Z"
   },
   {
    "duration": 5,
    "start_time": "2024-05-30T17:07:41.293Z"
   },
   {
    "duration": 38,
    "start_time": "2024-05-30T17:07:41.299Z"
   },
   {
    "duration": 7,
    "start_time": "2024-05-30T17:07:41.361Z"
   },
   {
    "duration": 24,
    "start_time": "2024-05-30T17:07:41.369Z"
   },
   {
    "duration": 19,
    "start_time": "2024-05-30T17:07:41.394Z"
   },
   {
    "duration": 19,
    "start_time": "2024-05-30T17:07:41.415Z"
   },
   {
    "duration": 54,
    "start_time": "2024-05-30T17:07:41.461Z"
   },
   {
    "duration": 5,
    "start_time": "2024-05-30T17:07:41.516Z"
   },
   {
    "duration": 103,
    "start_time": "2024-05-30T17:07:41.523Z"
   },
   {
    "duration": 41,
    "start_time": "2024-05-30T17:07:41.628Z"
   },
   {
    "duration": 110,
    "start_time": "2024-05-30T17:07:41.671Z"
   },
   {
    "duration": 7,
    "start_time": "2024-05-30T17:07:41.782Z"
   },
   {
    "duration": 46,
    "start_time": "2024-05-30T17:07:41.790Z"
   },
   {
    "duration": 1214,
    "start_time": "2024-05-30T17:12:37.270Z"
   },
   {
    "duration": 196,
    "start_time": "2024-05-30T17:12:38.486Z"
   },
   {
    "duration": 25,
    "start_time": "2024-05-30T17:12:38.684Z"
   },
   {
    "duration": 12,
    "start_time": "2024-05-30T17:12:38.711Z"
   },
   {
    "duration": 91,
    "start_time": "2024-05-30T17:12:38.726Z"
   },
   {
    "duration": 78,
    "start_time": "2024-05-30T17:12:38.819Z"
   },
   {
    "duration": 93,
    "start_time": "2024-05-30T17:12:38.898Z"
   },
   {
    "duration": 72,
    "start_time": "2024-05-30T17:12:38.995Z"
   },
   {
    "duration": 18,
    "start_time": "2024-05-30T17:12:39.068Z"
   },
   {
    "duration": 10,
    "start_time": "2024-05-30T17:12:39.088Z"
   },
   {
    "duration": 4,
    "start_time": "2024-05-30T17:12:39.100Z"
   },
   {
    "duration": 16,
    "start_time": "2024-05-30T17:12:39.106Z"
   },
   {
    "duration": 188,
    "start_time": "2024-05-30T17:12:39.124Z"
   },
   {
    "duration": 25,
    "start_time": "2024-05-30T17:12:39.316Z"
   },
   {
    "duration": 25,
    "start_time": "2024-05-30T17:12:39.342Z"
   },
   {
    "duration": 67,
    "start_time": "2024-05-30T17:12:39.368Z"
   },
   {
    "duration": 28,
    "start_time": "2024-05-30T17:12:39.436Z"
   },
   {
    "duration": 17,
    "start_time": "2024-05-30T17:12:39.466Z"
   },
   {
    "duration": 6,
    "start_time": "2024-05-30T17:12:39.485Z"
   },
   {
    "duration": 337,
    "start_time": "2024-05-30T17:12:39.492Z"
   },
   {
    "duration": 18,
    "start_time": "2024-05-30T17:12:39.831Z"
   },
   {
    "duration": 14,
    "start_time": "2024-05-30T17:12:39.851Z"
   },
   {
    "duration": 5,
    "start_time": "2024-05-30T17:12:39.867Z"
   },
   {
    "duration": 29,
    "start_time": "2024-05-30T17:12:39.873Z"
   },
   {
    "duration": 7,
    "start_time": "2024-05-30T17:12:39.903Z"
   },
   {
    "duration": 53,
    "start_time": "2024-05-30T17:12:39.911Z"
   },
   {
    "duration": 20,
    "start_time": "2024-05-30T17:12:39.966Z"
   },
   {
    "duration": 86,
    "start_time": "2024-05-30T17:12:39.987Z"
   },
   {
    "duration": 53,
    "start_time": "2024-05-30T17:12:40.074Z"
   },
   {
    "duration": 4,
    "start_time": "2024-05-30T17:12:40.129Z"
   },
   {
    "duration": 96,
    "start_time": "2024-05-30T17:12:40.135Z"
   },
   {
    "duration": 38,
    "start_time": "2024-05-30T17:12:40.233Z"
   },
   {
    "duration": 107,
    "start_time": "2024-05-30T17:12:40.272Z"
   },
   {
    "duration": 9,
    "start_time": "2024-05-30T17:12:40.380Z"
   },
   {
    "duration": 40,
    "start_time": "2024-05-30T17:12:40.391Z"
   },
   {
    "duration": 114,
    "start_time": "2024-05-30T17:15:05.060Z"
   },
   {
    "duration": 123,
    "start_time": "2024-05-30T17:18:09.843Z"
   },
   {
    "duration": 9,
    "start_time": "2024-05-30T17:18:16.166Z"
   },
   {
    "duration": 8,
    "start_time": "2024-05-30T17:18:23.554Z"
   },
   {
    "duration": 61,
    "start_time": "2024-05-30T17:18:31.391Z"
   },
   {
    "duration": 81,
    "start_time": "2024-05-30T17:18:36.964Z"
   },
   {
    "duration": 114,
    "start_time": "2024-05-30T17:19:33.967Z"
   },
   {
    "duration": 7,
    "start_time": "2024-05-30T17:19:37.310Z"
   },
   {
    "duration": 78,
    "start_time": "2024-05-30T17:19:38.532Z"
   },
   {
    "duration": 155,
    "start_time": "2024-05-30T17:20:31.232Z"
   },
   {
    "duration": 120,
    "start_time": "2024-05-30T17:20:50.475Z"
   },
   {
    "duration": 6,
    "start_time": "2024-05-30T17:20:51.065Z"
   },
   {
    "duration": 78,
    "start_time": "2024-05-30T17:20:51.532Z"
   },
   {
    "duration": 480,
    "start_time": "2024-05-30T18:17:01.352Z"
   },
   {
    "duration": 499,
    "start_time": "2024-05-30T18:17:16.003Z"
   },
   {
    "duration": 191,
    "start_time": "2024-05-30T18:17:25.733Z"
   },
   {
    "duration": 24,
    "start_time": "2024-05-30T18:23:04.945Z"
   },
   {
    "duration": 1263,
    "start_time": "2024-05-30T18:24:04.253Z"
   },
   {
    "duration": 192,
    "start_time": "2024-05-30T18:24:05.518Z"
   },
   {
    "duration": 22,
    "start_time": "2024-05-30T18:24:05.712Z"
   },
   {
    "duration": 26,
    "start_time": "2024-05-30T18:24:05.736Z"
   },
   {
    "duration": 64,
    "start_time": "2024-05-30T18:24:05.764Z"
   },
   {
    "duration": 91,
    "start_time": "2024-05-30T18:24:05.830Z"
   },
   {
    "duration": 84,
    "start_time": "2024-05-30T18:24:05.922Z"
   },
   {
    "duration": 78,
    "start_time": "2024-05-30T18:24:06.008Z"
   },
   {
    "duration": 21,
    "start_time": "2024-05-30T18:24:06.089Z"
   },
   {
    "duration": 10,
    "start_time": "2024-05-30T18:24:06.114Z"
   },
   {
    "duration": 5,
    "start_time": "2024-05-30T18:24:06.126Z"
   },
   {
    "duration": 33,
    "start_time": "2024-05-30T18:24:06.137Z"
   },
   {
    "duration": 115,
    "start_time": "2024-05-30T18:24:06.172Z"
   },
   {
    "duration": 21,
    "start_time": "2024-05-30T18:24:06.289Z"
   },
   {
    "duration": 29,
    "start_time": "2024-05-30T18:24:06.312Z"
   },
   {
    "duration": 66,
    "start_time": "2024-05-30T18:24:06.342Z"
   },
   {
    "duration": 8,
    "start_time": "2024-05-30T18:24:06.409Z"
   },
   {
    "duration": 16,
    "start_time": "2024-05-30T18:24:06.418Z"
   },
   {
    "duration": 25,
    "start_time": "2024-05-30T18:24:06.436Z"
   },
   {
    "duration": 331,
    "start_time": "2024-05-30T18:24:06.463Z"
   },
   {
    "duration": 17,
    "start_time": "2024-05-30T18:24:06.796Z"
   },
   {
    "duration": 6,
    "start_time": "2024-05-30T18:24:06.814Z"
   },
   {
    "duration": 58,
    "start_time": "2024-05-30T18:24:06.821Z"
   },
   {
    "duration": 30,
    "start_time": "2024-05-30T18:24:06.881Z"
   },
   {
    "duration": 6,
    "start_time": "2024-05-30T18:24:06.913Z"
   },
   {
    "duration": 19,
    "start_time": "2024-05-30T18:24:06.920Z"
   },
   {
    "duration": 21,
    "start_time": "2024-05-30T18:24:06.941Z"
   },
   {
    "duration": 19,
    "start_time": "2024-05-30T18:24:06.965Z"
   },
   {
    "duration": 56,
    "start_time": "2024-05-30T18:24:06.986Z"
   },
   {
    "duration": 7,
    "start_time": "2024-05-30T18:24:07.060Z"
   },
   {
    "duration": 113,
    "start_time": "2024-05-30T18:24:07.069Z"
   },
   {
    "duration": 30,
    "start_time": "2024-05-30T18:24:07.184Z"
   },
   {
    "duration": 119,
    "start_time": "2024-05-30T18:24:07.215Z"
   },
   {
    "duration": 114,
    "start_time": "2024-05-30T18:24:07.336Z"
   },
   {
    "duration": 0,
    "start_time": "2024-05-30T18:24:07.452Z"
   },
   {
    "duration": 0,
    "start_time": "2024-05-30T18:24:07.461Z"
   },
   {
    "duration": 102,
    "start_time": "2024-05-30T18:25:28.224Z"
   },
   {
    "duration": 1181,
    "start_time": "2024-05-30T18:27:30.211Z"
   },
   {
    "duration": 185,
    "start_time": "2024-05-30T18:27:31.395Z"
   },
   {
    "duration": 26,
    "start_time": "2024-05-30T18:27:31.582Z"
   },
   {
    "duration": 11,
    "start_time": "2024-05-30T18:27:31.611Z"
   },
   {
    "duration": 93,
    "start_time": "2024-05-30T18:27:31.624Z"
   },
   {
    "duration": 81,
    "start_time": "2024-05-30T18:27:31.719Z"
   },
   {
    "duration": 89,
    "start_time": "2024-05-30T18:27:31.802Z"
   },
   {
    "duration": 72,
    "start_time": "2024-05-30T18:27:31.893Z"
   },
   {
    "duration": 19,
    "start_time": "2024-05-30T18:27:31.967Z"
   },
   {
    "duration": 11,
    "start_time": "2024-05-30T18:27:31.990Z"
   },
   {
    "duration": 4,
    "start_time": "2024-05-30T18:27:32.003Z"
   },
   {
    "duration": 32,
    "start_time": "2024-05-30T18:27:32.009Z"
   },
   {
    "duration": 127,
    "start_time": "2024-05-30T18:27:32.042Z"
   },
   {
    "duration": 23,
    "start_time": "2024-05-30T18:27:32.170Z"
   },
   {
    "duration": 9,
    "start_time": "2024-05-30T18:27:32.195Z"
   },
   {
    "duration": 76,
    "start_time": "2024-05-30T18:27:32.206Z"
   },
   {
    "duration": 8,
    "start_time": "2024-05-30T18:27:32.284Z"
   },
   {
    "duration": 17,
    "start_time": "2024-05-30T18:27:32.294Z"
   },
   {
    "duration": 5,
    "start_time": "2024-05-30T18:27:32.313Z"
   },
   {
    "duration": 387,
    "start_time": "2024-05-30T18:27:32.320Z"
   },
   {
    "duration": 19,
    "start_time": "2024-05-30T18:27:32.708Z"
   },
   {
    "duration": 6,
    "start_time": "2024-05-30T18:27:32.728Z"
   },
   {
    "duration": 5,
    "start_time": "2024-05-30T18:27:32.736Z"
   },
   {
    "duration": 28,
    "start_time": "2024-05-30T18:27:32.761Z"
   },
   {
    "duration": 6,
    "start_time": "2024-05-30T18:27:32.791Z"
   },
   {
    "duration": 20,
    "start_time": "2024-05-30T18:27:32.798Z"
   },
   {
    "duration": 46,
    "start_time": "2024-05-30T18:27:32.820Z"
   },
   {
    "duration": 24,
    "start_time": "2024-05-30T18:27:32.869Z"
   },
   {
    "duration": 68,
    "start_time": "2024-05-30T18:27:32.894Z"
   },
   {
    "duration": 5,
    "start_time": "2024-05-30T18:27:32.963Z"
   },
   {
    "duration": 91,
    "start_time": "2024-05-30T18:27:32.970Z"
   },
   {
    "duration": 32,
    "start_time": "2024-05-30T18:27:33.063Z"
   },
   {
    "duration": 116,
    "start_time": "2024-05-30T18:27:33.096Z"
   },
   {
    "duration": 101,
    "start_time": "2024-05-30T18:27:33.213Z"
   },
   {
    "duration": 6,
    "start_time": "2024-05-30T18:27:33.316Z"
   },
   {
    "duration": 93,
    "start_time": "2024-05-30T18:27:33.324Z"
   },
   {
    "duration": 110,
    "start_time": "2024-05-30T18:28:28.203Z"
   },
   {
    "duration": 97,
    "start_time": "2024-05-30T18:28:33.965Z"
   },
   {
    "duration": 88,
    "start_time": "2024-05-30T18:28:50.174Z"
   },
   {
    "duration": 83,
    "start_time": "2024-05-30T18:28:57.299Z"
   },
   {
    "duration": 87,
    "start_time": "2024-05-30T18:29:24.991Z"
   },
   {
    "duration": 88,
    "start_time": "2024-05-30T18:31:57.579Z"
   },
   {
    "duration": 1164,
    "start_time": "2024-05-30T18:32:52.109Z"
   },
   {
    "duration": 186,
    "start_time": "2024-05-30T18:32:53.274Z"
   },
   {
    "duration": 22,
    "start_time": "2024-05-30T18:32:53.461Z"
   },
   {
    "duration": 11,
    "start_time": "2024-05-30T18:32:53.485Z"
   },
   {
    "duration": 85,
    "start_time": "2024-05-30T18:32:53.498Z"
   },
   {
    "duration": 87,
    "start_time": "2024-05-30T18:32:53.585Z"
   },
   {
    "duration": 86,
    "start_time": "2024-05-30T18:32:53.674Z"
   },
   {
    "duration": 61,
    "start_time": "2024-05-30T18:32:53.763Z"
   },
   {
    "duration": 17,
    "start_time": "2024-05-30T18:32:53.825Z"
   },
   {
    "duration": 10,
    "start_time": "2024-05-30T18:32:53.862Z"
   },
   {
    "duration": 5,
    "start_time": "2024-05-30T18:32:53.873Z"
   },
   {
    "duration": 12,
    "start_time": "2024-05-30T18:32:53.880Z"
   },
   {
    "duration": 153,
    "start_time": "2024-05-30T18:32:53.893Z"
   },
   {
    "duration": 30,
    "start_time": "2024-05-30T18:32:54.048Z"
   },
   {
    "duration": 9,
    "start_time": "2024-05-30T18:32:54.079Z"
   },
   {
    "duration": 74,
    "start_time": "2024-05-30T18:32:54.089Z"
   },
   {
    "duration": 8,
    "start_time": "2024-05-30T18:32:54.164Z"
   },
   {
    "duration": 21,
    "start_time": "2024-05-30T18:32:54.173Z"
   },
   {
    "duration": 5,
    "start_time": "2024-05-30T18:32:54.196Z"
   },
   {
    "duration": 334,
    "start_time": "2024-05-30T18:32:54.202Z"
   },
   {
    "duration": 24,
    "start_time": "2024-05-30T18:32:54.537Z"
   },
   {
    "duration": 5,
    "start_time": "2024-05-30T18:32:54.562Z"
   },
   {
    "duration": 4,
    "start_time": "2024-05-30T18:32:54.569Z"
   },
   {
    "duration": 26,
    "start_time": "2024-05-30T18:32:54.574Z"
   },
   {
    "duration": 6,
    "start_time": "2024-05-30T18:32:54.602Z"
   },
   {
    "duration": 17,
    "start_time": "2024-05-30T18:32:54.609Z"
   },
   {
    "duration": 56,
    "start_time": "2024-05-30T18:32:54.627Z"
   },
   {
    "duration": 21,
    "start_time": "2024-05-30T18:32:54.687Z"
   },
   {
    "duration": 73,
    "start_time": "2024-05-30T18:32:54.709Z"
   },
   {
    "duration": 4,
    "start_time": "2024-05-30T18:32:54.784Z"
   },
   {
    "duration": 97,
    "start_time": "2024-05-30T18:32:54.789Z"
   },
   {
    "duration": 30,
    "start_time": "2024-05-30T18:32:54.888Z"
   },
   {
    "duration": 109,
    "start_time": "2024-05-30T18:32:54.920Z"
   },
   {
    "duration": 97,
    "start_time": "2024-05-30T18:32:55.030Z"
   },
   {
    "duration": 5,
    "start_time": "2024-05-30T18:32:55.129Z"
   },
   {
    "duration": 90,
    "start_time": "2024-05-30T18:32:55.135Z"
   },
   {
    "duration": 4,
    "start_time": "2024-05-30T18:34:17.168Z"
   },
   {
    "duration": 24,
    "start_time": "2024-05-30T18:34:21.347Z"
   },
   {
    "duration": 124,
    "start_time": "2024-05-30T18:36:15.313Z"
   },
   {
    "duration": 10,
    "start_time": "2024-05-30T18:36:21.326Z"
   },
   {
    "duration": 86,
    "start_time": "2024-05-30T18:36:24.415Z"
   },
   {
    "duration": 96,
    "start_time": "2024-05-30T18:36:34.665Z"
   },
   {
    "duration": 5,
    "start_time": "2024-05-30T18:39:33.021Z"
   },
   {
    "duration": 81,
    "start_time": "2024-05-30T18:39:34.258Z"
   },
   {
    "duration": 45,
    "start_time": "2024-05-30T18:39:50.818Z"
   },
   {
    "duration": 46,
    "start_time": "2024-05-30T18:40:01.907Z"
   },
   {
    "duration": 58,
    "start_time": "2024-05-30T18:40:13.838Z"
   },
   {
    "duration": 54,
    "start_time": "2024-05-30T18:40:19.793Z"
   },
   {
    "duration": 1278,
    "start_time": "2024-05-30T18:40:31.826Z"
   },
   {
    "duration": 186,
    "start_time": "2024-05-30T18:40:33.106Z"
   },
   {
    "duration": 27,
    "start_time": "2024-05-30T18:40:33.294Z"
   },
   {
    "duration": 10,
    "start_time": "2024-05-30T18:40:33.323Z"
   },
   {
    "duration": 88,
    "start_time": "2024-05-30T18:40:33.335Z"
   },
   {
    "duration": 90,
    "start_time": "2024-05-30T18:40:33.424Z"
   },
   {
    "duration": 103,
    "start_time": "2024-05-30T18:40:33.516Z"
   },
   {
    "duration": 78,
    "start_time": "2024-05-30T18:40:33.621Z"
   },
   {
    "duration": 18,
    "start_time": "2024-05-30T18:40:33.701Z"
   },
   {
    "duration": 17,
    "start_time": "2024-05-30T18:40:33.722Z"
   },
   {
    "duration": 4,
    "start_time": "2024-05-30T18:40:33.741Z"
   },
   {
    "duration": 15,
    "start_time": "2024-05-30T18:40:33.761Z"
   },
   {
    "duration": 120,
    "start_time": "2024-05-30T18:40:33.778Z"
   },
   {
    "duration": 24,
    "start_time": "2024-05-30T18:40:33.900Z"
   },
   {
    "duration": 36,
    "start_time": "2024-05-30T18:40:33.927Z"
   },
   {
    "duration": 82,
    "start_time": "2024-05-30T18:40:33.965Z"
   },
   {
    "duration": 9,
    "start_time": "2024-05-30T18:40:34.062Z"
   },
   {
    "duration": 31,
    "start_time": "2024-05-30T18:40:34.073Z"
   },
   {
    "duration": 29,
    "start_time": "2024-05-30T18:40:34.106Z"
   },
   {
    "duration": 344,
    "start_time": "2024-05-30T18:40:34.137Z"
   },
   {
    "duration": 18,
    "start_time": "2024-05-30T18:40:34.482Z"
   },
   {
    "duration": 19,
    "start_time": "2024-05-30T18:40:34.502Z"
   },
   {
    "duration": 5,
    "start_time": "2024-05-30T18:40:34.523Z"
   },
   {
    "duration": 44,
    "start_time": "2024-05-30T18:40:34.529Z"
   },
   {
    "duration": 7,
    "start_time": "2024-05-30T18:40:34.575Z"
   },
   {
    "duration": 25,
    "start_time": "2024-05-30T18:40:34.583Z"
   },
   {
    "duration": 19,
    "start_time": "2024-05-30T18:40:34.610Z"
   },
   {
    "duration": 43,
    "start_time": "2024-05-30T18:40:34.633Z"
   },
   {
    "duration": 56,
    "start_time": "2024-05-30T18:40:34.679Z"
   },
   {
    "duration": 5,
    "start_time": "2024-05-30T18:40:34.736Z"
   },
   {
    "duration": 96,
    "start_time": "2024-05-30T18:40:34.742Z"
   },
   {
    "duration": 43,
    "start_time": "2024-05-30T18:40:34.840Z"
   },
   {
    "duration": 141,
    "start_time": "2024-05-30T18:40:34.885Z"
   },
   {
    "duration": 64,
    "start_time": "2024-05-30T18:40:35.028Z"
   },
   {
    "duration": 45,
    "start_time": "2024-05-30T18:40:35.094Z"
   },
   {
    "duration": 6,
    "start_time": "2024-05-30T18:40:35.141Z"
   },
   {
    "duration": 79,
    "start_time": "2024-05-30T18:40:35.162Z"
   },
   {
    "duration": 33,
    "start_time": "2024-05-30T19:02:57.841Z"
   },
   {
    "duration": 6,
    "start_time": "2024-05-30T19:04:30.562Z"
   },
   {
    "duration": 4,
    "start_time": "2024-05-30T19:05:21.522Z"
   },
   {
    "duration": 6,
    "start_time": "2024-05-30T19:05:54.042Z"
   },
   {
    "duration": 4,
    "start_time": "2024-05-30T19:07:22.615Z"
   },
   {
    "duration": 6,
    "start_time": "2024-05-30T19:07:47.528Z"
   },
   {
    "duration": 5,
    "start_time": "2024-05-30T19:08:30.806Z"
   },
   {
    "duration": 6,
    "start_time": "2024-05-30T19:08:48.626Z"
   },
   {
    "duration": 5,
    "start_time": "2024-05-30T19:09:07.830Z"
   },
   {
    "duration": 6,
    "start_time": "2024-05-30T19:09:35.291Z"
   },
   {
    "duration": 6,
    "start_time": "2024-05-30T19:09:51.533Z"
   },
   {
    "duration": 1224,
    "start_time": "2024-05-30T19:12:24.781Z"
   },
   {
    "duration": 198,
    "start_time": "2024-05-30T19:12:26.007Z"
   },
   {
    "duration": 24,
    "start_time": "2024-05-30T19:12:26.207Z"
   },
   {
    "duration": 11,
    "start_time": "2024-05-30T19:12:26.233Z"
   },
   {
    "duration": 81,
    "start_time": "2024-05-30T19:12:26.262Z"
   },
   {
    "duration": 90,
    "start_time": "2024-05-30T19:12:26.345Z"
   },
   {
    "duration": 92,
    "start_time": "2024-05-30T19:12:26.437Z"
   },
   {
    "duration": 65,
    "start_time": "2024-05-30T19:12:26.531Z"
   },
   {
    "duration": 16,
    "start_time": "2024-05-30T19:12:26.598Z"
   },
   {
    "duration": 16,
    "start_time": "2024-05-30T19:12:26.616Z"
   },
   {
    "duration": 10,
    "start_time": "2024-05-30T19:12:26.633Z"
   },
   {
    "duration": 26,
    "start_time": "2024-05-30T19:12:26.644Z"
   },
   {
    "duration": 111,
    "start_time": "2024-05-30T19:12:26.672Z"
   },
   {
    "duration": 22,
    "start_time": "2024-05-30T19:12:26.786Z"
   },
   {
    "duration": 9,
    "start_time": "2024-05-30T19:12:26.809Z"
   },
   {
    "duration": 74,
    "start_time": "2024-05-30T19:12:26.820Z"
   },
   {
    "duration": 8,
    "start_time": "2024-05-30T19:12:26.895Z"
   },
   {
    "duration": 16,
    "start_time": "2024-05-30T19:12:26.905Z"
   },
   {
    "duration": 5,
    "start_time": "2024-05-30T19:12:26.923Z"
   },
   {
    "duration": 397,
    "start_time": "2024-05-30T19:12:26.929Z"
   },
   {
    "duration": 19,
    "start_time": "2024-05-30T19:12:27.327Z"
   },
   {
    "duration": 16,
    "start_time": "2024-05-30T19:12:27.348Z"
   },
   {
    "duration": 7,
    "start_time": "2024-05-30T19:12:27.365Z"
   },
   {
    "duration": 33,
    "start_time": "2024-05-30T19:12:27.373Z"
   },
   {
    "duration": 7,
    "start_time": "2024-05-30T19:12:27.408Z"
   },
   {
    "duration": 49,
    "start_time": "2024-05-30T19:12:27.416Z"
   },
   {
    "duration": 18,
    "start_time": "2024-05-30T19:12:27.467Z"
   },
   {
    "duration": 18,
    "start_time": "2024-05-30T19:12:27.486Z"
   },
   {
    "duration": 75,
    "start_time": "2024-05-30T19:12:27.506Z"
   },
   {
    "duration": 5,
    "start_time": "2024-05-30T19:12:27.583Z"
   },
   {
    "duration": 98,
    "start_time": "2024-05-30T19:12:27.590Z"
   },
   {
    "duration": 34,
    "start_time": "2024-05-30T19:12:27.690Z"
   },
   {
    "duration": 6,
    "start_time": "2024-05-30T19:12:27.726Z"
   },
   {
    "duration": 139,
    "start_time": "2024-05-30T19:12:27.734Z"
   },
   {
    "duration": 56,
    "start_time": "2024-05-30T19:12:27.875Z"
   },
   {
    "duration": 54,
    "start_time": "2024-05-30T19:12:27.933Z"
   },
   {
    "duration": 6,
    "start_time": "2024-05-30T19:12:27.989Z"
   },
   {
    "duration": 87,
    "start_time": "2024-05-30T19:12:27.997Z"
   },
   {
    "duration": 47,
    "start_time": "2024-05-30T19:26:03.454Z"
   },
   {
    "duration": 74,
    "start_time": "2024-05-30T19:31:22.449Z"
   },
   {
    "duration": 79,
    "start_time": "2024-05-30T19:31:47.049Z"
   },
   {
    "duration": 114,
    "start_time": "2024-05-30T19:40:07.870Z"
   },
   {
    "duration": 118,
    "start_time": "2024-05-30T19:40:39.667Z"
   },
   {
    "duration": 1147,
    "start_time": "2024-05-30T19:40:46.926Z"
   },
   {
    "duration": 180,
    "start_time": "2024-05-30T19:40:48.075Z"
   },
   {
    "duration": 22,
    "start_time": "2024-05-30T19:40:48.257Z"
   },
   {
    "duration": 9,
    "start_time": "2024-05-30T19:40:48.280Z"
   },
   {
    "duration": 78,
    "start_time": "2024-05-30T19:40:48.292Z"
   },
   {
    "duration": 64,
    "start_time": "2024-05-30T19:40:48.372Z"
   },
   {
    "duration": 90,
    "start_time": "2024-05-30T19:40:48.438Z"
   },
   {
    "duration": 68,
    "start_time": "2024-05-30T19:40:48.530Z"
   },
   {
    "duration": 19,
    "start_time": "2024-05-30T19:40:48.601Z"
   },
   {
    "duration": 11,
    "start_time": "2024-05-30T19:40:48.622Z"
   },
   {
    "duration": 27,
    "start_time": "2024-05-30T19:40:48.634Z"
   },
   {
    "duration": 12,
    "start_time": "2024-05-30T19:40:48.662Z"
   },
   {
    "duration": 124,
    "start_time": "2024-05-30T19:40:48.675Z"
   },
   {
    "duration": 21,
    "start_time": "2024-05-30T19:40:48.802Z"
   },
   {
    "duration": 8,
    "start_time": "2024-05-30T19:40:48.825Z"
   },
   {
    "duration": 73,
    "start_time": "2024-05-30T19:40:48.835Z"
   },
   {
    "duration": 8,
    "start_time": "2024-05-30T19:40:48.910Z"
   },
   {
    "duration": 17,
    "start_time": "2024-05-30T19:40:48.919Z"
   },
   {
    "duration": 27,
    "start_time": "2024-05-30T19:40:48.937Z"
   },
   {
    "duration": 343,
    "start_time": "2024-05-30T19:40:48.966Z"
   },
   {
    "duration": 17,
    "start_time": "2024-05-30T19:40:49.311Z"
   },
   {
    "duration": 6,
    "start_time": "2024-05-30T19:40:49.329Z"
   },
   {
    "duration": 5,
    "start_time": "2024-05-30T19:40:49.336Z"
   },
   {
    "duration": 29,
    "start_time": "2024-05-30T19:40:49.361Z"
   },
   {
    "duration": 6,
    "start_time": "2024-05-30T19:40:49.392Z"
   },
   {
    "duration": 20,
    "start_time": "2024-05-30T19:40:49.400Z"
   },
   {
    "duration": 50,
    "start_time": "2024-05-30T19:40:49.422Z"
   },
   {
    "duration": 17,
    "start_time": "2024-05-30T19:40:49.473Z"
   },
   {
    "duration": 70,
    "start_time": "2024-05-30T19:40:49.491Z"
   },
   {
    "duration": 4,
    "start_time": "2024-05-30T19:40:49.563Z"
   },
   {
    "duration": 82,
    "start_time": "2024-05-30T19:40:49.569Z"
   },
   {
    "duration": 34,
    "start_time": "2024-05-30T19:40:49.653Z"
   },
   {
    "duration": 5,
    "start_time": "2024-05-30T19:40:49.689Z"
   },
   {
    "duration": 127,
    "start_time": "2024-05-30T19:40:49.696Z"
   },
   {
    "duration": 64,
    "start_time": "2024-05-30T19:40:49.824Z"
   },
   {
    "duration": 53,
    "start_time": "2024-05-30T19:40:49.889Z"
   },
   {
    "duration": 18,
    "start_time": "2024-05-30T19:40:49.944Z"
   },
   {
    "duration": 98,
    "start_time": "2024-05-30T19:40:49.964Z"
   },
   {
    "duration": 46,
    "start_time": "2024-05-30T19:40:50.064Z"
   },
   {
    "duration": 72,
    "start_time": "2024-05-30T19:43:24.590Z"
   },
   {
    "duration": 74,
    "start_time": "2024-05-30T19:44:13.893Z"
   },
   {
    "duration": 122,
    "start_time": "2024-05-30T19:44:52.024Z"
   },
   {
    "duration": 1076,
    "start_time": "2024-05-30T19:45:19.295Z"
   },
   {
    "duration": 179,
    "start_time": "2024-05-30T19:45:20.373Z"
   },
   {
    "duration": 22,
    "start_time": "2024-05-30T19:45:20.553Z"
   },
   {
    "duration": 10,
    "start_time": "2024-05-30T19:45:20.577Z"
   },
   {
    "duration": 80,
    "start_time": "2024-05-30T19:45:20.588Z"
   },
   {
    "duration": 66,
    "start_time": "2024-05-30T19:45:20.669Z"
   },
   {
    "duration": 104,
    "start_time": "2024-05-30T19:45:20.737Z"
   },
   {
    "duration": 68,
    "start_time": "2024-05-30T19:45:20.842Z"
   },
   {
    "duration": 18,
    "start_time": "2024-05-30T19:45:20.912Z"
   },
   {
    "duration": 33,
    "start_time": "2024-05-30T19:45:20.933Z"
   },
   {
    "duration": 5,
    "start_time": "2024-05-30T19:45:20.968Z"
   },
   {
    "duration": 13,
    "start_time": "2024-05-30T19:45:20.974Z"
   },
   {
    "duration": 125,
    "start_time": "2024-05-30T19:45:20.989Z"
   },
   {
    "duration": 22,
    "start_time": "2024-05-30T19:45:21.116Z"
   },
   {
    "duration": 27,
    "start_time": "2024-05-30T19:45:21.140Z"
   },
   {
    "duration": 65,
    "start_time": "2024-05-30T19:45:21.169Z"
   },
   {
    "duration": 25,
    "start_time": "2024-05-30T19:45:21.236Z"
   },
   {
    "duration": 20,
    "start_time": "2024-05-30T19:45:21.262Z"
   },
   {
    "duration": 5,
    "start_time": "2024-05-30T19:45:21.283Z"
   },
   {
    "duration": 352,
    "start_time": "2024-05-30T19:45:21.290Z"
   },
   {
    "duration": 24,
    "start_time": "2024-05-30T19:45:21.643Z"
   },
   {
    "duration": 6,
    "start_time": "2024-05-30T19:45:21.669Z"
   },
   {
    "duration": 5,
    "start_time": "2024-05-30T19:45:21.676Z"
   },
   {
    "duration": 32,
    "start_time": "2024-05-30T19:45:21.682Z"
   },
   {
    "duration": 7,
    "start_time": "2024-05-30T19:45:21.716Z"
   },
   {
    "duration": 51,
    "start_time": "2024-05-30T19:45:21.724Z"
   },
   {
    "duration": 19,
    "start_time": "2024-05-30T19:45:21.777Z"
   },
   {
    "duration": 19,
    "start_time": "2024-05-30T19:45:21.799Z"
   },
   {
    "duration": 95,
    "start_time": "2024-05-30T19:45:21.819Z"
   },
   {
    "duration": 5,
    "start_time": "2024-05-30T19:45:21.915Z"
   },
   {
    "duration": 91,
    "start_time": "2024-05-30T19:45:21.921Z"
   },
   {
    "duration": 29,
    "start_time": "2024-05-30T19:45:22.014Z"
   },
   {
    "duration": 19,
    "start_time": "2024-05-30T19:45:22.045Z"
   },
   {
    "duration": 117,
    "start_time": "2024-05-30T19:45:22.066Z"
   },
   {
    "duration": 48,
    "start_time": "2024-05-30T19:45:22.184Z"
   },
   {
    "duration": 59,
    "start_time": "2024-05-30T19:45:22.233Z"
   },
   {
    "duration": 7,
    "start_time": "2024-05-30T19:45:22.294Z"
   },
   {
    "duration": 88,
    "start_time": "2024-05-30T19:45:22.302Z"
   },
   {
    "duration": 44,
    "start_time": "2024-05-30T19:45:22.391Z"
   },
   {
    "duration": 88,
    "start_time": "2024-05-30T19:45:22.437Z"
   },
   {
    "duration": 85,
    "start_time": "2024-05-30T19:45:22.526Z"
   },
   {
    "duration": 115,
    "start_time": "2024-05-30T19:45:22.613Z"
   },
   {
    "duration": 10,
    "start_time": "2024-05-30T20:04:59.681Z"
   },
   {
    "duration": 10,
    "start_time": "2024-05-30T20:05:11.259Z"
   },
   {
    "duration": 19,
    "start_time": "2024-05-30T20:05:12.383Z"
   },
   {
    "duration": 7,
    "start_time": "2024-05-30T20:07:18.865Z"
   },
   {
    "duration": 41,
    "start_time": "2024-05-30T20:07:57.599Z"
   },
   {
    "duration": 6,
    "start_time": "2024-05-30T20:08:12.118Z"
   },
   {
    "duration": 41,
    "start_time": "2024-05-30T20:08:12.759Z"
   },
   {
    "duration": 6,
    "start_time": "2024-05-30T20:08:34.255Z"
   },
   {
    "duration": 42,
    "start_time": "2024-05-30T20:08:34.970Z"
   },
   {
    "duration": 9,
    "start_time": "2024-05-30T20:08:55.941Z"
   },
   {
    "duration": 691,
    "start_time": "2024-05-30T20:08:56.578Z"
   },
   {
    "duration": 6,
    "start_time": "2024-05-30T20:09:41.248Z"
   },
   {
    "duration": 87,
    "start_time": "2024-05-30T20:09:41.729Z"
   },
   {
    "duration": 1241,
    "start_time": "2024-05-30T20:31:10.657Z"
   },
   {
    "duration": 218,
    "start_time": "2024-05-30T20:31:11.900Z"
   },
   {
    "duration": 23,
    "start_time": "2024-05-30T20:31:12.120Z"
   },
   {
    "duration": 28,
    "start_time": "2024-05-30T20:31:12.145Z"
   },
   {
    "duration": 71,
    "start_time": "2024-05-30T20:31:12.177Z"
   },
   {
    "duration": 77,
    "start_time": "2024-05-30T20:31:12.261Z"
   },
   {
    "duration": 94,
    "start_time": "2024-05-30T20:31:12.340Z"
   },
   {
    "duration": 80,
    "start_time": "2024-05-30T20:31:12.435Z"
   },
   {
    "duration": 17,
    "start_time": "2024-05-30T20:31:12.517Z"
   },
   {
    "duration": 9,
    "start_time": "2024-05-30T20:31:12.535Z"
   },
   {
    "duration": 8,
    "start_time": "2024-05-30T20:31:12.567Z"
   },
   {
    "duration": 15,
    "start_time": "2024-05-30T20:31:12.577Z"
   },
   {
    "duration": 138,
    "start_time": "2024-05-30T20:31:12.594Z"
   },
   {
    "duration": 41,
    "start_time": "2024-05-30T20:31:12.736Z"
   },
   {
    "duration": 10,
    "start_time": "2024-05-30T20:31:12.779Z"
   },
   {
    "duration": 72,
    "start_time": "2024-05-30T20:31:12.790Z"
   },
   {
    "duration": 9,
    "start_time": "2024-05-30T20:31:12.874Z"
   },
   {
    "duration": 25,
    "start_time": "2024-05-30T20:31:12.885Z"
   },
   {
    "duration": 13,
    "start_time": "2024-05-30T20:31:12.912Z"
   },
   {
    "duration": 355,
    "start_time": "2024-05-30T20:31:12.927Z"
   },
   {
    "duration": 18,
    "start_time": "2024-05-30T20:31:13.283Z"
   },
   {
    "duration": 7,
    "start_time": "2024-05-30T20:31:13.303Z"
   },
   {
    "duration": 17,
    "start_time": "2024-05-30T20:31:13.311Z"
   },
   {
    "duration": 67,
    "start_time": "2024-05-30T20:31:13.330Z"
   },
   {
    "duration": 6,
    "start_time": "2024-05-30T20:31:13.398Z"
   },
   {
    "duration": 34,
    "start_time": "2024-05-30T20:31:13.406Z"
   },
   {
    "duration": 16,
    "start_time": "2024-05-30T20:31:13.442Z"
   },
   {
    "duration": 30,
    "start_time": "2024-05-30T20:31:13.459Z"
   },
   {
    "duration": 54,
    "start_time": "2024-05-30T20:31:13.491Z"
   },
   {
    "duration": 21,
    "start_time": "2024-05-30T20:31:13.547Z"
   },
   {
    "duration": 80,
    "start_time": "2024-05-30T20:31:13.572Z"
   },
   {
    "duration": 38,
    "start_time": "2024-05-30T20:31:13.653Z"
   },
   {
    "duration": 6,
    "start_time": "2024-05-30T20:31:13.692Z"
   },
   {
    "duration": 117,
    "start_time": "2024-05-30T20:31:13.699Z"
   },
   {
    "duration": 61,
    "start_time": "2024-05-30T20:31:13.818Z"
   },
   {
    "duration": 42,
    "start_time": "2024-05-30T20:31:13.881Z"
   },
   {
    "duration": 6,
    "start_time": "2024-05-30T20:31:13.925Z"
   },
   {
    "duration": 98,
    "start_time": "2024-05-30T20:31:13.933Z"
   },
   {
    "duration": 54,
    "start_time": "2024-05-30T20:31:14.032Z"
   },
   {
    "duration": 89,
    "start_time": "2024-05-30T20:31:14.088Z"
   },
   {
    "duration": 95,
    "start_time": "2024-05-30T20:31:14.181Z"
   },
   {
    "duration": 6,
    "start_time": "2024-05-30T20:31:14.283Z"
   },
   {
    "duration": 159,
    "start_time": "2024-05-30T20:31:14.292Z"
   },
   {
    "duration": 1240,
    "start_time": "2024-05-30T20:35:16.561Z"
   },
   {
    "duration": 216,
    "start_time": "2024-05-30T20:35:17.803Z"
   },
   {
    "duration": 24,
    "start_time": "2024-05-30T20:35:18.020Z"
   },
   {
    "duration": 30,
    "start_time": "2024-05-30T20:35:18.046Z"
   },
   {
    "duration": 70,
    "start_time": "2024-05-30T20:35:18.079Z"
   },
   {
    "duration": 80,
    "start_time": "2024-05-30T20:35:18.151Z"
   },
   {
    "duration": 90,
    "start_time": "2024-05-30T20:35:18.233Z"
   },
   {
    "duration": 68,
    "start_time": "2024-05-30T20:35:18.325Z"
   },
   {
    "duration": 17,
    "start_time": "2024-05-30T20:35:18.394Z"
   },
   {
    "duration": 12,
    "start_time": "2024-05-30T20:35:18.412Z"
   },
   {
    "duration": 4,
    "start_time": "2024-05-30T20:35:18.426Z"
   },
   {
    "duration": 37,
    "start_time": "2024-05-30T20:35:18.432Z"
   },
   {
    "duration": 161,
    "start_time": "2024-05-30T20:35:18.471Z"
   },
   {
    "duration": 24,
    "start_time": "2024-05-30T20:35:18.634Z"
   },
   {
    "duration": 11,
    "start_time": "2024-05-30T20:35:18.669Z"
   },
   {
    "duration": 115,
    "start_time": "2024-05-30T20:35:18.681Z"
   },
   {
    "duration": 8,
    "start_time": "2024-05-30T20:35:18.798Z"
   },
   {
    "duration": 17,
    "start_time": "2024-05-30T20:35:18.808Z"
   },
   {
    "duration": 6,
    "start_time": "2024-05-30T20:35:18.826Z"
   },
   {
    "duration": 365,
    "start_time": "2024-05-30T20:35:18.834Z"
   },
   {
    "duration": 17,
    "start_time": "2024-05-30T20:35:19.200Z"
   },
   {
    "duration": 57,
    "start_time": "2024-05-30T20:35:19.219Z"
   },
   {
    "duration": 5,
    "start_time": "2024-05-30T20:35:19.278Z"
   },
   {
    "duration": 29,
    "start_time": "2024-05-30T20:35:19.285Z"
   },
   {
    "duration": 8,
    "start_time": "2024-05-30T20:35:19.316Z"
   },
   {
    "duration": 47,
    "start_time": "2024-05-30T20:35:19.326Z"
   },
   {
    "duration": 18,
    "start_time": "2024-05-30T20:35:19.375Z"
   },
   {
    "duration": 19,
    "start_time": "2024-05-30T20:35:19.395Z"
   },
   {
    "duration": 78,
    "start_time": "2024-05-30T20:35:19.416Z"
   },
   {
    "duration": 4,
    "start_time": "2024-05-30T20:35:19.496Z"
   },
   {
    "duration": 94,
    "start_time": "2024-05-30T20:35:19.502Z"
   },
   {
    "duration": 31,
    "start_time": "2024-05-30T20:35:19.597Z"
   },
   {
    "duration": 6,
    "start_time": "2024-05-30T20:35:19.630Z"
   },
   {
    "duration": 145,
    "start_time": "2024-05-30T20:35:19.638Z"
   },
   {
    "duration": 49,
    "start_time": "2024-05-30T20:35:19.786Z"
   },
   {
    "duration": 58,
    "start_time": "2024-05-30T20:35:19.837Z"
   },
   {
    "duration": 6,
    "start_time": "2024-05-30T20:35:19.897Z"
   },
   {
    "duration": 94,
    "start_time": "2024-05-30T20:35:19.905Z"
   },
   {
    "duration": 44,
    "start_time": "2024-05-30T20:35:20.001Z"
   },
   {
    "duration": 91,
    "start_time": "2024-05-30T20:35:20.047Z"
   },
   {
    "duration": 103,
    "start_time": "2024-05-30T20:35:20.141Z"
   },
   {
    "duration": 6,
    "start_time": "2024-05-30T20:35:20.246Z"
   },
   {
    "duration": 148,
    "start_time": "2024-05-30T20:35:20.253Z"
   },
   {
    "duration": 1238,
    "start_time": "2024-05-30T20:59:00.875Z"
   },
   {
    "duration": 203,
    "start_time": "2024-05-30T20:59:02.115Z"
   },
   {
    "duration": 24,
    "start_time": "2024-05-30T20:59:02.319Z"
   },
   {
    "duration": 32,
    "start_time": "2024-05-30T20:59:02.345Z"
   },
   {
    "duration": 83,
    "start_time": "2024-05-30T20:59:02.381Z"
   },
   {
    "duration": 69,
    "start_time": "2024-05-30T20:59:02.473Z"
   },
   {
    "duration": 94,
    "start_time": "2024-05-30T20:59:02.544Z"
   },
   {
    "duration": 75,
    "start_time": "2024-05-30T20:59:02.640Z"
   },
   {
    "duration": 22,
    "start_time": "2024-05-30T20:59:02.717Z"
   },
   {
    "duration": 74,
    "start_time": "2024-05-30T20:59:02.741Z"
   },
   {
    "duration": 5,
    "start_time": "2024-05-30T20:59:02.817Z"
   },
   {
    "duration": 15,
    "start_time": "2024-05-30T20:59:02.824Z"
   },
   {
    "duration": 173,
    "start_time": "2024-05-30T20:59:02.841Z"
   },
   {
    "duration": 23,
    "start_time": "2024-05-30T20:59:03.018Z"
   },
   {
    "duration": 28,
    "start_time": "2024-05-30T20:59:03.043Z"
   },
   {
    "duration": 68,
    "start_time": "2024-05-30T20:59:03.074Z"
   },
   {
    "duration": 8,
    "start_time": "2024-05-30T20:59:03.144Z"
   },
   {
    "duration": 32,
    "start_time": "2024-05-30T20:59:03.154Z"
   },
   {
    "duration": 36,
    "start_time": "2024-05-30T20:59:03.188Z"
   },
   {
    "duration": 368,
    "start_time": "2024-05-30T20:59:03.226Z"
   },
   {
    "duration": 18,
    "start_time": "2024-05-30T20:59:03.595Z"
   },
   {
    "duration": 6,
    "start_time": "2024-05-30T20:59:03.615Z"
   },
   {
    "duration": 5,
    "start_time": "2024-05-30T20:59:03.622Z"
   },
   {
    "duration": 59,
    "start_time": "2024-05-30T20:59:03.628Z"
   },
   {
    "duration": 7,
    "start_time": "2024-05-30T20:59:03.688Z"
   },
   {
    "duration": 20,
    "start_time": "2024-05-30T20:59:03.697Z"
   },
   {
    "duration": 19,
    "start_time": "2024-05-30T20:59:03.719Z"
   },
   {
    "duration": 24,
    "start_time": "2024-05-30T20:59:03.761Z"
   },
   {
    "duration": 56,
    "start_time": "2024-05-30T20:59:03.786Z"
   },
   {
    "duration": 24,
    "start_time": "2024-05-30T20:59:03.844Z"
   },
   {
    "duration": 96,
    "start_time": "2024-05-30T20:59:03.872Z"
   },
   {
    "duration": 44,
    "start_time": "2024-05-30T20:59:03.971Z"
   },
   {
    "duration": 7,
    "start_time": "2024-05-30T20:59:04.016Z"
   },
   {
    "duration": 125,
    "start_time": "2024-05-30T20:59:04.025Z"
   },
   {
    "duration": 54,
    "start_time": "2024-05-30T20:59:04.152Z"
   },
   {
    "duration": 41,
    "start_time": "2024-05-30T20:59:04.208Z"
   },
   {
    "duration": 12,
    "start_time": "2024-05-30T20:59:04.262Z"
   },
   {
    "duration": 86,
    "start_time": "2024-05-30T20:59:04.277Z"
   },
   {
    "duration": 46,
    "start_time": "2024-05-30T20:59:04.367Z"
   },
   {
    "duration": 94,
    "start_time": "2024-05-30T20:59:04.415Z"
   },
   {
    "duration": 97,
    "start_time": "2024-05-30T20:59:04.513Z"
   },
   {
    "duration": 6,
    "start_time": "2024-05-30T20:59:04.612Z"
   },
   {
    "duration": 170,
    "start_time": "2024-05-30T20:59:04.620Z"
   },
   {
    "duration": 1237,
    "start_time": "2024-05-30T21:06:07.080Z"
   },
   {
    "duration": 199,
    "start_time": "2024-05-30T21:06:08.319Z"
   },
   {
    "duration": 23,
    "start_time": "2024-05-30T21:06:08.519Z"
   },
   {
    "duration": 35,
    "start_time": "2024-05-30T21:06:08.543Z"
   },
   {
    "duration": 88,
    "start_time": "2024-05-30T21:06:08.580Z"
   },
   {
    "duration": 65,
    "start_time": "2024-05-30T21:06:08.675Z"
   },
   {
    "duration": 84,
    "start_time": "2024-05-30T21:06:08.742Z"
   },
   {
    "duration": 71,
    "start_time": "2024-05-30T21:06:08.827Z"
   },
   {
    "duration": 17,
    "start_time": "2024-05-30T21:06:08.899Z"
   },
   {
    "duration": 22,
    "start_time": "2024-05-30T21:06:08.918Z"
   },
   {
    "duration": 3,
    "start_time": "2024-05-30T21:06:08.942Z"
   },
   {
    "duration": 25,
    "start_time": "2024-05-30T21:06:08.947Z"
   },
   {
    "duration": 124,
    "start_time": "2024-05-30T21:06:08.974Z"
   },
   {
    "duration": 22,
    "start_time": "2024-05-30T21:06:09.102Z"
   },
   {
    "duration": 8,
    "start_time": "2024-05-30T21:06:09.126Z"
   },
   {
    "duration": 83,
    "start_time": "2024-05-30T21:06:09.136Z"
   },
   {
    "duration": 9,
    "start_time": "2024-05-30T21:06:09.220Z"
   },
   {
    "duration": 17,
    "start_time": "2024-05-30T21:06:09.230Z"
   },
   {
    "duration": 17,
    "start_time": "2024-05-30T21:06:09.260Z"
   },
   {
    "duration": 344,
    "start_time": "2024-05-30T21:06:09.279Z"
   },
   {
    "duration": 18,
    "start_time": "2024-05-30T21:06:09.625Z"
   },
   {
    "duration": 23,
    "start_time": "2024-05-30T21:06:09.644Z"
   },
   {
    "duration": 5,
    "start_time": "2024-05-30T21:06:09.674Z"
   },
   {
    "duration": 30,
    "start_time": "2024-05-30T21:06:09.681Z"
   },
   {
    "duration": 6,
    "start_time": "2024-05-30T21:06:09.713Z"
   },
   {
    "duration": 56,
    "start_time": "2024-05-30T21:06:09.721Z"
   },
   {
    "duration": 22,
    "start_time": "2024-05-30T21:06:09.779Z"
   },
   {
    "duration": 24,
    "start_time": "2024-05-30T21:06:09.803Z"
   },
   {
    "duration": 99,
    "start_time": "2024-05-30T21:06:09.829Z"
   },
   {
    "duration": 5,
    "start_time": "2024-05-30T21:06:09.929Z"
   },
   {
    "duration": 98,
    "start_time": "2024-05-30T21:06:09.936Z"
   },
   {
    "duration": 45,
    "start_time": "2024-05-30T21:06:10.036Z"
   },
   {
    "duration": 6,
    "start_time": "2024-05-30T21:06:10.083Z"
   },
   {
    "duration": 126,
    "start_time": "2024-05-30T21:06:10.091Z"
   },
   {
    "duration": 62,
    "start_time": "2024-05-30T21:06:10.219Z"
   },
   {
    "duration": 44,
    "start_time": "2024-05-30T21:06:10.283Z"
   },
   {
    "duration": 6,
    "start_time": "2024-05-30T21:06:10.329Z"
   },
   {
    "duration": 123,
    "start_time": "2024-05-30T21:06:10.337Z"
   },
   {
    "duration": 47,
    "start_time": "2024-05-30T21:06:10.468Z"
   },
   {
    "duration": 82,
    "start_time": "2024-05-30T21:06:10.516Z"
   },
   {
    "duration": 83,
    "start_time": "2024-05-30T21:06:10.602Z"
   },
   {
    "duration": 6,
    "start_time": "2024-05-30T21:06:10.687Z"
   },
   {
    "duration": 136,
    "start_time": "2024-05-30T21:06:10.694Z"
   },
   {
    "duration": 1217,
    "start_time": "2024-05-30T22:28:56.453Z"
   },
   {
    "duration": 197,
    "start_time": "2024-05-30T22:28:57.672Z"
   },
   {
    "duration": 23,
    "start_time": "2024-05-30T22:28:57.871Z"
   },
   {
    "duration": 11,
    "start_time": "2024-05-30T22:28:57.897Z"
   },
   {
    "duration": 86,
    "start_time": "2024-05-30T22:28:57.909Z"
   },
   {
    "duration": 71,
    "start_time": "2024-05-30T22:28:57.996Z"
   },
   {
    "duration": 75,
    "start_time": "2024-05-30T22:28:58.068Z"
   },
   {
    "duration": 72,
    "start_time": "2024-05-30T22:28:58.145Z"
   },
   {
    "duration": 17,
    "start_time": "2024-05-30T22:28:58.218Z"
   },
   {
    "duration": 24,
    "start_time": "2024-05-30T22:28:58.237Z"
   },
   {
    "duration": 4,
    "start_time": "2024-05-30T22:28:58.262Z"
   },
   {
    "duration": 13,
    "start_time": "2024-05-30T22:28:58.267Z"
   },
   {
    "duration": 117,
    "start_time": "2024-05-30T22:28:58.281Z"
   },
   {
    "duration": 23,
    "start_time": "2024-05-30T22:28:58.399Z"
   },
   {
    "duration": 8,
    "start_time": "2024-05-30T22:28:58.424Z"
   },
   {
    "duration": 76,
    "start_time": "2024-05-30T22:28:58.434Z"
   },
   {
    "duration": 7,
    "start_time": "2024-05-30T22:28:58.512Z"
   },
   {
    "duration": 20,
    "start_time": "2024-05-30T22:28:58.520Z"
   },
   {
    "duration": 21,
    "start_time": "2024-05-30T22:28:58.541Z"
   },
   {
    "duration": 328,
    "start_time": "2024-05-30T22:28:58.564Z"
   },
   {
    "duration": 19,
    "start_time": "2024-05-30T22:28:58.894Z"
   },
   {
    "duration": 6,
    "start_time": "2024-05-30T22:28:58.914Z"
   },
   {
    "duration": 14,
    "start_time": "2024-05-30T22:28:58.921Z"
   },
   {
    "duration": 42,
    "start_time": "2024-05-30T22:28:58.936Z"
   },
   {
    "duration": 6,
    "start_time": "2024-05-30T22:28:58.982Z"
   },
   {
    "duration": 19,
    "start_time": "2024-05-30T22:28:58.990Z"
   },
   {
    "duration": 16,
    "start_time": "2024-05-30T22:28:59.010Z"
   },
   {
    "duration": 44,
    "start_time": "2024-05-30T22:28:59.029Z"
   },
   {
    "duration": 53,
    "start_time": "2024-05-30T22:28:59.075Z"
   },
   {
    "duration": 20,
    "start_time": "2024-05-30T22:28:59.129Z"
   },
   {
    "duration": 84,
    "start_time": "2024-05-30T22:28:59.151Z"
   },
   {
    "duration": 47,
    "start_time": "2024-05-30T22:28:59.237Z"
   },
   {
    "duration": 6,
    "start_time": "2024-05-30T22:28:59.286Z"
   },
   {
    "duration": 112,
    "start_time": "2024-05-30T22:28:59.294Z"
   },
   {
    "duration": 54,
    "start_time": "2024-05-30T22:28:59.408Z"
   },
   {
    "duration": 49,
    "start_time": "2024-05-30T22:28:59.463Z"
   },
   {
    "duration": 7,
    "start_time": "2024-05-30T22:28:59.513Z"
   },
   {
    "duration": 117,
    "start_time": "2024-05-30T22:28:59.521Z"
   },
   {
    "duration": 44,
    "start_time": "2024-05-30T22:28:59.639Z"
   },
   {
    "duration": 82,
    "start_time": "2024-05-30T22:28:59.685Z"
   },
   {
    "duration": 71,
    "start_time": "2024-05-30T22:28:59.769Z"
   },
   {
    "duration": 22,
    "start_time": "2024-05-30T22:28:59.842Z"
   },
   {
    "duration": 144,
    "start_time": "2024-05-30T22:28:59.865Z"
   },
   {
    "duration": 1184,
    "start_time": "2024-05-30T22:36:28.593Z"
   },
   {
    "duration": 208,
    "start_time": "2024-05-30T22:36:29.779Z"
   },
   {
    "duration": 26,
    "start_time": "2024-05-30T22:36:29.989Z"
   },
   {
    "duration": 18,
    "start_time": "2024-05-30T22:36:30.016Z"
   },
   {
    "duration": 89,
    "start_time": "2024-05-30T22:36:30.045Z"
   },
   {
    "duration": 71,
    "start_time": "2024-05-30T22:36:30.136Z"
   },
   {
    "duration": 117,
    "start_time": "2024-05-30T22:36:30.209Z"
   },
   {
    "duration": 72,
    "start_time": "2024-05-30T22:36:30.327Z"
   },
   {
    "duration": 23,
    "start_time": "2024-05-30T22:36:30.401Z"
   },
   {
    "duration": 43,
    "start_time": "2024-05-30T22:36:30.425Z"
   },
   {
    "duration": 22,
    "start_time": "2024-05-30T22:36:30.470Z"
   },
   {
    "duration": 61,
    "start_time": "2024-05-30T22:36:30.494Z"
   },
   {
    "duration": 153,
    "start_time": "2024-05-30T22:36:30.557Z"
   },
   {
    "duration": 21,
    "start_time": "2024-05-30T22:36:30.713Z"
   },
   {
    "duration": 33,
    "start_time": "2024-05-30T22:36:30.745Z"
   },
   {
    "duration": 91,
    "start_time": "2024-05-30T22:36:30.780Z"
   },
   {
    "duration": 8,
    "start_time": "2024-05-30T22:36:30.873Z"
   },
   {
    "duration": 64,
    "start_time": "2024-05-30T22:36:30.882Z"
   },
   {
    "duration": 91,
    "start_time": "2024-05-30T22:36:30.948Z"
   },
   {
    "duration": 383,
    "start_time": "2024-05-30T22:36:31.041Z"
   },
   {
    "duration": 24,
    "start_time": "2024-05-30T22:36:31.426Z"
   },
   {
    "duration": 48,
    "start_time": "2024-05-30T22:36:31.452Z"
   },
   {
    "duration": 62,
    "start_time": "2024-05-30T22:36:31.501Z"
   },
   {
    "duration": 63,
    "start_time": "2024-05-30T22:36:31.564Z"
   },
   {
    "duration": 131,
    "start_time": "2024-05-30T22:36:31.628Z"
   },
   {
    "duration": 49,
    "start_time": "2024-05-30T22:36:31.761Z"
   },
   {
    "duration": 20,
    "start_time": "2024-05-30T22:36:31.812Z"
   },
   {
    "duration": 52,
    "start_time": "2024-05-30T22:36:31.834Z"
   },
   {
    "duration": 98,
    "start_time": "2024-05-30T22:36:31.888Z"
   },
   {
    "duration": 4,
    "start_time": "2024-05-30T22:36:31.988Z"
   },
   {
    "duration": 189,
    "start_time": "2024-05-30T22:36:31.994Z"
   },
   {
    "duration": 29,
    "start_time": "2024-05-30T22:36:32.185Z"
   },
   {
    "duration": 271,
    "start_time": "2024-05-30T22:36:32.215Z"
   },
   {
    "duration": 314,
    "start_time": "2024-05-30T22:36:32.488Z"
   },
   {
    "duration": 262,
    "start_time": "2024-05-30T22:36:32.803Z"
   },
   {
    "duration": 148,
    "start_time": "2024-05-30T22:36:33.066Z"
   },
   {
    "duration": 7,
    "start_time": "2024-05-30T22:36:33.216Z"
   },
   {
    "duration": 120,
    "start_time": "2024-05-30T22:36:33.225Z"
   },
   {
    "duration": 42,
    "start_time": "2024-05-30T22:36:33.347Z"
   },
   {
    "duration": 99,
    "start_time": "2024-05-30T22:36:33.391Z"
   },
   {
    "duration": 83,
    "start_time": "2024-05-30T22:36:33.494Z"
   },
   {
    "duration": 6,
    "start_time": "2024-05-30T22:36:33.579Z"
   },
   {
    "duration": 180,
    "start_time": "2024-05-30T22:36:33.586Z"
   },
   {
    "duration": 40,
    "start_time": "2024-05-31T11:30:11.687Z"
   },
   {
    "duration": 1186,
    "start_time": "2024-05-31T11:30:16.372Z"
   },
   {
    "duration": 231,
    "start_time": "2024-05-31T11:30:17.560Z"
   },
   {
    "duration": 16,
    "start_time": "2024-05-31T11:30:17.793Z"
   },
   {
    "duration": 14,
    "start_time": "2024-05-31T11:30:17.810Z"
   },
   {
    "duration": 55,
    "start_time": "2024-05-31T11:30:17.826Z"
   },
   {
    "duration": 64,
    "start_time": "2024-05-31T11:30:17.882Z"
   },
   {
    "duration": 71,
    "start_time": "2024-05-31T11:30:17.948Z"
   },
   {
    "duration": 50,
    "start_time": "2024-05-31T11:30:18.021Z"
   },
   {
    "duration": 12,
    "start_time": "2024-05-31T11:30:18.072Z"
   },
   {
    "duration": 23,
    "start_time": "2024-05-31T11:30:18.085Z"
   },
   {
    "duration": 3,
    "start_time": "2024-05-31T11:30:18.109Z"
   },
   {
    "duration": 15,
    "start_time": "2024-05-31T11:30:18.113Z"
   },
   {
    "duration": 81,
    "start_time": "2024-05-31T11:30:18.129Z"
   },
   {
    "duration": 14,
    "start_time": "2024-05-31T11:30:18.213Z"
   },
   {
    "duration": 6,
    "start_time": "2024-05-31T11:30:18.229Z"
   },
   {
    "duration": 60,
    "start_time": "2024-05-31T11:30:18.236Z"
   },
   {
    "duration": 7,
    "start_time": "2024-05-31T11:30:18.297Z"
   },
   {
    "duration": 25,
    "start_time": "2024-05-31T11:30:18.305Z"
   },
   {
    "duration": 4,
    "start_time": "2024-05-31T11:30:18.332Z"
   },
   {
    "duration": 259,
    "start_time": "2024-05-31T11:30:18.337Z"
   },
   {
    "duration": 15,
    "start_time": "2024-05-31T11:30:18.601Z"
   },
   {
    "duration": 5,
    "start_time": "2024-05-31T11:30:18.617Z"
   },
   {
    "duration": 4,
    "start_time": "2024-05-31T11:30:18.623Z"
   },
   {
    "duration": 25,
    "start_time": "2024-05-31T11:30:18.628Z"
   },
   {
    "duration": 7,
    "start_time": "2024-05-31T11:30:18.654Z"
   },
   {
    "duration": 43,
    "start_time": "2024-05-31T11:30:18.662Z"
   },
   {
    "duration": 16,
    "start_time": "2024-05-31T11:30:18.706Z"
   },
   {
    "duration": 15,
    "start_time": "2024-05-31T11:30:18.723Z"
   },
   {
    "duration": 38,
    "start_time": "2024-05-31T11:30:18.739Z"
   },
   {
    "duration": 23,
    "start_time": "2024-05-31T11:30:18.778Z"
   },
   {
    "duration": 65,
    "start_time": "2024-05-31T11:30:18.803Z"
   },
   {
    "duration": 43,
    "start_time": "2024-05-31T11:30:18.869Z"
   },
   {
    "duration": 5,
    "start_time": "2024-05-31T11:30:18.913Z"
   },
   {
    "duration": 116,
    "start_time": "2024-05-31T11:30:18.919Z"
   },
   {
    "duration": 34,
    "start_time": "2024-05-31T11:30:19.037Z"
   },
   {
    "duration": 37,
    "start_time": "2024-05-31T11:30:19.072Z"
   },
   {
    "duration": 4,
    "start_time": "2024-05-31T11:30:19.111Z"
   },
   {
    "duration": 62,
    "start_time": "2024-05-31T11:30:19.117Z"
   },
   {
    "duration": 44,
    "start_time": "2024-05-31T11:30:19.181Z"
   },
   {
    "duration": 66,
    "start_time": "2024-05-31T11:30:19.226Z"
   },
   {
    "duration": 65,
    "start_time": "2024-05-31T11:30:19.294Z"
   },
   {
    "duration": 5,
    "start_time": "2024-05-31T11:30:19.360Z"
   },
   {
    "duration": 117,
    "start_time": "2024-05-31T11:30:19.366Z"
   },
   {
    "duration": 32,
    "start_time": "2024-05-31T11:32:12.305Z"
   },
   {
    "duration": 25,
    "start_time": "2024-05-31T11:32:54.516Z"
   },
   {
    "duration": 1026,
    "start_time": "2024-05-31T11:47:31.738Z"
   },
   {
    "duration": 136,
    "start_time": "2024-05-31T11:47:32.766Z"
   },
   {
    "duration": 16,
    "start_time": "2024-05-31T11:47:32.904Z"
   },
   {
    "duration": 13,
    "start_time": "2024-05-31T11:47:32.921Z"
   },
   {
    "duration": 67,
    "start_time": "2024-05-31T11:47:32.935Z"
   },
   {
    "duration": 54,
    "start_time": "2024-05-31T11:47:33.003Z"
   },
   {
    "duration": 82,
    "start_time": "2024-05-31T11:47:33.058Z"
   },
   {
    "duration": 60,
    "start_time": "2024-05-31T11:47:33.142Z"
   },
   {
    "duration": 12,
    "start_time": "2024-05-31T11:47:33.203Z"
   },
   {
    "duration": 23,
    "start_time": "2024-05-31T11:47:33.216Z"
   },
   {
    "duration": 3,
    "start_time": "2024-05-31T11:47:33.241Z"
   },
   {
    "duration": 13,
    "start_time": "2024-05-31T11:47:33.245Z"
   },
   {
    "duration": 87,
    "start_time": "2024-05-31T11:47:33.260Z"
   },
   {
    "duration": 16,
    "start_time": "2024-05-31T11:47:33.350Z"
   },
   {
    "duration": 10,
    "start_time": "2024-05-31T11:47:33.367Z"
   },
   {
    "duration": 55,
    "start_time": "2024-05-31T11:47:33.379Z"
   },
   {
    "duration": 7,
    "start_time": "2024-05-31T11:47:33.435Z"
   },
   {
    "duration": 12,
    "start_time": "2024-05-31T11:47:33.444Z"
   },
   {
    "duration": 5,
    "start_time": "2024-05-31T11:47:33.458Z"
   },
   {
    "duration": 278,
    "start_time": "2024-05-31T11:47:33.465Z"
   },
   {
    "duration": 15,
    "start_time": "2024-05-31T11:47:33.745Z"
   },
   {
    "duration": 5,
    "start_time": "2024-05-31T11:47:33.762Z"
   },
   {
    "duration": 23,
    "start_time": "2024-05-31T11:47:33.768Z"
   },
   {
    "duration": 31,
    "start_time": "2024-05-31T11:47:33.792Z"
   },
   {
    "duration": 26,
    "start_time": "2024-05-31T11:47:33.824Z"
   },
   {
    "duration": 16,
    "start_time": "2024-05-31T11:47:33.852Z"
   },
   {
    "duration": 35,
    "start_time": "2024-05-31T11:47:33.869Z"
   },
   {
    "duration": 16,
    "start_time": "2024-05-31T11:47:33.905Z"
   },
   {
    "duration": 40,
    "start_time": "2024-05-31T11:47:33.923Z"
   },
   {
    "duration": 4,
    "start_time": "2024-05-31T11:47:33.965Z"
   },
   {
    "duration": 92,
    "start_time": "2024-05-31T11:47:33.971Z"
   },
   {
    "duration": 25,
    "start_time": "2024-05-31T11:47:34.065Z"
   },
   {
    "duration": 5,
    "start_time": "2024-05-31T11:47:34.102Z"
   },
   {
    "duration": 112,
    "start_time": "2024-05-31T11:47:34.108Z"
   },
   {
    "duration": 39,
    "start_time": "2024-05-31T11:47:34.221Z"
   },
   {
    "duration": 46,
    "start_time": "2024-05-31T11:47:34.261Z"
   },
   {
    "duration": 5,
    "start_time": "2024-05-31T11:47:34.308Z"
   },
   {
    "duration": 77,
    "start_time": "2024-05-31T11:47:34.314Z"
   },
   {
    "duration": 40,
    "start_time": "2024-05-31T11:47:34.392Z"
   },
   {
    "duration": 70,
    "start_time": "2024-05-31T11:47:34.433Z"
   },
   {
    "duration": 60,
    "start_time": "2024-05-31T11:47:34.506Z"
   },
   {
    "duration": 5,
    "start_time": "2024-05-31T11:47:34.567Z"
   },
   {
    "duration": 142,
    "start_time": "2024-05-31T11:47:34.573Z"
   },
   {
    "duration": 153,
    "start_time": "2024-05-31T11:56:45.647Z"
   },
   {
    "duration": 93,
    "start_time": "2024-05-31T11:57:33.965Z"
   },
   {
    "duration": 12,
    "start_time": "2024-05-31T11:57:45.540Z"
   },
   {
    "duration": 10,
    "start_time": "2024-05-31T11:59:45.693Z"
   },
   {
    "duration": 9,
    "start_time": "2024-05-31T11:59:55.658Z"
   },
   {
    "duration": 9,
    "start_time": "2024-05-31T12:00:39.062Z"
   },
   {
    "duration": 8,
    "start_time": "2024-05-31T12:01:46.859Z"
   },
   {
    "duration": 9,
    "start_time": "2024-05-31T12:03:26.572Z"
   },
   {
    "duration": 8,
    "start_time": "2024-05-31T12:04:26.976Z"
   },
   {
    "duration": 9,
    "start_time": "2024-05-31T12:04:46.948Z"
   },
   {
    "duration": 10,
    "start_time": "2024-05-31T12:05:06.733Z"
   },
   {
    "duration": 16,
    "start_time": "2024-05-31T12:06:22.891Z"
   },
   {
    "duration": 81,
    "start_time": "2024-05-31T12:06:44.211Z"
   },
   {
    "duration": 11,
    "start_time": "2024-05-31T12:06:57.536Z"
   },
   {
    "duration": 9,
    "start_time": "2024-05-31T12:11:21.265Z"
   },
   {
    "duration": 9,
    "start_time": "2024-05-31T12:11:35.251Z"
   },
   {
    "duration": 82,
    "start_time": "2024-05-31T12:16:36.186Z"
   },
   {
    "duration": 17,
    "start_time": "2024-05-31T12:33:57.816Z"
   },
   {
    "duration": 9,
    "start_time": "2024-05-31T12:35:43.985Z"
   },
   {
    "duration": 8,
    "start_time": "2024-05-31T12:37:34.130Z"
   },
   {
    "duration": 8,
    "start_time": "2024-05-31T12:47:42.444Z"
   },
   {
    "duration": 9,
    "start_time": "2024-05-31T12:52:18.202Z"
   },
   {
    "duration": 1007,
    "start_time": "2024-05-31T12:56:58.736Z"
   },
   {
    "duration": 137,
    "start_time": "2024-05-31T12:56:59.745Z"
   },
   {
    "duration": 29,
    "start_time": "2024-05-31T12:56:59.884Z"
   },
   {
    "duration": 11,
    "start_time": "2024-05-31T12:56:59.915Z"
   },
   {
    "duration": 73,
    "start_time": "2024-05-31T12:56:59.927Z"
   },
   {
    "duration": 61,
    "start_time": "2024-05-31T12:57:00.002Z"
   },
   {
    "duration": 82,
    "start_time": "2024-05-31T12:57:00.064Z"
   },
   {
    "duration": 60,
    "start_time": "2024-05-31T12:57:00.148Z"
   },
   {
    "duration": 12,
    "start_time": "2024-05-31T12:57:00.209Z"
   },
   {
    "duration": 32,
    "start_time": "2024-05-31T12:57:00.223Z"
   },
   {
    "duration": 20,
    "start_time": "2024-05-31T12:57:00.257Z"
   },
   {
    "duration": 46,
    "start_time": "2024-05-31T12:57:00.278Z"
   },
   {
    "duration": 126,
    "start_time": "2024-05-31T12:57:00.325Z"
   },
   {
    "duration": 40,
    "start_time": "2024-05-31T12:57:00.453Z"
   },
   {
    "duration": 56,
    "start_time": "2024-05-31T12:57:00.494Z"
   },
   {
    "duration": 57,
    "start_time": "2024-05-31T12:57:00.551Z"
   },
   {
    "duration": 28,
    "start_time": "2024-05-31T12:57:00.609Z"
   },
   {
    "duration": 76,
    "start_time": "2024-05-31T12:57:00.638Z"
   },
   {
    "duration": 61,
    "start_time": "2024-05-31T12:57:00.716Z"
   },
   {
    "duration": 309,
    "start_time": "2024-05-31T12:57:00.779Z"
   },
   {
    "duration": 17,
    "start_time": "2024-05-31T12:57:01.089Z"
   },
   {
    "duration": 32,
    "start_time": "2024-05-31T12:57:01.108Z"
   },
   {
    "duration": 46,
    "start_time": "2024-05-31T12:57:01.141Z"
   },
   {
    "duration": 108,
    "start_time": "2024-05-31T12:57:01.188Z"
   },
   {
    "duration": 59,
    "start_time": "2024-05-31T12:57:01.297Z"
   },
   {
    "duration": 33,
    "start_time": "2024-05-31T12:57:01.357Z"
   },
   {
    "duration": 50,
    "start_time": "2024-05-31T12:57:01.392Z"
   },
   {
    "duration": 38,
    "start_time": "2024-05-31T12:57:01.445Z"
   },
   {
    "duration": 54,
    "start_time": "2024-05-31T12:57:01.484Z"
   },
   {
    "duration": 38,
    "start_time": "2024-05-31T12:57:01.540Z"
   },
   {
    "duration": 119,
    "start_time": "2024-05-31T12:57:01.579Z"
   },
   {
    "duration": 148,
    "start_time": "2024-05-31T12:57:01.700Z"
   },
   {
    "duration": 58,
    "start_time": "2024-05-31T12:57:01.850Z"
   },
   {
    "duration": 5,
    "start_time": "2024-05-31T12:57:01.910Z"
   },
   {
    "duration": 142,
    "start_time": "2024-05-31T12:57:01.916Z"
   },
   {
    "duration": 45,
    "start_time": "2024-05-31T12:57:02.060Z"
   },
   {
    "duration": 35,
    "start_time": "2024-05-31T12:57:02.106Z"
   },
   {
    "duration": 5,
    "start_time": "2024-05-31T12:57:02.143Z"
   },
   {
    "duration": 74,
    "start_time": "2024-05-31T12:57:02.149Z"
   },
   {
    "duration": 35,
    "start_time": "2024-05-31T12:57:02.225Z"
   },
   {
    "duration": 88,
    "start_time": "2024-05-31T12:57:02.261Z"
   },
   {
    "duration": 92,
    "start_time": "2024-05-31T12:57:02.350Z"
   },
   {
    "duration": 6,
    "start_time": "2024-05-31T12:57:02.443Z"
   },
   {
    "duration": 108,
    "start_time": "2024-05-31T12:57:02.450Z"
   },
   {
    "duration": 1043,
    "start_time": "2024-05-31T13:02:10.499Z"
   },
   {
    "duration": 144,
    "start_time": "2024-05-31T13:02:11.543Z"
   },
   {
    "duration": 18,
    "start_time": "2024-05-31T13:02:11.689Z"
   },
   {
    "duration": 8,
    "start_time": "2024-05-31T13:02:11.709Z"
   },
   {
    "duration": 60,
    "start_time": "2024-05-31T13:02:11.718Z"
   },
   {
    "duration": 73,
    "start_time": "2024-05-31T13:02:11.779Z"
   },
   {
    "duration": 82,
    "start_time": "2024-05-31T13:02:11.854Z"
   },
   {
    "duration": 51,
    "start_time": "2024-05-31T13:02:11.937Z"
   },
   {
    "duration": 17,
    "start_time": "2024-05-31T13:02:11.990Z"
   },
   {
    "duration": 16,
    "start_time": "2024-05-31T13:02:12.009Z"
   },
   {
    "duration": 12,
    "start_time": "2024-05-31T13:02:12.027Z"
   },
   {
    "duration": 13,
    "start_time": "2024-05-31T13:02:12.040Z"
   },
   {
    "duration": 77,
    "start_time": "2024-05-31T13:02:12.054Z"
   },
   {
    "duration": 16,
    "start_time": "2024-05-31T13:02:12.132Z"
   },
   {
    "duration": 9,
    "start_time": "2024-05-31T13:02:12.149Z"
   },
   {
    "duration": 52,
    "start_time": "2024-05-31T13:02:12.159Z"
   },
   {
    "duration": 7,
    "start_time": "2024-05-31T13:02:12.212Z"
   },
   {
    "duration": 13,
    "start_time": "2024-05-31T13:02:12.220Z"
   },
   {
    "duration": 5,
    "start_time": "2024-05-31T13:02:12.234Z"
   },
   {
    "duration": 283,
    "start_time": "2024-05-31T13:02:12.240Z"
   },
   {
    "duration": 14,
    "start_time": "2024-05-31T13:02:12.524Z"
   },
   {
    "duration": 17,
    "start_time": "2024-05-31T13:02:12.540Z"
   },
   {
    "duration": 9,
    "start_time": "2024-05-31T13:02:12.558Z"
   },
   {
    "duration": 30,
    "start_time": "2024-05-31T13:02:12.568Z"
   },
   {
    "duration": 26,
    "start_time": "2024-05-31T13:02:12.599Z"
   },
   {
    "duration": 14,
    "start_time": "2024-05-31T13:02:12.626Z"
   },
   {
    "duration": 14,
    "start_time": "2024-05-31T13:02:12.641Z"
   },
   {
    "duration": 14,
    "start_time": "2024-05-31T13:02:12.657Z"
   },
   {
    "duration": 59,
    "start_time": "2024-05-31T13:02:12.672Z"
   },
   {
    "duration": 3,
    "start_time": "2024-05-31T13:02:12.733Z"
   },
   {
    "duration": 70,
    "start_time": "2024-05-31T13:02:12.737Z"
   },
   {
    "duration": 132,
    "start_time": "2024-05-31T13:02:12.808Z"
   },
   {
    "duration": 31,
    "start_time": "2024-05-31T13:02:12.941Z"
   },
   {
    "duration": 30,
    "start_time": "2024-05-31T13:02:12.974Z"
   },
   {
    "duration": 140,
    "start_time": "2024-05-31T13:02:13.005Z"
   },
   {
    "duration": 41,
    "start_time": "2024-05-31T13:02:13.147Z"
   },
   {
    "duration": 48,
    "start_time": "2024-05-31T13:02:13.190Z"
   },
   {
    "duration": 31,
    "start_time": "2024-05-31T13:02:13.239Z"
   },
   {
    "duration": 83,
    "start_time": "2024-05-31T13:02:13.272Z"
   },
   {
    "duration": 36,
    "start_time": "2024-05-31T13:02:13.356Z"
   },
   {
    "duration": 77,
    "start_time": "2024-05-31T13:02:13.402Z"
   },
   {
    "duration": 92,
    "start_time": "2024-05-31T13:02:13.481Z"
   },
   {
    "duration": 5,
    "start_time": "2024-05-31T13:02:13.575Z"
   },
   {
    "duration": 107,
    "start_time": "2024-05-31T13:02:13.581Z"
   },
   {
    "duration": 1409,
    "start_time": "2024-05-31T16:30:36.254Z"
   },
   {
    "duration": 823,
    "start_time": "2024-05-31T16:30:37.666Z"
   },
   {
    "duration": 26,
    "start_time": "2024-05-31T16:30:38.491Z"
   },
   {
    "duration": 13,
    "start_time": "2024-05-31T16:30:38.519Z"
   },
   {
    "duration": 87,
    "start_time": "2024-05-31T16:30:38.533Z"
   },
   {
    "duration": 83,
    "start_time": "2024-05-31T16:30:38.622Z"
   },
   {
    "duration": 86,
    "start_time": "2024-05-31T16:30:38.706Z"
   },
   {
    "duration": 62,
    "start_time": "2024-05-31T16:30:38.793Z"
   },
   {
    "duration": 35,
    "start_time": "2024-05-31T16:30:38.857Z"
   },
   {
    "duration": 10,
    "start_time": "2024-05-31T16:30:38.896Z"
   },
   {
    "duration": 4,
    "start_time": "2024-05-31T16:30:38.908Z"
   },
   {
    "duration": 13,
    "start_time": "2024-05-31T16:30:38.914Z"
   },
   {
    "duration": 132,
    "start_time": "2024-05-31T16:30:38.929Z"
   },
   {
    "duration": 37,
    "start_time": "2024-05-31T16:30:39.063Z"
   },
   {
    "duration": 10,
    "start_time": "2024-05-31T16:30:39.102Z"
   },
   {
    "duration": 88,
    "start_time": "2024-05-31T16:30:39.113Z"
   },
   {
    "duration": 9,
    "start_time": "2024-05-31T16:30:39.203Z"
   },
   {
    "duration": 23,
    "start_time": "2024-05-31T16:30:39.214Z"
   },
   {
    "duration": 5,
    "start_time": "2024-05-31T16:30:39.239Z"
   },
   {
    "duration": 357,
    "start_time": "2024-05-31T16:30:39.246Z"
   },
   {
    "duration": 19,
    "start_time": "2024-05-31T16:30:39.605Z"
   },
   {
    "duration": 5,
    "start_time": "2024-05-31T16:30:39.626Z"
   },
   {
    "duration": 10,
    "start_time": "2024-05-31T16:30:39.633Z"
   },
   {
    "duration": 53,
    "start_time": "2024-05-31T16:30:39.645Z"
   },
   {
    "duration": 34,
    "start_time": "2024-05-31T16:30:39.700Z"
   },
   {
    "duration": 23,
    "start_time": "2024-05-31T16:30:39.736Z"
   },
   {
    "duration": 44,
    "start_time": "2024-05-31T16:30:39.761Z"
   },
   {
    "duration": 22,
    "start_time": "2024-05-31T16:30:39.810Z"
   },
   {
    "duration": 78,
    "start_time": "2024-05-31T16:30:39.834Z"
   },
   {
    "duration": 5,
    "start_time": "2024-05-31T16:30:39.914Z"
   },
   {
    "duration": 97,
    "start_time": "2024-05-31T16:30:39.921Z"
   },
   {
    "duration": 193,
    "start_time": "2024-05-31T16:30:40.020Z"
   },
   {
    "duration": 40,
    "start_time": "2024-05-31T16:30:40.215Z"
   },
   {
    "duration": 6,
    "start_time": "2024-05-31T16:30:40.292Z"
   },
   {
    "duration": 160,
    "start_time": "2024-05-31T16:30:40.300Z"
   },
   {
    "duration": 59,
    "start_time": "2024-05-31T16:30:40.462Z"
   },
   {
    "duration": 48,
    "start_time": "2024-05-31T16:30:40.523Z"
   },
   {
    "duration": 19,
    "start_time": "2024-05-31T16:30:40.573Z"
   },
   {
    "duration": 109,
    "start_time": "2024-05-31T16:30:40.594Z"
   },
   {
    "duration": 47,
    "start_time": "2024-05-31T16:30:40.704Z"
   },
   {
    "duration": 118,
    "start_time": "2024-05-31T16:30:40.752Z"
   },
   {
    "duration": 134,
    "start_time": "2024-05-31T16:30:40.872Z"
   },
   {
    "duration": 7,
    "start_time": "2024-05-31T16:30:41.008Z"
   },
   {
    "duration": 165,
    "start_time": "2024-05-31T16:30:41.016Z"
   },
   {
    "duration": 1549,
    "start_time": "2024-08-21T14:29:41.246Z"
   },
   {
    "duration": 834,
    "start_time": "2024-08-21T14:29:42.798Z"
   },
   {
    "duration": 25,
    "start_time": "2024-08-21T14:29:43.634Z"
   },
   {
    "duration": 30,
    "start_time": "2024-08-21T14:29:43.660Z"
   },
   {
    "duration": 67,
    "start_time": "2024-08-21T14:29:43.693Z"
   },
   {
    "duration": 108,
    "start_time": "2024-08-21T14:29:43.762Z"
   },
   {
    "duration": 108,
    "start_time": "2024-08-21T14:29:43.882Z"
   },
   {
    "duration": 70,
    "start_time": "2024-08-21T14:29:43.992Z"
   },
   {
    "duration": 37,
    "start_time": "2024-08-21T14:29:44.064Z"
   },
   {
    "duration": 11,
    "start_time": "2024-08-21T14:29:44.103Z"
   },
   {
    "duration": 4,
    "start_time": "2024-08-21T14:29:44.116Z"
   },
   {
    "duration": 12,
    "start_time": "2024-08-21T14:29:44.122Z"
   },
   {
    "duration": 164,
    "start_time": "2024-08-21T14:29:44.136Z"
   },
   {
    "duration": 22,
    "start_time": "2024-08-21T14:29:44.303Z"
   },
   {
    "duration": 9,
    "start_time": "2024-08-21T14:29:44.326Z"
   },
   {
    "duration": 88,
    "start_time": "2024-08-21T14:29:44.337Z"
   },
   {
    "duration": 8,
    "start_time": "2024-08-21T14:29:44.426Z"
   },
   {
    "duration": 51,
    "start_time": "2024-08-21T14:29:44.435Z"
   },
   {
    "duration": 8,
    "start_time": "2024-08-21T14:29:44.492Z"
   },
   {
    "duration": 410,
    "start_time": "2024-08-21T14:29:44.501Z"
   },
   {
    "duration": 25,
    "start_time": "2024-08-21T14:29:44.913Z"
   },
   {
    "duration": 6,
    "start_time": "2024-08-21T14:29:44.940Z"
   },
   {
    "duration": 37,
    "start_time": "2024-08-21T14:29:44.948Z"
   },
   {
    "duration": 41,
    "start_time": "2024-08-21T14:29:44.987Z"
   },
   {
    "duration": 32,
    "start_time": "2024-08-21T14:29:45.029Z"
   },
   {
    "duration": 35,
    "start_time": "2024-08-21T14:29:45.062Z"
   },
   {
    "duration": 22,
    "start_time": "2024-08-21T14:29:45.099Z"
   },
   {
    "duration": 39,
    "start_time": "2024-08-21T14:29:45.123Z"
   },
   {
    "duration": 76,
    "start_time": "2024-08-21T14:29:45.164Z"
   },
   {
    "duration": 5,
    "start_time": "2024-08-21T14:29:45.241Z"
   },
   {
    "duration": 131,
    "start_time": "2024-08-21T14:29:45.248Z"
   },
   {
    "duration": 181,
    "start_time": "2024-08-21T14:29:45.381Z"
   },
   {
    "duration": 60,
    "start_time": "2024-08-21T14:29:45.563Z"
   },
   {
    "duration": 58,
    "start_time": "2024-08-21T14:29:45.625Z"
   },
   {
    "duration": 177,
    "start_time": "2024-08-21T14:29:45.685Z"
   },
   {
    "duration": 63,
    "start_time": "2024-08-21T14:29:45.864Z"
   },
   {
    "duration": 65,
    "start_time": "2024-08-21T14:29:45.929Z"
   },
   {
    "duration": 7,
    "start_time": "2024-08-21T14:29:45.995Z"
   },
   {
    "duration": 101,
    "start_time": "2024-08-21T14:29:46.004Z"
   },
   {
    "duration": 52,
    "start_time": "2024-08-21T14:29:46.107Z"
   },
   {
    "duration": 128,
    "start_time": "2024-08-21T14:29:46.166Z"
   },
   {
    "duration": 119,
    "start_time": "2024-08-21T14:29:46.296Z"
   },
   {
    "duration": 8,
    "start_time": "2024-08-21T14:29:46.417Z"
   },
   {
    "duration": 177,
    "start_time": "2024-08-21T14:29:46.427Z"
   },
   {
    "duration": 1141,
    "start_time": "2024-08-28T21:32:16.598Z"
   },
   {
    "duration": 1007,
    "start_time": "2024-08-28T21:32:17.741Z"
   },
   {
    "duration": 22,
    "start_time": "2024-08-28T21:32:18.750Z"
   },
   {
    "duration": 15,
    "start_time": "2024-08-28T21:32:18.773Z"
   },
   {
    "duration": 63,
    "start_time": "2024-08-28T21:32:18.789Z"
   },
   {
    "duration": 63,
    "start_time": "2024-08-28T21:32:18.853Z"
   },
   {
    "duration": 80,
    "start_time": "2024-08-28T21:32:18.917Z"
   },
   {
    "duration": 71,
    "start_time": "2024-08-28T21:32:18.999Z"
   },
   {
    "duration": 18,
    "start_time": "2024-08-28T21:32:19.071Z"
   },
   {
    "duration": 9,
    "start_time": "2024-08-28T21:32:19.092Z"
   },
   {
    "duration": 24,
    "start_time": "2024-08-28T21:32:19.103Z"
   },
   {
    "duration": 13,
    "start_time": "2024-08-28T21:32:19.129Z"
   },
   {
    "duration": 120,
    "start_time": "2024-08-28T21:32:19.144Z"
   },
   {
    "duration": 25,
    "start_time": "2024-08-28T21:32:19.265Z"
   },
   {
    "duration": 15,
    "start_time": "2024-08-28T21:32:19.291Z"
   },
   {
    "duration": 62,
    "start_time": "2024-08-28T21:32:19.307Z"
   },
   {
    "duration": 8,
    "start_time": "2024-08-28T21:32:19.370Z"
   },
   {
    "duration": 17,
    "start_time": "2024-08-28T21:32:19.379Z"
   },
   {
    "duration": 6,
    "start_time": "2024-08-28T21:32:19.397Z"
   },
   {
    "duration": 336,
    "start_time": "2024-08-28T21:32:19.425Z"
   },
   {
    "duration": 17,
    "start_time": "2024-08-28T21:32:19.763Z"
   },
   {
    "duration": 5,
    "start_time": "2024-08-28T21:32:19.781Z"
   },
   {
    "duration": 6,
    "start_time": "2024-08-28T21:32:19.788Z"
   },
   {
    "duration": 50,
    "start_time": "2024-08-28T21:32:19.795Z"
   },
   {
    "duration": 30,
    "start_time": "2024-08-28T21:32:19.847Z"
   },
   {
    "duration": 20,
    "start_time": "2024-08-28T21:32:19.878Z"
   },
   {
    "duration": 41,
    "start_time": "2024-08-28T21:32:19.899Z"
   },
   {
    "duration": 19,
    "start_time": "2024-08-28T21:32:19.943Z"
   },
   {
    "duration": 70,
    "start_time": "2024-08-28T21:32:19.963Z"
   },
   {
    "duration": 5,
    "start_time": "2024-08-28T21:32:20.035Z"
   },
   {
    "duration": 97,
    "start_time": "2024-08-28T21:32:20.041Z"
   },
   {
    "duration": 148,
    "start_time": "2024-08-28T21:32:20.140Z"
   },
   {
    "duration": 63,
    "start_time": "2024-08-28T21:32:20.290Z"
   },
   {
    "duration": 5,
    "start_time": "2024-08-28T21:32:20.354Z"
   },
   {
    "duration": 179,
    "start_time": "2024-08-28T21:32:20.361Z"
   },
   {
    "duration": 45,
    "start_time": "2024-08-28T21:32:20.542Z"
   },
   {
    "duration": 56,
    "start_time": "2024-08-28T21:32:20.589Z"
   },
   {
    "duration": 6,
    "start_time": "2024-08-28T21:32:20.647Z"
   },
   {
    "duration": 99,
    "start_time": "2024-08-28T21:32:20.654Z"
   },
   {
    "duration": 41,
    "start_time": "2024-08-28T21:32:20.754Z"
   },
   {
    "duration": 106,
    "start_time": "2024-08-28T21:32:20.796Z"
   },
   {
    "duration": 105,
    "start_time": "2024-08-28T21:32:20.903Z"
   },
   {
    "duration": 7,
    "start_time": "2024-08-28T21:32:21.009Z"
   },
   {
    "duration": 122,
    "start_time": "2024-08-28T21:32:21.025Z"
   },
   {
    "duration": 1234,
    "start_time": "2024-08-29T19:29:16.690Z"
   },
   {
    "duration": 745,
    "start_time": "2024-08-29T19:29:17.926Z"
   },
   {
    "duration": 27,
    "start_time": "2024-08-29T19:29:18.672Z"
   },
   {
    "duration": 14,
    "start_time": "2024-08-29T19:29:18.702Z"
   },
   {
    "duration": 79,
    "start_time": "2024-08-29T19:29:18.718Z"
   },
   {
    "duration": 75,
    "start_time": "2024-08-29T19:29:18.799Z"
   },
   {
    "duration": 91,
    "start_time": "2024-08-29T19:29:18.876Z"
   },
   {
    "duration": 71,
    "start_time": "2024-08-29T19:29:18.969Z"
   },
   {
    "duration": 41,
    "start_time": "2024-08-29T19:29:19.042Z"
   },
   {
    "duration": 12,
    "start_time": "2024-08-29T19:29:19.087Z"
   },
   {
    "duration": 5,
    "start_time": "2024-08-29T19:29:19.101Z"
   },
   {
    "duration": 14,
    "start_time": "2024-08-29T19:29:19.108Z"
   },
   {
    "duration": 156,
    "start_time": "2024-08-29T19:29:19.125Z"
   },
   {
    "duration": 33,
    "start_time": "2024-08-29T19:29:19.283Z"
   },
   {
    "duration": 9,
    "start_time": "2024-08-29T19:29:19.318Z"
   },
   {
    "duration": 90,
    "start_time": "2024-08-29T19:29:19.329Z"
   },
   {
    "duration": 9,
    "start_time": "2024-08-29T19:29:19.421Z"
   },
   {
    "duration": 39,
    "start_time": "2024-08-29T19:29:19.432Z"
   },
   {
    "duration": 13,
    "start_time": "2024-08-29T19:29:19.473Z"
   },
   {
    "duration": 393,
    "start_time": "2024-08-29T19:29:19.488Z"
   },
   {
    "duration": 20,
    "start_time": "2024-08-29T19:29:19.883Z"
   },
   {
    "duration": 7,
    "start_time": "2024-08-29T19:29:19.905Z"
   },
   {
    "duration": 12,
    "start_time": "2024-08-29T19:29:19.914Z"
   },
   {
    "duration": 53,
    "start_time": "2024-08-29T19:29:19.929Z"
   },
   {
    "duration": 38,
    "start_time": "2024-08-29T19:29:19.983Z"
   },
   {
    "duration": 39,
    "start_time": "2024-08-29T19:29:20.023Z"
   },
   {
    "duration": 26,
    "start_time": "2024-08-29T19:29:20.066Z"
   },
   {
    "duration": 20,
    "start_time": "2024-08-29T19:29:20.097Z"
   },
   {
    "duration": 80,
    "start_time": "2024-08-29T19:29:20.118Z"
   },
   {
    "duration": 6,
    "start_time": "2024-08-29T19:29:20.200Z"
   },
   {
    "duration": 104,
    "start_time": "2024-08-29T19:29:20.207Z"
   },
   {
    "duration": 168,
    "start_time": "2024-08-29T19:29:20.312Z"
   },
   {
    "duration": 84,
    "start_time": "2024-08-29T19:29:20.482Z"
   },
   {
    "duration": 10,
    "start_time": "2024-08-29T19:29:20.574Z"
   },
   {
    "duration": 192,
    "start_time": "2024-08-29T19:29:20.586Z"
   },
   {
    "duration": 52,
    "start_time": "2024-08-29T19:29:20.781Z"
   },
   {
    "duration": 68,
    "start_time": "2024-08-29T19:29:20.835Z"
   },
   {
    "duration": 7,
    "start_time": "2024-08-29T19:29:20.904Z"
   },
   {
    "duration": 103,
    "start_time": "2024-08-29T19:29:20.912Z"
   },
   {
    "duration": 61,
    "start_time": "2024-08-29T19:29:21.017Z"
   },
   {
    "duration": 111,
    "start_time": "2024-08-29T19:29:21.080Z"
   },
   {
    "duration": 137,
    "start_time": "2024-08-29T19:29:21.193Z"
   },
   {
    "duration": 10,
    "start_time": "2024-08-29T19:29:21.333Z"
   },
   {
    "duration": 187,
    "start_time": "2024-08-29T19:29:21.344Z"
   },
   {
    "duration": 145,
    "start_time": "2024-08-29T19:30:33.609Z"
   },
   {
    "duration": 1272,
    "start_time": "2024-08-29T19:31:07.731Z"
   },
   {
    "duration": 339578,
    "start_time": "2024-08-29T19:31:09.005Z"
   },
   {
    "duration": 504,
    "start_time": "2024-08-29T19:36:48.586Z"
   },
   {
    "duration": 79,
    "start_time": "2024-08-29T19:36:49.092Z"
   },
   {
    "duration": 16,
    "start_time": "2024-08-29T19:36:49.175Z"
   },
   {
    "duration": 211,
    "start_time": "2024-08-29T19:36:49.193Z"
   },
   {
    "duration": 195,
    "start_time": "2024-08-29T19:36:49.407Z"
   },
   {
    "duration": 185,
    "start_time": "2024-08-29T19:36:49.604Z"
   },
   {
    "duration": 189,
    "start_time": "2024-08-29T19:36:49.791Z"
   },
   {
    "duration": 18,
    "start_time": "2024-08-29T19:36:49.983Z"
   },
   {
    "duration": 11,
    "start_time": "2024-08-29T19:36:50.061Z"
   },
   {
    "duration": 10,
    "start_time": "2024-08-29T19:36:50.075Z"
   },
   {
    "duration": 14,
    "start_time": "2024-08-29T19:36:50.087Z"
   },
   {
    "duration": 426,
    "start_time": "2024-08-29T19:36:50.169Z"
   },
   {
    "duration": 84,
    "start_time": "2024-08-29T19:36:50.597Z"
   },
   {
    "duration": 11,
    "start_time": "2024-08-29T19:36:50.682Z"
   },
   {
    "duration": 198,
    "start_time": "2024-08-29T19:36:50.695Z"
   },
   {
    "duration": 9,
    "start_time": "2024-08-29T19:36:50.895Z"
   },
   {
    "duration": 84,
    "start_time": "2024-08-29T19:36:50.905Z"
   },
   {
    "duration": 6,
    "start_time": "2024-08-29T19:36:50.991Z"
   },
   {
    "duration": 974,
    "start_time": "2024-08-29T19:36:50.998Z"
   },
   {
    "duration": 25,
    "start_time": "2024-08-29T19:36:51.980Z"
   },
   {
    "duration": 61,
    "start_time": "2024-08-29T19:36:52.006Z"
   },
   {
    "duration": 14,
    "start_time": "2024-08-29T19:36:52.070Z"
   },
   {
    "duration": 105,
    "start_time": "2024-08-29T19:36:52.086Z"
   },
   {
    "duration": 105,
    "start_time": "2024-08-29T19:36:52.193Z"
   },
   {
    "duration": 82,
    "start_time": "2024-08-29T19:36:52.300Z"
   },
   {
    "duration": 93,
    "start_time": "2024-08-29T19:36:52.386Z"
   },
   {
    "duration": 20,
    "start_time": "2024-08-29T19:36:52.482Z"
   },
   {
    "duration": 184,
    "start_time": "2024-08-29T19:36:52.504Z"
   },
   {
    "duration": 5,
    "start_time": "2024-08-29T19:36:52.690Z"
   },
   {
    "duration": 201,
    "start_time": "2024-08-29T19:36:52.697Z"
   },
   {
    "duration": 2197,
    "start_time": "2024-08-29T19:36:52.900Z"
   },
   {
    "duration": 39,
    "start_time": "2024-08-29T19:36:55.100Z"
   },
   {
    "duration": 28,
    "start_time": "2024-08-29T19:36:55.141Z"
   },
   {
    "duration": 320,
    "start_time": "2024-08-29T19:36:55.171Z"
   },
   {
    "duration": 176,
    "start_time": "2024-08-29T19:36:55.498Z"
   },
   {
    "duration": 110,
    "start_time": "2024-08-29T19:36:55.675Z"
   },
   {
    "duration": 6,
    "start_time": "2024-08-29T19:36:55.787Z"
   },
   {
    "duration": 272,
    "start_time": "2024-08-29T19:36:55.795Z"
   },
   {
    "duration": 120,
    "start_time": "2024-08-29T19:36:56.076Z"
   },
   {
    "duration": 274,
    "start_time": "2024-08-29T19:36:56.198Z"
   },
   {
    "duration": 209,
    "start_time": "2024-08-29T19:36:56.476Z"
   },
   {
    "duration": 9,
    "start_time": "2024-08-29T19:36:56.688Z"
   },
   {
    "duration": 385,
    "start_time": "2024-08-29T19:36:56.700Z"
   },
   {
    "duration": 1299,
    "start_time": "2024-08-29T19:50:56.947Z"
   },
   {
    "duration": 3024,
    "start_time": "2024-08-29T19:50:58.248Z"
   },
   {
    "duration": 206,
    "start_time": "2024-08-29T19:51:01.274Z"
   },
   {
    "duration": 27,
    "start_time": "2024-08-29T19:51:01.483Z"
   },
   {
    "duration": 13,
    "start_time": "2024-08-29T19:51:01.512Z"
   },
   {
    "duration": 99,
    "start_time": "2024-08-29T19:51:01.527Z"
   },
   {
    "duration": 87,
    "start_time": "2024-08-29T19:51:01.628Z"
   },
   {
    "duration": 106,
    "start_time": "2024-08-29T19:51:01.718Z"
   },
   {
    "duration": 82,
    "start_time": "2024-08-29T19:51:01.826Z"
   },
   {
    "duration": 18,
    "start_time": "2024-08-29T19:51:01.912Z"
   },
   {
    "duration": 46,
    "start_time": "2024-08-29T19:51:01.933Z"
   },
   {
    "duration": 4,
    "start_time": "2024-08-29T19:51:01.982Z"
   },
   {
    "duration": 47,
    "start_time": "2024-08-29T19:51:01.988Z"
   },
   {
    "duration": 156,
    "start_time": "2024-08-29T19:51:02.038Z"
   },
   {
    "duration": 37,
    "start_time": "2024-08-29T19:51:02.196Z"
   },
   {
    "duration": 12,
    "start_time": "2024-08-29T19:51:02.235Z"
   },
   {
    "duration": 82,
    "start_time": "2024-08-29T19:51:02.262Z"
   },
   {
    "duration": 22,
    "start_time": "2024-08-29T19:51:02.347Z"
   },
   {
    "duration": 24,
    "start_time": "2024-08-29T19:51:02.377Z"
   },
   {
    "duration": 111,
    "start_time": "2024-08-29T19:51:02.403Z"
   },
   {
    "duration": 364,
    "start_time": "2024-08-29T19:51:02.515Z"
   },
   {
    "duration": 21,
    "start_time": "2024-08-29T19:51:02.881Z"
   },
   {
    "duration": 6,
    "start_time": "2024-08-29T19:51:02.904Z"
   },
   {
    "duration": 49,
    "start_time": "2024-08-29T19:51:02.911Z"
   },
   {
    "duration": 45,
    "start_time": "2024-08-29T19:51:02.963Z"
   },
   {
    "duration": 34,
    "start_time": "2024-08-29T19:51:03.010Z"
   },
   {
    "duration": 31,
    "start_time": "2024-08-29T19:51:03.046Z"
   },
   {
    "duration": 18,
    "start_time": "2024-08-29T19:51:03.081Z"
   },
   {
    "duration": 19,
    "start_time": "2024-08-29T19:51:03.101Z"
   },
   {
    "duration": 92,
    "start_time": "2024-08-29T19:51:03.122Z"
   },
   {
    "duration": 5,
    "start_time": "2024-08-29T19:51:03.215Z"
   },
   {
    "duration": 110,
    "start_time": "2024-08-29T19:51:03.222Z"
   },
   {
    "duration": 1140,
    "start_time": "2024-08-29T19:51:03.334Z"
   },
   {
    "duration": 38,
    "start_time": "2024-08-29T19:51:04.480Z"
   },
   {
    "duration": 5,
    "start_time": "2024-08-29T19:51:04.520Z"
   },
   {
    "duration": 126,
    "start_time": "2024-08-29T19:51:04.527Z"
   },
   {
    "duration": 53,
    "start_time": "2024-08-29T19:51:04.655Z"
   },
   {
    "duration": 67,
    "start_time": "2024-08-29T19:51:04.710Z"
   },
   {
    "duration": 8,
    "start_time": "2024-08-29T19:51:04.779Z"
   },
   {
    "duration": 106,
    "start_time": "2024-08-29T19:51:04.789Z"
   },
   {
    "duration": 45,
    "start_time": "2024-08-29T19:51:04.896Z"
   },
   {
    "duration": 136,
    "start_time": "2024-08-29T19:51:04.943Z"
   },
   {
    "duration": 124,
    "start_time": "2024-08-29T19:51:05.081Z"
   },
   {
    "duration": 6,
    "start_time": "2024-08-29T19:51:05.207Z"
   },
   {
    "duration": 158,
    "start_time": "2024-08-29T19:51:05.215Z"
   }
  ],
  "kernelspec": {
   "display_name": "Python 3 (ipykernel)",
   "language": "python",
   "name": "python3"
  },
  "language_info": {
   "codemirror_mode": {
    "name": "ipython",
    "version": 3
   },
   "file_extension": ".py",
   "mimetype": "text/x-python",
   "name": "python",
   "nbconvert_exporter": "python",
   "pygments_lexer": "ipython3",
   "version": "3.9.5"
  },
  "toc": {
   "base_numbering": 1,
   "nav_menu": {},
   "number_sections": true,
   "sideBar": true,
   "skip_h1_title": true,
   "title_cell": "Table of Contents",
   "title_sidebar": "Contents",
   "toc_cell": false,
   "toc_position": {},
   "toc_section_display": true,
   "toc_window_display": true
  }
 },
 "nbformat": 4,
 "nbformat_minor": 2
}
