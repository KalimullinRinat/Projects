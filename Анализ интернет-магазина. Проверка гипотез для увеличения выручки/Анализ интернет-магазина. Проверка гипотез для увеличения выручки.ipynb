{
 "cells": [
  {
   "cell_type": "markdown",
   "metadata": {},
   "source": [
    "# Анализ интернет-магазина. Проверка гипотез для увеличения выручки"
   ]
  },
  {
   "cell_type": "markdown",
   "metadata": {},
   "source": [
    "# Описание проекта\n",
    "\n",
    "Вместе с отделом маркетинга был подготовлен список гипотез для увеличения выручки крупного интернет-магазина.\n",
    "Приоритизируем гипотезы, запустим A/B-тест и проанализируем результаты. "
   ]
  },
  {
   "cell_type": "markdown",
   "metadata": {},
   "source": [
    "# Описание данных\n",
    "\n",
    "**Данные для первой части**\n",
    "\n",
    "Структура /datasets/hypothesis.csv :\n",
    "- Hypothesis — краткое описание гипотезы;\n",
    "- Reach — охват пользователей по 10-балльной шкале;\n",
    "- Impact — влияние на пользователей по 10-балльной шкале;\n",
    "- Confidence — уверенность в гипотезе по 10-балльной шкале;\n",
    "- Efforts — затраты ресурсов на проверку гипотезы по 10-балльной шкале. Чем больше значение Efforts, тем дороже проверка гипотезы.\n",
    "\n",
    "**Данные для второй части:**\n",
    "\n",
    "Структура /datasets/orders.csv :\n",
    "- transactionId — идентификатор заказа;\n",
    "- visitorId — идентификатор пользователя, совершившего заказ;\n",
    "- date — дата, когда был совершён заказ;\n",
    "- revenue — выручка заказа;\n",
    "- group — группа A/B-теста, в которую попал заказ.\n",
    "\n",
    "Структура /datasets/visitors.csv:\n",
    "- date — дата;\n",
    "- group — группа A/B-теста;\n",
    "- visitors — количество пользователей в указанную дату в указанной группе A/B-теста."
   ]
  },
  {
   "cell_type": "markdown",
   "metadata": {},
   "source": [
    "# Ход выполнения проекта\n",
    "\n",
    "**Шаг 1. Загрузить данные и подготовьте их к анализу**\n",
    "\n",
    "**Шаг 2. Приоритизация гипотез**\n",
    "\n",
    "**Задача:**\n",
    "- Применить фреймворк ICE для приоритизации гипотез. Отсортировать их по убыванию приоритета.\n",
    "- Применить фреймворк RICE для приоритизации гипотез. Отсортировать их по убыванию приоритета.\n",
    "- Указать, как изменилась приоритизация гипотез при применении RICE вместо ICE. Объяснить, почему так произошло.\n",
    "\n",
    "**Шаг 3. Анализ A/B-теста**\n",
    "\n",
    "**Задача:**\n",
    "\n",
    "Проанализировать A/B-тест:\n",
    "\n",
    "- Построить график кумулятивной выручки по группам. Сделать выводы и предположения.\n",
    "- Построить график кумулятивного среднего чека по группам. Сделать выводы и предположения.\n",
    "- Построить график относительного изменения кумулятивного среднего чека группы B к группе A. Сделать выводы и предположения.\n",
    "- Построить график кумулятивного среднего количества заказов на посетителя по группам. Сделать выводы и предположения.\n",
    "- Построить график относительного изменения кумулятивного среднего количества заказов на посетителя группы B к группе A. Сделать выводы и предположения.\n",
    "- Построить точечный график количества заказов по пользователям. Сделать выводы и предположения.\n",
    "- Посчитать 95-й и 99-й перцентили количества заказов на пользователя. Выбрать границу для определения аномальных пользователей.\n",
    "- Построить точечный график стоимостей заказов. Сделать выводы и предположения.\n",
    "- Посчитать 95-й и 99-й перцентили стоимости заказов. Выбрать границу для определения аномальных заказов.\n",
    "- Посчитать статистическую значимость различий в среднем количестве заказов на посетителя между группами по «сырым» данным. Сделать выводы и предположения.\n",
    "- Посчитать статистическую значимость различий в среднем чеке заказа между группами по «сырым» данным. Сделать выводы и предположения.\n",
    "- Посчитать статистическую значимость различий в среднем количестве заказов на посетителя между группами по «очищенным» данным. Сделать выводы и предположения.\n",
    "- Посчитать статистическую значимость различий в среднем чеке заказа между группами по «очищенным» данным. Сделать выводы и предположения.\n",
    "\n",
    "Принять решение по результатам теста и объяснить его. Варианты решений:\n",
    "\n",
    "1. Остановить тест, зафиксировать победу одной из групп.\n",
    "2. Остановить тест, зафиксировать отсутствие различий между группами.\n",
    "3. Продолжить тест.\n",
    "\n",
    "**Шаг 4. Вывод**"
   ]
  },
  {
   "cell_type": "markdown",
   "metadata": {},
   "source": [
    "### Загрузить данные и подготовить их к анализу"
   ]
  },
  {
   "cell_type": "code",
   "execution_count": 1,
   "metadata": {},
   "outputs": [],
   "source": [
    "# импортируем необходимые библиотеки\n",
    "import pandas as pd\n",
    "import matplotlib.pyplot as plt\n",
    "from scipy import stats as st\n",
    "import numpy as np\n",
    "import seaborn as sns\n",
    "from datetime import datetime, timedelta\n",
    "import datetime as dt\n",
    "from time import strptime"
   ]
  },
  {
   "cell_type": "code",
   "execution_count": 2,
   "metadata": {},
   "outputs": [],
   "source": [
    "# загрузим данные о гипотезах, заказах и пользователях из CSV-файлов в переменные\n",
    "hypothesis = pd.read_csv('/datasets/hypothesis.csv')\n",
    "\n",
    "orders = pd.read_csv('/datasets/orders.csv')\n",
    "\n",
    "visitors = pd.read_csv('/datasets/visitors.csv')"
   ]
  },
  {
   "cell_type": "code",
   "execution_count": 3,
   "metadata": {},
   "outputs": [
    {
     "name": "stdout",
     "output_type": "stream",
     "text": [
      "<class 'pandas.core.frame.DataFrame'>\n",
      "RangeIndex: 9 entries, 0 to 8\n",
      "Data columns (total 5 columns):\n",
      " #   Column      Non-Null Count  Dtype \n",
      "---  ------      --------------  ----- \n",
      " 0   Hypothesis  9 non-null      object\n",
      " 1   Reach       9 non-null      int64 \n",
      " 2   Impact      9 non-null      int64 \n",
      " 3   Confidence  9 non-null      int64 \n",
      " 4   Efforts     9 non-null      int64 \n",
      "dtypes: int64(4), object(1)\n",
      "memory usage: 488.0+ bytes\n"
     ]
    }
   ],
   "source": [
    "# выведем общую информацию о гипотезах\n",
    "hypothesis.info()"
   ]
  },
  {
   "cell_type": "code",
   "execution_count": 4,
   "metadata": {},
   "outputs": [
    {
     "data": {
      "text/html": [
       "<div>\n",
       "<style scoped>\n",
       "    .dataframe tbody tr th:only-of-type {\n",
       "        vertical-align: middle;\n",
       "    }\n",
       "\n",
       "    .dataframe tbody tr th {\n",
       "        vertical-align: top;\n",
       "    }\n",
       "\n",
       "    .dataframe thead th {\n",
       "        text-align: right;\n",
       "    }\n",
       "</style>\n",
       "<table border=\"1\" class=\"dataframe\">\n",
       "  <thead>\n",
       "    <tr style=\"text-align: right;\">\n",
       "      <th></th>\n",
       "      <th>Hypothesis</th>\n",
       "      <th>Reach</th>\n",
       "      <th>Impact</th>\n",
       "      <th>Confidence</th>\n",
       "      <th>Efforts</th>\n",
       "    </tr>\n",
       "  </thead>\n",
       "  <tbody>\n",
       "    <tr>\n",
       "      <th>0</th>\n",
       "      <td>Добавить два новых канала привлечения трафика,...</td>\n",
       "      <td>3</td>\n",
       "      <td>10</td>\n",
       "      <td>8</td>\n",
       "      <td>6</td>\n",
       "    </tr>\n",
       "    <tr>\n",
       "      <th>1</th>\n",
       "      <td>Запустить собственную службу доставки, что сок...</td>\n",
       "      <td>2</td>\n",
       "      <td>5</td>\n",
       "      <td>4</td>\n",
       "      <td>10</td>\n",
       "    </tr>\n",
       "    <tr>\n",
       "      <th>2</th>\n",
       "      <td>Добавить блоки рекомендаций товаров на сайт ин...</td>\n",
       "      <td>8</td>\n",
       "      <td>3</td>\n",
       "      <td>7</td>\n",
       "      <td>3</td>\n",
       "    </tr>\n",
       "    <tr>\n",
       "      <th>3</th>\n",
       "      <td>Изменить структура категорий, что увеличит кон...</td>\n",
       "      <td>8</td>\n",
       "      <td>3</td>\n",
       "      <td>3</td>\n",
       "      <td>8</td>\n",
       "    </tr>\n",
       "    <tr>\n",
       "      <th>4</th>\n",
       "      <td>Изменить цвет фона главной страницы, чтобы уве...</td>\n",
       "      <td>3</td>\n",
       "      <td>1</td>\n",
       "      <td>1</td>\n",
       "      <td>1</td>\n",
       "    </tr>\n",
       "  </tbody>\n",
       "</table>\n",
       "</div>"
      ],
      "text/plain": [
       "                                          Hypothesis  Reach  Impact  \\\n",
       "0  Добавить два новых канала привлечения трафика,...      3      10   \n",
       "1  Запустить собственную службу доставки, что сок...      2       5   \n",
       "2  Добавить блоки рекомендаций товаров на сайт ин...      8       3   \n",
       "3  Изменить структура категорий, что увеличит кон...      8       3   \n",
       "4  Изменить цвет фона главной страницы, чтобы уве...      3       1   \n",
       "\n",
       "   Confidence  Efforts  \n",
       "0           8        6  \n",
       "1           4       10  \n",
       "2           7        3  \n",
       "3           3        8  \n",
       "4           1        1  "
      ]
     },
     "execution_count": 4,
     "metadata": {},
     "output_type": "execute_result"
    }
   ],
   "source": [
    "# выведем первые 5 строк датафрейма\n",
    "hypothesis.head(5)"
   ]
  },
  {
   "cell_type": "markdown",
   "metadata": {},
   "source": [
    "В рассматриваемом датафрейме 5 столбцов, 9 строк и судя по всему нет пропусков.\\\n",
    "Можно привести столбцы к нижнему регистру."
   ]
  },
  {
   "cell_type": "code",
   "execution_count": 5,
   "metadata": {},
   "outputs": [
    {
     "data": {
      "text/plain": [
       "0"
      ]
     },
     "execution_count": 5,
     "metadata": {},
     "output_type": "execute_result"
    }
   ],
   "source": [
    "# проверим наличие дубликатов\n",
    "hypothesis.duplicated().sum()"
   ]
  },
  {
   "cell_type": "markdown",
   "metadata": {},
   "source": [
    "Дубликатов нет."
   ]
  },
  {
   "cell_type": "code",
   "execution_count": 6,
   "metadata": {},
   "outputs": [
    {
     "data": {
      "text/plain": [
       "Hypothesis    0\n",
       "Reach         0\n",
       "Impact        0\n",
       "Confidence    0\n",
       "Efforts       0\n",
       "dtype: int64"
      ]
     },
     "execution_count": 6,
     "metadata": {},
     "output_type": "execute_result"
    }
   ],
   "source": [
    "# проверим наличие пропусков\n",
    "hypothesis.isna().sum()"
   ]
  },
  {
   "cell_type": "markdown",
   "metadata": {},
   "source": [
    "Пропусков нет."
   ]
  },
  {
   "cell_type": "code",
   "execution_count": 7,
   "metadata": {},
   "outputs": [
    {
     "name": "stdout",
     "output_type": "stream",
     "text": [
      "<class 'pandas.core.frame.DataFrame'>\n",
      "RangeIndex: 1197 entries, 0 to 1196\n",
      "Data columns (total 5 columns):\n",
      " #   Column         Non-Null Count  Dtype \n",
      "---  ------         --------------  ----- \n",
      " 0   transactionId  1197 non-null   int64 \n",
      " 1   visitorId      1197 non-null   int64 \n",
      " 2   date           1197 non-null   object\n",
      " 3   revenue        1197 non-null   int64 \n",
      " 4   group          1197 non-null   object\n",
      "dtypes: int64(3), object(2)\n",
      "memory usage: 46.9+ KB\n"
     ]
    }
   ],
   "source": [
    "# выведем общую информацию о заказах\n",
    "orders.info()"
   ]
  },
  {
   "cell_type": "code",
   "execution_count": 8,
   "metadata": {},
   "outputs": [
    {
     "data": {
      "text/html": [
       "<div>\n",
       "<style scoped>\n",
       "    .dataframe tbody tr th:only-of-type {\n",
       "        vertical-align: middle;\n",
       "    }\n",
       "\n",
       "    .dataframe tbody tr th {\n",
       "        vertical-align: top;\n",
       "    }\n",
       "\n",
       "    .dataframe thead th {\n",
       "        text-align: right;\n",
       "    }\n",
       "</style>\n",
       "<table border=\"1\" class=\"dataframe\">\n",
       "  <thead>\n",
       "    <tr style=\"text-align: right;\">\n",
       "      <th></th>\n",
       "      <th>transactionId</th>\n",
       "      <th>visitorId</th>\n",
       "      <th>date</th>\n",
       "      <th>revenue</th>\n",
       "      <th>group</th>\n",
       "    </tr>\n",
       "  </thead>\n",
       "  <tbody>\n",
       "    <tr>\n",
       "      <th>0</th>\n",
       "      <td>3667963787</td>\n",
       "      <td>3312258926</td>\n",
       "      <td>2019-08-15</td>\n",
       "      <td>1650</td>\n",
       "      <td>B</td>\n",
       "    </tr>\n",
       "    <tr>\n",
       "      <th>1</th>\n",
       "      <td>2804400009</td>\n",
       "      <td>3642806036</td>\n",
       "      <td>2019-08-15</td>\n",
       "      <td>730</td>\n",
       "      <td>B</td>\n",
       "    </tr>\n",
       "    <tr>\n",
       "      <th>2</th>\n",
       "      <td>2961555356</td>\n",
       "      <td>4069496402</td>\n",
       "      <td>2019-08-15</td>\n",
       "      <td>400</td>\n",
       "      <td>A</td>\n",
       "    </tr>\n",
       "    <tr>\n",
       "      <th>3</th>\n",
       "      <td>3797467345</td>\n",
       "      <td>1196621759</td>\n",
       "      <td>2019-08-15</td>\n",
       "      <td>9759</td>\n",
       "      <td>B</td>\n",
       "    </tr>\n",
       "    <tr>\n",
       "      <th>4</th>\n",
       "      <td>2282983706</td>\n",
       "      <td>2322279887</td>\n",
       "      <td>2019-08-15</td>\n",
       "      <td>2308</td>\n",
       "      <td>B</td>\n",
       "    </tr>\n",
       "  </tbody>\n",
       "</table>\n",
       "</div>"
      ],
      "text/plain": [
       "   transactionId   visitorId        date  revenue group\n",
       "0     3667963787  3312258926  2019-08-15     1650     B\n",
       "1     2804400009  3642806036  2019-08-15      730     B\n",
       "2     2961555356  4069496402  2019-08-15      400     A\n",
       "3     3797467345  1196621759  2019-08-15     9759     B\n",
       "4     2282983706  2322279887  2019-08-15     2308     B"
      ]
     },
     "execution_count": 8,
     "metadata": {},
     "output_type": "execute_result"
    }
   ],
   "source": [
    "# выведем первые 5 строк датафрейма\n",
    "orders.head(5)"
   ]
  },
  {
   "cell_type": "markdown",
   "metadata": {},
   "source": [
    "В таблице с заказами 5 столбцов, 1197 строк, судя по всему нет пропусков.\\\n",
    "Необходимо изменить тип данных столбца date, привести названия столбцов к змеиному формату."
   ]
  },
  {
   "cell_type": "code",
   "execution_count": 9,
   "metadata": {},
   "outputs": [
    {
     "data": {
      "text/plain": [
       "0"
      ]
     },
     "execution_count": 9,
     "metadata": {},
     "output_type": "execute_result"
    }
   ],
   "source": [
    "# проверим наличие дубликатов\n",
    "orders.duplicated().sum()"
   ]
  },
  {
   "cell_type": "markdown",
   "metadata": {},
   "source": [
    "Дубликатов нет."
   ]
  },
  {
   "cell_type": "code",
   "execution_count": 10,
   "metadata": {},
   "outputs": [
    {
     "data": {
      "text/plain": [
       "transactionId    0\n",
       "visitorId        0\n",
       "date             0\n",
       "revenue          0\n",
       "group            0\n",
       "dtype: int64"
      ]
     },
     "execution_count": 10,
     "metadata": {},
     "output_type": "execute_result"
    }
   ],
   "source": [
    "# проверим наличие пропусков\n",
    "orders.isna().sum()"
   ]
  },
  {
   "cell_type": "markdown",
   "metadata": {},
   "source": [
    "Пропусков нет."
   ]
  },
  {
   "cell_type": "code",
   "execution_count": 11,
   "metadata": {},
   "outputs": [
    {
     "name": "stdout",
     "output_type": "stream",
     "text": [
      "<class 'pandas.core.frame.DataFrame'>\n",
      "RangeIndex: 62 entries, 0 to 61\n",
      "Data columns (total 3 columns):\n",
      " #   Column    Non-Null Count  Dtype \n",
      "---  ------    --------------  ----- \n",
      " 0   date      62 non-null     object\n",
      " 1   group     62 non-null     object\n",
      " 2   visitors  62 non-null     int64 \n",
      "dtypes: int64(1), object(2)\n",
      "memory usage: 1.6+ KB\n"
     ]
    }
   ],
   "source": [
    "# выведем общую информацию о пользователях\n",
    "visitors.info()"
   ]
  },
  {
   "cell_type": "code",
   "execution_count": 12,
   "metadata": {},
   "outputs": [
    {
     "data": {
      "text/html": [
       "<div>\n",
       "<style scoped>\n",
       "    .dataframe tbody tr th:only-of-type {\n",
       "        vertical-align: middle;\n",
       "    }\n",
       "\n",
       "    .dataframe tbody tr th {\n",
       "        vertical-align: top;\n",
       "    }\n",
       "\n",
       "    .dataframe thead th {\n",
       "        text-align: right;\n",
       "    }\n",
       "</style>\n",
       "<table border=\"1\" class=\"dataframe\">\n",
       "  <thead>\n",
       "    <tr style=\"text-align: right;\">\n",
       "      <th></th>\n",
       "      <th>date</th>\n",
       "      <th>group</th>\n",
       "      <th>visitors</th>\n",
       "    </tr>\n",
       "  </thead>\n",
       "  <tbody>\n",
       "    <tr>\n",
       "      <th>0</th>\n",
       "      <td>2019-08-01</td>\n",
       "      <td>A</td>\n",
       "      <td>719</td>\n",
       "    </tr>\n",
       "    <tr>\n",
       "      <th>1</th>\n",
       "      <td>2019-08-02</td>\n",
       "      <td>A</td>\n",
       "      <td>619</td>\n",
       "    </tr>\n",
       "    <tr>\n",
       "      <th>2</th>\n",
       "      <td>2019-08-03</td>\n",
       "      <td>A</td>\n",
       "      <td>507</td>\n",
       "    </tr>\n",
       "    <tr>\n",
       "      <th>3</th>\n",
       "      <td>2019-08-04</td>\n",
       "      <td>A</td>\n",
       "      <td>717</td>\n",
       "    </tr>\n",
       "    <tr>\n",
       "      <th>4</th>\n",
       "      <td>2019-08-05</td>\n",
       "      <td>A</td>\n",
       "      <td>756</td>\n",
       "    </tr>\n",
       "  </tbody>\n",
       "</table>\n",
       "</div>"
      ],
      "text/plain": [
       "         date group  visitors\n",
       "0  2019-08-01     A       719\n",
       "1  2019-08-02     A       619\n",
       "2  2019-08-03     A       507\n",
       "3  2019-08-04     A       717\n",
       "4  2019-08-05     A       756"
      ]
     },
     "execution_count": 12,
     "metadata": {},
     "output_type": "execute_result"
    }
   ],
   "source": [
    "# выведем первые 5 строк датафрейма\n",
    "visitors.head(5)"
   ]
  },
  {
   "cell_type": "markdown",
   "metadata": {},
   "source": [
    "В датафрейме 3 столбца, 62 строки, судя по всему нет пропусков.\\\n",
    "Необходимо изменить тип данных столбца date."
   ]
  },
  {
   "cell_type": "code",
   "execution_count": 13,
   "metadata": {},
   "outputs": [
    {
     "data": {
      "text/plain": [
       "0"
      ]
     },
     "execution_count": 13,
     "metadata": {},
     "output_type": "execute_result"
    }
   ],
   "source": [
    "# проверим наличие дубликатов\n",
    "visitors.duplicated().sum()"
   ]
  },
  {
   "cell_type": "markdown",
   "metadata": {},
   "source": [
    "Дубликатов нет."
   ]
  },
  {
   "cell_type": "code",
   "execution_count": 14,
   "metadata": {},
   "outputs": [
    {
     "data": {
      "text/plain": [
       "date        0\n",
       "group       0\n",
       "visitors    0\n",
       "dtype: int64"
      ]
     },
     "execution_count": 14,
     "metadata": {},
     "output_type": "execute_result"
    }
   ],
   "source": [
    "# проверим наличие пропусков\n",
    "visitors.isna().sum()"
   ]
  },
  {
   "cell_type": "markdown",
   "metadata": {},
   "source": [
    "Пропусков нет."
   ]
  },
  {
   "cell_type": "markdown",
   "metadata": {},
   "source": [
    "**- Предобрабаботка данных**"
   ]
  },
  {
   "cell_type": "code",
   "execution_count": 15,
   "metadata": {},
   "outputs": [],
   "source": [
    "# приведем столбцы hypothesis к нижнему регистру \n",
    "hypothesis.columns = hypothesis.columns.str.lower()"
   ]
  },
  {
   "cell_type": "code",
   "execution_count": 16,
   "metadata": {},
   "outputs": [
    {
     "data": {
      "text/plain": [
       "Index(['hypothesis', 'reach', 'impact', 'confidence', 'efforts'], dtype='object')"
      ]
     },
     "execution_count": 16,
     "metadata": {},
     "output_type": "execute_result"
    }
   ],
   "source": [
    "# выведем названия столбцов и проверим изменения\n",
    "hypothesis.columns"
   ]
  },
  {
   "cell_type": "code",
   "execution_count": 17,
   "metadata": {},
   "outputs": [],
   "source": [
    "# переименуем столбцы\n",
    "orders = orders.rename(columns={'transactionId':'transaction_id', 'visitorId':'visitor_id'})"
   ]
  },
  {
   "cell_type": "code",
   "execution_count": 18,
   "metadata": {},
   "outputs": [
    {
     "data": {
      "text/plain": [
       "Index(['transaction_id', 'visitor_id', 'date', 'revenue', 'group'], dtype='object')"
      ]
     },
     "execution_count": 18,
     "metadata": {},
     "output_type": "execute_result"
    }
   ],
   "source": [
    "# выведем названия столбцов и проверим изменения\n",
    "orders.columns"
   ]
  },
  {
   "cell_type": "code",
   "execution_count": 19,
   "metadata": {},
   "outputs": [],
   "source": [
    "# приведем тип данных столбца orders['date'] к типу данных datetime64\n",
    "orders['date'] = orders['date'].map(\n",
    "    lambda x: dt.datetime.strptime(x, '%Y-%m-%d')\n",
    ")"
   ]
  },
  {
   "cell_type": "code",
   "execution_count": 20,
   "metadata": {},
   "outputs": [
    {
     "data": {
      "text/plain": [
       "transaction_id             int64\n",
       "visitor_id                 int64\n",
       "date              datetime64[ns]\n",
       "revenue                    int64\n",
       "group                     object\n",
       "dtype: object"
      ]
     },
     "execution_count": 20,
     "metadata": {},
     "output_type": "execute_result"
    }
   ],
   "source": [
    "# проверим изменения типов данных\n",
    "orders.dtypes"
   ]
  },
  {
   "cell_type": "code",
   "execution_count": 21,
   "metadata": {},
   "outputs": [],
   "source": [
    "# приведем тип данных столбца visitors['date'] к типу данных datetime64\n",
    "visitors['date'] = visitors['date'].map(\n",
    "    lambda x: dt.datetime.strptime(x, '%Y-%m-%d')\n",
    ")"
   ]
  },
  {
   "cell_type": "code",
   "execution_count": 22,
   "metadata": {},
   "outputs": [
    {
     "data": {
      "text/plain": [
       "date        datetime64[ns]\n",
       "group               object\n",
       "visitors             int64\n",
       "dtype: object"
      ]
     },
     "execution_count": 22,
     "metadata": {},
     "output_type": "execute_result"
    }
   ],
   "source": [
    "# проверим изменения типов данных\n",
    "visitors.dtypes"
   ]
  },
  {
   "cell_type": "markdown",
   "metadata": {},
   "source": [
    "Проверим корректность разбиения пользователей на группы - может быть есть пользователи, попавшие в обе группы."
   ]
  },
  {
   "cell_type": "code",
   "execution_count": 23,
   "metadata": {},
   "outputs": [
    {
     "data": {
      "text/plain": [
       "1031"
      ]
     },
     "execution_count": 23,
     "metadata": {},
     "output_type": "execute_result"
    }
   ],
   "source": [
    "# выведем количество пользователей\n",
    "orders['visitor_id' ].nunique()"
   ]
  },
  {
   "cell_type": "code",
   "execution_count": 24,
   "metadata": {},
   "outputs": [
    {
     "data": {
      "text/plain": [
       "group\n",
       "A    503\n",
       "B    586\n",
       "Name: visitor_id, dtype: int64"
      ]
     },
     "execution_count": 24,
     "metadata": {},
     "output_type": "execute_result"
    }
   ],
   "source": [
    "# посмотрим на разбиение количества пользователей по группам\n",
    "orders.groupby('group').nunique('visitor_id')['visitor_id']"
   ]
  },
  {
   "cell_type": "markdown",
   "metadata": {},
   "source": [
    "Всего в датафрейме оказалось 1031 пользователь. Из них 503 относятся к группе А и 586 к группе В. В группе В на 83 пользователя больше (16.5%) - достаточно большой процент, который может сказаться на итоговом результате, но в то же время \"срезав\" часть группы В тоже может привести к некорретным результатам."
   ]
  },
  {
   "cell_type": "code",
   "execution_count": 25,
   "metadata": {},
   "outputs": [],
   "source": [
    "# сгруппируем данные по пользователям и количеству попаданий в группу\n",
    "orders_group = orders.groupby('visitor_id').agg({'group': 'nunique'}).reset_index()"
   ]
  },
  {
   "cell_type": "code",
   "execution_count": 26,
   "metadata": {},
   "outputs": [],
   "source": [
    "# дадим стольбцам понятные названия\n",
    "orders_group.columns = ['visitor_id', 'group_count']"
   ]
  },
  {
   "cell_type": "code",
   "execution_count": 27,
   "metadata": {},
   "outputs": [
    {
     "data": {
      "text/plain": [
       "58"
      ]
     },
     "execution_count": 27,
     "metadata": {},
     "output_type": "execute_result"
    }
   ],
   "source": [
    "# сделаем срез для пользователей попавшими в обе группы\n",
    "double = orders_group.query('group_count > 1')\n",
    "\n",
    "# посчитаем их количество\n",
    "double['group_count'].count()"
   ]
  },
  {
   "cell_type": "markdown",
   "metadata": {},
   "source": [
    "58 пользователей попало и в ту, и в другую группы. Это может привести к искажению итогового результата. Удалим этих пользователей."
   ]
  },
  {
   "cell_type": "code",
   "execution_count": 28,
   "metadata": {},
   "outputs": [],
   "source": [
    "# удалим из датафрейма пользователей попавших в обе группы\n",
    "orders = orders[~orders['visitor_id'].isin(double['visitor_id'])]"
   ]
  },
  {
   "cell_type": "code",
   "execution_count": 29,
   "metadata": {},
   "outputs": [
    {
     "data": {
      "text/plain": [
       "973"
      ]
     },
     "execution_count": 29,
     "metadata": {},
     "output_type": "execute_result"
    }
   ],
   "source": [
    "# проверим количество пользователей в отфильтрованной таблице\n",
    "orders['visitor_id' ].nunique()"
   ]
  },
  {
   "cell_type": "code",
   "execution_count": 30,
   "metadata": {},
   "outputs": [
    {
     "data": {
      "text/plain": [
       "group    0\n",
       "dtype: int64"
      ]
     },
     "execution_count": 30,
     "metadata": {},
     "output_type": "execute_result"
    }
   ],
   "source": [
    "# проверим количество пользователей попавших в обе группы\n",
    "orders.groupby('visitor_id').agg({'group': 'nunique'}).query('group>1').count()"
   ]
  },
  {
   "cell_type": "markdown",
   "metadata": {},
   "source": [
    "Пользователи попавшие в обе группы удалены."
   ]
  },
  {
   "cell_type": "markdown",
   "metadata": {},
   "source": [
    "В результате предобработки данных привели столбцы к нужным именам и типам данных, а также удалили пользователей попавших в обе группы."
   ]
  },
  {
   "cell_type": "markdown",
   "metadata": {},
   "source": [
    "### Приоритизация гипотез"
   ]
  },
  {
   "cell_type": "markdown",
   "metadata": {},
   "source": [
    "Задача:\n",
    "\n",
    "- Применить фреймворк ICE для приоритизации гипотез. Отсортировать их по убыванию приоритета.\n",
    "- Применить фреймворк RICE для приоритизации гипотез. Отсортировать их по убыванию приоритета.\n",
    "- Указать, как изменилась приоритизация гипотез при применении RICE вместо ICE. Объяснить, почему так произошло."
   ]
  },
  {
   "cell_type": "markdown",
   "metadata": {},
   "source": [
    "**ICE и RICE**\n",
    "\n",
    "**ICE** (от англ. impact, confidence, effort / ease «влияние, уверенность, усилия / простота») — один из самых популярных способов приоритизации задач:\n",
    "- ICE = Impact * Confidence * Ease\n",
    "- ICE = Impact * Confidence / Effort\n",
    "\n",
    "У этого метода есть модификация **RICE** (R от англ. reach, «охват»):\n",
    "- RICE = Impact * Confidence * Reach / Effort\n",
    "\n",
    "Фреймворк RICE состоит из четырёх компонент:\n",
    "- Reach — скольких пользователей затронет изменение, которое вы хотите внести;\n",
    "- Impact — насколько сильно изменение повлияет на пользователей, их опыт и удовлетворение от продукта;\n",
    "- Confidence — насколько вы уверены, что это изменение повлияет на пользователей именно так; \n",
    "- Efforts — сколько стоит протестировать эту гипотезу. \n",
    "\n",
    "Параметры фреймворков ICE и RICE оценивают в удобных шкалах: например, от 0 до 10 или в числах ряда Фибоначчи."
   ]
  },
  {
   "cell_type": "code",
   "execution_count": 31,
   "metadata": {},
   "outputs": [],
   "source": [
    "# применим фреймворк ICE для приоритизации гипотез\n",
    "hypothesis['ICE'] = (hypothesis['impact'] * hypothesis['confidence'])/hypothesis['efforts']\n",
    "\n",
    "# округлим значения до 2 знаков после запятой\n",
    "hypothesis['ICE'] = hypothesis['ICE'].round(2)"
   ]
  },
  {
   "cell_type": "code",
   "execution_count": 32,
   "metadata": {},
   "outputs": [
    {
     "data": {
      "text/html": [
       "<div>\n",
       "<style scoped>\n",
       "    .dataframe tbody tr th:only-of-type {\n",
       "        vertical-align: middle;\n",
       "    }\n",
       "\n",
       "    .dataframe tbody tr th {\n",
       "        vertical-align: top;\n",
       "    }\n",
       "\n",
       "    .dataframe thead th {\n",
       "        text-align: right;\n",
       "    }\n",
       "</style>\n",
       "<table border=\"1\" class=\"dataframe\">\n",
       "  <thead>\n",
       "    <tr style=\"text-align: right;\">\n",
       "      <th></th>\n",
       "      <th>hypothesis</th>\n",
       "      <th>ICE</th>\n",
       "    </tr>\n",
       "  </thead>\n",
       "  <tbody>\n",
       "    <tr>\n",
       "      <th>8</th>\n",
       "      <td>Запустить акцию, дающую скидку на товар в день рождения</td>\n",
       "      <td>16.20</td>\n",
       "    </tr>\n",
       "    <tr>\n",
       "      <th>0</th>\n",
       "      <td>Добавить два новых канала привлечения трафика, что позволит привлекать на 30% больше пользователей</td>\n",
       "      <td>13.33</td>\n",
       "    </tr>\n",
       "    <tr>\n",
       "      <th>7</th>\n",
       "      <td>Добавить форму подписки на все основные страницы, чтобы собрать базу клиентов для email-рассылок</td>\n",
       "      <td>11.20</td>\n",
       "    </tr>\n",
       "    <tr>\n",
       "      <th>6</th>\n",
       "      <td>Показать на главной странице баннеры с актуальными акциями и распродажами, чтобы увеличить конверсию</td>\n",
       "      <td>8.00</td>\n",
       "    </tr>\n",
       "    <tr>\n",
       "      <th>2</th>\n",
       "      <td>Добавить блоки рекомендаций товаров на сайт интернет магазина, чтобы повысить конверсию и средний чек заказа</td>\n",
       "      <td>7.00</td>\n",
       "    </tr>\n",
       "    <tr>\n",
       "      <th>1</th>\n",
       "      <td>Запустить собственную службу доставки, что сократит срок доставки заказов</td>\n",
       "      <td>2.00</td>\n",
       "    </tr>\n",
       "    <tr>\n",
       "      <th>5</th>\n",
       "      <td>Добавить страницу отзывов клиентов о магазине, что позволит увеличить количество заказов</td>\n",
       "      <td>1.33</td>\n",
       "    </tr>\n",
       "    <tr>\n",
       "      <th>3</th>\n",
       "      <td>Изменить структура категорий, что увеличит конверсию, т.к. пользователи быстрее найдут нужный товар</td>\n",
       "      <td>1.12</td>\n",
       "    </tr>\n",
       "    <tr>\n",
       "      <th>4</th>\n",
       "      <td>Изменить цвет фона главной страницы, чтобы увеличить вовлеченность пользователей</td>\n",
       "      <td>1.00</td>\n",
       "    </tr>\n",
       "  </tbody>\n",
       "</table>\n",
       "</div>"
      ],
      "text/plain": [
       "                                                                                                     hypothesis  \\\n",
       "8                                                       Запустить акцию, дающую скидку на товар в день рождения   \n",
       "0            Добавить два новых канала привлечения трафика, что позволит привлекать на 30% больше пользователей   \n",
       "7              Добавить форму подписки на все основные страницы, чтобы собрать базу клиентов для email-рассылок   \n",
       "6          Показать на главной странице баннеры с актуальными акциями и распродажами, чтобы увеличить конверсию   \n",
       "2  Добавить блоки рекомендаций товаров на сайт интернет магазина, чтобы повысить конверсию и средний чек заказа   \n",
       "1                                     Запустить собственную службу доставки, что сократит срок доставки заказов   \n",
       "5                      Добавить страницу отзывов клиентов о магазине, что позволит увеличить количество заказов   \n",
       "3           Изменить структура категорий, что увеличит конверсию, т.к. пользователи быстрее найдут нужный товар   \n",
       "4                              Изменить цвет фона главной страницы, чтобы увеличить вовлеченность пользователей   \n",
       "\n",
       "     ICE  \n",
       "8  16.20  \n",
       "0  13.33  \n",
       "7  11.20  \n",
       "6   8.00  \n",
       "2   7.00  \n",
       "1   2.00  \n",
       "5   1.33  \n",
       "3   1.12  \n",
       "4   1.00  "
      ]
     },
     "execution_count": 32,
     "metadata": {},
     "output_type": "execute_result"
    }
   ],
   "source": [
    "# установим максимальную ширину столбца\n",
    "pd.options.display.max_colwidth = 400\n",
    "\n",
    "# отсортируем по убыванию приоритета и выведем на экран\n",
    "hypothesis[['hypothesis','ICE']].sort_values(by='ICE', ascending = False)\n",
    "\n"
   ]
  },
  {
   "cell_type": "markdown",
   "metadata": {},
   "source": [
    "Наиболее перспективные гипотезы по ICE - 8, 0, 7, 6, 2 (в порядке убывания)."
   ]
  },
  {
   "cell_type": "code",
   "execution_count": 33,
   "metadata": {},
   "outputs": [],
   "source": [
    "# Применим фреймворк RICE для приоритизации гипотез\n",
    "hypothesis['RICE'] = (hypothesis['impact'] * hypothesis['confidence'] * hypothesis['reach'])/hypothesis['efforts']\n",
    "\n",
    "# округлим значения до 2 знаков после запятой\n",
    "hypothesis['RICE'] = hypothesis['RICE'].round(2)"
   ]
  },
  {
   "cell_type": "code",
   "execution_count": 34,
   "metadata": {},
   "outputs": [
    {
     "data": {
      "text/html": [
       "<div>\n",
       "<style scoped>\n",
       "    .dataframe tbody tr th:only-of-type {\n",
       "        vertical-align: middle;\n",
       "    }\n",
       "\n",
       "    .dataframe tbody tr th {\n",
       "        vertical-align: top;\n",
       "    }\n",
       "\n",
       "    .dataframe thead th {\n",
       "        text-align: right;\n",
       "    }\n",
       "</style>\n",
       "<table border=\"1\" class=\"dataframe\">\n",
       "  <thead>\n",
       "    <tr style=\"text-align: right;\">\n",
       "      <th></th>\n",
       "      <th>hypothesis</th>\n",
       "      <th>reach</th>\n",
       "      <th>impact</th>\n",
       "      <th>confidence</th>\n",
       "      <th>efforts</th>\n",
       "      <th>ICE</th>\n",
       "      <th>RICE</th>\n",
       "    </tr>\n",
       "  </thead>\n",
       "  <tbody>\n",
       "    <tr>\n",
       "      <th>7</th>\n",
       "      <td>Добавить форму подписки на все основные страницы, чтобы собрать базу клиентов для email-рассылок</td>\n",
       "      <td>10</td>\n",
       "      <td>7</td>\n",
       "      <td>8</td>\n",
       "      <td>5</td>\n",
       "      <td>11.20</td>\n",
       "      <td>112.0</td>\n",
       "    </tr>\n",
       "    <tr>\n",
       "      <th>2</th>\n",
       "      <td>Добавить блоки рекомендаций товаров на сайт интернет магазина, чтобы повысить конверсию и средний чек заказа</td>\n",
       "      <td>8</td>\n",
       "      <td>3</td>\n",
       "      <td>7</td>\n",
       "      <td>3</td>\n",
       "      <td>7.00</td>\n",
       "      <td>56.0</td>\n",
       "    </tr>\n",
       "    <tr>\n",
       "      <th>0</th>\n",
       "      <td>Добавить два новых канала привлечения трафика, что позволит привлекать на 30% больше пользователей</td>\n",
       "      <td>3</td>\n",
       "      <td>10</td>\n",
       "      <td>8</td>\n",
       "      <td>6</td>\n",
       "      <td>13.33</td>\n",
       "      <td>40.0</td>\n",
       "    </tr>\n",
       "    <tr>\n",
       "      <th>6</th>\n",
       "      <td>Показать на главной странице баннеры с актуальными акциями и распродажами, чтобы увеличить конверсию</td>\n",
       "      <td>5</td>\n",
       "      <td>3</td>\n",
       "      <td>8</td>\n",
       "      <td>3</td>\n",
       "      <td>8.00</td>\n",
       "      <td>40.0</td>\n",
       "    </tr>\n",
       "    <tr>\n",
       "      <th>8</th>\n",
       "      <td>Запустить акцию, дающую скидку на товар в день рождения</td>\n",
       "      <td>1</td>\n",
       "      <td>9</td>\n",
       "      <td>9</td>\n",
       "      <td>5</td>\n",
       "      <td>16.20</td>\n",
       "      <td>16.2</td>\n",
       "    </tr>\n",
       "    <tr>\n",
       "      <th>3</th>\n",
       "      <td>Изменить структура категорий, что увеличит конверсию, т.к. пользователи быстрее найдут нужный товар</td>\n",
       "      <td>8</td>\n",
       "      <td>3</td>\n",
       "      <td>3</td>\n",
       "      <td>8</td>\n",
       "      <td>1.12</td>\n",
       "      <td>9.0</td>\n",
       "    </tr>\n",
       "    <tr>\n",
       "      <th>1</th>\n",
       "      <td>Запустить собственную службу доставки, что сократит срок доставки заказов</td>\n",
       "      <td>2</td>\n",
       "      <td>5</td>\n",
       "      <td>4</td>\n",
       "      <td>10</td>\n",
       "      <td>2.00</td>\n",
       "      <td>4.0</td>\n",
       "    </tr>\n",
       "    <tr>\n",
       "      <th>5</th>\n",
       "      <td>Добавить страницу отзывов клиентов о магазине, что позволит увеличить количество заказов</td>\n",
       "      <td>3</td>\n",
       "      <td>2</td>\n",
       "      <td>2</td>\n",
       "      <td>3</td>\n",
       "      <td>1.33</td>\n",
       "      <td>4.0</td>\n",
       "    </tr>\n",
       "    <tr>\n",
       "      <th>4</th>\n",
       "      <td>Изменить цвет фона главной страницы, чтобы увеличить вовлеченность пользователей</td>\n",
       "      <td>3</td>\n",
       "      <td>1</td>\n",
       "      <td>1</td>\n",
       "      <td>1</td>\n",
       "      <td>1.00</td>\n",
       "      <td>3.0</td>\n",
       "    </tr>\n",
       "  </tbody>\n",
       "</table>\n",
       "</div>"
      ],
      "text/plain": [
       "                                                                                                     hypothesis  \\\n",
       "7              Добавить форму подписки на все основные страницы, чтобы собрать базу клиентов для email-рассылок   \n",
       "2  Добавить блоки рекомендаций товаров на сайт интернет магазина, чтобы повысить конверсию и средний чек заказа   \n",
       "0            Добавить два новых канала привлечения трафика, что позволит привлекать на 30% больше пользователей   \n",
       "6          Показать на главной странице баннеры с актуальными акциями и распродажами, чтобы увеличить конверсию   \n",
       "8                                                       Запустить акцию, дающую скидку на товар в день рождения   \n",
       "3           Изменить структура категорий, что увеличит конверсию, т.к. пользователи быстрее найдут нужный товар   \n",
       "1                                     Запустить собственную службу доставки, что сократит срок доставки заказов   \n",
       "5                      Добавить страницу отзывов клиентов о магазине, что позволит увеличить количество заказов   \n",
       "4                              Изменить цвет фона главной страницы, чтобы увеличить вовлеченность пользователей   \n",
       "\n",
       "   reach  impact  confidence  efforts    ICE   RICE  \n",
       "7     10       7           8        5  11.20  112.0  \n",
       "2      8       3           7        3   7.00   56.0  \n",
       "0      3      10           8        6  13.33   40.0  \n",
       "6      5       3           8        3   8.00   40.0  \n",
       "8      1       9           9        5  16.20   16.2  \n",
       "3      8       3           3        8   1.12    9.0  \n",
       "1      2       5           4       10   2.00    4.0  \n",
       "5      3       2           2        3   1.33    4.0  \n",
       "4      3       1           1        1   1.00    3.0  "
      ]
     },
     "metadata": {},
     "output_type": "display_data"
    },
    {
     "data": {
      "text/html": [
       "<div>\n",
       "<style scoped>\n",
       "    .dataframe tbody tr th:only-of-type {\n",
       "        vertical-align: middle;\n",
       "    }\n",
       "\n",
       "    .dataframe tbody tr th {\n",
       "        vertical-align: top;\n",
       "    }\n",
       "\n",
       "    .dataframe thead th {\n",
       "        text-align: right;\n",
       "    }\n",
       "</style>\n",
       "<table border=\"1\" class=\"dataframe\">\n",
       "  <thead>\n",
       "    <tr style=\"text-align: right;\">\n",
       "      <th></th>\n",
       "      <th>hypothesis</th>\n",
       "      <th>RICE</th>\n",
       "    </tr>\n",
       "  </thead>\n",
       "  <tbody>\n",
       "    <tr>\n",
       "      <th>7</th>\n",
       "      <td>Добавить форму подписки на все основные страницы, чтобы собрать базу клиентов для email-рассылок</td>\n",
       "      <td>112.0</td>\n",
       "    </tr>\n",
       "    <tr>\n",
       "      <th>2</th>\n",
       "      <td>Добавить блоки рекомендаций товаров на сайт интернет магазина, чтобы повысить конверсию и средний чек заказа</td>\n",
       "      <td>56.0</td>\n",
       "    </tr>\n",
       "    <tr>\n",
       "      <th>0</th>\n",
       "      <td>Добавить два новых канала привлечения трафика, что позволит привлекать на 30% больше пользователей</td>\n",
       "      <td>40.0</td>\n",
       "    </tr>\n",
       "    <tr>\n",
       "      <th>6</th>\n",
       "      <td>Показать на главной странице баннеры с актуальными акциями и распродажами, чтобы увеличить конверсию</td>\n",
       "      <td>40.0</td>\n",
       "    </tr>\n",
       "    <tr>\n",
       "      <th>8</th>\n",
       "      <td>Запустить акцию, дающую скидку на товар в день рождения</td>\n",
       "      <td>16.2</td>\n",
       "    </tr>\n",
       "    <tr>\n",
       "      <th>3</th>\n",
       "      <td>Изменить структура категорий, что увеличит конверсию, т.к. пользователи быстрее найдут нужный товар</td>\n",
       "      <td>9.0</td>\n",
       "    </tr>\n",
       "    <tr>\n",
       "      <th>1</th>\n",
       "      <td>Запустить собственную службу доставки, что сократит срок доставки заказов</td>\n",
       "      <td>4.0</td>\n",
       "    </tr>\n",
       "    <tr>\n",
       "      <th>5</th>\n",
       "      <td>Добавить страницу отзывов клиентов о магазине, что позволит увеличить количество заказов</td>\n",
       "      <td>4.0</td>\n",
       "    </tr>\n",
       "    <tr>\n",
       "      <th>4</th>\n",
       "      <td>Изменить цвет фона главной страницы, чтобы увеличить вовлеченность пользователей</td>\n",
       "      <td>3.0</td>\n",
       "    </tr>\n",
       "  </tbody>\n",
       "</table>\n",
       "</div>"
      ],
      "text/plain": [
       "                                                                                                     hypothesis  \\\n",
       "7              Добавить форму подписки на все основные страницы, чтобы собрать базу клиентов для email-рассылок   \n",
       "2  Добавить блоки рекомендаций товаров на сайт интернет магазина, чтобы повысить конверсию и средний чек заказа   \n",
       "0            Добавить два новых канала привлечения трафика, что позволит привлекать на 30% больше пользователей   \n",
       "6          Показать на главной странице баннеры с актуальными акциями и распродажами, чтобы увеличить конверсию   \n",
       "8                                                       Запустить акцию, дающую скидку на товар в день рождения   \n",
       "3           Изменить структура категорий, что увеличит конверсию, т.к. пользователи быстрее найдут нужный товар   \n",
       "1                                     Запустить собственную службу доставки, что сократит срок доставки заказов   \n",
       "5                      Добавить страницу отзывов клиентов о магазине, что позволит увеличить количество заказов   \n",
       "4                              Изменить цвет фона главной страницы, чтобы увеличить вовлеченность пользователей   \n",
       "\n",
       "    RICE  \n",
       "7  112.0  \n",
       "2   56.0  \n",
       "0   40.0  \n",
       "6   40.0  \n",
       "8   16.2  \n",
       "3    9.0  \n",
       "1    4.0  \n",
       "5    4.0  \n",
       "4    3.0  "
      ]
     },
     "execution_count": 34,
     "metadata": {},
     "output_type": "execute_result"
    }
   ],
   "source": [
    "# выведем общую таблицы с гипотезами по убыванию приоритета RICE\n",
    "display(hypothesis.sort_values(by='RICE', ascending = False))\n",
    "\n",
    "# отсортируем по убыванию приоритета и выведем на экран только 2 столбца\n",
    "hypothesis[['hypothesis','RICE']].sort_values(by='RICE', ascending = False)\n",
    "\n"
   ]
  },
  {
   "cell_type": "markdown",
   "metadata": {},
   "source": [
    "Единоличное \"лидерство\" по RICE и самый высокий приоритет получила гипотеза с индексом 7, а вот лидирующая по ICE гипотеза 8, опустилась лишь на 5 место, в связи с самым низким, равным 1 параметром `reach`, в то время как у 7 гипотезы, например, этот параметр равен 10- максимуму, за счет чего ей и удалось занять 1 место ( в купе с высокими параметрами `impact` и `confidence` равными 7 и 8, соответсвенно и `efforts` равному 5). На второе место, обогнав гипотезы 0 и 6, поднялась гипотеза 2, в первую очередь за счёт высокого `reach` - 8 (охвата затронувщих пользователей) и низкого `efforts` (стоимости тестирования гипотезы). 3-4 места разделили гипотезы 0 и 6. Гипотеза 0 имеет максимальный `impact` равный 10 ( насколько сильно изменение повлияет на пользователей, их опыт и удовлетворение от продукта), по сравнению с 6 гипотезой, которая имеет `impact` равный 3. Но в том же время `efforts` (стоимость тестирования гипотезы) 6 гипотезы в 2 раза меньше, чем `efforts` гипотезы с индексом 0 ( 3 против 6), тем самым уравнивая друг друга в целом."
   ]
  },
  {
   "cell_type": "markdown",
   "metadata": {},
   "source": [
    "### Анализ A/B-теста\n",
    "\n",
    "Задача:\n",
    "\n",
    "Проанализировать A/B-тест:\n",
    "\n",
    "- Построить график кумулятивной выручки по группам. Сделать выводы и предположения.\n",
    "- Построить график кумулятивного среднего чека по группам. Сделать выводы и предположения.\n",
    "- Построить график относительного изменения кумулятивного среднего чека группы B к группе A. Сделать выводы и предположения.\n",
    "- Построить график кумулятивного среднего количества заказов на посетителя по группам. Сделать выводы и предположения.\n",
    "- Построить график относительного изменения кумулятивного среднего количества заказов на посетителя группы B к группе A. Сделать выводы и предположения.\n",
    "- Построить точечный график количества заказов по пользователям. Сделать выводы и предположения.\n",
    "- Посчитать 95-й и 99-й перцентили количества заказов на пользователя. Выбрать границу для определения аномальных пользователей.\n",
    "- Построить точечный график стоимостей заказов. Сделать выводы и предположения.\n",
    "- Посчитать 95-й и 99-й перцентили стоимости заказов. Выбрать границу для определения аномальных заказов.\n",
    "- Посчитать статистическую значимость различий в среднем количестве заказов на посетителя между группами по «сырым» данным. Сделать выводы и предположения.\n",
    "- Посчитать статистическую значимость различий в среднем чеке заказа между группами по «сырым» данным. Сделать выводы и предположения.\n",
    "- Посчитать статистическую значимость различий в среднем количестве заказов на посетителя между группами по «очищенным» данным. Сделать выводы и предположения.\n",
    "- Посчитать статистическую значимость различий в среднем чеке заказа между группами по «очищенным» данным. Сделать выводы и предположения.\n",
    "\n",
    "Принять решение по результатам теста и объяснить его. Варианты решений:\n",
    "\n",
    "1. Остановить тест, зафиксировать победу одной из групп.\n",
    "2. Остановить тест, зафиксировать отсутствие различий между группами.\n",
    "3. Продолжить тест.\n"
   ]
  },
  {
   "cell_type": "markdown",
   "metadata": {},
   "source": [
    "- Соберём кумулятивные данные в одну таблицу"
   ]
  },
  {
   "cell_type": "code",
   "execution_count": 35,
   "metadata": {},
   "outputs": [
    {
     "name": "stdout",
     "output_type": "stream",
     "text": [
      "        date group  orders  buyers  revenue  visitors\n",
      "0 2019-08-01     A      23      19   142779       719\n",
      "1 2019-08-01     B      17      17    59758       713\n",
      "2 2019-08-02     A      42      36   234381      1338\n",
      "3 2019-08-02     B      40      39   221801      1294\n",
      "4 2019-08-03     A      66      60   346854      1845\n"
     ]
    }
   ],
   "source": [
    "# создаем массив уникальных пар значений дат и групп теста\n",
    "datesGroups = orders[['date','group']].drop_duplicates()\n",
    "\n",
    "# получаем агрегированные кумулятивные по дням данные о заказах \n",
    "ordersAggregated = datesGroups.apply(lambda x: orders[np.logical_and(orders['date'] <= x['date'], orders['group'] == x['group'])].agg({'date' : 'max', 'group' : 'max', 'transaction_id' : 'nunique', 'visitor_id' : 'nunique', 'revenue' : 'sum'}), axis=1).sort_values(by=['date','group'])\n",
    "\n",
    "# получаем агрегированные кумулятивные по дням данные о посетителях интернет-магазина \n",
    "visitorsAggregated = datesGroups.apply(lambda x: visitors[np.logical_and(visitors['date'] <= x['date'], visitors['group'] == x['group'])].agg({'date' : 'max', 'group' : 'max', 'visitors' : 'sum'}), axis=1).sort_values(by=['date','group'])\n",
    "\n",
    "# объединяем кумулятивные данные в одной таблице и присваиваем ее столбцам понятные названия\n",
    "cumulativeData = ordersAggregated.merge(visitorsAggregated, left_on=['date', 'group'], right_on=['date', 'group'])\n",
    "cumulativeData.columns = ['date', 'group', 'orders', 'buyers', 'revenue', 'visitors']\n",
    "\n",
    "print(cumulativeData.head(5)) "
   ]
  },
  {
   "cell_type": "markdown",
   "metadata": {},
   "source": [
    "- Построим график кумулятивной выручки по группам. Сделаем выводы и предположения."
   ]
  },
  {
   "cell_type": "code",
   "execution_count": 36,
   "metadata": {},
   "outputs": [
    {
     "data": {
      "image/png": "[encoded data removed]",
      "text/plain": [
       "<Figure size 1080x360 with 1 Axes>"
      ]
     },
     "metadata": {
      "needs_background": "light"
     },
     "output_type": "display_data"
    }
   ],
   "source": [
    "# датафрейм с кумулятивным количеством заказов и кумулятивной выручкой по дням в группе А\n",
    "cumulativeRevenueA = cumulativeData[cumulativeData['group']=='A'][['date','revenue', 'orders']]\n",
    "\n",
    "# датафрейм с кумулятивным количеством заказов и кумулятивной выручкой по дням в группе B\n",
    "cumulativeRevenueB = cumulativeData[cumulativeData['group']=='B'][['date','revenue', 'orders']]\n",
    "\n",
    "# размеры графика\n",
    "plt.figure(figsize=(15,5))\n",
    "\n",
    "# Строим график выручки группы А\n",
    "plt.plot(cumulativeRevenueA['date'], cumulativeRevenueA['revenue'], label='A')\n",
    "\n",
    "# Строим график выручки группы B\n",
    "plt.plot(cumulativeRevenueB['date'], cumulativeRevenueB['revenue'], label='B')\n",
    "\n",
    "plt.legend() \n",
    "plt.title('График кумулятивной выручки')\n",
    "plt.xlabel('Дата')\n",
    "plt.ylabel('Выручка')\n",
    "plt.show()"
   ]
  },
  {
   "cell_type": "markdown",
   "metadata": {},
   "source": [
    "Выручка почти равномерно увеличивается в течение всего теста. Хороший знак. Однако график выручки группы B резко растет в одной точки. Это может сигнализировать о всплесках числа заказов, либо о появлении очень дорогих заказов в выборке. Группа А стабильно хуже по выручке на всем протяжении времени."
   ]
  },
  {
   "cell_type": "markdown",
   "metadata": {},
   "source": [
    "- Построим график кумулятивного среднего чека по группам. Сделаем выводы и предположения."
   ]
  },
  {
   "cell_type": "code",
   "execution_count": 37,
   "metadata": {},
   "outputs": [
    {
     "data": {
      "image/png": "[encoded data removed]",
      "text/plain": [
       "<Figure size 1080x360 with 1 Axes>"
      ]
     },
     "metadata": {
      "needs_background": "light"
     },
     "output_type": "display_data"
    }
   ],
   "source": [
    "# зададим размеры графика\n",
    "plt.figure(figsize=(15,5))\n",
    "\n",
    "# строим график среднего чека группы A\n",
    "plt.plot(cumulativeRevenueA['date'], cumulativeRevenueA['revenue']/cumulativeRevenueA['orders'], label='A')\n",
    "\n",
    "# строим график среднего чека группы B\n",
    "plt.plot(cumulativeRevenueB['date'], cumulativeRevenueB['revenue']/cumulativeRevenueB['orders'], label='B')\n",
    "\n",
    "plt.legend() \n",
    "plt.title('График кумулятивного среднего чека')\n",
    "plt.xlabel('Дата')\n",
    "plt.ylabel('Средний чек')\n",
    "plt.show()"
   ]
  },
  {
   "cell_type": "markdown",
   "metadata": {},
   "source": [
    "Средний чек становится равномерным ближе к концу теста: установился и для группы A и чуть падает для группы B. \n",
    "Так же для группы В наблюдается резкий скачок среднего чека в тот же день, что и скачок в выручке (18-19 августа).\n",
    "Возможно, это связано с попаданием крупных заказов в этот момент. Тогда ей нужно больше данных, чтобы прийти к реальному среднему чеку и установиться на его уровне."
   ]
  },
  {
   "cell_type": "markdown",
   "metadata": {},
   "source": [
    "- Построим график относительного изменения кумулятивного среднего чека группы B к группе A. Сделаем выводы и предположения."
   ]
  },
  {
   "cell_type": "code",
   "execution_count": 38,
   "metadata": {},
   "outputs": [
    {
     "data": {
      "image/png": "[encoded data removed]",
      "text/plain": [
       "<Figure size 1080x360 with 1 Axes>"
      ]
     },
     "metadata": {
      "needs_background": "light"
     },
     "output_type": "display_data"
    }
   ],
   "source": [
    "# собираем данные в одном датафрейме\n",
    "mergedCumulativeRevenue = cumulativeRevenueA.merge(cumulativeRevenueB, left_on='date', right_on='date', how='left', suffixes=['A', 'B'])\n",
    "\n",
    "# задаем размеры графика\n",
    "plt.figure(figsize=(15,5))\n",
    "\n",
    "# cтроим отношение средних чеков\n",
    "plt.plot(mergedCumulativeRevenue['date'], (mergedCumulativeRevenue['revenueB']/mergedCumulativeRevenue['ordersB'])/(mergedCumulativeRevenue['revenueA']/mergedCumulativeRevenue['ordersA'])-1)\n",
    "\n",
    "# добавляем ось X\n",
    "plt.axhline(y=0, color='black', linestyle='--') \n",
    "plt.title('График относительного изменения кумулятивного среднего чека группы B к группе A.')\n",
    "plt.xlabel('Дата')\n",
    "plt.ylabel('Относительное изменение')\n",
    "plt.show()"
   ]
  },
  {
   "cell_type": "markdown",
   "metadata": {},
   "source": [
    "В нескольких точках график различия между сегментами резко «скачет». Скорее всего это может значить о наличие крупных заказов и выбросов."
   ]
  },
  {
   "cell_type": "markdown",
   "metadata": {},
   "source": [
    "- Построим график кумулятивного среднего количества заказов на посетителя по группам. Сделаем выводы и предположения."
   ]
  },
  {
   "cell_type": "code",
   "execution_count": 39,
   "metadata": {},
   "outputs": [
    {
     "data": {
      "image/png": "[encoded data removed]",
      "text/plain": [
       "<Figure size 1080x360 with 1 Axes>"
      ]
     },
     "metadata": {
      "needs_background": "light"
     },
     "output_type": "display_data"
    }
   ],
   "source": [
    "# считаем среднее количество заказов на посетителя\n",
    "cumulativeData['conversion'] = cumulativeData['orders']/cumulativeData['visitors']\n",
    "\n",
    "# отделяем данные по группе A\n",
    "cumulativeDataA = cumulativeData[cumulativeData['group']=='A']\n",
    "\n",
    "# отделяем данные по группе B\n",
    "cumulativeDataB = cumulativeData[cumulativeData['group']=='B']\n",
    "\n",
    "# задаем размеры графика\n",
    "plt.figure(figsize=(15,5))\n",
    "\n",
    "# строим графики\n",
    "plt.plot(cumulativeDataA['date'], cumulativeDataA['conversion'], label='A')\n",
    "plt.plot(cumulativeDataB['date'], cumulativeDataB['conversion'], label='B')\n",
    "\n",
    "plt.title('График кумулятивного среднего количества заказов на посетителя')\n",
    "plt.xlabel('Дата')\n",
    "plt.ylabel('Среднее количество заказов')\n",
    "plt.legend()\n",
    "plt.show()\n",
    "\n"
   ]
  },
  {
   "cell_type": "markdown",
   "metadata": {},
   "source": [
    "Получился практически симметричный график. В начале наблюдались колебания, но затем у группы B среднее количество заказов вырвалось вперёд и примерно зафиксировалось в одной области/диапазоне, у группы B — просело, но тоже зафиксировалось."
   ]
  },
  {
   "cell_type": "markdown",
   "metadata": {},
   "source": [
    "- Построим график относительного изменения кумулятивного среднего количества заказов на посетителя группы B к группе A. Сделаем  выводы и предположения."
   ]
  },
  {
   "cell_type": "code",
   "execution_count": 40,
   "metadata": {},
   "outputs": [
    {
     "data": {
      "image/png": "[encoded data removed]",
      "text/plain": [
       "<Figure size 1080x360 with 1 Axes>"
      ]
     },
     "metadata": {
      "needs_background": "light"
     },
     "output_type": "display_data"
    }
   ],
   "source": [
    "# собираем данные в одном датафрейме\n",
    "mergedCumulativeConversions = cumulativeDataA[['date','conversion']].merge(cumulativeDataB[['date','conversion']], left_on='date', right_on='date', how='left', suffixes=['A', 'B'])\n",
    "\n",
    "# задаем размеры графика\n",
    "plt.figure(figsize=(15,5))\n",
    "\n",
    "# строим график\n",
    "plt.plot(mergedCumulativeConversions['date'], mergedCumulativeConversions['conversionB']/mergedCumulativeConversions['conversionA']-1, label=\"Относительный прирост кумулятивного среднего количества заказов на посетителя группы B относительно группы A\")\n",
    "plt.title('График относительного изменения кумулятивного среднего количества заказов на посетителя группы B к группе A.')\n",
    "plt.xlabel('Дата')\n",
    "plt.ylabel('Относительное изменение')\n",
    "plt.legend()\n",
    "\n",
    "plt.axhline(y=0, color='black', linestyle='--')\n",
    "plt.axhline(y=0.2, color='grey', linestyle='--')\n",
    "\n",
    "plt.show()"
   ]
  },
  {
   "cell_type": "markdown",
   "metadata": {},
   "source": [
    "В начале теста группа B проигрывала группе A, но затем значительно вырвалась вперёд (дойдя до максимально изменения в районе 20 % прироста относительно А). Далее среднее количество заказов на посетителя для группы B от макисмально достигавшего результата чуть уменьшалось (до 10-15%) и колеблется в этом районе."
   ]
  },
  {
   "cell_type": "markdown",
   "metadata": {},
   "source": [
    "- Построим точечный график количества заказов по пользователям. Сделаем выводы и предположения."
   ]
  },
  {
   "cell_type": "code",
   "execution_count": 41,
   "metadata": {},
   "outputs": [
    {
     "name": "stdout",
     "output_type": "stream",
     "text": [
      "        user_id  orders\n",
      "908  3967698036       3\n",
      "55    249864742       3\n",
      "478  2108163459       3\n",
      "687  2988190573       3\n",
      "890  3908431265       3\n",
      "138   611059232       3\n",
      "632  2742574263       3\n",
      "157   678354126       2\n",
      "323  1404560065       2\n",
      "452  1985475298       2\n"
     ]
    }
   ],
   "source": [
    "# сводная таблица для количества заказов по пользователям \n",
    "ordersByUsers = (\n",
    "    orders.groupby('visitor_id', as_index=False)\n",
    "    .agg({'transaction_id': 'nunique'})\n",
    ")\n",
    "\n",
    "# присвоим столбцам понятные названия\n",
    "ordersByUsers.columns = ['user_id', 'orders']\n",
    "\n",
    "# отсортируем по количеству заказов и выведем первые строки таблицы\n",
    "print(ordersByUsers.sort_values(by='orders', ascending=False).head(10))"
   ]
  },
  {
   "cell_type": "markdown",
   "metadata": {},
   "source": [
    "Есть пользователи, которые совершали 2,3 заказа. Больше, чем обычный пользователь за неделю."
   ]
  },
  {
   "cell_type": "code",
   "execution_count": 42,
   "metadata": {},
   "outputs": [
    {
     "data": {
      "image/png": "[encoded data removed]",
      "text/plain": [
       "<Figure size 432x288 with 1 Axes>"
      ]
     },
     "metadata": {
      "needs_background": "light"
     },
     "output_type": "display_data"
    }
   ],
   "source": [
    "# построим гистрограмму распределения количества заказов на одного пользователя\n",
    "plt.hist(ordersByUsers['orders']) \n",
    "plt.show()"
   ]
  },
  {
   "cell_type": "markdown",
   "metadata": {},
   "source": [
    "Большинство покупателей заказывали только один раз. Однако доля пользователей с 2 заказами тоже значительна. "
   ]
  },
  {
   "cell_type": "code",
   "execution_count": 43,
   "metadata": {},
   "outputs": [
    {
     "data": {
      "image/png": "[encoded data removed]",
      "text/plain": [
       "<Figure size 1080x360 with 1 Axes>"
      ]
     },
     "metadata": {
      "needs_background": "light"
     },
     "output_type": "display_data"
    }
   ],
   "source": [
    "# серия чисел от 0 до указанного в ordersByUsers\n",
    "x_values = pd.Series(range(0,len(ordersByUsers)))\n",
    "\n",
    "# задаем размеры графика\n",
    "plt.figure(figsize=(15,5))\n",
    "\n",
    "# построим точечную диаграмму числа заказов на одного пользователя\n",
    "plt.scatter(x_values, ordersByUsers['orders']) \n",
    "plt.title('График количества заказов по пользователям.')\n",
    "plt.xlabel('Количество пользователей')\n",
    "plt.ylabel('Количество заказов')\n",
    "plt.show()"
   ]
  },
  {
   "cell_type": "markdown",
   "metadata": {},
   "source": [
    "Предварительные выводы подтверждаются: большинство пользователей делают 1 заказ, более 2 заказаов наблюдается редко."
   ]
  },
  {
   "cell_type": "markdown",
   "metadata": {},
   "source": [
    "- Посчитаем 95-й и 99-й перцентили количества заказов на пользователя. Выберем границу для определения аномальных пользователей."
   ]
  },
  {
   "cell_type": "code",
   "execution_count": 44,
   "metadata": {},
   "outputs": [
    {
     "data": {
      "text/plain": [
       "array([1., 2.])"
      ]
     },
     "execution_count": 44,
     "metadata": {},
     "output_type": "execute_result"
    }
   ],
   "source": [
    "# посчитаем 95-й и 99-й перцентили количества заказов на пользователя\n",
    "np.percentile(ordersByUsers['orders'], [95, 99])"
   ]
  },
  {
   "cell_type": "markdown",
   "metadata": {},
   "source": [
    "Не более 5% пользователей оформляли больше чем 1 заказ. И лишь 1% пользователей заказывали более 2 раз. \n",
    "Выберем 2 заказа на одного пользователя за верхнюю границу числа заказов и отсеим аномальных пользователей по ней."
   ]
  },
  {
   "cell_type": "markdown",
   "metadata": {},
   "source": [
    "- Построим точечный график стоимостей заказов. Сделаем выводы и предположения."
   ]
  },
  {
   "cell_type": "code",
   "execution_count": 45,
   "metadata": {},
   "outputs": [
    {
     "data": {
      "text/html": [
       "<div>\n",
       "<style scoped>\n",
       "    .dataframe tbody tr th:only-of-type {\n",
       "        vertical-align: middle;\n",
       "    }\n",
       "\n",
       "    .dataframe tbody tr th {\n",
       "        vertical-align: top;\n",
       "    }\n",
       "\n",
       "    .dataframe thead th {\n",
       "        text-align: right;\n",
       "    }\n",
       "</style>\n",
       "<table border=\"1\" class=\"dataframe\">\n",
       "  <thead>\n",
       "    <tr style=\"text-align: right;\">\n",
       "      <th></th>\n",
       "      <th>visitor_id</th>\n",
       "      <th>revenue</th>\n",
       "    </tr>\n",
       "  </thead>\n",
       "  <tbody>\n",
       "    <tr>\n",
       "      <th>425</th>\n",
       "      <td>1920142716</td>\n",
       "      <td>1294500</td>\n",
       "    </tr>\n",
       "    <tr>\n",
       "      <th>1196</th>\n",
       "      <td>2108080724</td>\n",
       "      <td>202740</td>\n",
       "    </tr>\n",
       "    <tr>\n",
       "      <th>1136</th>\n",
       "      <td>1307669133</td>\n",
       "      <td>92550</td>\n",
       "    </tr>\n",
       "    <tr>\n",
       "      <th>744</th>\n",
       "      <td>888512513</td>\n",
       "      <td>86620</td>\n",
       "    </tr>\n",
       "    <tr>\n",
       "      <th>743</th>\n",
       "      <td>4133034833</td>\n",
       "      <td>67990</td>\n",
       "    </tr>\n",
       "    <tr>\n",
       "      <th>1103</th>\n",
       "      <td>1164614297</td>\n",
       "      <td>66350</td>\n",
       "    </tr>\n",
       "    <tr>\n",
       "      <th>1099</th>\n",
       "      <td>148427295</td>\n",
       "      <td>65710</td>\n",
       "    </tr>\n",
       "    <tr>\n",
       "      <th>949</th>\n",
       "      <td>887908475</td>\n",
       "      <td>60450</td>\n",
       "    </tr>\n",
       "    <tr>\n",
       "      <th>940</th>\n",
       "      <td>4003628586</td>\n",
       "      <td>58550</td>\n",
       "    </tr>\n",
       "    <tr>\n",
       "      <th>131</th>\n",
       "      <td>2254586615</td>\n",
       "      <td>53904</td>\n",
       "    </tr>\n",
       "  </tbody>\n",
       "</table>\n",
       "</div>"
      ],
      "text/plain": [
       "      visitor_id  revenue\n",
       "425   1920142716  1294500\n",
       "1196  2108080724   202740\n",
       "1136  1307669133    92550\n",
       "744    888512513    86620\n",
       "743   4133034833    67990\n",
       "1103  1164614297    66350\n",
       "1099   148427295    65710\n",
       "949    887908475    60450\n",
       "940   4003628586    58550\n",
       "131   2254586615    53904"
      ]
     },
     "execution_count": 45,
     "metadata": {},
     "output_type": "execute_result"
    }
   ],
   "source": [
    "# отсортируем стоимость заказов по убыванию и выведем первые строки таблицы\n",
    "orders[['visitor_id', 'revenue']].sort_values(by='revenue', ascending=False).head(10)"
   ]
  },
  {
   "cell_type": "markdown",
   "metadata": {},
   "source": [
    "Первые позиции занимают аномально дорогие покупки."
   ]
  },
  {
   "cell_type": "code",
   "execution_count": 46,
   "metadata": {},
   "outputs": [
    {
     "data": {
      "image/png": "[encoded data removed]",
      "text/plain": [
       "<Figure size 1080x360 with 1 Axes>"
      ]
     },
     "metadata": {
      "needs_background": "light"
     },
     "output_type": "display_data"
    }
   ],
   "source": [
    "# серия чисел от 0 до указанного в orders['revenue']\n",
    "x_values = pd.Series(range(0,len(orders['revenue'])))\n",
    "\n",
    "# задаем размеры графика\n",
    "plt.figure(figsize=(15,5))\n",
    "\n",
    "# построим точечную диаграмму числа заказов на одного пользователя\n",
    "plt.scatter(x_values, orders['revenue']) \n",
    "plt.ylim(0,100000)\n",
    "plt.title('График количества заказов по пользователям.')\n",
    "plt.xlabel('Количество пользователей')\n",
    "plt.ylabel('Стоимость заказов')\n",
    "plt.show()"
   ]
  },
  {
   "cell_type": "markdown",
   "metadata": {},
   "source": [
    "Заказы на 1,2 млн. и 200 тыс. сильно выбиваются.\\\n",
    "Ограничим график 100 тыс.руб и посмотрим ещё раз:\n",
    "Заказы свыше 20 тыс. редки.\\\n",
    "Для более детального анализа расчитаем перцентили и отсеим 5% наблюдений с крайними значениями."
   ]
  },
  {
   "cell_type": "markdown",
   "metadata": {},
   "source": [
    "- Посчитаем 95-й и 99-й перцентили стоимости заказов. Выберем границу для определения аномальных заказов."
   ]
  },
  {
   "cell_type": "code",
   "execution_count": 47,
   "metadata": {},
   "outputs": [
    {
     "data": {
      "text/plain": [
       "array([26785., 53904.])"
      ]
     },
     "execution_count": 47,
     "metadata": {},
     "output_type": "execute_result"
    }
   ],
   "source": [
    "np.percentile(orders['revenue'], [95, 99])"
   ]
  },
  {
   "cell_type": "markdown",
   "metadata": {},
   "source": [
    "Не более 5% заказов дороже 26 785 рублей и не более 1% дороже 53 904 рублей. Выберем 30000 рублей за верхнюю границу стоимости заказов и отсеим аномальных пользователей по ней."
   ]
  },
  {
   "cell_type": "markdown",
   "metadata": {},
   "source": [
    "- Посчитаем статистическую значимость различий в среднем количестве заказов на посетителя между группами по «сырым» данным. Сделаем выводы и предположения."
   ]
  },
  {
   "cell_type": "code",
   "execution_count": 48,
   "metadata": {},
   "outputs": [
    {
     "data": {
      "text/html": [
       "<div>\n",
       "<style scoped>\n",
       "    .dataframe tbody tr th:only-of-type {\n",
       "        vertical-align: middle;\n",
       "    }\n",
       "\n",
       "    .dataframe tbody tr th {\n",
       "        vertical-align: top;\n",
       "    }\n",
       "\n",
       "    .dataframe thead th {\n",
       "        text-align: right;\n",
       "    }\n",
       "</style>\n",
       "<table border=\"1\" class=\"dataframe\">\n",
       "  <thead>\n",
       "    <tr style=\"text-align: right;\">\n",
       "      <th></th>\n",
       "      <th>date</th>\n",
       "      <th>ordersPerDateA</th>\n",
       "      <th>revenuePerDateA</th>\n",
       "      <th>ordersPerDateB</th>\n",
       "      <th>revenuePerDateB</th>\n",
       "      <th>ordersCummulativeA</th>\n",
       "      <th>revenueCummulativeA</th>\n",
       "      <th>ordersCummulativeB</th>\n",
       "      <th>revenueCummulativeB</th>\n",
       "      <th>visitorsPerDateA</th>\n",
       "      <th>visitorsPerDateB</th>\n",
       "      <th>visitorsCummulativeA</th>\n",
       "      <th>visitorsCummulativeB</th>\n",
       "    </tr>\n",
       "  </thead>\n",
       "  <tbody>\n",
       "    <tr>\n",
       "      <th>0</th>\n",
       "      <td>2019-08-01</td>\n",
       "      <td>23</td>\n",
       "      <td>142779</td>\n",
       "      <td>17</td>\n",
       "      <td>59758</td>\n",
       "      <td>23</td>\n",
       "      <td>142779</td>\n",
       "      <td>17</td>\n",
       "      <td>59758</td>\n",
       "      <td>719</td>\n",
       "      <td>713</td>\n",
       "      <td>719</td>\n",
       "      <td>713</td>\n",
       "    </tr>\n",
       "    <tr>\n",
       "      <th>1</th>\n",
       "      <td>2019-08-02</td>\n",
       "      <td>19</td>\n",
       "      <td>91602</td>\n",
       "      <td>23</td>\n",
       "      <td>162043</td>\n",
       "      <td>42</td>\n",
       "      <td>234381</td>\n",
       "      <td>40</td>\n",
       "      <td>221801</td>\n",
       "      <td>619</td>\n",
       "      <td>581</td>\n",
       "      <td>1338</td>\n",
       "      <td>1294</td>\n",
       "    </tr>\n",
       "    <tr>\n",
       "      <th>2</th>\n",
       "      <td>2019-08-03</td>\n",
       "      <td>24</td>\n",
       "      <td>112473</td>\n",
       "      <td>14</td>\n",
       "      <td>67049</td>\n",
       "      <td>66</td>\n",
       "      <td>346854</td>\n",
       "      <td>54</td>\n",
       "      <td>288850</td>\n",
       "      <td>507</td>\n",
       "      <td>509</td>\n",
       "      <td>1845</td>\n",
       "      <td>1803</td>\n",
       "    </tr>\n",
       "    <tr>\n",
       "      <th>3</th>\n",
       "      <td>2019-08-04</td>\n",
       "      <td>11</td>\n",
       "      <td>41176</td>\n",
       "      <td>14</td>\n",
       "      <td>96890</td>\n",
       "      <td>77</td>\n",
       "      <td>388030</td>\n",
       "      <td>68</td>\n",
       "      <td>385740</td>\n",
       "      <td>717</td>\n",
       "      <td>770</td>\n",
       "      <td>2562</td>\n",
       "      <td>2573</td>\n",
       "    </tr>\n",
       "    <tr>\n",
       "      <th>4</th>\n",
       "      <td>2019-08-05</td>\n",
       "      <td>22</td>\n",
       "      <td>86383</td>\n",
       "      <td>21</td>\n",
       "      <td>89908</td>\n",
       "      <td>99</td>\n",
       "      <td>474413</td>\n",
       "      <td>89</td>\n",
       "      <td>475648</td>\n",
       "      <td>756</td>\n",
       "      <td>707</td>\n",
       "      <td>3318</td>\n",
       "      <td>3280</td>\n",
       "    </tr>\n",
       "  </tbody>\n",
       "</table>\n",
       "</div>"
      ],
      "text/plain": [
       "        date  ordersPerDateA  revenuePerDateA  ordersPerDateB  \\\n",
       "0 2019-08-01              23           142779              17   \n",
       "1 2019-08-02              19            91602              23   \n",
       "2 2019-08-03              24           112473              14   \n",
       "3 2019-08-04              11            41176              14   \n",
       "4 2019-08-05              22            86383              21   \n",
       "\n",
       "   revenuePerDateB  ordersCummulativeA  revenueCummulativeA  \\\n",
       "0            59758                  23               142779   \n",
       "1           162043                  42               234381   \n",
       "2            67049                  66               346854   \n",
       "3            96890                  77               388030   \n",
       "4            89908                  99               474413   \n",
       "\n",
       "   ordersCummulativeB  revenueCummulativeB  visitorsPerDateA  \\\n",
       "0                  17                59758               719   \n",
       "1                  40               221801               619   \n",
       "2                  54               288850               507   \n",
       "3                  68               385740               717   \n",
       "4                  89               475648               756   \n",
       "\n",
       "   visitorsPerDateB  visitorsCummulativeA  visitorsCummulativeB  \n",
       "0               713                   719                   713  \n",
       "1               581                  1338                  1294  \n",
       "2               509                  1845                  1803  \n",
       "3               770                  2562                  2573  \n",
       "4               707                  3318                  3280  "
      ]
     },
     "execution_count": 48,
     "metadata": {},
     "output_type": "execute_result"
    }
   ],
   "source": [
    "# подготовим данные\n",
    "# количество пользователей в выбранную дату в группе A\n",
    "visitorsADaily = visitors[visitors['group'] == 'A'][['date', 'visitors']]\n",
    "visitorsADaily.columns = ['date', 'visitorsPerDateA']\n",
    "\n",
    "#  количество пользователей до выбранной даты включительно в группе A\n",
    "visitorsACummulative = visitorsADaily.apply(\n",
    "    lambda x: visitorsADaily[visitorsADaily['date'] <= x['date']].agg(\n",
    "        {'date': 'max', 'visitorsPerDateA': 'sum'}\n",
    "    ),\n",
    "    axis=1,\n",
    ")\n",
    "visitorsACummulative.columns = ['date', 'visitorsCummulativeA']\n",
    "\n",
    "# количество пользователей в выбранную дату в группе B\n",
    "visitorsBDaily = visitors[visitors['group'] == 'B'][['date', 'visitors']]\n",
    "visitorsBDaily.columns = ['date', 'visitorsPerDateB']\n",
    "\n",
    "# количество пользователей до выбранной даты включительно в группе B\n",
    "visitorsBCummulative = visitorsBDaily.apply(\n",
    "    lambda x: visitorsBDaily[visitorsBDaily['date'] <= x['date']].agg(\n",
    "        {'date': 'max', 'visitorsPerDateB': 'sum'}\n",
    "    ),\n",
    "    axis=1,\n",
    ")\n",
    "visitorsBCummulative.columns = ['date', 'visitorsCummulativeB']\n",
    "\n",
    "# количество заказов в выбранную дату в группе A и суммарная выручка в выбранную дату в группе A\n",
    "ordersADaily = (\n",
    "    orders[orders['group'] == 'A'][['date', 'transaction_id', 'visitor_id', 'revenue']]\n",
    "    .groupby('date', as_index=False)\n",
    "    .agg({'transaction_id': pd.Series.nunique, 'revenue': 'sum'})\n",
    ")\n",
    "ordersADaily.columns = ['date', 'ordersPerDateA', 'revenuePerDateA']\n",
    "\n",
    "#  суммарное число заказов до выбранной даты включительно в группе A суммарная выручка до выбранной даты включительно в группе A\n",
    "ordersACummulative = ordersADaily.apply(\n",
    "    lambda x: ordersADaily[ordersADaily['date'] <= x['date']].agg(\n",
    "        {'date': 'max', 'ordersPerDateA': 'sum', 'revenuePerDateA': 'sum'}\n",
    "    ),\n",
    "    axis=1,\n",
    ").sort_values(by=['date'])\n",
    "ordersACummulative.columns = [\n",
    "    'date',\n",
    "    'ordersCummulativeA',\n",
    "    'revenueCummulativeA',\n",
    "]\n",
    "\n",
    "# количество заказов в выбранную дату в группе B суммарная выручка в выбранную дату в группе B суммарная выручка до выбранной даты включительно в группе B;\n",
    "ordersBDaily = (\n",
    "    orders[orders['group'] == 'B'][['date', 'transaction_id', 'visitor_id', 'revenue']]\n",
    "    .groupby('date', as_index=False)\n",
    "    .agg({'transaction_id': pd.Series.nunique, 'revenue': 'sum'})\n",
    ")\n",
    "ordersBDaily.columns = ['date', 'ordersPerDateB', 'revenuePerDateB']\n",
    "\n",
    "#  суммарное количество заказов до выбранной даты включительно в группе B\n",
    "ordersBCummulative = ordersBDaily.apply(\n",
    "    lambda x: ordersBDaily[ordersBDaily['date'] <= x['date']].agg(\n",
    "        {'date': 'max', 'ordersPerDateB': 'sum', 'revenuePerDateB': 'sum'}\n",
    "    ),\n",
    "    axis=1,\n",
    ").sort_values(by=['date'])\n",
    "ordersBCummulative.columns = [\n",
    "    'date',\n",
    "    'ordersCummulativeB',\n",
    "    'revenueCummulativeB',\n",
    "]\n",
    "\n",
    "# объединим данные в одну таблицу\n",
    "data = (\n",
    "    ordersADaily.merge(\n",
    "        ordersBDaily, left_on='date', right_on='date', how='left'\n",
    "    )\n",
    "    .merge(ordersACummulative, left_on='date', right_on='date', how='left')\n",
    "    .merge(ordersBCummulative, left_on='date', right_on='date', how='left')\n",
    "    .merge(visitorsADaily, left_on='date', right_on='date', how='left')\n",
    "    .merge(visitorsBDaily, left_on='date', right_on='date', how='left')\n",
    "    .merge(visitorsACummulative, left_on='date', right_on='date', how='left')\n",
    "    .merge(visitorsBCummulative, left_on='date', right_on='date', how='left')\n",
    ")\n",
    "\n",
    "# выведем первые строки на экран\n",
    "data.head(5) "
   ]
  },
  {
   "cell_type": "code",
   "execution_count": 49,
   "metadata": {},
   "outputs": [],
   "source": [
    "# cоздадим переменные ordersByUsersA и ordersByUsersB со столбцами ['userId', 'orders']\n",
    "# В них для пользователей, которые заказывали хотя бы 1 раз, укажем число совершённых заказов\n",
    "ordersByUsersA = (\n",
    "    orders[orders['group'] == 'A']\n",
    "    .groupby('visitor_id', as_index=False)\n",
    "    .agg({'transaction_id': pd.Series.nunique})\n",
    ")\n",
    "ordersByUsersA.columns = ['user_id', 'orders']\n",
    "\n",
    "ordersByUsersB = (\n",
    "    orders[orders['group'] == 'B']\n",
    "    .groupby('visitor_id', as_index=False)\n",
    "    .agg({'transaction_id': pd.Series.nunique})\n",
    ")\n",
    "ordersByUsersB.columns = ['user_id', 'orders'] \n",
    "\n",
    "# Объявим переменные sampleA и sampleB, в которых пользователям с заказами будет соответствовать число заказов пользователя\n",
    "sampleA = pd.concat(\n",
    "    [\n",
    "        ordersByUsersA['orders'],\n",
    "        pd.Series(\n",
    "            0,\n",
    "            index=np.arange(\n",
    "                data['visitorsPerDateA'].sum() - len(ordersByUsersA['orders'])\n",
    "            ),\n",
    "            name='orders',\n",
    "        ),\n",
    "    ],\n",
    "    axis=0,\n",
    ")\n",
    "\n",
    "sampleB = pd.concat(\n",
    "    [\n",
    "        ordersByUsersB['orders'],\n",
    "        pd.Series(\n",
    "            0,\n",
    "            index=np.arange(\n",
    "                data['visitorsPerDateB'].sum() - len(ordersByUsersB['orders'])\n",
    "            ),\n",
    "            name='orders',\n",
    "        ),\n",
    "    ],\n",
    "    axis=0,\n",
    ")\n"
   ]
  },
  {
   "cell_type": "markdown",
   "metadata": {},
   "source": [
    "Сформулируем гипотезы.\\\n",
    "Нулевая: различий в среднем количестве заказов между группами нет.\\\n",
    "Альтернативная: различия в среднем между группами есть."
   ]
  },
  {
   "cell_type": "code",
   "execution_count": 50,
   "metadata": {},
   "outputs": [
    {
     "name": "stdout",
     "output_type": "stream",
     "text": [
      "p-value: 0.011\n",
      "0.160\n"
     ]
    }
   ],
   "source": [
    "# посчитаем статистическую значимость различия среднего количества заказов по результатам теста. Применим тест Манна-Уитни. \n",
    "# выведим p-value для сравнения среднего между группами\n",
    "print(\"p-value: {0:.3f}\".format(st.mannwhitneyu(sampleA, sampleB)[1]))\n",
    "\n",
    "# выведем относительное различие в среднем между группами\n",
    "print(\"{0:.3f}\".format(sampleB.mean() / sampleA.mean() - 1))"
   ]
  },
  {
   "cell_type": "markdown",
   "metadata": {},
   "source": [
    "P-value меньше 0.05, потому нулевую гипотезу отвергаем. Анализ \"сырых данных\" говорит нам о том, что между в среднем количестве заказов между группами есть статистически значимые различия. Относительный прирост среднего группы В к конверсии группы А равен 16 %."
   ]
  },
  {
   "cell_type": "markdown",
   "metadata": {},
   "source": [
    "- Посчитаем статистическую значимость различий в среднем чеке заказа между группами по «сырым» данным. Сделаем выводы и предположения."
   ]
  },
  {
   "cell_type": "markdown",
   "metadata": {},
   "source": [
    "Нулевая гипотеза: различий в среднем чеке между группами нет.\\\n",
    "Альтернативная гипотеза: различия в среднем чеке между группами есть. "
   ]
  },
  {
   "cell_type": "code",
   "execution_count": 51,
   "metadata": {},
   "outputs": [
    {
     "name": "stdout",
     "output_type": "stream",
     "text": [
      "p-value: 0.829\n",
      "0.287\n"
     ]
    }
   ],
   "source": [
    "# Посчитаем статистическую значимость различия средних чеков между группами. \n",
    "# Выведем p-value для сравнения средних чеков между группами\n",
    "print('p-value: {0:.3f}'.format(st.mannwhitneyu(orders[orders['group']=='A']['revenue'], orders[orders['group']=='B']['revenue'])[1]))\n",
    "\n",
    "# относительный прирост среднего чека группы B\n",
    "print('{0:.3f}'.format(orders[orders['group']=='B']['revenue'].mean()/orders[orders['group']=='A']['revenue'].mean()-1))"
   ]
  },
  {
   "cell_type": "markdown",
   "metadata": {},
   "source": [
    "P-value больше 0.05 - принимаем нулевую гипотезу. Статистически значимых различий в среднем чеке между группами нет, несмотря на относительное различие среднего чека между сегментами в 28.7%."
   ]
  },
  {
   "cell_type": "markdown",
   "metadata": {},
   "source": [
    "- Посчитаем статистическую значимость различий в среднем количестве заказов на посетителя между группами по «очищенным» данным. Сделаем выводы и предположения."
   ]
  },
  {
   "cell_type": "markdown",
   "metadata": {},
   "source": [
    "Сделаем срезы пользователей с числом заказов больше 2 — `usersWithManyOrders` и пользователей, совершивших заказы дороже 30 000 — `usersWithExpensiveOrders`. Объединим их в таблице `abnormalUsers`.\\\n",
    "Узнаем, сколько всего аномальных пользователей атрибутом `shape`."
   ]
  },
  {
   "cell_type": "code",
   "execution_count": 52,
   "metadata": {},
   "outputs": [
    {
     "name": "stdout",
     "output_type": "stream",
     "text": [
      "1099    148427295\n",
      "928     204675465\n",
      "33      249864742\n",
      "684     358944393\n",
      "648     382846391\n",
      "dtype: int64\n",
      "49\n"
     ]
    }
   ],
   "source": [
    "usersWithManyOrders = pd.concat(\n",
    "    [\n",
    "        ordersByUsersA[ordersByUsersA['orders'] > 2]['user_id'],\n",
    "        ordersByUsersB[ordersByUsersB['orders'] > 2]['user_id'],\n",
    "    ],\n",
    "    axis=0,\n",
    ")\n",
    "usersWithExpensiveOrders = orders[orders['revenue'] > 30000]['visitor_id']\n",
    "abnormalUsers = (\n",
    "    pd.concat([usersWithManyOrders, usersWithExpensiveOrders], axis=0)\n",
    "    .drop_duplicates()\n",
    "    .sort_values()\n",
    ")\n",
    "print(abnormalUsers.head(5))\n",
    "print(abnormalUsers.shape[0]) "
   ]
  },
  {
   "cell_type": "markdown",
   "metadata": {},
   "source": [
    "Всего аномальных пользователей 49. "
   ]
  },
  {
   "cell_type": "code",
   "execution_count": 53,
   "metadata": {},
   "outputs": [],
   "source": [
    "# подготовим выборки очищенных данных количества заказов по пользователям по группам теста\n",
    "sampleAFiltered = pd.concat(\n",
    "    [\n",
    "        ordersByUsersA[\n",
    "            np.logical_not(ordersByUsersA['user_id'].isin(abnormalUsers))\n",
    "        ]['orders'],\n",
    "        pd.Series(\n",
    "            0,\n",
    "            index=np.arange(\n",
    "                data['visitorsPerDateA'].sum() - len(ordersByUsersA['orders'])\n",
    "            ),\n",
    "            name='orders',\n",
    "        ),\n",
    "    ],\n",
    "    axis=0,\n",
    ")\n",
    "\n",
    "sampleBFiltered = pd.concat(\n",
    "    [\n",
    "        ordersByUsersB[\n",
    "            np.logical_not(ordersByUsersB['user_id'].isin(abnormalUsers))\n",
    "        ]['orders'],\n",
    "        pd.Series(\n",
    "            0,\n",
    "            index=np.arange(\n",
    "                data['visitorsPerDateB'].sum() - len(ordersByUsersB['orders'])\n",
    "            ),\n",
    "            name='orders',\n",
    "        ),\n",
    "    ],\n",
    "    axis=0,\n",
    ") \n"
   ]
  },
  {
   "cell_type": "code",
   "execution_count": 54,
   "metadata": {},
   "outputs": [
    {
     "name": "stdout",
     "output_type": "stream",
     "text": [
      "p-value:0.010\n",
      "0.187\n"
     ]
    }
   ],
   "source": [
    "# посчитаем статистическую значимость различий в среднем количестве заказов между группами теста по очищенным данным\n",
    "print('p-value:{0:.3f}'.format(st.mannwhitneyu(sampleAFiltered, sampleBFiltered)[1]))\n",
    "print('{0:.3f}'.format(sampleBFiltered.mean()/sampleAFiltered.mean()-1)) "
   ]
  },
  {
   "cell_type": "markdown",
   "metadata": {},
   "source": [
    "Как и в случае с \"сырыми данными\" статистическая значимость достигнута. Отвергаем нулевую гипотезу. Сегмент B значительно лучше сегмента А. Относительный прирост среднего группы В к конверсии группы А увеличился до 18.7 %."
   ]
  },
  {
   "cell_type": "markdown",
   "metadata": {},
   "source": [
    "- Посчитаем статистическую значимость различий в среднем чеке заказа между группами по «очищенным» данным. Сделаем выводы и предположения."
   ]
  },
  {
   "cell_type": "code",
   "execution_count": 55,
   "metadata": {},
   "outputs": [
    {
     "name": "stdout",
     "output_type": "stream",
     "text": [
      "p-value : 0.741\n",
      "-0.027\n"
     ]
    }
   ],
   "source": [
    "# посчитаем статистическую значимость различий в среднем чеке заказа между группами по «очищенным» данным.\n",
    "print(\n",
    "    'p-value : {0:.3f}'.format(\n",
    "        st.mannwhitneyu(\n",
    "            orders[\n",
    "                np.logical_and(\n",
    "                    orders['group'] == 'A',\n",
    "                    np.logical_not(orders['visitor_id'].isin(abnormalUsers)),\n",
    "                )\n",
    "            ]['revenue'],\n",
    "            orders[\n",
    "                np.logical_and(\n",
    "                    orders['group'] == 'B',\n",
    "                    np.logical_not(orders['visitor_id'].isin(abnormalUsers)),\n",
    "                )\n",
    "            ]['revenue'],\n",
    "        )[1]\n",
    "    )\n",
    ")\n",
    "\n",
    "print(\n",
    "    \"{0:.3f}\".format(\n",
    "        orders[\n",
    "            np.logical_and(\n",
    "                orders['group'] == 'B',\n",
    "                np.logical_not(orders['visitor_id'].isin(abnormalUsers)),\n",
    "            )\n",
    "        ]['revenue'].mean()\n",
    "        / orders[\n",
    "            np.logical_and(\n",
    "                orders['group'] == 'A',\n",
    "                np.logical_not(orders['visitor_id'].isin(abnormalUsers)),\n",
    "            )\n",
    "        ]['revenue'].mean()\n",
    "        - 1\n",
    "    )\n",
    ")"
   ]
  },
  {
   "cell_type": "markdown",
   "metadata": {},
   "source": [
    "Как и в случае с \"сырыми данными\" p-value значительно больше 0.05 - принимаем нулевую гипотезу. Наблюдаемое различие в 2.7% в среднем чеке между группами А и В не является статистически значимым."
   ]
  },
  {
   "cell_type": "markdown",
   "metadata": {},
   "source": [
    "- Принятие решения по результатам теста:\n",
    "\n",
    "В результате проведенного А/В теста мы получили такие результаты :\n",
    "- Есть статистически значимое различие по конверсии между группами как по сырым данным, так и после фильтрации аномалий.\n",
    "- Несмотря на то, что средний чек в абсолютном значении группы В отличается на 28.7% от группы А статистически значимого различия по среднему чеку между группами нет. После удаления аномалий статистически значимое различие не появилось, а средний чек группы В оказался на 2.7 % ниже группы А.\n",
    "- График различия конверсии между группами сообщает, что результаты группы B лучше группы A: имеют тенденцию к росту, либо зафиксировались около среднего значения.\n",
    "- График различия среднего чека колеблется: он и позволил найти аномалии. Сделать из этого графика определённые выводы нельзя.\n",
    "\n",
    "Исходя из вышеперечисленного предлагаю принять тест успешным, зафиксировав победу за В и остановить тест."
   ]
  },
  {
   "cell_type": "markdown",
   "metadata": {},
   "source": [
    "### Вывод\n",
    "\n",
    "В результате анализа 9 гипотез и А/В теста для увеличения выручки крупного интернет-магазина было определено:\n",
    "\n",
    "**Приоритизация гипотез**\n",
    "\n",
    "Приоритизация осуществлялась по 2 фреймворкам : ICE и RICE.\n",
    "\n",
    "ТОП-5 наиболее перспективные гипотезы по ICE:\n",
    "1. Запустить акцию, дающую скидку на товар в день рождения. Гипотеза № 9\n",
    "2. Добавить два новых канала привлечения трафика, что позволит привлекать на 30% больше пользователей. Гипотеза № 1\n",
    "3. Добавить форму подписки на все основные страницы, чтобы собрать базу клиентов для email-рассылок. Гипотеза № 8\n",
    "4. Показать на главной странице баннеры с актуальными акциями и распродажами, чтобы увеличить конверсию. Гипотеза № 7\n",
    "5. Добавить блоки рекомендаций товаров на сайт интернет магазина, чтобы повысить конверсию и средний чек заказа. Гипотеза № 3 \n",
    "\n",
    "ТОП-5 наиболее перспективные гипотезы по RICE:\n",
    "1. Добавить форму подписки на все основные страницы, чтобы собрать базу клиентов для email-рассылок. Гипотеза № 8\n",
    "\n",
    "2. Добавить блоки рекомендаций товаров на сайт интернет магазина, чтобы повысить конверсию и средний чек заказа. Гипотеза № 3\n",
    "\n",
    "3. Добавить два новых канала привлечения трафика, что позволит привлекать на 30% больше пользователей. Гипотеза № 1\n",
    "\n",
    "4. Показать на главной странице баннеры с актуальными акциями и распродажами, чтобы увеличить конверсию. Гипотеза № 7\n",
    "\n",
    "5. Запустить акцию, дающую скидку на товар в день рождения. Гипотеза № 9\n",
    "\n",
    "Как видно из рейтинга, распределение мест изменилось при применении фреймворка RICE относительно ICE. В первую очередь, это связано с добавлением параметра `reach` - параметр, учитывающий охват пользователей, которых эта гипотеза затронет. Так, гипотеза №8 (добавление формы подписки на все основные страницы, чтобы собрать базу клиентов для email-рассылок) затрагивает всех пользователей, поэтому охват будет макисмальный, а гипотеза №9 (запустить акцию, дающую скидку на товар в день рождения) затронет лишь её небольшую часть, в связи с чем охват будет минимальный. Так, происходит перераспределение мест в зависимости об выбранного компанией фреймворка.\n",
    "\n",
    "**Анализ A/B-теста** \n",
    "\n",
    "Анализ A/B-теста показал следующее :\n",
    "\n",
    "- Не более 5% пользователей оформляли больше 1 заказов и не более 1% более 2 заказов.\n",
    "- Стоимость заказов дороже 26 785 рублей составляет лишь 5% от общего цисла заказов, а дороже 53 904 рублей не более 1 %\n",
    "- Есть статистически значимое различие по конверсии между группами как по сырым данным, так и после фильтрации аномалий.Относительный прирост среднего группы В к конверсии группы А равен 16 %\n",
    "- Несмотря на то, что средний чек в абсолютном значении группы В отличается на 28.7% от группы А статистически значимого различия по среднему чеку между группами нет. После удаления аномалий статистически значимое различие не появилось, а средний чек группы В оказался на 2.7% ниже группы А.\n",
    "- График различия конверсии между группами сообщает, что результаты группы B лучше группы A: имеют тенденцию к росту, либо зафиксировались около среднего значения.\n",
    "- График различия среднего чека колеблется: он и позволил найти аномалии. Сделать из этого графика определённые выводы нельзя.\n",
    "\n",
    "**Исходя из вышеперечисленного** предлагаю принять тест успешным, зафиксировав победу за В и остановить тест."
   ]
  }
 ],
 "metadata": {
  "ExecuteTimeLog": [
   {
    "duration": 1295,
    "start_time": "2024-05-26T20:36:11.520Z"
   },
   {
    "duration": 3,
    "start_time": "2024-05-26T20:37:05.669Z"
   },
   {
    "duration": 223,
    "start_time": "2024-05-26T20:58:41.407Z"
   },
   {
    "duration": 11,
    "start_time": "2024-05-26T21:20:06.171Z"
   },
   {
    "duration": 11,
    "start_time": "2024-05-26T21:21:55.118Z"
   },
   {
    "duration": 58,
    "start_time": "2024-05-26T21:40:03.840Z"
   },
   {
    "duration": 5,
    "start_time": "2024-05-26T21:40:53.364Z"
   },
   {
    "duration": 6,
    "start_time": "2024-05-26T21:41:23.924Z"
   },
   {
    "duration": 10,
    "start_time": "2024-05-26T21:43:02.908Z"
   },
   {
    "duration": 8,
    "start_time": "2024-05-26T21:43:07.682Z"
   },
   {
    "duration": 5,
    "start_time": "2024-05-26T21:47:16.147Z"
   },
   {
    "duration": 5,
    "start_time": "2024-05-26T21:47:18.755Z"
   },
   {
    "duration": 10,
    "start_time": "2024-05-26T21:48:37.049Z"
   },
   {
    "duration": 7,
    "start_time": "2024-05-26T21:52:34.036Z"
   },
   {
    "duration": 4,
    "start_time": "2024-05-26T21:52:56.646Z"
   },
   {
    "duration": 6,
    "start_time": "2024-05-26T21:53:30.850Z"
   },
   {
    "duration": 1064,
    "start_time": "2024-05-26T21:56:17.472Z"
   },
   {
    "duration": 73,
    "start_time": "2024-05-26T21:56:18.538Z"
   },
   {
    "duration": 10,
    "start_time": "2024-05-26T21:56:18.613Z"
   },
   {
    "duration": 9,
    "start_time": "2024-05-26T21:56:18.625Z"
   },
   {
    "duration": 4,
    "start_time": "2024-05-26T21:56:18.636Z"
   },
   {
    "duration": 7,
    "start_time": "2024-05-26T21:56:18.641Z"
   },
   {
    "duration": 9,
    "start_time": "2024-05-26T21:56:18.650Z"
   },
   {
    "duration": 9,
    "start_time": "2024-05-26T21:56:18.660Z"
   },
   {
    "duration": 11,
    "start_time": "2024-05-26T21:56:18.670Z"
   },
   {
    "duration": 5,
    "start_time": "2024-05-26T21:56:18.684Z"
   },
   {
    "duration": 22,
    "start_time": "2024-05-26T21:56:18.690Z"
   },
   {
    "duration": 7,
    "start_time": "2024-05-26T21:56:18.714Z"
   },
   {
    "duration": 4,
    "start_time": "2024-05-26T21:56:18.723Z"
   },
   {
    "duration": 7,
    "start_time": "2024-05-26T21:56:18.744Z"
   },
   {
    "duration": 310,
    "start_time": "2024-05-26T22:00:03.023Z"
   },
   {
    "duration": 1101,
    "start_time": "2024-05-26T22:01:02.819Z"
   },
   {
    "duration": 73,
    "start_time": "2024-05-26T22:01:03.922Z"
   },
   {
    "duration": 13,
    "start_time": "2024-05-26T22:01:03.997Z"
   },
   {
    "duration": 71,
    "start_time": "2024-05-26T22:01:04.012Z"
   },
   {
    "duration": 5,
    "start_time": "2024-05-26T22:01:04.085Z"
   },
   {
    "duration": 18,
    "start_time": "2024-05-26T22:01:04.091Z"
   },
   {
    "duration": 20,
    "start_time": "2024-05-26T22:01:04.110Z"
   },
   {
    "duration": 7,
    "start_time": "2024-05-26T22:01:04.131Z"
   },
   {
    "duration": 10,
    "start_time": "2024-05-26T22:01:04.140Z"
   },
   {
    "duration": 5,
    "start_time": "2024-05-26T22:01:04.153Z"
   },
   {
    "duration": 10,
    "start_time": "2024-05-26T22:01:04.159Z"
   },
   {
    "duration": 36,
    "start_time": "2024-05-26T22:01:04.170Z"
   },
   {
    "duration": 9,
    "start_time": "2024-05-26T22:01:04.207Z"
   },
   {
    "duration": 10,
    "start_time": "2024-05-26T22:01:04.217Z"
   },
   {
    "duration": 12,
    "start_time": "2024-05-26T22:01:04.228Z"
   },
   {
    "duration": 9,
    "start_time": "2024-05-26T22:01:22.042Z"
   },
   {
    "duration": 3,
    "start_time": "2024-05-26T22:03:47.872Z"
   },
   {
    "duration": 4,
    "start_time": "2024-05-26T22:07:39.914Z"
   },
   {
    "duration": 4,
    "start_time": "2024-05-26T22:08:44.040Z"
   },
   {
    "duration": 3,
    "start_time": "2024-05-26T22:09:06.531Z"
   },
   {
    "duration": 6,
    "start_time": "2024-05-26T22:09:46.123Z"
   },
   {
    "duration": 3,
    "start_time": "2024-05-26T22:10:59.119Z"
   },
   {
    "duration": 4,
    "start_time": "2024-05-26T22:11:18.987Z"
   },
   {
    "duration": 1107,
    "start_time": "2024-05-26T22:12:06.694Z"
   },
   {
    "duration": 74,
    "start_time": "2024-05-26T22:12:07.803Z"
   },
   {
    "duration": 10,
    "start_time": "2024-05-26T22:12:07.879Z"
   },
   {
    "duration": 10,
    "start_time": "2024-05-26T22:12:07.891Z"
   },
   {
    "duration": 5,
    "start_time": "2024-05-26T22:12:07.902Z"
   },
   {
    "duration": 9,
    "start_time": "2024-05-26T22:12:07.908Z"
   },
   {
    "duration": 9,
    "start_time": "2024-05-26T22:12:07.918Z"
   },
   {
    "duration": 14,
    "start_time": "2024-05-26T22:12:07.929Z"
   },
   {
    "duration": 6,
    "start_time": "2024-05-26T22:12:07.944Z"
   },
   {
    "duration": 4,
    "start_time": "2024-05-26T22:12:07.953Z"
   },
   {
    "duration": 13,
    "start_time": "2024-05-26T22:12:07.959Z"
   },
   {
    "duration": 8,
    "start_time": "2024-05-26T22:12:07.973Z"
   },
   {
    "duration": 16,
    "start_time": "2024-05-26T22:12:07.982Z"
   },
   {
    "duration": 9,
    "start_time": "2024-05-26T22:12:08.000Z"
   },
   {
    "duration": 40,
    "start_time": "2024-05-26T22:12:08.011Z"
   },
   {
    "duration": 20,
    "start_time": "2024-05-26T22:12:08.052Z"
   },
   {
    "duration": 4,
    "start_time": "2024-05-26T22:12:08.074Z"
   },
   {
    "duration": 5,
    "start_time": "2024-05-26T22:12:08.080Z"
   },
   {
    "duration": 15,
    "start_time": "2024-05-26T22:12:08.087Z"
   },
   {
    "duration": 7,
    "start_time": "2024-05-26T22:12:08.103Z"
   },
   {
    "duration": 13,
    "start_time": "2024-05-26T22:12:08.111Z"
   },
   {
    "duration": 5,
    "start_time": "2024-05-26T22:12:08.125Z"
   },
   {
    "duration": 4,
    "start_time": "2024-05-26T22:15:19.016Z"
   },
   {
    "duration": 5,
    "start_time": "2024-05-26T22:15:26.032Z"
   },
   {
    "duration": 1075,
    "start_time": "2024-05-26T22:15:37.550Z"
   },
   {
    "duration": 73,
    "start_time": "2024-05-26T22:15:38.627Z"
   },
   {
    "duration": 9,
    "start_time": "2024-05-26T22:15:38.701Z"
   },
   {
    "duration": 16,
    "start_time": "2024-05-26T22:15:38.712Z"
   },
   {
    "duration": 12,
    "start_time": "2024-05-26T22:15:38.729Z"
   },
   {
    "duration": 7,
    "start_time": "2024-05-26T22:15:38.742Z"
   },
   {
    "duration": 17,
    "start_time": "2024-05-26T22:15:38.750Z"
   },
   {
    "duration": 8,
    "start_time": "2024-05-26T22:15:38.768Z"
   },
   {
    "duration": 5,
    "start_time": "2024-05-26T22:15:38.777Z"
   },
   {
    "duration": 5,
    "start_time": "2024-05-26T22:15:38.785Z"
   },
   {
    "duration": 9,
    "start_time": "2024-05-26T22:15:38.791Z"
   },
   {
    "duration": 7,
    "start_time": "2024-05-26T22:15:38.802Z"
   },
   {
    "duration": 4,
    "start_time": "2024-05-26T22:15:38.810Z"
   },
   {
    "duration": 7,
    "start_time": "2024-05-26T22:15:38.844Z"
   },
   {
    "duration": 4,
    "start_time": "2024-05-26T22:15:38.853Z"
   },
   {
    "duration": 6,
    "start_time": "2024-05-26T22:15:38.858Z"
   },
   {
    "duration": 8,
    "start_time": "2024-05-26T22:15:38.865Z"
   },
   {
    "duration": 5,
    "start_time": "2024-05-26T22:15:38.874Z"
   },
   {
    "duration": 13,
    "start_time": "2024-05-26T22:15:38.880Z"
   },
   {
    "duration": 7,
    "start_time": "2024-05-26T22:15:38.894Z"
   },
   {
    "duration": 4,
    "start_time": "2024-05-26T22:15:38.902Z"
   },
   {
    "duration": 4,
    "start_time": "2024-05-26T22:15:38.944Z"
   },
   {
    "duration": 1066,
    "start_time": "2024-05-26T22:18:36.490Z"
   },
   {
    "duration": 74,
    "start_time": "2024-05-26T22:18:37.558Z"
   },
   {
    "duration": 12,
    "start_time": "2024-05-26T22:18:37.633Z"
   },
   {
    "duration": 15,
    "start_time": "2024-05-26T22:18:37.646Z"
   },
   {
    "duration": 5,
    "start_time": "2024-05-26T22:18:37.663Z"
   },
   {
    "duration": 6,
    "start_time": "2024-05-26T22:18:37.669Z"
   },
   {
    "duration": 9,
    "start_time": "2024-05-26T22:18:37.677Z"
   },
   {
    "duration": 8,
    "start_time": "2024-05-26T22:18:37.688Z"
   },
   {
    "duration": 18,
    "start_time": "2024-05-26T22:18:37.702Z"
   },
   {
    "duration": 25,
    "start_time": "2024-05-26T22:18:37.722Z"
   },
   {
    "duration": 11,
    "start_time": "2024-05-26T22:18:37.749Z"
   },
   {
    "duration": 8,
    "start_time": "2024-05-26T22:18:37.762Z"
   },
   {
    "duration": 5,
    "start_time": "2024-05-26T22:18:37.772Z"
   },
   {
    "duration": 5,
    "start_time": "2024-05-26T22:18:37.780Z"
   },
   {
    "duration": 4,
    "start_time": "2024-05-26T22:18:37.786Z"
   },
   {
    "duration": 7,
    "start_time": "2024-05-26T22:18:37.792Z"
   },
   {
    "duration": 21,
    "start_time": "2024-05-26T22:18:37.801Z"
   },
   {
    "duration": 5,
    "start_time": "2024-05-26T22:18:37.823Z"
   },
   {
    "duration": 25,
    "start_time": "2024-05-26T22:18:37.829Z"
   },
   {
    "duration": 15,
    "start_time": "2024-05-26T22:18:37.855Z"
   },
   {
    "duration": 5,
    "start_time": "2024-05-26T22:18:37.872Z"
   },
   {
    "duration": 7,
    "start_time": "2024-05-26T22:18:37.878Z"
   },
   {
    "duration": 91,
    "start_time": "2024-05-26T22:30:50.635Z"
   },
   {
    "duration": 7,
    "start_time": "2024-05-26T22:30:56.975Z"
   },
   {
    "duration": 3,
    "start_time": "2024-05-26T22:32:16.846Z"
   },
   {
    "duration": 9,
    "start_time": "2024-05-26T22:33:35.174Z"
   },
   {
    "duration": 4,
    "start_time": "2024-05-26T22:36:58.378Z"
   },
   {
    "duration": 13,
    "start_time": "2024-05-26T22:36:59.706Z"
   },
   {
    "duration": 5,
    "start_time": "2024-05-26T22:40:19.347Z"
   },
   {
    "duration": 9,
    "start_time": "2024-05-26T22:40:48.442Z"
   },
   {
    "duration": 17,
    "start_time": "2024-05-26T22:45:49.309Z"
   },
   {
    "duration": 16,
    "start_time": "2024-05-26T22:46:59.923Z"
   },
   {
    "duration": 1187,
    "start_time": "2024-05-26T23:07:08.152Z"
   },
   {
    "duration": 75,
    "start_time": "2024-05-26T23:07:09.341Z"
   },
   {
    "duration": 12,
    "start_time": "2024-05-26T23:07:09.417Z"
   },
   {
    "duration": 18,
    "start_time": "2024-05-26T23:07:09.430Z"
   },
   {
    "duration": 10,
    "start_time": "2024-05-26T23:07:09.450Z"
   },
   {
    "duration": 13,
    "start_time": "2024-05-26T23:07:09.462Z"
   },
   {
    "duration": 13,
    "start_time": "2024-05-26T23:07:09.477Z"
   },
   {
    "duration": 18,
    "start_time": "2024-05-26T23:07:09.491Z"
   },
   {
    "duration": 20,
    "start_time": "2024-05-26T23:07:09.511Z"
   },
   {
    "duration": 12,
    "start_time": "2024-05-26T23:07:09.532Z"
   },
   {
    "duration": 14,
    "start_time": "2024-05-26T23:07:09.545Z"
   },
   {
    "duration": 8,
    "start_time": "2024-05-26T23:07:09.561Z"
   },
   {
    "duration": 7,
    "start_time": "2024-05-26T23:07:09.571Z"
   },
   {
    "duration": 22,
    "start_time": "2024-05-26T23:07:09.581Z"
   },
   {
    "duration": 16,
    "start_time": "2024-05-26T23:07:09.604Z"
   },
   {
    "duration": 14,
    "start_time": "2024-05-26T23:07:09.622Z"
   },
   {
    "duration": 19,
    "start_time": "2024-05-26T23:07:09.637Z"
   },
   {
    "duration": 10,
    "start_time": "2024-05-26T23:07:09.657Z"
   },
   {
    "duration": 31,
    "start_time": "2024-05-26T23:07:09.668Z"
   },
   {
    "duration": 25,
    "start_time": "2024-05-26T23:07:09.700Z"
   },
   {
    "duration": 16,
    "start_time": "2024-05-26T23:07:09.727Z"
   },
   {
    "duration": 23,
    "start_time": "2024-05-26T23:07:09.745Z"
   },
   {
    "duration": 19,
    "start_time": "2024-05-26T23:07:09.770Z"
   },
   {
    "duration": 11,
    "start_time": "2024-05-26T23:07:09.790Z"
   },
   {
    "duration": 10,
    "start_time": "2024-05-26T23:07:09.803Z"
   },
   {
    "duration": 29,
    "start_time": "2024-05-26T23:07:09.814Z"
   },
   {
    "duration": 52,
    "start_time": "2024-05-27T09:28:21.966Z"
   },
   {
    "duration": 1130,
    "start_time": "2024-05-27T09:28:28.341Z"
   },
   {
    "duration": 220,
    "start_time": "2024-05-27T09:28:29.473Z"
   },
   {
    "duration": 9,
    "start_time": "2024-05-27T09:28:29.695Z"
   },
   {
    "duration": 36,
    "start_time": "2024-05-27T09:28:29.706Z"
   },
   {
    "duration": 9,
    "start_time": "2024-05-27T09:28:29.744Z"
   },
   {
    "duration": 21,
    "start_time": "2024-05-27T09:28:29.754Z"
   },
   {
    "duration": 15,
    "start_time": "2024-05-27T09:28:29.776Z"
   },
   {
    "duration": 6,
    "start_time": "2024-05-27T09:28:29.792Z"
   },
   {
    "duration": 43,
    "start_time": "2024-05-27T09:28:29.800Z"
   },
   {
    "duration": 36,
    "start_time": "2024-05-27T09:28:29.844Z"
   },
   {
    "duration": 8,
    "start_time": "2024-05-27T09:28:29.882Z"
   },
   {
    "duration": 8,
    "start_time": "2024-05-27T09:28:29.891Z"
   },
   {
    "duration": 12,
    "start_time": "2024-05-27T09:28:29.900Z"
   },
   {
    "duration": 5,
    "start_time": "2024-05-27T09:28:29.914Z"
   },
   {
    "duration": 40,
    "start_time": "2024-05-27T09:28:29.920Z"
   },
   {
    "duration": 15,
    "start_time": "2024-05-27T09:28:29.961Z"
   },
   {
    "duration": 3,
    "start_time": "2024-05-27T09:28:29.977Z"
   },
   {
    "duration": 6,
    "start_time": "2024-05-27T09:28:29.981Z"
   },
   {
    "duration": 29,
    "start_time": "2024-05-27T09:28:29.988Z"
   },
   {
    "duration": 112,
    "start_time": "2024-05-27T09:28:30.018Z"
   },
   {
    "duration": 70,
    "start_time": "2024-05-27T09:28:30.132Z"
   },
   {
    "duration": 40,
    "start_time": "2024-05-27T09:28:30.204Z"
   },
   {
    "duration": 37,
    "start_time": "2024-05-27T09:28:30.246Z"
   },
   {
    "duration": 63,
    "start_time": "2024-05-27T09:28:30.284Z"
   },
   {
    "duration": 78,
    "start_time": "2024-05-27T09:28:30.348Z"
   },
   {
    "duration": 39,
    "start_time": "2024-05-27T09:28:30.428Z"
   },
   {
    "duration": 134,
    "start_time": "2024-05-27T09:28:30.468Z"
   },
   {
    "duration": 251,
    "start_time": "2024-05-27T09:31:40.268Z"
   },
   {
    "duration": 224,
    "start_time": "2024-05-27T09:36:19.228Z"
   },
   {
    "duration": 137,
    "start_time": "2024-05-27T09:36:30.775Z"
   },
   {
    "duration": 149,
    "start_time": "2024-05-27T09:40:13.030Z"
   },
   {
    "duration": 237,
    "start_time": "2024-05-27T09:41:05.293Z"
   },
   {
    "duration": 173,
    "start_time": "2024-05-27T09:41:24.648Z"
   },
   {
    "duration": 137,
    "start_time": "2024-05-27T09:48:51.139Z"
   },
   {
    "duration": 167,
    "start_time": "2024-05-27T09:51:25.646Z"
   },
   {
    "duration": 326,
    "start_time": "2024-05-27T10:02:55.749Z"
   },
   {
    "duration": 230,
    "start_time": "2024-05-27T10:05:31.752Z"
   },
   {
    "duration": 269,
    "start_time": "2024-05-27T10:22:18.340Z"
   },
   {
    "duration": 186,
    "start_time": "2024-05-27T10:22:41.752Z"
   },
   {
    "duration": 309,
    "start_time": "2024-05-27T10:33:32.325Z"
   },
   {
    "duration": 8,
    "start_time": "2024-05-27T10:50:33.530Z"
   },
   {
    "duration": 8,
    "start_time": "2024-05-27T10:51:02.721Z"
   },
   {
    "duration": 88,
    "start_time": "2024-05-27T10:54:31.961Z"
   },
   {
    "duration": 88,
    "start_time": "2024-05-27T10:55:12.862Z"
   },
   {
    "duration": 143,
    "start_time": "2024-05-27T11:00:16.930Z"
   },
   {
    "duration": 137,
    "start_time": "2024-05-27T11:00:38.478Z"
   },
   {
    "duration": 8,
    "start_time": "2024-05-27T11:05:19.810Z"
   },
   {
    "duration": 5,
    "start_time": "2024-05-27T11:05:27.276Z"
   },
   {
    "duration": 112,
    "start_time": "2024-05-27T11:19:25.362Z"
   },
   {
    "duration": 7,
    "start_time": "2024-05-27T11:21:09.358Z"
   },
   {
    "duration": 104,
    "start_time": "2024-05-27T11:23:41.450Z"
   },
   {
    "duration": 234,
    "start_time": "2024-05-27T11:23:47.124Z"
   },
   {
    "duration": 116,
    "start_time": "2024-05-27T11:23:58.461Z"
   },
   {
    "duration": 114,
    "start_time": "2024-05-27T11:24:46.861Z"
   },
   {
    "duration": 106,
    "start_time": "2024-05-27T11:24:57.489Z"
   },
   {
    "duration": 139,
    "start_time": "2024-05-27T11:27:59.282Z"
   },
   {
    "duration": 128,
    "start_time": "2024-05-27T11:32:41.947Z"
   },
   {
    "duration": 4,
    "start_time": "2024-05-27T11:37:53.874Z"
   },
   {
    "duration": 4,
    "start_time": "2024-05-27T11:37:59.180Z"
   },
   {
    "duration": 165,
    "start_time": "2024-05-27T12:05:53.428Z"
   },
   {
    "duration": 211,
    "start_time": "2024-05-27T12:06:54.016Z"
   },
   {
    "duration": 118,
    "start_time": "2024-05-27T12:13:06.365Z"
   },
   {
    "duration": 123,
    "start_time": "2024-05-27T12:14:36.278Z"
   },
   {
    "duration": 13,
    "start_time": "2024-05-27T12:24:27.294Z"
   },
   {
    "duration": 18,
    "start_time": "2024-05-27T12:25:14.384Z"
   },
   {
    "duration": 16,
    "start_time": "2024-05-27T12:35:42.298Z"
   },
   {
    "duration": 11,
    "start_time": "2024-05-27T12:35:49.640Z"
   },
   {
    "duration": 8,
    "start_time": "2024-05-27T12:47:14.213Z"
   },
   {
    "duration": 10,
    "start_time": "2024-05-27T12:54:51.355Z"
   },
   {
    "duration": 8,
    "start_time": "2024-05-27T12:57:55.938Z"
   },
   {
    "duration": 17,
    "start_time": "2024-05-27T13:00:27.294Z"
   },
   {
    "duration": 11,
    "start_time": "2024-05-27T13:08:22.914Z"
   },
   {
    "duration": 999,
    "start_time": "2024-05-27T13:34:37.430Z"
   },
   {
    "duration": 72,
    "start_time": "2024-05-27T13:34:38.430Z"
   },
   {
    "duration": 9,
    "start_time": "2024-05-27T13:34:38.504Z"
   },
   {
    "duration": 22,
    "start_time": "2024-05-27T13:34:38.514Z"
   },
   {
    "duration": 15,
    "start_time": "2024-05-27T13:34:38.537Z"
   },
   {
    "duration": 8,
    "start_time": "2024-05-27T13:34:38.553Z"
   },
   {
    "duration": 32,
    "start_time": "2024-05-27T13:34:38.562Z"
   },
   {
    "duration": 15,
    "start_time": "2024-05-27T13:34:38.595Z"
   },
   {
    "duration": 12,
    "start_time": "2024-05-27T13:34:38.612Z"
   },
   {
    "duration": 23,
    "start_time": "2024-05-27T13:34:38.626Z"
   },
   {
    "duration": 9,
    "start_time": "2024-05-27T13:34:38.650Z"
   },
   {
    "duration": 12,
    "start_time": "2024-05-27T13:34:38.660Z"
   },
   {
    "duration": 26,
    "start_time": "2024-05-27T13:34:38.673Z"
   },
   {
    "duration": 23,
    "start_time": "2024-05-27T13:34:38.700Z"
   },
   {
    "duration": 26,
    "start_time": "2024-05-27T13:34:38.724Z"
   },
   {
    "duration": 6,
    "start_time": "2024-05-27T13:34:38.751Z"
   },
   {
    "duration": 11,
    "start_time": "2024-05-27T13:34:38.758Z"
   },
   {
    "duration": 29,
    "start_time": "2024-05-27T13:34:38.770Z"
   },
   {
    "duration": 25,
    "start_time": "2024-05-27T13:34:38.800Z"
   },
   {
    "duration": 16,
    "start_time": "2024-05-27T13:34:38.827Z"
   },
   {
    "duration": 5,
    "start_time": "2024-05-27T13:34:38.844Z"
   },
   {
    "duration": 5,
    "start_time": "2024-05-27T13:34:38.850Z"
   },
   {
    "duration": 6,
    "start_time": "2024-05-27T13:34:38.856Z"
   },
   {
    "duration": 11,
    "start_time": "2024-05-27T13:34:38.863Z"
   },
   {
    "duration": 22,
    "start_time": "2024-05-27T13:34:38.875Z"
   },
   {
    "duration": 17,
    "start_time": "2024-05-27T13:34:38.898Z"
   },
   {
    "duration": 222,
    "start_time": "2024-05-27T13:34:38.916Z"
   },
   {
    "duration": 244,
    "start_time": "2024-05-27T13:34:39.141Z"
   },
   {
    "duration": 168,
    "start_time": "2024-05-27T13:34:39.386Z"
   },
   {
    "duration": 271,
    "start_time": "2024-05-27T13:34:39.555Z"
   },
   {
    "duration": 202,
    "start_time": "2024-05-27T13:34:39.827Z"
   },
   {
    "duration": 317,
    "start_time": "2024-05-27T13:34:40.030Z"
   },
   {
    "duration": 9,
    "start_time": "2024-05-27T13:34:40.349Z"
   },
   {
    "duration": 106,
    "start_time": "2024-05-27T13:34:40.359Z"
   },
   {
    "duration": 125,
    "start_time": "2024-05-27T13:34:40.467Z"
   },
   {
    "duration": 9,
    "start_time": "2024-05-27T13:34:40.593Z"
   },
   {
    "duration": 12,
    "start_time": "2024-05-27T13:34:40.603Z"
   },
   {
    "duration": 204,
    "start_time": "2024-05-27T13:34:40.616Z"
   },
   {
    "duration": 5,
    "start_time": "2024-05-27T13:34:40.821Z"
   },
   {
    "duration": 198,
    "start_time": "2024-05-27T13:34:40.827Z"
   },
   {
    "duration": 129,
    "start_time": "2024-05-27T13:34:41.026Z"
   },
   {
    "duration": 21,
    "start_time": "2024-05-27T13:34:41.156Z"
   },
   {
    "duration": 26,
    "start_time": "2024-05-27T13:34:41.179Z"
   },
   {
    "duration": 10,
    "start_time": "2024-05-27T13:34:41.206Z"
   },
   {
    "duration": 9,
    "start_time": "2024-05-27T13:34:41.217Z"
   },
   {
    "duration": 26,
    "start_time": "2024-05-27T13:34:41.227Z"
   },
   {
    "duration": 15,
    "start_time": "2024-05-27T13:34:41.255Z"
   },
   {
    "duration": 1154,
    "start_time": "2024-05-27T15:19:20.794Z"
   },
   {
    "duration": 72,
    "start_time": "2024-05-27T15:19:21.949Z"
   },
   {
    "duration": 10,
    "start_time": "2024-05-27T15:19:22.022Z"
   },
   {
    "duration": 25,
    "start_time": "2024-05-27T15:19:22.033Z"
   },
   {
    "duration": 21,
    "start_time": "2024-05-27T15:19:22.060Z"
   },
   {
    "duration": 30,
    "start_time": "2024-05-27T15:19:22.082Z"
   },
   {
    "duration": 18,
    "start_time": "2024-05-27T15:19:22.113Z"
   },
   {
    "duration": 31,
    "start_time": "2024-05-27T15:19:22.133Z"
   },
   {
    "duration": 16,
    "start_time": "2024-05-27T15:19:22.166Z"
   },
   {
    "duration": 28,
    "start_time": "2024-05-27T15:19:22.183Z"
   },
   {
    "duration": 23,
    "start_time": "2024-05-27T15:19:22.212Z"
   },
   {
    "duration": 16,
    "start_time": "2024-05-27T15:19:22.236Z"
   },
   {
    "duration": 25,
    "start_time": "2024-05-27T15:19:22.253Z"
   },
   {
    "duration": 14,
    "start_time": "2024-05-27T15:19:22.281Z"
   },
   {
    "duration": 12,
    "start_time": "2024-05-27T15:19:22.296Z"
   },
   {
    "duration": 28,
    "start_time": "2024-05-27T15:19:22.309Z"
   },
   {
    "duration": 33,
    "start_time": "2024-05-27T15:19:22.339Z"
   },
   {
    "duration": 22,
    "start_time": "2024-05-27T15:19:22.373Z"
   },
   {
    "duration": 29,
    "start_time": "2024-05-27T15:19:22.396Z"
   },
   {
    "duration": 17,
    "start_time": "2024-05-27T15:19:22.426Z"
   },
   {
    "duration": 12,
    "start_time": "2024-05-27T15:19:22.444Z"
   },
   {
    "duration": 17,
    "start_time": "2024-05-27T15:19:22.457Z"
   },
   {
    "duration": 33,
    "start_time": "2024-05-27T15:19:22.475Z"
   },
   {
    "duration": 11,
    "start_time": "2024-05-27T15:19:22.510Z"
   },
   {
    "duration": 12,
    "start_time": "2024-05-27T15:19:22.522Z"
   },
   {
    "duration": 23,
    "start_time": "2024-05-27T15:19:22.535Z"
   },
   {
    "duration": 247,
    "start_time": "2024-05-27T15:19:22.560Z"
   },
   {
    "duration": 239,
    "start_time": "2024-05-27T15:19:22.808Z"
   },
   {
    "duration": 177,
    "start_time": "2024-05-27T15:19:23.049Z"
   },
   {
    "duration": 268,
    "start_time": "2024-05-27T15:19:23.228Z"
   },
   {
    "duration": 201,
    "start_time": "2024-05-27T15:19:23.502Z"
   },
   {
    "duration": 311,
    "start_time": "2024-05-27T15:19:23.704Z"
   },
   {
    "duration": 7,
    "start_time": "2024-05-27T15:19:24.016Z"
   },
   {
    "duration": 113,
    "start_time": "2024-05-27T15:19:24.024Z"
   },
   {
    "duration": 152,
    "start_time": "2024-05-27T15:19:24.138Z"
   },
   {
    "duration": 10,
    "start_time": "2024-05-27T15:19:24.292Z"
   },
   {
    "duration": 9,
    "start_time": "2024-05-27T15:19:24.304Z"
   },
   {
    "duration": 191,
    "start_time": "2024-05-27T15:19:24.314Z"
   },
   {
    "duration": 4,
    "start_time": "2024-05-27T15:19:24.507Z"
   },
   {
    "duration": 198,
    "start_time": "2024-05-27T15:19:24.512Z"
   },
   {
    "duration": 127,
    "start_time": "2024-05-27T15:19:24.713Z"
   },
   {
    "duration": 17,
    "start_time": "2024-05-27T15:19:24.841Z"
   },
   {
    "duration": 8,
    "start_time": "2024-05-27T15:19:24.859Z"
   },
   {
    "duration": 13,
    "start_time": "2024-05-27T15:19:24.869Z"
   },
   {
    "duration": 23,
    "start_time": "2024-05-27T15:19:24.883Z"
   },
   {
    "duration": 22,
    "start_time": "2024-05-27T15:19:24.908Z"
   },
   {
    "duration": 11,
    "start_time": "2024-05-27T15:19:24.931Z"
   },
   {
    "duration": 1311,
    "start_time": "2024-05-27T15:36:11.665Z"
   },
   {
    "duration": 211,
    "start_time": "2024-05-27T15:36:12.979Z"
   },
   {
    "duration": 10,
    "start_time": "2024-05-27T15:36:13.194Z"
   },
   {
    "duration": 9,
    "start_time": "2024-05-27T15:36:13.206Z"
   },
   {
    "duration": 4,
    "start_time": "2024-05-27T15:36:13.217Z"
   },
   {
    "duration": 17,
    "start_time": "2024-05-27T15:36:13.223Z"
   },
   {
    "duration": 11,
    "start_time": "2024-05-27T15:36:13.241Z"
   },
   {
    "duration": 7,
    "start_time": "2024-05-27T15:36:13.254Z"
   },
   {
    "duration": 5,
    "start_time": "2024-05-27T15:36:13.263Z"
   },
   {
    "duration": 5,
    "start_time": "2024-05-27T15:36:13.270Z"
   },
   {
    "duration": 26,
    "start_time": "2024-05-27T15:36:13.277Z"
   },
   {
    "duration": 7,
    "start_time": "2024-05-27T15:36:13.305Z"
   },
   {
    "duration": 8,
    "start_time": "2024-05-27T15:36:13.313Z"
   },
   {
    "duration": 6,
    "start_time": "2024-05-27T15:36:13.322Z"
   },
   {
    "duration": 5,
    "start_time": "2024-05-27T15:36:13.329Z"
   },
   {
    "duration": 12,
    "start_time": "2024-05-27T15:36:13.335Z"
   },
   {
    "duration": 18,
    "start_time": "2024-05-27T15:36:13.348Z"
   },
   {
    "duration": 7,
    "start_time": "2024-05-27T15:36:13.367Z"
   },
   {
    "duration": 20,
    "start_time": "2024-05-27T15:36:13.376Z"
   },
   {
    "duration": 4,
    "start_time": "2024-05-27T15:36:13.398Z"
   },
   {
    "duration": 4,
    "start_time": "2024-05-27T15:36:13.403Z"
   },
   {
    "duration": 6,
    "start_time": "2024-05-27T15:36:13.409Z"
   },
   {
    "duration": 13,
    "start_time": "2024-05-27T15:36:13.417Z"
   },
   {
    "duration": 8,
    "start_time": "2024-05-27T15:36:13.432Z"
   },
   {
    "duration": 24,
    "start_time": "2024-05-27T15:36:13.441Z"
   },
   {
    "duration": 17,
    "start_time": "2024-05-27T15:36:13.467Z"
   },
   {
    "duration": 315,
    "start_time": "2024-05-27T15:36:13.488Z"
   },
   {
    "duration": 281,
    "start_time": "2024-05-27T15:36:13.805Z"
   },
   {
    "duration": 192,
    "start_time": "2024-05-27T15:36:14.087Z"
   },
   {
    "duration": 347,
    "start_time": "2024-05-27T15:36:14.281Z"
   },
   {
    "duration": 211,
    "start_time": "2024-05-27T15:36:14.629Z"
   },
   {
    "duration": 350,
    "start_time": "2024-05-27T15:36:14.841Z"
   },
   {
    "duration": 8,
    "start_time": "2024-05-27T15:36:15.193Z"
   },
   {
    "duration": 145,
    "start_time": "2024-05-27T15:36:15.203Z"
   },
   {
    "duration": 151,
    "start_time": "2024-05-27T15:36:15.350Z"
   },
   {
    "duration": 4,
    "start_time": "2024-05-27T15:36:15.503Z"
   },
   {
    "duration": 71,
    "start_time": "2024-05-27T15:36:15.508Z"
   },
   {
    "duration": 231,
    "start_time": "2024-05-27T15:36:15.580Z"
   },
   {
    "duration": 5,
    "start_time": "2024-05-27T15:36:15.813Z"
   },
   {
    "duration": 219,
    "start_time": "2024-05-27T15:36:15.820Z"
   },
   {
    "duration": 147,
    "start_time": "2024-05-27T15:36:16.040Z"
   },
   {
    "duration": 23,
    "start_time": "2024-05-27T15:36:16.189Z"
   },
   {
    "duration": 9,
    "start_time": "2024-05-27T15:36:16.214Z"
   },
   {
    "duration": 8,
    "start_time": "2024-05-27T15:36:16.225Z"
   },
   {
    "duration": 33,
    "start_time": "2024-05-27T15:36:16.235Z"
   },
   {
    "duration": 24,
    "start_time": "2024-05-27T15:36:16.270Z"
   },
   {
    "duration": 12,
    "start_time": "2024-05-27T15:36:16.296Z"
   },
   {
    "duration": 49,
    "start_time": "2024-05-28T12:31:59.634Z"
   },
   {
    "duration": 1360,
    "start_time": "2024-05-28T12:32:06.350Z"
   },
   {
    "duration": 203,
    "start_time": "2024-05-28T12:32:07.712Z"
   },
   {
    "duration": 12,
    "start_time": "2024-05-28T12:32:07.916Z"
   },
   {
    "duration": 42,
    "start_time": "2024-05-28T12:32:07.930Z"
   },
   {
    "duration": 21,
    "start_time": "2024-05-28T12:32:07.973Z"
   },
   {
    "duration": 21,
    "start_time": "2024-05-28T12:32:07.996Z"
   },
   {
    "duration": 21,
    "start_time": "2024-05-28T12:32:08.019Z"
   },
   {
    "duration": 26,
    "start_time": "2024-05-28T12:32:08.042Z"
   },
   {
    "duration": 14,
    "start_time": "2024-05-28T12:32:08.069Z"
   },
   {
    "duration": 34,
    "start_time": "2024-05-28T12:32:08.086Z"
   },
   {
    "duration": 22,
    "start_time": "2024-05-28T12:32:08.122Z"
   },
   {
    "duration": 32,
    "start_time": "2024-05-28T12:32:08.146Z"
   },
   {
    "duration": 20,
    "start_time": "2024-05-28T12:32:08.180Z"
   },
   {
    "duration": 34,
    "start_time": "2024-05-28T12:32:08.202Z"
   },
   {
    "duration": 18,
    "start_time": "2024-05-28T12:32:08.238Z"
   },
   {
    "duration": 29,
    "start_time": "2024-05-28T12:32:08.257Z"
   },
   {
    "duration": 42,
    "start_time": "2024-05-28T12:32:08.287Z"
   },
   {
    "duration": 20,
    "start_time": "2024-05-28T12:32:08.331Z"
   },
   {
    "duration": 49,
    "start_time": "2024-05-28T12:32:08.353Z"
   },
   {
    "duration": 29,
    "start_time": "2024-05-28T12:32:08.404Z"
   },
   {
    "duration": 53,
    "start_time": "2024-05-28T12:32:08.435Z"
   },
   {
    "duration": 31,
    "start_time": "2024-05-28T12:32:08.490Z"
   },
   {
    "duration": 16,
    "start_time": "2024-05-28T12:32:08.523Z"
   },
   {
    "duration": 32,
    "start_time": "2024-05-28T12:32:08.541Z"
   },
   {
    "duration": 16,
    "start_time": "2024-05-28T12:32:08.574Z"
   },
   {
    "duration": 44,
    "start_time": "2024-05-28T12:32:08.591Z"
   },
   {
    "duration": 272,
    "start_time": "2024-05-28T12:32:08.636Z"
   },
   {
    "duration": 294,
    "start_time": "2024-05-28T12:32:08.912Z"
   },
   {
    "duration": 205,
    "start_time": "2024-05-28T12:32:09.208Z"
   },
   {
    "duration": 393,
    "start_time": "2024-05-28T12:32:09.415Z"
   },
   {
    "duration": 254,
    "start_time": "2024-05-28T12:32:09.810Z"
   },
   {
    "duration": 346,
    "start_time": "2024-05-28T12:32:10.066Z"
   },
   {
    "duration": 12,
    "start_time": "2024-05-28T12:32:10.414Z"
   },
   {
    "duration": 125,
    "start_time": "2024-05-28T12:32:10.427Z"
   },
   {
    "duration": 154,
    "start_time": "2024-05-28T12:32:10.558Z"
   },
   {
    "duration": 5,
    "start_time": "2024-05-28T12:32:10.713Z"
   },
   {
    "duration": 13,
    "start_time": "2024-05-28T12:32:10.719Z"
   },
   {
    "duration": 235,
    "start_time": "2024-05-28T12:32:10.734Z"
   },
   {
    "duration": 4,
    "start_time": "2024-05-28T12:32:10.971Z"
   },
   {
    "duration": 267,
    "start_time": "2024-05-28T12:32:10.977Z"
   },
   {
    "duration": 166,
    "start_time": "2024-05-28T12:32:11.247Z"
   },
   {
    "duration": 34,
    "start_time": "2024-05-28T12:32:11.414Z"
   },
   {
    "duration": 15,
    "start_time": "2024-05-28T12:32:11.459Z"
   },
   {
    "duration": 13,
    "start_time": "2024-05-28T12:32:11.476Z"
   },
   {
    "duration": 12,
    "start_time": "2024-05-28T12:32:11.490Z"
   },
   {
    "duration": 27,
    "start_time": "2024-05-28T12:32:11.504Z"
   },
   {
    "duration": 38,
    "start_time": "2024-05-28T12:32:11.533Z"
   },
   {
    "duration": 10,
    "start_time": "2024-05-28T12:33:00.197Z"
   },
   {
    "duration": 4,
    "start_time": "2024-05-28T12:34:15.772Z"
   },
   {
    "duration": 97,
    "start_time": "2024-05-28T12:34:26.862Z"
   },
   {
    "duration": 10,
    "start_time": "2024-05-28T12:34:33.836Z"
   },
   {
    "duration": 10,
    "start_time": "2024-05-28T12:37:59.603Z"
   },
   {
    "duration": 1213,
    "start_time": "2024-05-28T12:38:35.356Z"
   },
   {
    "duration": 71,
    "start_time": "2024-05-28T12:38:36.571Z"
   },
   {
    "duration": 11,
    "start_time": "2024-05-28T12:38:36.643Z"
   },
   {
    "duration": 17,
    "start_time": "2024-05-28T12:38:36.656Z"
   },
   {
    "duration": 5,
    "start_time": "2024-05-28T12:38:36.674Z"
   },
   {
    "duration": 13,
    "start_time": "2024-05-28T12:38:36.681Z"
   },
   {
    "duration": 10,
    "start_time": "2024-05-28T12:38:36.696Z"
   },
   {
    "duration": 8,
    "start_time": "2024-05-28T12:38:36.707Z"
   },
   {
    "duration": 8,
    "start_time": "2024-05-28T12:38:36.716Z"
   },
   {
    "duration": 6,
    "start_time": "2024-05-28T12:38:36.727Z"
   },
   {
    "duration": 26,
    "start_time": "2024-05-28T12:38:36.735Z"
   },
   {
    "duration": 9,
    "start_time": "2024-05-28T12:38:36.762Z"
   },
   {
    "duration": 5,
    "start_time": "2024-05-28T12:38:36.773Z"
   },
   {
    "duration": 6,
    "start_time": "2024-05-28T12:38:36.779Z"
   },
   {
    "duration": 7,
    "start_time": "2024-05-28T12:38:36.787Z"
   },
   {
    "duration": 9,
    "start_time": "2024-05-28T12:38:36.795Z"
   },
   {
    "duration": 3,
    "start_time": "2024-05-28T12:38:36.806Z"
   },
   {
    "duration": 6,
    "start_time": "2024-05-28T12:38:36.810Z"
   },
   {
    "duration": 13,
    "start_time": "2024-05-28T12:38:36.818Z"
   },
   {
    "duration": 32,
    "start_time": "2024-05-28T12:38:36.832Z"
   },
   {
    "duration": 4,
    "start_time": "2024-05-28T12:38:36.866Z"
   },
   {
    "duration": 6,
    "start_time": "2024-05-28T12:38:36.872Z"
   },
   {
    "duration": 5,
    "start_time": "2024-05-28T12:38:36.880Z"
   },
   {
    "duration": 9,
    "start_time": "2024-05-28T12:38:36.887Z"
   },
   {
    "duration": 9,
    "start_time": "2024-05-28T12:38:36.898Z"
   },
   {
    "duration": 17,
    "start_time": "2024-05-28T12:38:36.909Z"
   },
   {
    "duration": 324,
    "start_time": "2024-05-28T12:38:36.928Z"
   },
   {
    "duration": 303,
    "start_time": "2024-05-28T12:38:37.258Z"
   },
   {
    "duration": 214,
    "start_time": "2024-05-28T12:38:37.563Z"
   },
   {
    "duration": 307,
    "start_time": "2024-05-28T12:38:37.779Z"
   },
   {
    "duration": 229,
    "start_time": "2024-05-28T12:38:38.087Z"
   },
   {
    "duration": 388,
    "start_time": "2024-05-28T12:38:38.317Z"
   },
   {
    "duration": 12,
    "start_time": "2024-05-28T12:38:38.707Z"
   },
   {
    "duration": 136,
    "start_time": "2024-05-28T12:38:38.720Z"
   },
   {
    "duration": 152,
    "start_time": "2024-05-28T12:38:38.859Z"
   },
   {
    "duration": 4,
    "start_time": "2024-05-28T12:38:39.013Z"
   },
   {
    "duration": 9,
    "start_time": "2024-05-28T12:38:39.019Z"
   },
   {
    "duration": 247,
    "start_time": "2024-05-28T12:38:39.029Z"
   },
   {
    "duration": 5,
    "start_time": "2024-05-28T12:38:39.278Z"
   },
   {
    "duration": 242,
    "start_time": "2024-05-28T12:38:39.284Z"
   },
   {
    "duration": 146,
    "start_time": "2024-05-28T12:38:39.528Z"
   },
   {
    "duration": 24,
    "start_time": "2024-05-28T12:38:39.676Z"
   },
   {
    "duration": 11,
    "start_time": "2024-05-28T12:38:39.701Z"
   },
   {
    "duration": 9,
    "start_time": "2024-05-28T12:38:39.713Z"
   },
   {
    "duration": 7,
    "start_time": "2024-05-28T12:38:39.724Z"
   },
   {
    "duration": 49,
    "start_time": "2024-05-28T12:38:39.733Z"
   },
   {
    "duration": 14,
    "start_time": "2024-05-28T12:38:39.784Z"
   },
   {
    "duration": 1179,
    "start_time": "2024-05-28T12:39:41.489Z"
   },
   {
    "duration": 71,
    "start_time": "2024-05-28T12:39:42.671Z"
   },
   {
    "duration": 12,
    "start_time": "2024-05-28T12:39:42.743Z"
   },
   {
    "duration": 93,
    "start_time": "2024-05-28T12:39:42.756Z"
   },
   {
    "duration": 80,
    "start_time": "2024-05-28T12:39:42.851Z"
   },
   {
    "duration": 81,
    "start_time": "2024-05-28T12:39:42.933Z"
   },
   {
    "duration": 68,
    "start_time": "2024-05-28T12:39:43.015Z"
   },
   {
    "duration": 65,
    "start_time": "2024-05-28T12:39:43.085Z"
   },
   {
    "duration": 44,
    "start_time": "2024-05-28T12:39:43.151Z"
   },
   {
    "duration": 38,
    "start_time": "2024-05-28T12:39:43.197Z"
   },
   {
    "duration": 51,
    "start_time": "2024-05-28T12:39:43.237Z"
   },
   {
    "duration": 35,
    "start_time": "2024-05-28T12:39:43.290Z"
   },
   {
    "duration": 19,
    "start_time": "2024-05-28T12:39:43.327Z"
   },
   {
    "duration": 22,
    "start_time": "2024-05-28T12:39:43.348Z"
   },
   {
    "duration": 31,
    "start_time": "2024-05-28T12:39:43.371Z"
   },
   {
    "duration": 14,
    "start_time": "2024-05-28T12:39:43.404Z"
   },
   {
    "duration": 32,
    "start_time": "2024-05-28T12:39:43.420Z"
   },
   {
    "duration": 37,
    "start_time": "2024-05-28T12:39:43.454Z"
   },
   {
    "duration": 44,
    "start_time": "2024-05-28T12:39:43.493Z"
   },
   {
    "duration": 33,
    "start_time": "2024-05-28T12:39:43.539Z"
   },
   {
    "duration": 32,
    "start_time": "2024-05-28T12:39:43.573Z"
   },
   {
    "duration": 18,
    "start_time": "2024-05-28T12:39:43.606Z"
   },
   {
    "duration": 20,
    "start_time": "2024-05-28T12:39:43.626Z"
   },
   {
    "duration": 43,
    "start_time": "2024-05-28T12:39:43.647Z"
   },
   {
    "duration": 41,
    "start_time": "2024-05-28T12:39:43.692Z"
   },
   {
    "duration": 34,
    "start_time": "2024-05-28T12:39:43.734Z"
   },
   {
    "duration": 293,
    "start_time": "2024-05-28T12:39:43.769Z"
   },
   {
    "duration": 306,
    "start_time": "2024-05-28T12:39:44.063Z"
   },
   {
    "duration": 214,
    "start_time": "2024-05-28T12:39:44.371Z"
   },
   {
    "duration": 345,
    "start_time": "2024-05-28T12:39:44.587Z"
   },
   {
    "duration": 272,
    "start_time": "2024-05-28T12:39:44.933Z"
   },
   {
    "duration": 378,
    "start_time": "2024-05-28T12:39:45.207Z"
   },
   {
    "duration": 13,
    "start_time": "2024-05-28T12:39:45.587Z"
   },
   {
    "duration": 157,
    "start_time": "2024-05-28T12:39:45.603Z"
   },
   {
    "duration": 197,
    "start_time": "2024-05-28T12:39:45.762Z"
   },
   {
    "duration": 6,
    "start_time": "2024-05-28T12:39:45.961Z"
   },
   {
    "duration": 10,
    "start_time": "2024-05-28T12:39:45.969Z"
   },
   {
    "duration": 260,
    "start_time": "2024-05-28T12:39:45.981Z"
   },
   {
    "duration": 5,
    "start_time": "2024-05-28T12:39:46.242Z"
   },
   {
    "duration": 240,
    "start_time": "2024-05-28T12:39:46.249Z"
   },
   {
    "duration": 175,
    "start_time": "2024-05-28T12:39:46.492Z"
   },
   {
    "duration": 26,
    "start_time": "2024-05-28T12:39:46.669Z"
   },
   {
    "duration": 12,
    "start_time": "2024-05-28T12:39:46.697Z"
   },
   {
    "duration": 10,
    "start_time": "2024-05-28T12:39:46.710Z"
   },
   {
    "duration": 37,
    "start_time": "2024-05-28T12:39:46.722Z"
   },
   {
    "duration": 28,
    "start_time": "2024-05-28T12:39:46.760Z"
   },
   {
    "duration": 14,
    "start_time": "2024-05-28T12:39:46.789Z"
   },
   {
    "duration": 130,
    "start_time": "2024-05-28T12:56:03.499Z"
   },
   {
    "duration": 13,
    "start_time": "2024-05-28T12:56:07.793Z"
   },
   {
    "duration": 13,
    "start_time": "2024-05-28T12:57:59.393Z"
   },
   {
    "duration": 5,
    "start_time": "2024-05-28T13:02:48.499Z"
   },
   {
    "duration": 9,
    "start_time": "2024-05-28T13:04:18.050Z"
   },
   {
    "duration": 11,
    "start_time": "2024-05-28T13:08:44.460Z"
   },
   {
    "duration": 6,
    "start_time": "2024-05-28T13:11:32.220Z"
   },
   {
    "duration": 255,
    "start_time": "2024-05-28T13:12:04.948Z"
   },
   {
    "duration": 6,
    "start_time": "2024-05-28T13:12:44.510Z"
   },
   {
    "duration": 4,
    "start_time": "2024-05-28T13:12:46.363Z"
   },
   {
    "duration": 9,
    "start_time": "2024-05-28T13:13:51.537Z"
   },
   {
    "duration": 11,
    "start_time": "2024-05-28T13:14:14.687Z"
   },
   {
    "duration": 7,
    "start_time": "2024-05-28T13:16:30.030Z"
   },
   {
    "duration": 4,
    "start_time": "2024-05-28T13:17:28.919Z"
   },
   {
    "duration": 9,
    "start_time": "2024-05-28T13:18:18.408Z"
   },
   {
    "duration": 4,
    "start_time": "2024-05-28T13:18:42.378Z"
   },
   {
    "duration": 9,
    "start_time": "2024-05-28T13:19:03.666Z"
   },
   {
    "duration": 1181,
    "start_time": "2024-05-28T13:40:48.508Z"
   },
   {
    "duration": 70,
    "start_time": "2024-05-28T13:40:49.691Z"
   },
   {
    "duration": 11,
    "start_time": "2024-05-28T13:40:49.763Z"
   },
   {
    "duration": 13,
    "start_time": "2024-05-28T13:40:49.776Z"
   },
   {
    "duration": 6,
    "start_time": "2024-05-28T13:40:49.791Z"
   },
   {
    "duration": 6,
    "start_time": "2024-05-28T13:40:49.799Z"
   },
   {
    "duration": 10,
    "start_time": "2024-05-28T13:40:49.807Z"
   },
   {
    "duration": 12,
    "start_time": "2024-05-28T13:40:49.819Z"
   },
   {
    "duration": 31,
    "start_time": "2024-05-28T13:40:49.832Z"
   },
   {
    "duration": 7,
    "start_time": "2024-05-28T13:40:49.865Z"
   },
   {
    "duration": 14,
    "start_time": "2024-05-28T13:40:49.873Z"
   },
   {
    "duration": 10,
    "start_time": "2024-05-28T13:40:49.888Z"
   },
   {
    "duration": 7,
    "start_time": "2024-05-28T13:40:49.899Z"
   },
   {
    "duration": 6,
    "start_time": "2024-05-28T13:40:49.907Z"
   },
   {
    "duration": 6,
    "start_time": "2024-05-28T13:40:49.915Z"
   },
   {
    "duration": 9,
    "start_time": "2024-05-28T13:40:49.922Z"
   },
   {
    "duration": 29,
    "start_time": "2024-05-28T13:40:49.932Z"
   },
   {
    "duration": 6,
    "start_time": "2024-05-28T13:40:49.962Z"
   },
   {
    "duration": 12,
    "start_time": "2024-05-28T13:40:49.970Z"
   },
   {
    "duration": 12,
    "start_time": "2024-05-28T13:40:49.984Z"
   },
   {
    "duration": 4,
    "start_time": "2024-05-28T13:40:49.998Z"
   },
   {
    "duration": 6,
    "start_time": "2024-05-28T13:40:50.003Z"
   },
   {
    "duration": 18,
    "start_time": "2024-05-28T13:40:50.011Z"
   },
   {
    "duration": 10,
    "start_time": "2024-05-28T13:40:50.031Z"
   },
   {
    "duration": 19,
    "start_time": "2024-05-28T13:40:50.043Z"
   },
   {
    "duration": 11,
    "start_time": "2024-05-28T13:40:50.064Z"
   },
   {
    "duration": 19,
    "start_time": "2024-05-28T13:40:50.077Z"
   },
   {
    "duration": 32,
    "start_time": "2024-05-28T13:40:50.100Z"
   },
   {
    "duration": 12,
    "start_time": "2024-05-28T13:40:50.134Z"
   },
   {
    "duration": 9,
    "start_time": "2024-05-28T13:40:50.148Z"
   },
   {
    "duration": 5,
    "start_time": "2024-05-28T13:40:50.159Z"
   },
   {
    "duration": 16,
    "start_time": "2024-05-28T13:40:50.166Z"
   },
   {
    "duration": 10,
    "start_time": "2024-05-28T13:40:50.184Z"
   },
   {
    "duration": 22,
    "start_time": "2024-05-28T13:40:50.196Z"
   },
   {
    "duration": 300,
    "start_time": "2024-05-28T13:40:50.220Z"
   },
   {
    "duration": 297,
    "start_time": "2024-05-28T13:40:50.522Z"
   },
   {
    "duration": 240,
    "start_time": "2024-05-28T13:40:50.821Z"
   },
   {
    "duration": 320,
    "start_time": "2024-05-28T13:40:51.062Z"
   },
   {
    "duration": 238,
    "start_time": "2024-05-28T13:40:51.383Z"
   },
   {
    "duration": 353,
    "start_time": "2024-05-28T13:40:51.623Z"
   },
   {
    "duration": 10,
    "start_time": "2024-05-28T13:40:51.977Z"
   },
   {
    "duration": 154,
    "start_time": "2024-05-28T13:40:51.988Z"
   },
   {
    "duration": 168,
    "start_time": "2024-05-28T13:40:52.144Z"
   },
   {
    "duration": 4,
    "start_time": "2024-05-28T13:40:52.314Z"
   },
   {
    "duration": 26,
    "start_time": "2024-05-28T13:40:52.320Z"
   },
   {
    "duration": 228,
    "start_time": "2024-05-28T13:40:52.347Z"
   },
   {
    "duration": 5,
    "start_time": "2024-05-28T13:40:52.577Z"
   },
   {
    "duration": 231,
    "start_time": "2024-05-28T13:40:52.584Z"
   },
   {
    "duration": 149,
    "start_time": "2024-05-28T13:40:52.817Z"
   },
   {
    "duration": 23,
    "start_time": "2024-05-28T13:40:52.968Z"
   },
   {
    "duration": 9,
    "start_time": "2024-05-28T13:40:52.993Z"
   },
   {
    "duration": 7,
    "start_time": "2024-05-28T13:40:53.004Z"
   },
   {
    "duration": 9,
    "start_time": "2024-05-28T13:40:53.013Z"
   },
   {
    "duration": 51,
    "start_time": "2024-05-28T13:40:53.023Z"
   },
   {
    "duration": 13,
    "start_time": "2024-05-28T13:40:53.076Z"
   },
   {
    "duration": 1133,
    "start_time": "2024-05-28T13:43:43.695Z"
   },
   {
    "duration": 72,
    "start_time": "2024-05-28T13:43:44.829Z"
   },
   {
    "duration": 11,
    "start_time": "2024-05-28T13:43:44.903Z"
   },
   {
    "duration": 16,
    "start_time": "2024-05-28T13:43:44.916Z"
   },
   {
    "duration": 7,
    "start_time": "2024-05-28T13:43:44.934Z"
   },
   {
    "duration": 7,
    "start_time": "2024-05-28T13:43:44.942Z"
   },
   {
    "duration": 15,
    "start_time": "2024-05-28T13:43:44.951Z"
   },
   {
    "duration": 18,
    "start_time": "2024-05-28T13:43:44.967Z"
   },
   {
    "duration": 9,
    "start_time": "2024-05-28T13:43:44.987Z"
   },
   {
    "duration": 5,
    "start_time": "2024-05-28T13:43:44.999Z"
   },
   {
    "duration": 12,
    "start_time": "2024-05-28T13:43:45.006Z"
   },
   {
    "duration": 9,
    "start_time": "2024-05-28T13:43:45.019Z"
   },
   {
    "duration": 15,
    "start_time": "2024-05-28T13:43:45.029Z"
   },
   {
    "duration": 15,
    "start_time": "2024-05-28T13:43:45.046Z"
   },
   {
    "duration": 27,
    "start_time": "2024-05-28T13:43:45.062Z"
   },
   {
    "duration": 58,
    "start_time": "2024-05-28T13:43:45.091Z"
   },
   {
    "duration": 15,
    "start_time": "2024-05-28T13:43:45.150Z"
   },
   {
    "duration": 6,
    "start_time": "2024-05-28T13:43:45.167Z"
   },
   {
    "duration": 26,
    "start_time": "2024-05-28T13:43:45.175Z"
   },
   {
    "duration": 15,
    "start_time": "2024-05-28T13:43:45.205Z"
   },
   {
    "duration": 30,
    "start_time": "2024-05-28T13:43:45.222Z"
   },
   {
    "duration": 25,
    "start_time": "2024-05-28T13:43:45.254Z"
   },
   {
    "duration": 27,
    "start_time": "2024-05-28T13:43:45.282Z"
   },
   {
    "duration": 15,
    "start_time": "2024-05-28T13:43:45.311Z"
   },
   {
    "duration": 6,
    "start_time": "2024-05-28T13:43:45.327Z"
   },
   {
    "duration": 29,
    "start_time": "2024-05-28T13:43:45.335Z"
   },
   {
    "duration": 16,
    "start_time": "2024-05-28T13:43:45.366Z"
   },
   {
    "duration": 9,
    "start_time": "2024-05-28T13:43:45.386Z"
   },
   {
    "duration": 6,
    "start_time": "2024-05-28T13:43:45.397Z"
   },
   {
    "duration": 14,
    "start_time": "2024-05-28T13:43:45.404Z"
   },
   {
    "duration": 6,
    "start_time": "2024-05-28T13:43:45.419Z"
   },
   {
    "duration": 18,
    "start_time": "2024-05-28T13:43:45.426Z"
   },
   {
    "duration": 17,
    "start_time": "2024-05-28T13:43:45.446Z"
   },
   {
    "duration": 23,
    "start_time": "2024-05-28T13:43:45.465Z"
   },
   {
    "duration": 310,
    "start_time": "2024-05-28T13:43:45.490Z"
   },
   {
    "duration": 299,
    "start_time": "2024-05-28T13:43:45.802Z"
   },
   {
    "duration": 211,
    "start_time": "2024-05-28T13:43:46.103Z"
   },
   {
    "duration": 303,
    "start_time": "2024-05-28T13:43:46.316Z"
   },
   {
    "duration": 223,
    "start_time": "2024-05-28T13:43:46.620Z"
   },
   {
    "duration": 370,
    "start_time": "2024-05-28T13:43:46.844Z"
   },
   {
    "duration": 9,
    "start_time": "2024-05-28T13:43:47.215Z"
   },
   {
    "duration": 128,
    "start_time": "2024-05-28T13:43:47.226Z"
   },
   {
    "duration": 184,
    "start_time": "2024-05-28T13:43:47.355Z"
   },
   {
    "duration": 5,
    "start_time": "2024-05-28T13:43:47.541Z"
   },
   {
    "duration": 9,
    "start_time": "2024-05-28T13:43:47.559Z"
   },
   {
    "duration": 238,
    "start_time": "2024-05-28T13:43:47.569Z"
   },
   {
    "duration": 5,
    "start_time": "2024-05-28T13:43:47.809Z"
   },
   {
    "duration": 236,
    "start_time": "2024-05-28T13:43:47.815Z"
   },
   {
    "duration": 137,
    "start_time": "2024-05-28T13:43:48.052Z"
   },
   {
    "duration": 26,
    "start_time": "2024-05-28T13:43:48.190Z"
   },
   {
    "duration": 9,
    "start_time": "2024-05-28T13:43:48.218Z"
   },
   {
    "duration": 10,
    "start_time": "2024-05-28T13:43:48.229Z"
   },
   {
    "duration": 8,
    "start_time": "2024-05-28T13:43:48.259Z"
   },
   {
    "duration": 31,
    "start_time": "2024-05-28T13:43:48.269Z"
   },
   {
    "duration": 15,
    "start_time": "2024-05-28T13:43:48.301Z"
   },
   {
    "duration": 221,
    "start_time": "2024-05-28T13:50:10.329Z"
   },
   {
    "duration": 26,
    "start_time": "2024-05-28T13:57:44.240Z"
   },
   {
    "duration": 16,
    "start_time": "2024-05-28T14:00:03.847Z"
   },
   {
    "duration": 1183,
    "start_time": "2024-05-28T14:09:53.609Z"
   },
   {
    "duration": 71,
    "start_time": "2024-05-28T14:09:54.795Z"
   },
   {
    "duration": 11,
    "start_time": "2024-05-28T14:09:54.868Z"
   },
   {
    "duration": 30,
    "start_time": "2024-05-28T14:09:54.881Z"
   },
   {
    "duration": 16,
    "start_time": "2024-05-28T14:09:54.913Z"
   },
   {
    "duration": 25,
    "start_time": "2024-05-28T14:09:54.930Z"
   },
   {
    "duration": 20,
    "start_time": "2024-05-28T14:09:54.956Z"
   },
   {
    "duration": 21,
    "start_time": "2024-05-28T14:09:54.978Z"
   },
   {
    "duration": 15,
    "start_time": "2024-05-28T14:09:55.002Z"
   },
   {
    "duration": 28,
    "start_time": "2024-05-28T14:09:55.020Z"
   },
   {
    "duration": 32,
    "start_time": "2024-05-28T14:09:55.050Z"
   },
   {
    "duration": 32,
    "start_time": "2024-05-28T14:09:55.084Z"
   },
   {
    "duration": 36,
    "start_time": "2024-05-28T14:09:55.118Z"
   },
   {
    "duration": 22,
    "start_time": "2024-05-28T14:09:55.156Z"
   },
   {
    "duration": 15,
    "start_time": "2024-05-28T14:09:55.180Z"
   },
   {
    "duration": 6,
    "start_time": "2024-05-28T14:09:55.196Z"
   },
   {
    "duration": 19,
    "start_time": "2024-05-28T14:09:55.204Z"
   },
   {
    "duration": 35,
    "start_time": "2024-05-28T14:09:55.225Z"
   },
   {
    "duration": 25,
    "start_time": "2024-05-28T14:09:55.261Z"
   },
   {
    "duration": 14,
    "start_time": "2024-05-28T14:09:55.288Z"
   },
   {
    "duration": 13,
    "start_time": "2024-05-28T14:09:55.303Z"
   },
   {
    "duration": 14,
    "start_time": "2024-05-28T14:09:55.318Z"
   },
   {
    "duration": 17,
    "start_time": "2024-05-28T14:09:55.333Z"
   },
   {
    "duration": 14,
    "start_time": "2024-05-28T14:09:55.351Z"
   },
   {
    "duration": 6,
    "start_time": "2024-05-28T14:09:55.366Z"
   },
   {
    "duration": 17,
    "start_time": "2024-05-28T14:09:55.373Z"
   },
   {
    "duration": 34,
    "start_time": "2024-05-28T14:09:55.391Z"
   },
   {
    "duration": 33,
    "start_time": "2024-05-28T14:09:55.430Z"
   },
   {
    "duration": 12,
    "start_time": "2024-05-28T14:09:55.465Z"
   },
   {
    "duration": 15,
    "start_time": "2024-05-28T14:09:55.479Z"
   },
   {
    "duration": 13,
    "start_time": "2024-05-28T14:09:55.496Z"
   },
   {
    "duration": 37,
    "start_time": "2024-05-28T14:09:55.511Z"
   },
   {
    "duration": 13,
    "start_time": "2024-05-28T14:09:55.550Z"
   },
   {
    "duration": 21,
    "start_time": "2024-05-28T14:09:55.565Z"
   },
   {
    "duration": 280,
    "start_time": "2024-05-28T14:09:55.587Z"
   },
   {
    "duration": 290,
    "start_time": "2024-05-28T14:09:55.868Z"
   },
   {
    "duration": 221,
    "start_time": "2024-05-28T14:09:56.160Z"
   },
   {
    "duration": 305,
    "start_time": "2024-05-28T14:09:56.382Z"
   },
   {
    "duration": 220,
    "start_time": "2024-05-28T14:09:56.689Z"
   },
   {
    "duration": 319,
    "start_time": "2024-05-28T14:09:56.911Z"
   },
   {
    "duration": 8,
    "start_time": "2024-05-28T14:09:57.231Z"
   },
   {
    "duration": 140,
    "start_time": "2024-05-28T14:09:57.241Z"
   },
   {
    "duration": 172,
    "start_time": "2024-05-28T14:09:57.383Z"
   },
   {
    "duration": 6,
    "start_time": "2024-05-28T14:09:57.559Z"
   },
   {
    "duration": 21,
    "start_time": "2024-05-28T14:09:57.567Z"
   },
   {
    "duration": 239,
    "start_time": "2024-05-28T14:09:57.589Z"
   },
   {
    "duration": 5,
    "start_time": "2024-05-28T14:09:57.829Z"
   },
   {
    "duration": 242,
    "start_time": "2024-05-28T14:09:57.836Z"
   },
   {
    "duration": 136,
    "start_time": "2024-05-28T14:09:58.080Z"
   },
   {
    "duration": 25,
    "start_time": "2024-05-28T14:09:58.218Z"
   },
   {
    "duration": 20,
    "start_time": "2024-05-28T14:09:58.244Z"
   },
   {
    "duration": 35,
    "start_time": "2024-05-28T14:09:58.265Z"
   },
   {
    "duration": 11,
    "start_time": "2024-05-28T14:09:58.302Z"
   },
   {
    "duration": 28,
    "start_time": "2024-05-28T14:09:58.314Z"
   },
   {
    "duration": 13,
    "start_time": "2024-05-28T14:09:58.343Z"
   },
   {
    "duration": 1223,
    "start_time": "2024-05-28T14:13:09.854Z"
   },
   {
    "duration": 73,
    "start_time": "2024-05-28T14:13:11.079Z"
   },
   {
    "duration": 16,
    "start_time": "2024-05-28T14:13:11.154Z"
   },
   {
    "duration": 16,
    "start_time": "2024-05-28T14:13:11.172Z"
   },
   {
    "duration": 7,
    "start_time": "2024-05-28T14:13:11.192Z"
   },
   {
    "duration": 8,
    "start_time": "2024-05-28T14:13:11.201Z"
   },
   {
    "duration": 16,
    "start_time": "2024-05-28T14:13:11.211Z"
   },
   {
    "duration": 35,
    "start_time": "2024-05-28T14:13:11.229Z"
   },
   {
    "duration": 10,
    "start_time": "2024-05-28T14:13:11.266Z"
   },
   {
    "duration": 6,
    "start_time": "2024-05-28T14:13:11.278Z"
   },
   {
    "duration": 12,
    "start_time": "2024-05-28T14:13:11.285Z"
   },
   {
    "duration": 18,
    "start_time": "2024-05-28T14:13:11.299Z"
   },
   {
    "duration": 21,
    "start_time": "2024-05-28T14:13:11.318Z"
   },
   {
    "duration": 18,
    "start_time": "2024-05-28T14:13:11.343Z"
   },
   {
    "duration": 5,
    "start_time": "2024-05-28T14:13:11.363Z"
   },
   {
    "duration": 6,
    "start_time": "2024-05-28T14:13:11.370Z"
   },
   {
    "duration": 3,
    "start_time": "2024-05-28T14:13:11.378Z"
   },
   {
    "duration": 7,
    "start_time": "2024-05-28T14:13:11.382Z"
   },
   {
    "duration": 14,
    "start_time": "2024-05-28T14:13:11.390Z"
   },
   {
    "duration": 8,
    "start_time": "2024-05-28T14:13:11.405Z"
   },
   {
    "duration": 8,
    "start_time": "2024-05-28T14:13:11.415Z"
   },
   {
    "duration": 7,
    "start_time": "2024-05-28T14:13:11.424Z"
   },
   {
    "duration": 31,
    "start_time": "2024-05-28T14:13:11.432Z"
   },
   {
    "duration": 43,
    "start_time": "2024-05-28T14:13:11.464Z"
   },
   {
    "duration": 7,
    "start_time": "2024-05-28T14:13:11.509Z"
   },
   {
    "duration": 12,
    "start_time": "2024-05-28T14:13:11.518Z"
   },
   {
    "duration": 23,
    "start_time": "2024-05-28T14:13:11.532Z"
   },
   {
    "duration": 14,
    "start_time": "2024-05-28T14:13:11.557Z"
   },
   {
    "duration": 25,
    "start_time": "2024-05-28T14:13:11.572Z"
   },
   {
    "duration": 22,
    "start_time": "2024-05-28T14:13:11.599Z"
   },
   {
    "duration": 16,
    "start_time": "2024-05-28T14:13:11.622Z"
   },
   {
    "duration": 33,
    "start_time": "2024-05-28T14:13:11.639Z"
   },
   {
    "duration": 8,
    "start_time": "2024-05-28T14:13:11.674Z"
   },
   {
    "duration": 23,
    "start_time": "2024-05-28T14:13:11.684Z"
   },
   {
    "duration": 280,
    "start_time": "2024-05-28T14:13:11.708Z"
   },
   {
    "duration": 295,
    "start_time": "2024-05-28T14:13:11.990Z"
   },
   {
    "duration": 208,
    "start_time": "2024-05-28T14:13:12.287Z"
   },
   {
    "duration": 309,
    "start_time": "2024-05-28T14:13:12.496Z"
   },
   {
    "duration": 235,
    "start_time": "2024-05-28T14:13:12.806Z"
   },
   {
    "duration": 346,
    "start_time": "2024-05-28T14:13:13.042Z"
   },
   {
    "duration": 9,
    "start_time": "2024-05-28T14:13:13.392Z"
   },
   {
    "duration": 146,
    "start_time": "2024-05-28T14:13:13.402Z"
   },
   {
    "duration": 175,
    "start_time": "2024-05-28T14:13:13.550Z"
   },
   {
    "duration": 5,
    "start_time": "2024-05-28T14:13:13.727Z"
   },
   {
    "duration": 35,
    "start_time": "2024-05-28T14:13:13.734Z"
   },
   {
    "duration": 233,
    "start_time": "2024-05-28T14:13:13.770Z"
   },
   {
    "duration": 6,
    "start_time": "2024-05-28T14:13:14.005Z"
   },
   {
    "duration": 229,
    "start_time": "2024-05-28T14:13:14.013Z"
   },
   {
    "duration": 137,
    "start_time": "2024-05-28T14:13:14.244Z"
   },
   {
    "duration": 27,
    "start_time": "2024-05-28T14:13:14.382Z"
   },
   {
    "duration": 10,
    "start_time": "2024-05-28T14:13:14.411Z"
   },
   {
    "duration": 9,
    "start_time": "2024-05-28T14:13:14.423Z"
   },
   {
    "duration": 30,
    "start_time": "2024-05-28T14:13:14.434Z"
   },
   {
    "duration": 27,
    "start_time": "2024-05-28T14:13:14.466Z"
   },
   {
    "duration": 14,
    "start_time": "2024-05-28T14:13:14.494Z"
   },
   {
    "duration": 1147,
    "start_time": "2024-05-29T06:09:15.119Z"
   },
   {
    "duration": 212,
    "start_time": "2024-05-29T06:09:16.270Z"
   },
   {
    "duration": 11,
    "start_time": "2024-05-29T06:09:16.483Z"
   },
   {
    "duration": 10,
    "start_time": "2024-05-29T06:09:16.495Z"
   },
   {
    "duration": 4,
    "start_time": "2024-05-29T06:09:16.506Z"
   },
   {
    "duration": 12,
    "start_time": "2024-05-29T06:09:16.511Z"
   },
   {
    "duration": 9,
    "start_time": "2024-05-29T06:09:16.524Z"
   },
   {
    "duration": 8,
    "start_time": "2024-05-29T06:09:16.534Z"
   },
   {
    "duration": 17,
    "start_time": "2024-05-29T06:09:16.543Z"
   },
   {
    "duration": 13,
    "start_time": "2024-05-29T06:09:16.561Z"
   },
   {
    "duration": 11,
    "start_time": "2024-05-29T06:09:16.576Z"
   },
   {
    "duration": 12,
    "start_time": "2024-05-29T06:09:16.589Z"
   },
   {
    "duration": 4,
    "start_time": "2024-05-29T06:09:16.602Z"
   },
   {
    "duration": 6,
    "start_time": "2024-05-29T06:09:16.609Z"
   },
   {
    "duration": 3,
    "start_time": "2024-05-29T06:09:16.616Z"
   },
   {
    "duration": 4,
    "start_time": "2024-05-29T06:09:16.621Z"
   },
   {
    "duration": 18,
    "start_time": "2024-05-29T06:09:16.627Z"
   },
   {
    "duration": 11,
    "start_time": "2024-05-29T06:09:16.647Z"
   },
   {
    "duration": 19,
    "start_time": "2024-05-29T06:09:16.660Z"
   },
   {
    "duration": 7,
    "start_time": "2024-05-29T06:09:16.681Z"
   },
   {
    "duration": 7,
    "start_time": "2024-05-29T06:09:16.689Z"
   },
   {
    "duration": 7,
    "start_time": "2024-05-29T06:09:16.697Z"
   },
   {
    "duration": 7,
    "start_time": "2024-05-29T06:09:16.705Z"
   },
   {
    "duration": 8,
    "start_time": "2024-05-29T06:09:16.714Z"
   },
   {
    "duration": 6,
    "start_time": "2024-05-29T06:09:16.723Z"
   },
   {
    "duration": 3,
    "start_time": "2024-05-29T06:09:16.730Z"
   },
   {
    "duration": 8,
    "start_time": "2024-05-29T06:09:16.734Z"
   },
   {
    "duration": 29,
    "start_time": "2024-05-29T06:09:16.744Z"
   },
   {
    "duration": 4,
    "start_time": "2024-05-29T06:09:16.775Z"
   },
   {
    "duration": 8,
    "start_time": "2024-05-29T06:09:16.780Z"
   },
   {
    "duration": 9,
    "start_time": "2024-05-29T06:09:16.790Z"
   },
   {
    "duration": 9,
    "start_time": "2024-05-29T06:09:16.800Z"
   },
   {
    "duration": 4,
    "start_time": "2024-05-29T06:09:16.810Z"
   },
   {
    "duration": 16,
    "start_time": "2024-05-29T06:09:16.815Z"
   },
   {
    "duration": 273,
    "start_time": "2024-05-29T06:09:16.832Z"
   },
   {
    "duration": 254,
    "start_time": "2024-05-29T06:09:17.106Z"
   },
   {
    "duration": 195,
    "start_time": "2024-05-29T06:09:17.362Z"
   },
   {
    "duration": 348,
    "start_time": "2024-05-29T06:09:17.559Z"
   },
   {
    "duration": 231,
    "start_time": "2024-05-29T06:09:17.908Z"
   },
   {
    "duration": 337,
    "start_time": "2024-05-29T06:09:18.140Z"
   },
   {
    "duration": 9,
    "start_time": "2024-05-29T06:09:18.482Z"
   },
   {
    "duration": 121,
    "start_time": "2024-05-29T06:09:18.492Z"
   },
   {
    "duration": 157,
    "start_time": "2024-05-29T06:09:18.614Z"
   },
   {
    "duration": 5,
    "start_time": "2024-05-29T06:09:18.772Z"
   },
   {
    "duration": 9,
    "start_time": "2024-05-29T06:09:18.778Z"
   },
   {
    "duration": 202,
    "start_time": "2024-05-29T06:09:18.789Z"
   },
   {
    "duration": 5,
    "start_time": "2024-05-29T06:09:18.992Z"
   },
   {
    "duration": 216,
    "start_time": "2024-05-29T06:09:18.998Z"
   },
   {
    "duration": 122,
    "start_time": "2024-05-29T06:09:19.215Z"
   },
   {
    "duration": 21,
    "start_time": "2024-05-29T06:09:19.338Z"
   },
   {
    "duration": 17,
    "start_time": "2024-05-29T06:09:19.360Z"
   },
   {
    "duration": 8,
    "start_time": "2024-05-29T06:09:19.378Z"
   },
   {
    "duration": 16,
    "start_time": "2024-05-29T06:09:19.388Z"
   },
   {
    "duration": 21,
    "start_time": "2024-05-29T06:09:19.406Z"
   },
   {
    "duration": 13,
    "start_time": "2024-05-29T06:09:19.428Z"
   },
   {
    "duration": 1194,
    "start_time": "2024-08-28T20:24:29.756Z"
   },
   {
    "duration": 266,
    "start_time": "2024-08-28T20:24:30.952Z"
   },
   {
    "duration": 12,
    "start_time": "2024-08-28T20:24:31.219Z"
   },
   {
    "duration": 12,
    "start_time": "2024-08-28T20:24:31.233Z"
   },
   {
    "duration": 5,
    "start_time": "2024-08-28T20:24:31.247Z"
   },
   {
    "duration": 11,
    "start_time": "2024-08-28T20:24:31.254Z"
   },
   {
    "duration": 13,
    "start_time": "2024-08-28T20:24:31.267Z"
   },
   {
    "duration": 11,
    "start_time": "2024-08-28T20:24:31.282Z"
   },
   {
    "duration": 12,
    "start_time": "2024-08-28T20:24:31.325Z"
   },
   {
    "duration": 7,
    "start_time": "2024-08-28T20:24:31.340Z"
   },
   {
    "duration": 25,
    "start_time": "2024-08-28T20:24:31.349Z"
   },
   {
    "duration": 25,
    "start_time": "2024-08-28T20:24:31.376Z"
   },
   {
    "duration": 7,
    "start_time": "2024-08-28T20:24:31.402Z"
   },
   {
    "duration": 7,
    "start_time": "2024-08-28T20:24:31.410Z"
   },
   {
    "duration": 28,
    "start_time": "2024-08-28T20:24:31.425Z"
   },
   {
    "duration": 20,
    "start_time": "2024-08-28T20:24:31.455Z"
   },
   {
    "duration": 4,
    "start_time": "2024-08-28T20:24:31.476Z"
   },
   {
    "duration": 5,
    "start_time": "2024-08-28T20:24:31.481Z"
   },
   {
    "duration": 92,
    "start_time": "2024-08-28T20:24:31.487Z"
   },
   {
    "duration": 13,
    "start_time": "2024-08-28T20:24:31.581Z"
   },
   {
    "duration": 4,
    "start_time": "2024-08-28T20:24:31.596Z"
   },
   {
    "duration": 10,
    "start_time": "2024-08-28T20:24:31.601Z"
   },
   {
    "duration": 22,
    "start_time": "2024-08-28T20:24:31.612Z"
   },
   {
    "duration": 12,
    "start_time": "2024-08-28T20:24:31.636Z"
   },
   {
    "duration": 14,
    "start_time": "2024-08-28T20:24:31.650Z"
   },
   {
    "duration": 8,
    "start_time": "2024-08-28T20:24:31.665Z"
   },
   {
    "duration": 8,
    "start_time": "2024-08-28T20:24:31.675Z"
   },
   {
    "duration": 4,
    "start_time": "2024-08-28T20:24:31.686Z"
   },
   {
    "duration": 15,
    "start_time": "2024-08-28T20:24:31.691Z"
   },
   {
    "duration": 30,
    "start_time": "2024-08-28T20:24:31.707Z"
   },
   {
    "duration": 5,
    "start_time": "2024-08-28T20:24:31.738Z"
   },
   {
    "duration": 14,
    "start_time": "2024-08-28T20:24:31.745Z"
   },
   {
    "duration": 4,
    "start_time": "2024-08-28T20:24:31.761Z"
   },
   {
    "duration": 17,
    "start_time": "2024-08-28T20:24:31.767Z"
   },
   {
    "duration": 308,
    "start_time": "2024-08-28T20:24:31.786Z"
   },
   {
    "duration": 322,
    "start_time": "2024-08-28T20:24:32.096Z"
   },
   {
    "duration": 250,
    "start_time": "2024-08-28T20:24:32.419Z"
   },
   {
    "duration": 284,
    "start_time": "2024-08-28T20:24:32.670Z"
   },
   {
    "duration": 239,
    "start_time": "2024-08-28T20:24:32.956Z"
   },
   {
    "duration": 372,
    "start_time": "2024-08-28T20:24:33.197Z"
   },
   {
    "duration": 13,
    "start_time": "2024-08-28T20:24:33.571Z"
   },
   {
    "duration": 148,
    "start_time": "2024-08-28T20:24:33.586Z"
   },
   {
    "duration": 177,
    "start_time": "2024-08-28T20:24:33.735Z"
   },
   {
    "duration": 13,
    "start_time": "2024-08-28T20:24:33.913Z"
   },
   {
    "duration": 8,
    "start_time": "2024-08-28T20:24:33.928Z"
   },
   {
    "duration": 256,
    "start_time": "2024-08-28T20:24:33.937Z"
   },
   {
    "duration": 5,
    "start_time": "2024-08-28T20:24:34.195Z"
   },
   {
    "duration": 229,
    "start_time": "2024-08-28T20:24:34.201Z"
   },
   {
    "duration": 194,
    "start_time": "2024-08-28T20:24:34.432Z"
   },
   {
    "duration": 29,
    "start_time": "2024-08-28T20:24:34.629Z"
   },
   {
    "duration": 9,
    "start_time": "2024-08-28T20:24:34.660Z"
   },
   {
    "duration": 8,
    "start_time": "2024-08-28T20:24:34.671Z"
   },
   {
    "duration": 8,
    "start_time": "2024-08-28T20:24:34.681Z"
   },
   {
    "duration": 63,
    "start_time": "2024-08-28T20:24:34.690Z"
   },
   {
    "duration": 14,
    "start_time": "2024-08-28T20:24:34.755Z"
   }
  ],
  "kernelspec": {
   "display_name": "Python 3 (ipykernel)",
   "language": "python",
   "name": "python3"
  },
  "language_info": {
   "codemirror_mode": {
    "name": "ipython",
    "version": 3
   },
   "file_extension": ".py",
   "mimetype": "text/x-python",
   "name": "python",
   "nbconvert_exporter": "python",
   "pygments_lexer": "ipython3",
   "version": "3.9.5"
  },
  "toc": {
   "base_numbering": 1,
   "nav_menu": {},
   "number_sections": true,
   "sideBar": true,
   "skip_h1_title": true,
   "title_cell": "Table of Contents",
   "title_sidebar": "Contents",
   "toc_cell": false,
   "toc_position": {
    "height": "calc(100% - 180px)",
    "left": "10px",
    "top": "150px",
    "width": "165px"
   },
   "toc_section_display": true,
   "toc_window_display": true
  }
 },
 "nbformat": 4,
 "nbformat_minor": 2
}
