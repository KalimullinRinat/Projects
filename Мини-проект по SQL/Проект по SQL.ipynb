{
 "cells": [
  {
   "cell_type": "markdown",
   "metadata": {},
   "source": [
    "# Проект по SQL"
   ]
  },
  {
   "cell_type": "markdown",
   "metadata": {},
   "source": [
    "# Описание проекта\n",
    "\n",
    "Коронавирус застал мир врасплох, изменив привычный порядок вещей. На какое-то время жители городов перестали выходить на улицу, посещать кафе и торговые центры. Зато стало больше времени для книг. Это заметили стартаперы — и бросились создавать приложения для тех, кто любит читать.\n",
    "Ваша компания решила быть на волне и купила крупный сервис для чтения книг по подписке. Ваша первая задача как аналитика — проанализировать базу данных.\n",
    "В ней — информация о книгах, издательствах, авторах, а также пользовательские обзоры книг. Эти данные помогут сформулировать ценностное предложение для нового продукта."
   ]
  },
  {
   "cell_type": "markdown",
   "metadata": {},
   "source": [
    "# Описание данных\n",
    "\n",
    "**Таблица `books`**\n",
    "\n",
    "Содержит данные о книгах:\n",
    "\n",
    "- book_id — идентификатор книги;\n",
    "- author_id — идентификатор автора;\n",
    "- title — название книги;\n",
    "- num_pages — количество страниц;\n",
    "- publication_date — дата публикации книги;\n",
    "- publisher_id — идентификатор издателя.\n",
    "\n",
    "**Таблица `authors`**\n",
    "\n",
    "Содержит данные об авторах:\n",
    "\n",
    "- author_id — идентификатор автора;\n",
    "- author — имя автора.\n",
    "- Таблица publishers\n",
    "- Содержит данные об издательствах:\n",
    "- publisher_id — идентификатор издательства;\n",
    "- publisher — название издательства;\n",
    "\n",
    "**Таблица `ratings`**\n",
    "\n",
    "Содержит данные о пользовательских оценках книг:\n",
    "\n",
    "- rating_id — идентификатор оценки;\n",
    "- book_id — идентификатор книги;\n",
    "- username — имя пользователя, оставившего оценку;\n",
    "- rating — оценка книги.\n",
    "\n",
    "**Таблица `reviews`**\n",
    "\n",
    "Содержит данные о пользовательских обзорах:\n",
    "\n",
    "- review_id — идентификатор обзора;\n",
    "- book_id — идентификатор книги;\n",
    "- username — имя автора обзора;\n",
    "- text — текст обзора."
   ]
  },
  {
   "cell_type": "markdown",
   "metadata": {},
   "source": [
    "# Схема данных\n",
    "\n",
    "![Схема данных](https://pictures.s3.yandex.net/resources/scheme_1589269096.png)"
   ]
  },
  {
   "cell_type": "markdown",
   "metadata": {},
   "source": [
    "# Ход выполнения проекта\n",
    "\n",
    "**Шаг 1. Загрузить данные и вывести первые строки**\n",
    "\n",
    "**Шаг 2. Задание 1**\n",
    "- Посчитайте, сколько книг вышло после 1 января 2000 года\n",
    "\n",
    "**Шаг 3. Задание 2**\n",
    "- Для каждой книги посчитайте количество обзоров и среднюю оценку\n",
    "\n",
    "**Шаг 4. Задание 3**\n",
    "- Определите издательство, которое выпустило наибольшее число книг толще 50 страниц — так вы исключите из анализа брошюры\n",
    "\n",
    "**Шаг 5. Задание 4**\n",
    "- Определите автора с самой высокой средней оценкой книг — учитывайте только книги с 50 и более оценками\n",
    "\n",
    "**Шаг 6. Задание 5**\n",
    "- Посчитайте среднее количество обзоров от пользователей, которые поставили больше 48 оценок\n",
    "\n",
    "**Шаг 7. Общий вывод**"
   ]
  },
  {
   "cell_type": "markdown",
   "metadata": {},
   "source": [
    "### Загрузить данные и вывести первые строки"
   ]
  },
  {
   "cell_type": "code",
   "execution_count": 1,
   "metadata": {},
   "outputs": [],
   "source": [
    "# импортируем библиотеки\n",
    "import pandas as pd\n",
    "from sqlalchemy import text, create_engine"
   ]
  },
  {
   "cell_type": "markdown",
   "metadata": {},
   "source": [
    "Для удобства напишем функцию, которая будет выводить первые строки таблиц."
   ]
  },
  {
   "cell_type": "code",
   "execution_count": 4,
   "metadata": {},
   "outputs": [],
   "source": [
    "# напишем функция для вывода первых 5 строк датафрейма\n",
    "def first_lines(table):\n",
    "    # сформируем запрос\n",
    "    query = ''' \n",
    "    SELECT * \n",
    "    FROM {}\n",
    "    LIMIT 5\n",
    "    '''.format(table) \n",
    "    \n",
    "    con=engine.connect()\n",
    "    request = pd.io.sql.read_sql(sql=text(query), con = con)\n",
    "    \n",
    "    # выведем на экран\n",
    "    print('Таблица', table)\n",
    "    display(request)"
   ]
  },
  {
   "cell_type": "code",
   "execution_count": 5,
   "metadata": {},
   "outputs": [
    {
     "name": "stdout",
     "output_type": "stream",
     "text": [
      "Таблица books\n"
     ]
    },
    {
     "data": {
      "text/html": [
       "<div>\n",
       "<style scoped>\n",
       "    .dataframe tbody tr th:only-of-type {\n",
       "        vertical-align: middle;\n",
       "    }\n",
       "\n",
       "    .dataframe tbody tr th {\n",
       "        vertical-align: top;\n",
       "    }\n",
       "\n",
       "    .dataframe thead th {\n",
       "        text-align: right;\n",
       "    }\n",
       "</style>\n",
       "<table border=\"1\" class=\"dataframe\">\n",
       "  <thead>\n",
       "    <tr style=\"text-align: right;\">\n",
       "      <th></th>\n",
       "      <th>book_id</th>\n",
       "      <th>author_id</th>\n",
       "      <th>title</th>\n",
       "      <th>num_pages</th>\n",
       "      <th>publication_date</th>\n",
       "      <th>publisher_id</th>\n",
       "    </tr>\n",
       "  </thead>\n",
       "  <tbody>\n",
       "    <tr>\n",
       "      <th>0</th>\n",
       "      <td>1</td>\n",
       "      <td>546</td>\n",
       "      <td>'Salem's Lot</td>\n",
       "      <td>594</td>\n",
       "      <td>2005-11-01</td>\n",
       "      <td>93</td>\n",
       "    </tr>\n",
       "    <tr>\n",
       "      <th>1</th>\n",
       "      <td>2</td>\n",
       "      <td>465</td>\n",
       "      <td>1 000 Places to See Before You Die</td>\n",
       "      <td>992</td>\n",
       "      <td>2003-05-22</td>\n",
       "      <td>336</td>\n",
       "    </tr>\n",
       "    <tr>\n",
       "      <th>2</th>\n",
       "      <td>3</td>\n",
       "      <td>407</td>\n",
       "      <td>13 Little Blue Envelopes (Little Blue Envelope...</td>\n",
       "      <td>322</td>\n",
       "      <td>2010-12-21</td>\n",
       "      <td>135</td>\n",
       "    </tr>\n",
       "    <tr>\n",
       "      <th>3</th>\n",
       "      <td>4</td>\n",
       "      <td>82</td>\n",
       "      <td>1491: New Revelations of the Americas Before C...</td>\n",
       "      <td>541</td>\n",
       "      <td>2006-10-10</td>\n",
       "      <td>309</td>\n",
       "    </tr>\n",
       "    <tr>\n",
       "      <th>4</th>\n",
       "      <td>5</td>\n",
       "      <td>125</td>\n",
       "      <td>1776</td>\n",
       "      <td>386</td>\n",
       "      <td>2006-07-04</td>\n",
       "      <td>268</td>\n",
       "    </tr>\n",
       "  </tbody>\n",
       "</table>\n",
       "</div>"
      ],
      "text/plain": [
       "   book_id  author_id                                              title  \\\n",
       "0        1        546                                       'Salem's Lot   \n",
       "1        2        465                 1 000 Places to See Before You Die   \n",
       "2        3        407  13 Little Blue Envelopes (Little Blue Envelope...   \n",
       "3        4         82  1491: New Revelations of the Americas Before C...   \n",
       "4        5        125                                               1776   \n",
       "\n",
       "   num_pages publication_date  publisher_id  \n",
       "0        594       2005-11-01            93  \n",
       "1        992       2003-05-22           336  \n",
       "2        322       2010-12-21           135  \n",
       "3        541       2006-10-10           309  \n",
       "4        386       2006-07-04           268  "
      ]
     },
     "metadata": {},
     "output_type": "display_data"
    }
   ],
   "source": [
    "# выведем первые строки таблицы books\n",
    "first_lines('books')"
   ]
  },
  {
   "cell_type": "markdown",
   "metadata": {},
   "source": [
    "Таблица содержит данные об идентификаторе книги, идентификаторе автора, название книги, количество страниц, дата публикации книги и идентификатор издателя."
   ]
  },
  {
   "cell_type": "code",
   "execution_count": 6,
   "metadata": {},
   "outputs": [
    {
     "name": "stdout",
     "output_type": "stream",
     "text": [
      "Таблица authors\n"
     ]
    },
    {
     "data": {
      "text/html": [
       "<div>\n",
       "<style scoped>\n",
       "    .dataframe tbody tr th:only-of-type {\n",
       "        vertical-align: middle;\n",
       "    }\n",
       "\n",
       "    .dataframe tbody tr th {\n",
       "        vertical-align: top;\n",
       "    }\n",
       "\n",
       "    .dataframe thead th {\n",
       "        text-align: right;\n",
       "    }\n",
       "</style>\n",
       "<table border=\"1\" class=\"dataframe\">\n",
       "  <thead>\n",
       "    <tr style=\"text-align: right;\">\n",
       "      <th></th>\n",
       "      <th>author_id</th>\n",
       "      <th>author</th>\n",
       "    </tr>\n",
       "  </thead>\n",
       "  <tbody>\n",
       "    <tr>\n",
       "      <th>0</th>\n",
       "      <td>1</td>\n",
       "      <td>A.S. Byatt</td>\n",
       "    </tr>\n",
       "    <tr>\n",
       "      <th>1</th>\n",
       "      <td>2</td>\n",
       "      <td>Aesop/Laura Harris/Laura Gibbs</td>\n",
       "    </tr>\n",
       "    <tr>\n",
       "      <th>2</th>\n",
       "      <td>3</td>\n",
       "      <td>Agatha Christie</td>\n",
       "    </tr>\n",
       "    <tr>\n",
       "      <th>3</th>\n",
       "      <td>4</td>\n",
       "      <td>Alan Brennert</td>\n",
       "    </tr>\n",
       "    <tr>\n",
       "      <th>4</th>\n",
       "      <td>5</td>\n",
       "      <td>Alan Moore/David   Lloyd</td>\n",
       "    </tr>\n",
       "  </tbody>\n",
       "</table>\n",
       "</div>"
      ],
      "text/plain": [
       "   author_id                          author\n",
       "0          1                      A.S. Byatt\n",
       "1          2  Aesop/Laura Harris/Laura Gibbs\n",
       "2          3                 Agatha Christie\n",
       "3          4                   Alan Brennert\n",
       "4          5        Alan Moore/David   Lloyd"
      ]
     },
     "metadata": {},
     "output_type": "display_data"
    }
   ],
   "source": [
    "# выведем первые строки таблицы authors\n",
    "first_lines('authors')"
   ]
  },
  {
   "cell_type": "markdown",
   "metadata": {},
   "source": [
    "Таблица содержит данные об идентификаторе автора и имя автора."
   ]
  },
  {
   "cell_type": "code",
   "execution_count": 7,
   "metadata": {},
   "outputs": [
    {
     "name": "stdout",
     "output_type": "stream",
     "text": [
      "Таблица publishers\n"
     ]
    },
    {
     "data": {
      "text/html": [
       "<div>\n",
       "<style scoped>\n",
       "    .dataframe tbody tr th:only-of-type {\n",
       "        vertical-align: middle;\n",
       "    }\n",
       "\n",
       "    .dataframe tbody tr th {\n",
       "        vertical-align: top;\n",
       "    }\n",
       "\n",
       "    .dataframe thead th {\n",
       "        text-align: right;\n",
       "    }\n",
       "</style>\n",
       "<table border=\"1\" class=\"dataframe\">\n",
       "  <thead>\n",
       "    <tr style=\"text-align: right;\">\n",
       "      <th></th>\n",
       "      <th>publisher_id</th>\n",
       "      <th>publisher</th>\n",
       "    </tr>\n",
       "  </thead>\n",
       "  <tbody>\n",
       "    <tr>\n",
       "      <th>0</th>\n",
       "      <td>1</td>\n",
       "      <td>Ace</td>\n",
       "    </tr>\n",
       "    <tr>\n",
       "      <th>1</th>\n",
       "      <td>2</td>\n",
       "      <td>Ace Book</td>\n",
       "    </tr>\n",
       "    <tr>\n",
       "      <th>2</th>\n",
       "      <td>3</td>\n",
       "      <td>Ace Books</td>\n",
       "    </tr>\n",
       "    <tr>\n",
       "      <th>3</th>\n",
       "      <td>4</td>\n",
       "      <td>Ace Hardcover</td>\n",
       "    </tr>\n",
       "    <tr>\n",
       "      <th>4</th>\n",
       "      <td>5</td>\n",
       "      <td>Addison Wesley Publishing Company</td>\n",
       "    </tr>\n",
       "  </tbody>\n",
       "</table>\n",
       "</div>"
      ],
      "text/plain": [
       "   publisher_id                          publisher\n",
       "0             1                                Ace\n",
       "1             2                           Ace Book\n",
       "2             3                          Ace Books\n",
       "3             4                      Ace Hardcover\n",
       "4             5  Addison Wesley Publishing Company"
      ]
     },
     "metadata": {},
     "output_type": "display_data"
    }
   ],
   "source": [
    "# выведем первые строки таблицы publishers\n",
    "first_lines('publishers')"
   ]
  },
  {
   "cell_type": "markdown",
   "metadata": {},
   "source": [
    "Таблица содержит данные об идентификаторе издательства и название издательства."
   ]
  },
  {
   "cell_type": "code",
   "execution_count": 8,
   "metadata": {},
   "outputs": [
    {
     "name": "stdout",
     "output_type": "stream",
     "text": [
      "Таблица ratings\n"
     ]
    },
    {
     "data": {
      "text/html": [
       "<div>\n",
       "<style scoped>\n",
       "    .dataframe tbody tr th:only-of-type {\n",
       "        vertical-align: middle;\n",
       "    }\n",
       "\n",
       "    .dataframe tbody tr th {\n",
       "        vertical-align: top;\n",
       "    }\n",
       "\n",
       "    .dataframe thead th {\n",
       "        text-align: right;\n",
       "    }\n",
       "</style>\n",
       "<table border=\"1\" class=\"dataframe\">\n",
       "  <thead>\n",
       "    <tr style=\"text-align: right;\">\n",
       "      <th></th>\n",
       "      <th>rating_id</th>\n",
       "      <th>book_id</th>\n",
       "      <th>username</th>\n",
       "      <th>rating</th>\n",
       "    </tr>\n",
       "  </thead>\n",
       "  <tbody>\n",
       "    <tr>\n",
       "      <th>0</th>\n",
       "      <td>1</td>\n",
       "      <td>1</td>\n",
       "      <td>ryanfranco</td>\n",
       "      <td>4</td>\n",
       "    </tr>\n",
       "    <tr>\n",
       "      <th>1</th>\n",
       "      <td>2</td>\n",
       "      <td>1</td>\n",
       "      <td>grantpatricia</td>\n",
       "      <td>2</td>\n",
       "    </tr>\n",
       "    <tr>\n",
       "      <th>2</th>\n",
       "      <td>3</td>\n",
       "      <td>1</td>\n",
       "      <td>brandtandrea</td>\n",
       "      <td>5</td>\n",
       "    </tr>\n",
       "    <tr>\n",
       "      <th>3</th>\n",
       "      <td>4</td>\n",
       "      <td>2</td>\n",
       "      <td>lorichen</td>\n",
       "      <td>3</td>\n",
       "    </tr>\n",
       "    <tr>\n",
       "      <th>4</th>\n",
       "      <td>5</td>\n",
       "      <td>2</td>\n",
       "      <td>mariokeller</td>\n",
       "      <td>2</td>\n",
       "    </tr>\n",
       "  </tbody>\n",
       "</table>\n",
       "</div>"
      ],
      "text/plain": [
       "   rating_id  book_id       username  rating\n",
       "0          1        1     ryanfranco       4\n",
       "1          2        1  grantpatricia       2\n",
       "2          3        1   brandtandrea       5\n",
       "3          4        2       lorichen       3\n",
       "4          5        2    mariokeller       2"
      ]
     },
     "metadata": {},
     "output_type": "display_data"
    }
   ],
   "source": [
    "# выведем первые строки таблицы ratings\n",
    "first_lines('ratings')"
   ]
  },
  {
   "cell_type": "markdown",
   "metadata": {},
   "source": [
    "Таблица содержит данные об идентификаторе оценки; идентификатор книги; имя пользователя, оставившего оценку и оценка книги."
   ]
  },
  {
   "cell_type": "code",
   "execution_count": 9,
   "metadata": {},
   "outputs": [
    {
     "name": "stdout",
     "output_type": "stream",
     "text": [
      "Таблица reviews\n"
     ]
    },
    {
     "data": {
      "text/html": [
       "<div>\n",
       "<style scoped>\n",
       "    .dataframe tbody tr th:only-of-type {\n",
       "        vertical-align: middle;\n",
       "    }\n",
       "\n",
       "    .dataframe tbody tr th {\n",
       "        vertical-align: top;\n",
       "    }\n",
       "\n",
       "    .dataframe thead th {\n",
       "        text-align: right;\n",
       "    }\n",
       "</style>\n",
       "<table border=\"1\" class=\"dataframe\">\n",
       "  <thead>\n",
       "    <tr style=\"text-align: right;\">\n",
       "      <th></th>\n",
       "      <th>review_id</th>\n",
       "      <th>book_id</th>\n",
       "      <th>username</th>\n",
       "      <th>text</th>\n",
       "    </tr>\n",
       "  </thead>\n",
       "  <tbody>\n",
       "    <tr>\n",
       "      <th>0</th>\n",
       "      <td>1</td>\n",
       "      <td>1</td>\n",
       "      <td>brandtandrea</td>\n",
       "      <td>Mention society tell send professor analysis. ...</td>\n",
       "    </tr>\n",
       "    <tr>\n",
       "      <th>1</th>\n",
       "      <td>2</td>\n",
       "      <td>1</td>\n",
       "      <td>ryanfranco</td>\n",
       "      <td>Foot glass pretty audience hit themselves. Amo...</td>\n",
       "    </tr>\n",
       "    <tr>\n",
       "      <th>2</th>\n",
       "      <td>3</td>\n",
       "      <td>2</td>\n",
       "      <td>lorichen</td>\n",
       "      <td>Listen treat keep worry. Miss husband tax but ...</td>\n",
       "    </tr>\n",
       "    <tr>\n",
       "      <th>3</th>\n",
       "      <td>4</td>\n",
       "      <td>3</td>\n",
       "      <td>johnsonamanda</td>\n",
       "      <td>Finally month interesting blue could nature cu...</td>\n",
       "    </tr>\n",
       "    <tr>\n",
       "      <th>4</th>\n",
       "      <td>5</td>\n",
       "      <td>3</td>\n",
       "      <td>scotttamara</td>\n",
       "      <td>Nation purpose heavy give wait song will. List...</td>\n",
       "    </tr>\n",
       "  </tbody>\n",
       "</table>\n",
       "</div>"
      ],
      "text/plain": [
       "   review_id  book_id       username  \\\n",
       "0          1        1   brandtandrea   \n",
       "1          2        1     ryanfranco   \n",
       "2          3        2       lorichen   \n",
       "3          4        3  johnsonamanda   \n",
       "4          5        3    scotttamara   \n",
       "\n",
       "                                                text  \n",
       "0  Mention society tell send professor analysis. ...  \n",
       "1  Foot glass pretty audience hit themselves. Amo...  \n",
       "2  Listen treat keep worry. Miss husband tax but ...  \n",
       "3  Finally month interesting blue could nature cu...  \n",
       "4  Nation purpose heavy give wait song will. List...  "
      ]
     },
     "metadata": {},
     "output_type": "display_data"
    }
   ],
   "source": [
    "# выведем первые строки таблицы reviews\n",
    "first_lines('reviews')"
   ]
  },
  {
   "cell_type": "markdown",
   "metadata": {},
   "source": [
    "Таблица содержит данные об идентификаторе обзора, идентификатор книги, имя автора обзора, текст обзора."
   ]
  },
  {
   "cell_type": "markdown",
   "metadata": {},
   "source": [
    "### Задание №1"
   ]
  },
  {
   "cell_type": "markdown",
   "metadata": {},
   "source": [
    "- Посчитайте, сколько книг вышло после 1 января 2000 года"
   ]
  },
  {
   "cell_type": "code",
   "execution_count": 10,
   "metadata": {},
   "outputs": [
    {
     "name": "stdout",
     "output_type": "stream",
     "text": [
      "После 1 января 2000 года вышло 819 книг\n"
     ]
    }
   ],
   "source": [
    "# сформируем запрос\n",
    "query_1 = ''' SELECT COUNT(*)\n",
    "            FROM books WHERE publication_date > '2000-01-01'\n",
    "        '''\n",
    "request_1 = pd.io.sql.read_sql(sql=text(query_1), con = engine.connect())\n",
    "\n",
    "# выведем на экран\n",
    "print(f'После 1 января 2000 года вышло {request_1.iloc[0,0]} книг')"
   ]
  },
  {
   "cell_type": "markdown",
   "metadata": {},
   "source": [
    "После 1 января 2000 года вышло 819 книг."
   ]
  },
  {
   "cell_type": "markdown",
   "metadata": {},
   "source": [
    "### Задание 2"
   ]
  },
  {
   "cell_type": "markdown",
   "metadata": {},
   "source": [
    "- Для каждой книги посчитайте количество обзоров и среднюю оценку"
   ]
  },
  {
   "cell_type": "code",
   "execution_count": 11,
   "metadata": {},
   "outputs": [
    {
     "data": {
      "text/html": [
       "<div>\n",
       "<style scoped>\n",
       "    .dataframe tbody tr th:only-of-type {\n",
       "        vertical-align: middle;\n",
       "    }\n",
       "\n",
       "    .dataframe tbody tr th {\n",
       "        vertical-align: top;\n",
       "    }\n",
       "\n",
       "    .dataframe thead th {\n",
       "        text-align: right;\n",
       "    }\n",
       "</style>\n",
       "<table border=\"1\" class=\"dataframe\">\n",
       "  <thead>\n",
       "    <tr style=\"text-align: right;\">\n",
       "      <th></th>\n",
       "      <th>book_id</th>\n",
       "      <th>author_id</th>\n",
       "      <th>title</th>\n",
       "      <th>reviews</th>\n",
       "      <th>avg_rating</th>\n",
       "    </tr>\n",
       "  </thead>\n",
       "  <tbody>\n",
       "    <tr>\n",
       "      <th>0</th>\n",
       "      <td>948</td>\n",
       "      <td>554</td>\n",
       "      <td>Twilight (Twilight  #1)</td>\n",
       "      <td>7</td>\n",
       "      <td>3.66</td>\n",
       "    </tr>\n",
       "    <tr>\n",
       "      <th>1</th>\n",
       "      <td>963</td>\n",
       "      <td>527</td>\n",
       "      <td>Water for Elephants</td>\n",
       "      <td>6</td>\n",
       "      <td>3.98</td>\n",
       "    </tr>\n",
       "    <tr>\n",
       "      <th>2</th>\n",
       "      <td>734</td>\n",
       "      <td>278</td>\n",
       "      <td>The Glass Castle</td>\n",
       "      <td>6</td>\n",
       "      <td>4.21</td>\n",
       "    </tr>\n",
       "    <tr>\n",
       "      <th>3</th>\n",
       "      <td>302</td>\n",
       "      <td>236</td>\n",
       "      <td>Harry Potter and the Prisoner of Azkaban (Harr...</td>\n",
       "      <td>6</td>\n",
       "      <td>4.41</td>\n",
       "    </tr>\n",
       "    <tr>\n",
       "      <th>4</th>\n",
       "      <td>695</td>\n",
       "      <td>395</td>\n",
       "      <td>The Curious Incident of the Dog in the Night-Time</td>\n",
       "      <td>6</td>\n",
       "      <td>4.08</td>\n",
       "    </tr>\n",
       "    <tr>\n",
       "      <th>...</th>\n",
       "      <td>...</td>\n",
       "      <td>...</td>\n",
       "      <td>...</td>\n",
       "      <td>...</td>\n",
       "      <td>...</td>\n",
       "    </tr>\n",
       "    <tr>\n",
       "      <th>995</th>\n",
       "      <td>83</td>\n",
       "      <td>174</td>\n",
       "      <td>Anne Rice's The Vampire Lestat: A Graphic Novel</td>\n",
       "      <td>0</td>\n",
       "      <td>3.67</td>\n",
       "    </tr>\n",
       "    <tr>\n",
       "      <th>996</th>\n",
       "      <td>808</td>\n",
       "      <td>350</td>\n",
       "      <td>The Natural Way to Draw</td>\n",
       "      <td>0</td>\n",
       "      <td>3.00</td>\n",
       "    </tr>\n",
       "    <tr>\n",
       "      <th>997</th>\n",
       "      <td>672</td>\n",
       "      <td>144</td>\n",
       "      <td>The Cat in the Hat and Other Dr. Seuss Favorites</td>\n",
       "      <td>0</td>\n",
       "      <td>5.00</td>\n",
       "    </tr>\n",
       "    <tr>\n",
       "      <th>998</th>\n",
       "      <td>221</td>\n",
       "      <td>151</td>\n",
       "      <td>Essential Tales and Poems</td>\n",
       "      <td>0</td>\n",
       "      <td>4.00</td>\n",
       "    </tr>\n",
       "    <tr>\n",
       "      <th>999</th>\n",
       "      <td>191</td>\n",
       "      <td>568</td>\n",
       "      <td>Disney's Beauty and the Beast (A Little Golden...</td>\n",
       "      <td>0</td>\n",
       "      <td>4.00</td>\n",
       "    </tr>\n",
       "  </tbody>\n",
       "</table>\n",
       "<p>1000 rows × 5 columns</p>\n",
       "</div>"
      ],
      "text/plain": [
       "     book_id  author_id                                              title  \\\n",
       "0        948        554                            Twilight (Twilight  #1)   \n",
       "1        963        527                                Water for Elephants   \n",
       "2        734        278                                   The Glass Castle   \n",
       "3        302        236  Harry Potter and the Prisoner of Azkaban (Harr...   \n",
       "4        695        395  The Curious Incident of the Dog in the Night-Time   \n",
       "..       ...        ...                                                ...   \n",
       "995       83        174    Anne Rice's The Vampire Lestat: A Graphic Novel   \n",
       "996      808        350                            The Natural Way to Draw   \n",
       "997      672        144   The Cat in the Hat and Other Dr. Seuss Favorites   \n",
       "998      221        151                          Essential Tales and Poems   \n",
       "999      191        568  Disney's Beauty and the Beast (A Little Golden...   \n",
       "\n",
       "     reviews  avg_rating  \n",
       "0          7        3.66  \n",
       "1          6        3.98  \n",
       "2          6        4.21  \n",
       "3          6        4.41  \n",
       "4          6        4.08  \n",
       "..       ...         ...  \n",
       "995        0        3.67  \n",
       "996        0        3.00  \n",
       "997        0        5.00  \n",
       "998        0        4.00  \n",
       "999        0        4.00  \n",
       "\n",
       "[1000 rows x 5 columns]"
      ]
     },
     "metadata": {},
     "output_type": "display_data"
    }
   ],
   "source": [
    "# сформируем запрос\n",
    "query_2 = '''SELECT b.book_id,\n",
    "                    b.author_id,\n",
    "                    b.title,\n",
    "                    COUNT(DISTINCT re.review_id) AS reviews,\n",
    "                    ROUND(AVG(ra.rating), 2) AS avg_rating                   \n",
    "            FROM books AS b\n",
    "            LEFT JOIN reviews AS re ON b.book_id = re.book_id\n",
    "            LEFT JOIN ratings AS ra ON b.book_id = ra.book_id\n",
    "            GROUP BY b.title, b.book_id\n",
    "            ORDER BY reviews DESC'''\n",
    "\n",
    "request_2 = pd.io.sql.read_sql(sql=text(query_2), con = engine.connect())\n",
    "\n",
    "# выведем на экран\n",
    "display(request_2)"
   ]
  },
  {
   "cell_type": "markdown",
   "metadata": {},
   "source": [
    "Книгой, с наибольшим количеством обзоров, оказалась - Twilight (Twilight #1) - 7 обзоров и средней оценкой 3.66."
   ]
  },
  {
   "cell_type": "markdown",
   "metadata": {},
   "source": [
    "### Задание 3"
   ]
  },
  {
   "cell_type": "markdown",
   "metadata": {},
   "source": [
    "- Определите издательство, которое выпустило наибольшее число книг толще 50 страниц — так вы исключите из анализа брошюры"
   ]
  },
  {
   "cell_type": "code",
   "execution_count": 12,
   "metadata": {},
   "outputs": [
    {
     "data": {
      "text/html": [
       "<div>\n",
       "<style scoped>\n",
       "    .dataframe tbody tr th:only-of-type {\n",
       "        vertical-align: middle;\n",
       "    }\n",
       "\n",
       "    .dataframe tbody tr th {\n",
       "        vertical-align: top;\n",
       "    }\n",
       "\n",
       "    .dataframe thead th {\n",
       "        text-align: right;\n",
       "    }\n",
       "</style>\n",
       "<table border=\"1\" class=\"dataframe\">\n",
       "  <thead>\n",
       "    <tr style=\"text-align: right;\">\n",
       "      <th></th>\n",
       "      <th>publisher</th>\n",
       "      <th>count_books</th>\n",
       "    </tr>\n",
       "  </thead>\n",
       "  <tbody>\n",
       "    <tr>\n",
       "      <th>0</th>\n",
       "      <td>Penguin Books</td>\n",
       "      <td>42</td>\n",
       "    </tr>\n",
       "  </tbody>\n",
       "</table>\n",
       "</div>"
      ],
      "text/plain": [
       "       publisher  count_books\n",
       "0  Penguin Books           42"
      ]
     },
     "metadata": {},
     "output_type": "display_data"
    }
   ],
   "source": [
    "# сформируем запрос\n",
    "query_3 = '''\n",
    "            SELECT  p.publisher,\n",
    "                    COUNT(b.book_id) AS count_books\n",
    "            FROM publishers AS p\n",
    "            LEFT JOIN books AS b ON p.publisher_id = b.publisher_id\n",
    "            WHERE b.num_pages > 50\n",
    "            GROUP BY p.publisher\n",
    "            ORDER BY count_books DESC\n",
    "            LIMIT 1\n",
    "        '''\n",
    "request_3 = pd.io.sql.read_sql(sql=text(query_3), con = engine.connect())\n",
    "\n",
    "# выведем на экран\n",
    "display(request_3)"
   ]
  },
  {
   "cell_type": "markdown",
   "metadata": {},
   "source": [
    "Издательство, выпустившее наибольшее число книг толще 50 страниц - Penguin Books (42 книги)."
   ]
  },
  {
   "cell_type": "markdown",
   "metadata": {},
   "source": [
    "### Задание 4"
   ]
  },
  {
   "cell_type": "markdown",
   "metadata": {},
   "source": [
    "- Определите автора с самой высокой средней оценкой книг — учитывайте только книги с 50 и более оценками"
   ]
  },
  {
   "cell_type": "code",
   "execution_count": 13,
   "metadata": {},
   "outputs": [
    {
     "data": {
      "text/html": [
       "<div>\n",
       "<style scoped>\n",
       "    .dataframe tbody tr th:only-of-type {\n",
       "        vertical-align: middle;\n",
       "    }\n",
       "\n",
       "    .dataframe tbody tr th {\n",
       "        vertical-align: top;\n",
       "    }\n",
       "\n",
       "    .dataframe thead th {\n",
       "        text-align: right;\n",
       "    }\n",
       "</style>\n",
       "<table border=\"1\" class=\"dataframe\">\n",
       "  <thead>\n",
       "    <tr style=\"text-align: right;\">\n",
       "      <th></th>\n",
       "      <th>author_name</th>\n",
       "      <th>avg_rating</th>\n",
       "    </tr>\n",
       "  </thead>\n",
       "  <tbody>\n",
       "    <tr>\n",
       "      <th>0</th>\n",
       "      <td>J.K. Rowling/Mary GrandPré</td>\n",
       "      <td>4.287097</td>\n",
       "    </tr>\n",
       "  </tbody>\n",
       "</table>\n",
       "</div>"
      ],
      "text/plain": [
       "                  author_name  avg_rating\n",
       "0  J.K. Rowling/Mary GrandPré    4.287097"
      ]
     },
     "metadata": {},
     "output_type": "display_data"
    }
   ],
   "source": [
    "# сформируем запрос\n",
    "query_4 = '''\n",
    "            SELECT a.author AS author_name,\n",
    "                    AVG(r.rating) AS avg_rating\n",
    "            FROM authors AS a\n",
    "            LEFT JOIN books AS b ON a.author_id = b.author_id\n",
    "            LEFT JOIN ratings AS r ON b.book_id = r.book_id\n",
    "            WHERE b.book_id IN (SELECT book_id\n",
    "                                FROM ratings\n",
    "                                GROUP BY book_id\n",
    "                                HAVING COUNT(rating) >=50)\n",
    "            GROUP BY author_name  \n",
    "            ORDER BY avg_rating DESC\n",
    "            LIMIT 1\n",
    "                                \n",
    "        '''\n",
    "request_4 = pd.io.sql.read_sql(sql=text(query_4), con = engine.connect())\n",
    "\n",
    "# выведем на экран\n",
    "display(request_4)"
   ]
  },
  {
   "cell_type": "markdown",
   "metadata": {},
   "source": [
    "Автор с самой высокой средней оценкой книг (с 50 и более оценками) - J.K. Rowling/Mary GrandPré. Средняя оценка книг - 4.287."
   ]
  },
  {
   "cell_type": "markdown",
   "metadata": {},
   "source": [
    "### Задание 5"
   ]
  },
  {
   "cell_type": "markdown",
   "metadata": {},
   "source": [
    "- Посчитайте среднее количество обзоров от пользователей, которые поставили больше 48 оценок"
   ]
  },
  {
   "cell_type": "code",
   "execution_count": 14,
   "metadata": {},
   "outputs": [
    {
     "name": "stdout",
     "output_type": "stream",
     "text": [
      "Среднее количество обзоров от пользователей, которые поставили больше 48 оценок: 24.0\n"
     ]
    }
   ],
   "source": [
    "# сформируем запрос\n",
    "query_5 = '''\n",
    "                SELECT AVG(t_1.count_reviews) AS avg_reviews\n",
    "                FROM (SELECT    username,\n",
    "                                COUNT(DISTINCT review_id) AS count_reviews\n",
    "                        FROM reviews\n",
    "                        WHERE username IN (\n",
    "                                        SELECT username\n",
    "                                        FROM ratings\n",
    "                                        GROUP BY username\n",
    "                                        HAVING COUNT(rating) > 48\n",
    "                                        ) \n",
    "                        GROUP BY username\n",
    "                ) AS t_1\n",
    "        '''\n",
    "request_5 = pd.io.sql.read_sql(sql=text(query_5), con = engine.connect())\n",
    "\n",
    "# выведем на экран\n",
    "print(f'Среднее количество обзоров от пользователей, которые поставили больше 48 оценок: {request_5.iloc[0,0]}')"
   ]
  },
  {
   "cell_type": "markdown",
   "metadata": {},
   "source": [
    "Среднее количество обзоров от пользователей, которые поставили больше 48 оценок : 24.0"
   ]
  },
  {
   "cell_type": "markdown",
   "metadata": {},
   "source": [
    "### Общий вывод"
   ]
  },
  {
   "cell_type": "markdown",
   "metadata": {},
   "source": [
    "В результате анализа базы данных выявлено:\n",
    "- После 1 января 2000 года вышло 819 книг\n",
    "- Книгой, с наибольшим количеством обзоров, оказалась - Twilight (Twilight #1) - 7 обзоров и средней оценкой 3.66\n",
    "- Издательство, выпустившее наибольшее число книг толще 50 страниц - Penguin Books (42 книги)\n",
    "- Автор с самой высокой средней оценкой книг (с 50 и более оценками) - J.K. Rowling/Mary GrandPré. Средняя оценка книг - 4.287\n",
    "- Среднее количество обзоров от пользователей, которые поставили больше 48 оценок : 24.0"
   ]
  }
 ],
 "metadata": {
  "ExecuteTimeLog": [
   {
    "duration": 565,
    "start_time": "2024-07-07T14:33:45.526Z"
   },
   {
    "duration": 3,
    "start_time": "2024-07-07T14:33:54.466Z"
   },
   {
    "duration": 7103,
    "start_time": "2024-07-07T14:34:05.685Z"
   },
   {
    "duration": 236,
    "start_time": "2024-07-07T14:34:23.796Z"
   },
   {
    "duration": 3,
    "start_time": "2024-07-07T15:00:37.551Z"
   },
   {
    "duration": 157,
    "start_time": "2024-07-07T15:01:04.064Z"
   },
   {
    "duration": 4,
    "start_time": "2024-07-07T15:01:59.349Z"
   },
   {
    "duration": 78,
    "start_time": "2024-07-07T15:02:00.100Z"
   },
   {
    "duration": 4,
    "start_time": "2024-07-07T15:02:36.042Z"
   },
   {
    "duration": 83,
    "start_time": "2024-07-07T15:02:38.119Z"
   },
   {
    "duration": 4,
    "start_time": "2024-07-07T15:02:46.864Z"
   },
   {
    "duration": 80,
    "start_time": "2024-07-07T15:02:47.610Z"
   },
   {
    "duration": 4,
    "start_time": "2024-07-07T15:02:54.371Z"
   },
   {
    "duration": 84,
    "start_time": "2024-07-07T15:02:56.661Z"
   },
   {
    "duration": 5,
    "start_time": "2024-07-07T15:03:17.677Z"
   },
   {
    "duration": 80,
    "start_time": "2024-07-07T15:03:18.543Z"
   },
   {
    "duration": 4,
    "start_time": "2024-07-07T15:05:51.322Z"
   },
   {
    "duration": 60,
    "start_time": "2024-07-07T15:05:51.915Z"
   },
   {
    "duration": 4,
    "start_time": "2024-07-07T15:08:37.672Z"
   },
   {
    "duration": 64,
    "start_time": "2024-07-07T15:08:39.119Z"
   },
   {
    "duration": 4,
    "start_time": "2024-07-07T15:09:08.593Z"
   },
   {
    "duration": 60,
    "start_time": "2024-07-07T15:09:08.989Z"
   },
   {
    "duration": 5,
    "start_time": "2024-07-07T15:09:37.906Z"
   },
   {
    "duration": 67,
    "start_time": "2024-07-07T15:09:38.551Z"
   },
   {
    "duration": 5,
    "start_time": "2024-07-07T15:10:09.754Z"
   },
   {
    "duration": 146,
    "start_time": "2024-07-07T15:10:10.441Z"
   },
   {
    "duration": 4,
    "start_time": "2024-07-07T15:11:11.694Z"
   },
   {
    "duration": 135,
    "start_time": "2024-07-07T15:11:12.180Z"
   },
   {
    "duration": 4,
    "start_time": "2024-07-07T15:11:22.312Z"
   },
   {
    "duration": 164,
    "start_time": "2024-07-07T15:11:22.601Z"
   },
   {
    "duration": 6,
    "start_time": "2024-07-07T15:11:59.228Z"
   },
   {
    "duration": 70,
    "start_time": "2024-07-07T15:11:59.577Z"
   },
   {
    "duration": 5,
    "start_time": "2024-07-07T15:12:40.411Z"
   },
   {
    "duration": 74,
    "start_time": "2024-07-07T15:12:40.810Z"
   },
   {
    "duration": 4,
    "start_time": "2024-07-07T15:13:04.521Z"
   },
   {
    "duration": 71,
    "start_time": "2024-07-07T15:13:04.899Z"
   },
   {
    "duration": 4,
    "start_time": "2024-07-07T15:14:10.049Z"
   },
   {
    "duration": 4,
    "start_time": "2024-07-07T15:14:20.544Z"
   },
   {
    "duration": 76,
    "start_time": "2024-07-07T15:14:21.255Z"
   },
   {
    "duration": 6,
    "start_time": "2024-07-07T15:14:52.456Z"
   },
   {
    "duration": 67,
    "start_time": "2024-07-07T15:14:53.205Z"
   },
   {
    "duration": 6,
    "start_time": "2024-07-07T15:15:00.368Z"
   },
   {
    "duration": 75,
    "start_time": "2024-07-07T15:15:00.883Z"
   },
   {
    "duration": 5,
    "start_time": "2024-07-07T15:15:25.700Z"
   },
   {
    "duration": 74,
    "start_time": "2024-07-07T15:15:26.346Z"
   },
   {
    "duration": 7,
    "start_time": "2024-07-07T15:15:49.449Z"
   },
   {
    "duration": 70,
    "start_time": "2024-07-07T15:15:50.000Z"
   },
   {
    "duration": 4,
    "start_time": "2024-07-07T15:17:56.815Z"
   },
   {
    "duration": 55,
    "start_time": "2024-07-07T15:17:57.211Z"
   },
   {
    "duration": 4,
    "start_time": "2024-07-07T15:18:11.260Z"
   },
   {
    "duration": 54,
    "start_time": "2024-07-07T15:18:12.812Z"
   },
   {
    "duration": 3,
    "start_time": "2024-07-07T15:18:56.034Z"
   },
   {
    "duration": 52,
    "start_time": "2024-07-07T15:18:56.245Z"
   },
   {
    "duration": 54,
    "start_time": "2024-07-07T15:19:28.434Z"
   },
   {
    "duration": 55,
    "start_time": "2024-07-07T15:19:53.326Z"
   },
   {
    "duration": 54,
    "start_time": "2024-07-07T15:20:32.570Z"
   },
   {
    "duration": 55,
    "start_time": "2024-07-07T15:20:35.525Z"
   },
   {
    "duration": 6,
    "start_time": "2024-07-07T15:21:31.370Z"
   },
   {
    "duration": 3,
    "start_time": "2024-07-07T15:21:34.354Z"
   },
   {
    "duration": 8,
    "start_time": "2024-07-07T15:21:34.798Z"
   },
   {
    "duration": 53,
    "start_time": "2024-07-07T15:21:40.084Z"
   },
   {
    "duration": 4,
    "start_time": "2024-07-07T15:22:47.023Z"
   },
   {
    "duration": 55,
    "start_time": "2024-07-07T15:22:48.078Z"
   },
   {
    "duration": 56,
    "start_time": "2024-07-07T15:22:48.669Z"
   },
   {
    "duration": 50,
    "start_time": "2024-07-07T15:22:49.134Z"
   },
   {
    "duration": 54,
    "start_time": "2024-07-07T15:22:49.689Z"
   },
   {
    "duration": 52,
    "start_time": "2024-07-07T15:22:50.212Z"
   },
   {
    "duration": 25,
    "start_time": "2024-07-07T15:28:56.566Z"
   },
   {
    "duration": 2,
    "start_time": "2024-07-07T15:28:57.312Z"
   },
   {
    "duration": 9,
    "start_time": "2024-07-07T15:28:58.031Z"
   },
   {
    "duration": 523,
    "start_time": "2024-07-07T15:29:57.737Z"
   },
   {
    "duration": 3,
    "start_time": "2024-07-07T15:29:58.263Z"
   },
   {
    "duration": 7294,
    "start_time": "2024-07-07T15:29:58.268Z"
   },
   {
    "duration": 234,
    "start_time": "2024-07-07T15:30:05.564Z"
   },
   {
    "duration": 0,
    "start_time": "2024-07-07T15:30:05.800Z"
   },
   {
    "duration": 0,
    "start_time": "2024-07-07T15:30:05.801Z"
   },
   {
    "duration": 0,
    "start_time": "2024-07-07T15:30:05.802Z"
   },
   {
    "duration": 0,
    "start_time": "2024-07-07T15:30:05.803Z"
   },
   {
    "duration": 0,
    "start_time": "2024-07-07T15:30:05.804Z"
   },
   {
    "duration": 0,
    "start_time": "2024-07-07T15:30:05.805Z"
   },
   {
    "duration": 555,
    "start_time": "2024-07-07T15:31:00.910Z"
   },
   {
    "duration": 3,
    "start_time": "2024-07-07T15:31:01.467Z"
   },
   {
    "duration": 7059,
    "start_time": "2024-07-07T15:31:01.472Z"
   },
   {
    "duration": 4,
    "start_time": "2024-07-07T15:31:08.533Z"
   },
   {
    "duration": 260,
    "start_time": "2024-07-07T15:31:08.539Z"
   },
   {
    "duration": 52,
    "start_time": "2024-07-07T15:31:08.801Z"
   },
   {
    "duration": 53,
    "start_time": "2024-07-07T15:31:08.855Z"
   },
   {
    "duration": 55,
    "start_time": "2024-07-07T15:31:08.910Z"
   },
   {
    "duration": 56,
    "start_time": "2024-07-07T15:31:08.966Z"
   },
   {
    "duration": 3,
    "start_time": "2024-07-07T15:34:23.961Z"
   },
   {
    "duration": 55,
    "start_time": "2024-07-07T15:35:34.232Z"
   },
   {
    "duration": 3,
    "start_time": "2024-07-07T15:35:42.031Z"
   },
   {
    "duration": 49,
    "start_time": "2024-07-07T15:35:42.479Z"
   },
   {
    "duration": 42,
    "start_time": "2024-07-07T15:36:09.570Z"
   },
   {
    "duration": 3,
    "start_time": "2024-07-07T15:37:26.082Z"
   },
   {
    "duration": 128,
    "start_time": "2024-07-07T15:37:35.684Z"
   },
   {
    "duration": 125,
    "start_time": "2024-07-07T15:39:02.499Z"
   },
   {
    "duration": 104,
    "start_time": "2024-07-07T15:39:35.114Z"
   },
   {
    "duration": 74,
    "start_time": "2024-07-07T15:40:55.568Z"
   },
   {
    "duration": 103,
    "start_time": "2024-07-07T15:41:08.271Z"
   },
   {
    "duration": 106,
    "start_time": "2024-07-07T15:42:33.454Z"
   },
   {
    "duration": 101,
    "start_time": "2024-07-07T15:43:49.277Z"
   },
   {
    "duration": 46,
    "start_time": "2024-07-07T15:44:13.261Z"
   },
   {
    "duration": 7,
    "start_time": "2024-07-07T15:44:43.084Z"
   },
   {
    "duration": 51,
    "start_time": "2024-07-07T15:53:41.919Z"
   },
   {
    "duration": 74,
    "start_time": "2024-07-07T15:54:07.217Z"
   },
   {
    "duration": 170,
    "start_time": "2024-07-07T15:55:11.075Z"
   },
   {
    "duration": 94,
    "start_time": "2024-07-07T15:55:23.308Z"
   },
   {
    "duration": 52,
    "start_time": "2024-07-07T16:00:05.944Z"
   },
   {
    "duration": 54,
    "start_time": "2024-07-07T16:00:49.713Z"
   },
   {
    "duration": 53,
    "start_time": "2024-07-07T16:04:53.391Z"
   },
   {
    "duration": 8,
    "start_time": "2024-07-07T16:14:33.671Z"
   },
   {
    "duration": 59,
    "start_time": "2024-07-07T16:14:41.462Z"
   },
   {
    "duration": 145,
    "start_time": "2024-07-07T16:15:10.222Z"
   },
   {
    "duration": 148,
    "start_time": "2024-07-07T16:16:00.488Z"
   },
   {
    "duration": 53,
    "start_time": "2024-07-07T16:46:02.309Z"
   },
   {
    "duration": 49,
    "start_time": "2024-07-07T16:46:07.948Z"
   },
   {
    "duration": 503,
    "start_time": "2024-07-07T16:57:19.167Z"
   },
   {
    "duration": 3,
    "start_time": "2024-07-07T16:57:19.672Z"
   },
   {
    "duration": 6828,
    "start_time": "2024-07-07T16:57:19.678Z"
   },
   {
    "duration": 4,
    "start_time": "2024-07-07T16:57:26.508Z"
   },
   {
    "duration": 231,
    "start_time": "2024-07-07T16:57:26.513Z"
   },
   {
    "duration": 51,
    "start_time": "2024-07-07T16:57:26.746Z"
   },
   {
    "duration": 50,
    "start_time": "2024-07-07T16:57:26.798Z"
   },
   {
    "duration": 82,
    "start_time": "2024-07-07T16:57:26.850Z"
   },
   {
    "duration": 51,
    "start_time": "2024-07-07T16:57:26.933Z"
   },
   {
    "duration": 47,
    "start_time": "2024-07-07T16:57:26.986Z"
   },
   {
    "duration": 110,
    "start_time": "2024-07-07T16:57:27.035Z"
   },
   {
    "duration": 53,
    "start_time": "2024-07-07T16:57:27.146Z"
   },
   {
    "duration": 54,
    "start_time": "2024-07-07T16:57:27.202Z"
   },
   {
    "duration": 49,
    "start_time": "2024-07-07T16:57:27.258Z"
   },
   {
    "duration": 501,
    "start_time": "2024-07-07T17:02:57.795Z"
   },
   {
    "duration": 2,
    "start_time": "2024-07-07T17:02:58.298Z"
   },
   {
    "duration": 6791,
    "start_time": "2024-07-07T17:02:58.302Z"
   },
   {
    "duration": 3,
    "start_time": "2024-07-07T17:03:05.095Z"
   },
   {
    "duration": 249,
    "start_time": "2024-07-07T17:03:05.100Z"
   },
   {
    "duration": 52,
    "start_time": "2024-07-07T17:03:05.351Z"
   },
   {
    "duration": 52,
    "start_time": "2024-07-07T17:03:05.405Z"
   },
   {
    "duration": 55,
    "start_time": "2024-07-07T17:03:05.458Z"
   },
   {
    "duration": 56,
    "start_time": "2024-07-07T17:03:05.514Z"
   },
   {
    "duration": 50,
    "start_time": "2024-07-07T17:03:05.573Z"
   },
   {
    "duration": 100,
    "start_time": "2024-07-07T17:03:05.626Z"
   },
   {
    "duration": 55,
    "start_time": "2024-07-07T17:03:05.728Z"
   },
   {
    "duration": 56,
    "start_time": "2024-07-07T17:03:05.785Z"
   },
   {
    "duration": 53,
    "start_time": "2024-07-07T17:03:05.843Z"
   },
   {
    "duration": 440,
    "start_time": "2024-07-08T06:15:12.460Z"
   },
   {
    "duration": 2,
    "start_time": "2024-07-08T06:15:12.902Z"
   },
   {
    "duration": 7058,
    "start_time": "2024-07-08T06:15:12.908Z"
   },
   {
    "duration": 3,
    "start_time": "2024-07-08T06:15:19.968Z"
   },
   {
    "duration": 70,
    "start_time": "2024-07-08T06:15:19.972Z"
   },
   {
    "duration": 8,
    "start_time": "2024-07-08T06:15:20.043Z"
   },
   {
    "duration": 12,
    "start_time": "2024-07-08T06:15:20.052Z"
   },
   {
    "duration": 16,
    "start_time": "2024-07-08T06:15:20.065Z"
   },
   {
    "duration": 10,
    "start_time": "2024-07-08T06:15:20.083Z"
   },
   {
    "duration": 27,
    "start_time": "2024-07-08T06:15:20.095Z"
   },
   {
    "duration": 31,
    "start_time": "2024-07-08T06:15:20.123Z"
   },
   {
    "duration": 10,
    "start_time": "2024-07-08T06:15:20.155Z"
   },
   {
    "duration": 11,
    "start_time": "2024-07-08T06:15:20.166Z"
   },
   {
    "duration": 22,
    "start_time": "2024-07-08T06:15:20.178Z"
   },
   {
    "duration": 54,
    "start_time": "2024-07-08T06:56:55.615Z"
   },
   {
    "duration": 562,
    "start_time": "2024-07-08T06:57:00.057Z"
   },
   {
    "duration": 3,
    "start_time": "2024-07-08T06:57:00.621Z"
   },
   {
    "duration": 5601,
    "start_time": "2024-07-08T06:57:00.626Z"
   },
   {
    "duration": 4,
    "start_time": "2024-07-08T06:57:06.229Z"
   },
   {
    "duration": 70,
    "start_time": "2024-07-08T06:57:06.235Z"
   },
   {
    "duration": 9,
    "start_time": "2024-07-08T06:57:06.306Z"
   },
   {
    "duration": 11,
    "start_time": "2024-07-08T06:57:06.317Z"
   },
   {
    "duration": 14,
    "start_time": "2024-07-08T06:57:06.330Z"
   },
   {
    "duration": 14,
    "start_time": "2024-07-08T06:57:06.345Z"
   },
   {
    "duration": 9,
    "start_time": "2024-07-08T06:57:06.362Z"
   },
   {
    "duration": 108,
    "start_time": "2024-07-08T06:57:06.373Z"
   },
   {
    "duration": 0,
    "start_time": "2024-07-08T06:57:06.483Z"
   },
   {
    "duration": 0,
    "start_time": "2024-07-08T06:57:06.485Z"
   },
   {
    "duration": 0,
    "start_time": "2024-07-08T06:57:06.486Z"
   },
   {
    "duration": 53,
    "start_time": "2024-07-08T07:02:37.258Z"
   },
   {
    "duration": 56,
    "start_time": "2024-07-08T07:03:22.674Z"
   },
   {
    "duration": 55,
    "start_time": "2024-07-08T07:03:57.794Z"
   },
   {
    "duration": 22,
    "start_time": "2024-07-08T07:05:47.993Z"
   },
   {
    "duration": 11,
    "start_time": "2024-07-08T07:09:26.943Z"
   },
   {
    "duration": 10,
    "start_time": "2024-07-08T07:09:44.935Z"
   },
   {
    "duration": 29,
    "start_time": "2024-07-08T07:13:55.652Z"
   },
   {
    "duration": 562,
    "start_time": "2024-07-08T07:14:16.261Z"
   },
   {
    "duration": 3,
    "start_time": "2024-07-08T07:14:16.825Z"
   },
   {
    "duration": 6173,
    "start_time": "2024-07-08T07:14:16.830Z"
   },
   {
    "duration": 5,
    "start_time": "2024-07-08T07:14:23.005Z"
   },
   {
    "duration": 51,
    "start_time": "2024-07-08T07:14:23.011Z"
   },
   {
    "duration": 11,
    "start_time": "2024-07-08T07:14:23.063Z"
   },
   {
    "duration": 10,
    "start_time": "2024-07-08T07:14:23.076Z"
   },
   {
    "duration": 12,
    "start_time": "2024-07-08T07:14:23.087Z"
   },
   {
    "duration": 12,
    "start_time": "2024-07-08T07:14:23.100Z"
   },
   {
    "duration": 7,
    "start_time": "2024-07-08T07:14:23.114Z"
   },
   {
    "duration": 62,
    "start_time": "2024-07-08T07:14:23.122Z"
   },
   {
    "duration": 11,
    "start_time": "2024-07-08T07:14:23.186Z"
   },
   {
    "duration": 14,
    "start_time": "2024-07-08T07:14:23.198Z"
   },
   {
    "duration": 26,
    "start_time": "2024-07-08T07:14:23.214Z"
   },
   {
    "duration": 585,
    "start_time": "2024-07-08T07:16:33.648Z"
   },
   {
    "duration": 3,
    "start_time": "2024-07-08T07:16:34.236Z"
   },
   {
    "duration": 5881,
    "start_time": "2024-07-08T07:16:34.240Z"
   },
   {
    "duration": 3,
    "start_time": "2024-07-08T07:16:40.124Z"
   },
   {
    "duration": 83,
    "start_time": "2024-07-08T07:16:40.129Z"
   },
   {
    "duration": 10,
    "start_time": "2024-07-08T07:16:40.214Z"
   },
   {
    "duration": 14,
    "start_time": "2024-07-08T07:16:40.226Z"
   },
   {
    "duration": 16,
    "start_time": "2024-07-08T07:16:40.242Z"
   },
   {
    "duration": 15,
    "start_time": "2024-07-08T07:16:40.259Z"
   },
   {
    "duration": 8,
    "start_time": "2024-07-08T07:16:40.276Z"
   },
   {
    "duration": 34,
    "start_time": "2024-07-08T07:16:40.286Z"
   },
   {
    "duration": 12,
    "start_time": "2024-07-08T07:16:40.322Z"
   },
   {
    "duration": 15,
    "start_time": "2024-07-08T07:16:40.356Z"
   },
   {
    "duration": 10,
    "start_time": "2024-07-08T07:16:40.373Z"
   },
   {
    "duration": 515,
    "start_time": "2024-07-08T08:01:15.414Z"
   },
   {
    "duration": 3,
    "start_time": "2024-07-08T08:01:15.931Z"
   },
   {
    "duration": 6285,
    "start_time": "2024-07-08T08:01:15.935Z"
   },
   {
    "duration": 4,
    "start_time": "2024-07-08T08:01:22.222Z"
   },
   {
    "duration": 297,
    "start_time": "2024-07-08T08:01:22.228Z"
   },
   {
    "duration": 51,
    "start_time": "2024-07-08T08:01:22.526Z"
   },
   {
    "duration": 51,
    "start_time": "2024-07-08T08:01:22.578Z"
   },
   {
    "duration": 52,
    "start_time": "2024-07-08T08:01:22.630Z"
   },
   {
    "duration": 52,
    "start_time": "2024-07-08T08:01:22.683Z"
   },
   {
    "duration": 87,
    "start_time": "2024-07-08T08:01:22.737Z"
   },
   {
    "duration": 89,
    "start_time": "2024-07-08T08:01:22.826Z"
   },
   {
    "duration": 53,
    "start_time": "2024-07-08T08:01:22.916Z"
   },
   {
    "duration": 55,
    "start_time": "2024-07-08T08:01:22.971Z"
   },
   {
    "duration": 51,
    "start_time": "2024-07-08T08:01:23.028Z"
   },
   {
    "duration": 570,
    "start_time": "2024-09-04T11:22:37.467Z"
   },
   {
    "duration": 5,
    "start_time": "2024-09-04T11:22:38.039Z"
   },
   {
    "duration": 7251,
    "start_time": "2024-09-04T11:22:38.046Z"
   },
   {
    "duration": 5,
    "start_time": "2024-09-04T11:22:45.299Z"
   },
   {
    "duration": 329,
    "start_time": "2024-09-04T11:22:45.306Z"
   },
   {
    "duration": 49,
    "start_time": "2024-09-04T11:22:45.637Z"
   },
   {
    "duration": 50,
    "start_time": "2024-09-04T11:22:45.688Z"
   },
   {
    "duration": 53,
    "start_time": "2024-09-04T11:22:45.740Z"
   },
   {
    "duration": 54,
    "start_time": "2024-09-04T11:22:45.795Z"
   },
   {
    "duration": 48,
    "start_time": "2024-09-04T11:22:45.852Z"
   },
   {
    "duration": 89,
    "start_time": "2024-09-04T11:22:45.902Z"
   },
   {
    "duration": 52,
    "start_time": "2024-09-04T11:22:45.992Z"
   },
   {
    "duration": 53,
    "start_time": "2024-09-04T11:22:46.046Z"
   },
   {
    "duration": 48,
    "start_time": "2024-09-04T11:22:46.101Z"
   }
  ],
  "kernelspec": {
   "display_name": "Python 3 (ipykernel)",
   "language": "python",
   "name": "python3"
  },
  "language_info": {
   "codemirror_mode": {
    "name": "ipython",
    "version": 3
   },
   "file_extension": ".py",
   "mimetype": "text/x-python",
   "name": "python",
   "nbconvert_exporter": "python",
   "pygments_lexer": "ipython3",
   "version": "3.9.5"
  },
  "toc": {
   "base_numbering": 1,
   "nav_menu": {},
   "number_sections": true,
   "sideBar": true,
   "skip_h1_title": true,
   "title_cell": "Table of Contents",
   "title_sidebar": "Contents",
   "toc_cell": false,
   "toc_position": {},
   "toc_section_display": true,
   "toc_window_display": true
  }
 },
 "nbformat": 4,
 "nbformat_minor": 2
}
